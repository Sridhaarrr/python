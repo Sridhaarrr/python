{
 "cells": [
  {
   "cell_type": "code",
   "execution_count": 2,
   "id": "5878ffc7-b67c-48ba-aaed-5391ded24329",
   "metadata": {},
   "outputs": [],
   "source": [
    "import pandas as pd\n",
    "data1 = pd.read_excel('Atm_7.xlsx', 'Sheet1')\n",
    "#data1.set_index(['DT'],inplace=True)"
   ]
  },
  {
   "cell_type": "code",
   "execution_count": 4,
   "id": "a20b6584-0eec-4bf6-be84-56d1b74606a4",
   "metadata": {},
   "outputs": [],
   "source": [
    "import pandas as pd\n",
    "import numpy as np \n",
    "data = pd.read_excel('no_hl.xlsx', 'Sheet1')\n",
    "bins = [-np.inf, 30, 60, 90, 120, 150, 180, 210, np.inf]\n",
    "data['EMIbins'] = pd.cut(data['EMI_NMI'], bins)\n",
    "data = data.drop(['EMI_NMI'], axis = 1)\n",
    "bank_cust = data.copy()\n",
    "from sklearn import preprocessing\n",
    "le = preprocessing.LabelEncoder()\n",
    "bank_cust = bank_cust.apply(le.fit_transform)\n",
    "X = bank_cust.drop(['HL'], axis = 1)\n",
    "X = X.drop(['V_CUST_ID'], axis = 1)\n",
    "y = bank_cust['HL']"
   ]
  },
  {
   "cell_type": "code",
   "execution_count": 84,
   "id": "d87c336c-0f43-407e-a38e-7be76a8f364b",
   "metadata": {},
   "outputs": [],
   "source": [
    "mask = (data1['DT'] > '2017-04-01') & (data1['DT'] <= '2020-01-31')\n",
    "data = data1.loc[mask]\n",
    "data.set_index(['DT'],inplace=True)"
   ]
  },
  {
   "cell_type": "code",
   "execution_count": 6,
   "id": "fcc6211a-311f-49c4-a58c-bb9da733777c",
   "metadata": {},
   "outputs": [],
   "source": [
    "import numpy as np\n",
    "import matplotlib.pyplot as plt\n",
    "%matplotlib inline\n",
    "from sklearn.model_selection import train_test_split\n",
    "import sklearn\n",
    "import scipy\n",
    "import shap"
   ]
  },
  {
   "cell_type": "code",
   "execution_count": 85,
   "id": "76910b2f-2eaf-49ca-8535-9cacff580515",
   "metadata": {},
   "outputs": [
    {
     "name": "stdout",
     "output_type": "stream",
     "text": [
      "<class 'pandas.core.frame.DataFrame'>\n",
      "DatetimeIndex: 1017 entries, 2017-04-03 to 2020-01-31\n",
      "Data columns (total 7 columns):\n",
      " #   Column          Non-Null Count  Dtype  \n",
      "---  ------          --------------  -----  \n",
      " 0   DAY_WEEK        1017 non-null   object \n",
      " 1   DAY             1017 non-null   int64  \n",
      " 2   MONTH           1017 non-null   int64  \n",
      " 3   YEAR            1017 non-null   int64  \n",
      " 4   TXN             1017 non-null   int64  \n",
      " 5   MOVING_AVERAGE  1017 non-null   float64\n",
      " 6   HOLIDAY         1017 non-null   object \n",
      "dtypes: float64(1), int64(4), object(2)\n",
      "memory usage: 63.6+ KB\n"
     ]
    }
   ],
   "source": [
    "#data.head()\n",
    "#data['DT'] = pd.to_datetime(data['DT'])\n",
    "data.info()"
   ]
  },
  {
   "cell_type": "code",
   "execution_count": 88,
   "id": "3fcddf02-1ccb-4ad9-ba9a-b339587a5ed9",
   "metadata": {},
   "outputs": [
    {
     "data": {
      "text/plain": [
       "count      1017.0\n",
       "mean     402910.0\n",
       "std      160324.0\n",
       "min        5500.0\n",
       "25%      289800.0\n",
       "50%      406100.0\n",
       "75%      508000.0\n",
       "max      857500.0\n",
       "Name: TXN, dtype: float64"
      ]
     },
     "execution_count": 88,
     "metadata": {},
     "output_type": "execute_result"
    },
    {
     "data": {
      "image/png": "[encoded data removed]",
      "text/plain": [
       "<Figure size 1008x432 with 2 Axes>"
      ]
     },
     "metadata": {
      "needs_background": "light"
     },
     "output_type": "display_data"
    }
   ],
   "source": [
    "plt.figure(figsize=(14,6))\n",
    "plt.subplot(1,2,1)\n",
    "data['TXN'].hist(bins=50)\n",
    "plt.title('TXN')\n",
    "plt.subplot(1,2,2)\n",
    "scipy.stats.probplot(data['TXN'], plot=plt);\n",
    "data['TXN'].describe().T.round()"
   ]
  },
  {
   "cell_type": "code",
   "execution_count": 90,
   "id": "b0da25ac-135e-4519-ba37-f8a1f3381335",
   "metadata": {},
   "outputs": [],
   "source": [
    "# Copy the original data\n",
    "features = data.copy()\n",
    "# Select the numeric columns\n",
    "numeric_subset = data[['MONTH','YEAR','MOVING_AVERAGE', 'TXN']]\n",
    "# Select the categorical columns\n",
    "# dropped atm_name\n",
    "categorical_subset = data[['DAY_WEEK','HOLIDAY']]\n",
    "# One hot encoding\n",
    "categorical_subset = pd.get_dummies(categorical_subset)\n",
    "# Join the two dataframes using concat\n",
    "features = pd.concat([numeric_subset, categorical_subset], axis = 1)"
   ]
  },
  {
   "cell_type": "code",
   "execution_count": 3,
   "id": "a02c064f-761f-4cf0-aa8f-d36c0ad53517",
   "metadata": {},
   "outputs": [],
   "source": [
    "import pandas as pd\n",
    "import numpy as np \n",
    "data = pd.read_excel('no_hl.xlsx', 'Sheet1')\n",
    "bins = [-np.inf, 30, 60, 90, 120, 150, 180, 210, np.inf]\n",
    "data['EMIbins'] = pd.cut(data['EMI_NMI'], bins)\n",
    "data = data.drop(['EMI_NMI'], axis = 1)\n",
    "bank_cust = data.copy()\n",
    "from sklearn import preprocessing\n",
    "le = preprocessing.LabelEncoder()\n",
    "bank_cust = bank_cust.apply(le.fit_transform)\n",
    "X = bank_cust.drop(['HL'], axis = 1)\n",
    "X = X.drop(['V_CUST_ID'], axis = 1)\n",
    "y = bank_cust['HL']"
   ]
  },
  {
   "cell_type": "code",
   "execution_count": 7,
   "id": "92e4d9f5-f765-43e1-b702-ecd3f1ed9009",
   "metadata": {},
   "outputs": [
    {
     "name": "stdout",
     "output_type": "stream",
     "text": [
      "length of Xtrain and Xtest:  784607 196152\n",
      "length of ytrain and ytest:  784607 196152\n"
     ]
    }
   ],
   "source": [
    "#X = features.copy().drop(columns = ['TXN', 'MONTH','YEAR', 'HOLIDAY_W'])\n",
    "#y = features['TXN'].copy()\n",
    "Xtrain, Xtest, ytrain, ytest = train_test_split(X, y, shuffle= False, test_size = 0.2, random_state = 42)\n",
    "print('length of Xtrain and Xtest: ', len(Xtrain), len(Xtest))\n",
    "print('length of ytrain and ytest: ', len(ytrain), len(ytest))"
   ]
  },
  {
   "cell_type": "code",
   "execution_count": 11,
   "id": "7b9e6c65-64bb-4331-9558-43f9bcf1c6b8",
   "metadata": {},
   "outputs": [
    {
     "data": {
      "text/html": [
       "<div>\n",
       "<style scoped>\n",
       "    .dataframe tbody tr th:only-of-type {\n",
       "        vertical-align: middle;\n",
       "    }\n",
       "\n",
       "    .dataframe tbody tr th {\n",
       "        vertical-align: top;\n",
       "    }\n",
       "\n",
       "    .dataframe thead th {\n",
       "        text-align: right;\n",
       "    }\n",
       "</style>\n",
       "<table border=\"1\" class=\"dataframe\">\n",
       "  <thead>\n",
       "    <tr style=\"text-align: right;\">\n",
       "      <th></th>\n",
       "      <th>lin_predicted</th>\n",
       "      <th>HL</th>\n",
       "      <th>accuracy</th>\n",
       "    </tr>\n",
       "  </thead>\n",
       "  <tbody>\n",
       "    <tr>\n",
       "      <th>980749</th>\n",
       "      <td>0.0</td>\n",
       "      <td>1</td>\n",
       "      <td>0.0</td>\n",
       "    </tr>\n",
       "    <tr>\n",
       "      <th>980750</th>\n",
       "      <td>1.0</td>\n",
       "      <td>1</td>\n",
       "      <td>100.0</td>\n",
       "    </tr>\n",
       "    <tr>\n",
       "      <th>980751</th>\n",
       "      <td>0.0</td>\n",
       "      <td>1</td>\n",
       "      <td>0.0</td>\n",
       "    </tr>\n",
       "    <tr>\n",
       "      <th>980752</th>\n",
       "      <td>0.0</td>\n",
       "      <td>1</td>\n",
       "      <td>0.0</td>\n",
       "    </tr>\n",
       "    <tr>\n",
       "      <th>980753</th>\n",
       "      <td>0.0</td>\n",
       "      <td>1</td>\n",
       "      <td>0.0</td>\n",
       "    </tr>\n",
       "    <tr>\n",
       "      <th>980754</th>\n",
       "      <td>0.0</td>\n",
       "      <td>1</td>\n",
       "      <td>0.0</td>\n",
       "    </tr>\n",
       "    <tr>\n",
       "      <th>980755</th>\n",
       "      <td>0.0</td>\n",
       "      <td>1</td>\n",
       "      <td>0.0</td>\n",
       "    </tr>\n",
       "    <tr>\n",
       "      <th>980756</th>\n",
       "      <td>0.0</td>\n",
       "      <td>1</td>\n",
       "      <td>0.0</td>\n",
       "    </tr>\n",
       "    <tr>\n",
       "      <th>980757</th>\n",
       "      <td>0.0</td>\n",
       "      <td>1</td>\n",
       "      <td>0.0</td>\n",
       "    </tr>\n",
       "    <tr>\n",
       "      <th>980758</th>\n",
       "      <td>0.0</td>\n",
       "      <td>1</td>\n",
       "      <td>0.0</td>\n",
       "    </tr>\n",
       "  </tbody>\n",
       "</table>\n",
       "</div>"
      ],
      "text/plain": [
       "        lin_predicted  HL  accuracy\n",
       "980749            0.0   1       0.0\n",
       "980750            1.0   1     100.0\n",
       "980751            0.0   1       0.0\n",
       "980752            0.0   1       0.0\n",
       "980753            0.0   1       0.0\n",
       "980754            0.0   1       0.0\n",
       "980755            0.0   1       0.0\n",
       "980756            0.0   1       0.0\n",
       "980757            0.0   1       0.0\n",
       "980758            0.0   1       0.0"
      ]
     },
     "execution_count": 11,
     "metadata": {},
     "output_type": "execute_result"
    }
   ],
   "source": [
    "from sklearn.linear_model import LinearRegression\n",
    "linear = LinearRegression()\n",
    "linear.fit(Xtrain, ytrain)\n",
    "# make predictions\n",
    "lin_pred = linear.predict(Xtest)\n",
    "linpred = pd.DataFrame(lin_pred[-10:]) # predicting last 10 values\n",
    "linpred.rename(columns = {0: 'lin_predicted'}, inplace=True) # renaming the column\n",
    "linpred = linpred.round(decimals=0) # rounding the decimal values\n",
    "d = pd.DataFrame(data['HL']).tail(10)\n",
    "#dt = pd.DataFrame(data['DT']).tail(10)\n",
    "linpred.index = d.index #= dt.index\n",
    "# calling last 10 values of original amt wothdrawn\n",
    "#linpred.index = d.index # mapping the index of both dataframe\n",
    "linok = pd.concat([linpred, d], axis=1)\n",
    "linok['accuracy'] = round(linok.apply(lambda row: row.lin_predicted /row.HL *100, axis = 1),2)\n",
    "#linok['accuracy'] = pd.Series([\"{0:.2f}%\".format(val) for val in linok['accuracy']],index = linok.index)\n",
    "#linok = linok.assign(day_of_week = lambda x: x.index.day_name())\n",
    "# Prediction vs Actual\n",
    "linok"
   ]
  },
  {
   "cell_type": "code",
   "execution_count": 14,
   "id": "a291c05a-4862-40bd-b34e-0c6b20b14e0f",
   "metadata": {},
   "outputs": [
    {
     "data": {
      "text/html": [
       "<div>\n",
       "<style scoped>\n",
       "    .dataframe tbody tr th:only-of-type {\n",
       "        vertical-align: middle;\n",
       "    }\n",
       "\n",
       "    .dataframe tbody tr th {\n",
       "        vertical-align: top;\n",
       "    }\n",
       "\n",
       "    .dataframe thead th {\n",
       "        text-align: right;\n",
       "    }\n",
       "</style>\n",
       "<table border=\"1\" class=\"dataframe\">\n",
       "  <thead>\n",
       "    <tr style=\"text-align: right;\">\n",
       "      <th></th>\n",
       "      <th>xgbpredicted</th>\n",
       "      <th>HL</th>\n",
       "      <th>accuracy</th>\n",
       "    </tr>\n",
       "  </thead>\n",
       "  <tbody>\n",
       "    <tr>\n",
       "      <th>980749</th>\n",
       "      <td>1.0</td>\n",
       "      <td>1</td>\n",
       "      <td>100.0</td>\n",
       "    </tr>\n",
       "    <tr>\n",
       "      <th>980750</th>\n",
       "      <td>1.0</td>\n",
       "      <td>1</td>\n",
       "      <td>100.0</td>\n",
       "    </tr>\n",
       "    <tr>\n",
       "      <th>980751</th>\n",
       "      <td>1.0</td>\n",
       "      <td>1</td>\n",
       "      <td>100.0</td>\n",
       "    </tr>\n",
       "    <tr>\n",
       "      <th>980752</th>\n",
       "      <td>1.0</td>\n",
       "      <td>1</td>\n",
       "      <td>100.0</td>\n",
       "    </tr>\n",
       "    <tr>\n",
       "      <th>980753</th>\n",
       "      <td>1.0</td>\n",
       "      <td>1</td>\n",
       "      <td>100.0</td>\n",
       "    </tr>\n",
       "    <tr>\n",
       "      <th>980754</th>\n",
       "      <td>1.0</td>\n",
       "      <td>1</td>\n",
       "      <td>100.0</td>\n",
       "    </tr>\n",
       "    <tr>\n",
       "      <th>980755</th>\n",
       "      <td>1.0</td>\n",
       "      <td>1</td>\n",
       "      <td>100.0</td>\n",
       "    </tr>\n",
       "    <tr>\n",
       "      <th>980756</th>\n",
       "      <td>1.0</td>\n",
       "      <td>1</td>\n",
       "      <td>100.0</td>\n",
       "    </tr>\n",
       "    <tr>\n",
       "      <th>980757</th>\n",
       "      <td>1.0</td>\n",
       "      <td>1</td>\n",
       "      <td>100.0</td>\n",
       "    </tr>\n",
       "    <tr>\n",
       "      <th>980758</th>\n",
       "      <td>1.0</td>\n",
       "      <td>1</td>\n",
       "      <td>100.0</td>\n",
       "    </tr>\n",
       "  </tbody>\n",
       "</table>\n",
       "</div>"
      ],
      "text/plain": [
       "        xgbpredicted  HL  accuracy\n",
       "980749           1.0   1     100.0\n",
       "980750           1.0   1     100.0\n",
       "980751           1.0   1     100.0\n",
       "980752           1.0   1     100.0\n",
       "980753           1.0   1     100.0\n",
       "980754           1.0   1     100.0\n",
       "980755           1.0   1     100.0\n",
       "980756           1.0   1     100.0\n",
       "980757           1.0   1     100.0\n",
       "980758           1.0   1     100.0"
      ]
     },
     "execution_count": 14,
     "metadata": {},
     "output_type": "execute_result"
    }
   ],
   "source": [
    "import xgboost as xgb\n",
    "xgb = xgb.XGBRegressor(objective = 'reg:squarederror', learning_rate=0.900000012) \n",
    "xgb.fit(Xtrain, ytrain)\n",
    "xgb_pred = xgb.predict(Xtest) \n",
    "xgbpred = pd.DataFrame(xgb_pred[-10:]) \n",
    "xgbpred.rename(columns = {0: 'xgbpredicted'}, inplace=True) \n",
    "xgbpred = xgbpred.round(decimals=0) \n",
    "xgbpred.index = d.index\n",
    "xgbok = pd.concat([xgbpred, d], axis=1)\n",
    "xgbok['accuracy'] = round(xgbok.apply(lambda row: row.xgbpredicted / row.HL*100, axis = 1),2)\n",
    "#xgbok['accuracy'] = pd.Series([\"{0:.2f}%\".format(val) for val in xgbok['accuracy']],index = xgbok.index) \n",
    "#xgbok = xgbok.assign(day_of_week = lambda 0: x.index.day_name()) \n",
    "xgbok "
   ]
  },
  {
   "cell_type": "code",
   "execution_count": 94,
   "id": "5ee72a2f-f0b9-485d-85cc-05d2ae18adbf",
   "metadata": {},
   "outputs": [
    {
     "name": "stderr",
     "output_type": "stream",
     "text": [
      "ntree_limit is deprecated, use `iteration_range` or model slicing instead.\n"
     ]
    },
    {
     "data": {
      "image/png": "[encoded data removed]",
      "text/plain": [
       "<Figure size 576x367.2 with 1 Axes>"
      ]
     },
     "metadata": {
      "needs_background": "light"
     },
     "output_type": "display_data"
    }
   ],
   "source": [
    "shap_values = shap.TreeExplainer(xgb).shap_values(Xtest)\n",
    "shap.summary_plot(shap_values, Xtest, plot_type=\"bar\")"
   ]
  },
  {
   "cell_type": "code",
   "execution_count": 95,
   "id": "d31aee84-016c-410f-a231-1b58ea684a55",
   "metadata": {},
   "outputs": [
    {
     "name": "stdout",
     "output_type": "stream",
     "text": [
      "length of X_train and X_test:  813 204\n",
      "length of y_train and y_test:  813 204\n"
     ]
    },
    {
     "name": "stderr",
     "output_type": "stream",
     "text": [
      "\n",
      "A value is trying to be set on a copy of a slice from a DataFrame.\n",
      "Try using .loc[row_indexer,col_indexer] = value instead\n",
      "\n",
      "See the caveats in the documentation: https://pandas.pydata.org/pandas-docs/stable/user_guide/indexing.html#returning-a-view-versus-a-copy\n"
     ]
    }
   ],
   "source": [
    "X = data[['DAY','MONTH','YEAR','MOVING_AVERAGE', 'DAY_WEEK', 'HOLIDAY']]\n",
    "y = data['TXN']\n",
    "#X = data.iloc[:, 2:10].copy()\n",
    "#y = data.iloc[:, 10].values\n",
    "# Transform categorical features into the appropriate type that is expected by LightGBM\n",
    "for c in X.columns:\n",
    "    col_type = X[c].dtype\n",
    "    if col_type == 'object' or col_type.name == 'category':\n",
    "        X[c] = X[c].astype('category')\n",
    "# Splitting the dataset into the Training set and Test set\n",
    "X_train, X_test, y_train, y_test = train_test_split(X, y, shuffle= False, test_size = 0.2, random_state = 42)\n",
    "print('length of X_train and X_test: ', len(X_train), len(X_test))\n",
    "print('length of y_train and y_test: ', len(y_train), len(y_test))"
   ]
  },
  {
   "cell_type": "code",
   "execution_count": 46,
   "id": "2c03ea6a-a482-40da-be31-57bb7b9469cc",
   "metadata": {},
   "outputs": [
    {
     "name": "stdout",
     "output_type": "stream",
     "text": [
      "<class 'pandas.core.frame.DataFrame'>\n",
      "DatetimeIndex: 1544 entries, 2016-04-01 to 2020-10-01\n",
      "Data columns (total 6 columns):\n",
      " #   Column          Non-Null Count  Dtype   \n",
      "---  ------          --------------  -----   \n",
      " 0   DAY             1544 non-null   int64   \n",
      " 1   MONTH           1544 non-null   int64   \n",
      " 2   YEAR            1544 non-null   int64   \n",
      " 3   MOVING_AVERAGE  1544 non-null   float64 \n",
      " 4   DAY_WEEK        1544 non-null   category\n",
      " 5   HOLIDAY         1544 non-null   category\n",
      "dtypes: category(2), float64(1), int64(3)\n",
      "memory usage: 63.8 KB\n"
     ]
    }
   ],
   "source": [
    "X_train.info()"
   ]
  },
  {
   "cell_type": "code",
   "execution_count": 96,
   "id": "39ae89d0-a8f6-42cd-a864-57ce4394d120",
   "metadata": {},
   "outputs": [
    {
     "name": "stdout",
     "output_type": "stream",
     "text": [
      "[LightGBM] [Warning] Unknown parameter: randomstate\n",
      "LGBMRegressor(objective='regression', randomstate=42)\n"
     ]
    },
    {
     "name": "stderr",
     "output_type": "stream",
     "text": [
      "'early_stopping_rounds' argument is deprecated and will be removed in a future release of LightGBM. Pass 'early_stopping()' callback via 'callbacks' argument instead.\n",
      "'verbose' argument is deprecated and will be removed in a future release of LightGBM. Pass 'log_evaluation()' callback via 'callbacks' argument instead.\n",
      "Overriding the parameters from Reference Dataset.\n",
      "categorical_column in param dict is overridden.\n"
     ]
    },
    {
     "data": {
      "text/html": [
       "<div>\n",
       "<style scoped>\n",
       "    .dataframe tbody tr th:only-of-type {\n",
       "        vertical-align: middle;\n",
       "    }\n",
       "\n",
       "    .dataframe tbody tr th {\n",
       "        vertical-align: top;\n",
       "    }\n",
       "\n",
       "    .dataframe thead th {\n",
       "        text-align: right;\n",
       "    }\n",
       "</style>\n",
       "<table border=\"1\" class=\"dataframe\">\n",
       "  <thead>\n",
       "    <tr style=\"text-align: right;\">\n",
       "      <th></th>\n",
       "      <th>lgbpredicted</th>\n",
       "      <th>TXN</th>\n",
       "      <th>accuracy</th>\n",
       "    </tr>\n",
       "    <tr>\n",
       "      <th>DT</th>\n",
       "      <th></th>\n",
       "      <th></th>\n",
       "      <th></th>\n",
       "    </tr>\n",
       "  </thead>\n",
       "  <tbody>\n",
       "    <tr>\n",
       "      <th>2020-01-22</th>\n",
       "      <td>335316.0</td>\n",
       "      <td>345600</td>\n",
       "      <td>97.02%</td>\n",
       "    </tr>\n",
       "    <tr>\n",
       "      <th>2020-01-23</th>\n",
       "      <td>370149.0</td>\n",
       "      <td>342400</td>\n",
       "      <td>108.10%</td>\n",
       "    </tr>\n",
       "    <tr>\n",
       "      <th>2020-01-24</th>\n",
       "      <td>342276.0</td>\n",
       "      <td>183500</td>\n",
       "      <td>186.53%</td>\n",
       "    </tr>\n",
       "    <tr>\n",
       "      <th>2020-01-25</th>\n",
       "      <td>329059.0</td>\n",
       "      <td>288000</td>\n",
       "      <td>114.26%</td>\n",
       "    </tr>\n",
       "    <tr>\n",
       "      <th>2020-01-26</th>\n",
       "      <td>213965.0</td>\n",
       "      <td>164600</td>\n",
       "      <td>129.99%</td>\n",
       "    </tr>\n",
       "    <tr>\n",
       "      <th>2020-01-27</th>\n",
       "      <td>326229.0</td>\n",
       "      <td>381000</td>\n",
       "      <td>85.62%</td>\n",
       "    </tr>\n",
       "    <tr>\n",
       "      <th>2020-01-28</th>\n",
       "      <td>345529.0</td>\n",
       "      <td>416600</td>\n",
       "      <td>82.94%</td>\n",
       "    </tr>\n",
       "    <tr>\n",
       "      <th>2020-01-29</th>\n",
       "      <td>394132.0</td>\n",
       "      <td>366000</td>\n",
       "      <td>107.69%</td>\n",
       "    </tr>\n",
       "    <tr>\n",
       "      <th>2020-01-30</th>\n",
       "      <td>416254.0</td>\n",
       "      <td>356300</td>\n",
       "      <td>116.83%</td>\n",
       "    </tr>\n",
       "    <tr>\n",
       "      <th>2020-01-31</th>\n",
       "      <td>400755.0</td>\n",
       "      <td>449100</td>\n",
       "      <td>89.24%</td>\n",
       "    </tr>\n",
       "  </tbody>\n",
       "</table>\n",
       "</div>"
      ],
      "text/plain": [
       "            lgbpredicted     TXN accuracy\n",
       "DT                                       \n",
       "2020-01-22      335316.0  345600   97.02%\n",
       "2020-01-23      370149.0  342400  108.10%\n",
       "2020-01-24      342276.0  183500  186.53%\n",
       "2020-01-25      329059.0  288000  114.26%\n",
       "2020-01-26      213965.0  164600  129.99%\n",
       "2020-01-27      326229.0  381000   85.62%\n",
       "2020-01-28      345529.0  416600   82.94%\n",
       "2020-01-29      394132.0  366000  107.69%\n",
       "2020-01-30      416254.0  356300  116.83%\n",
       "2020-01-31      400755.0  449100   89.24%"
      ]
     },
     "execution_count": 96,
     "metadata": {},
     "output_type": "execute_result"
    }
   ],
   "source": [
    "import lightgbm as lgb\n",
    "import time\n",
    "# Similarly LGBMRegressor can also be imported for a regression model.\n",
    "from lightgbm import LGBMClassifier\n",
    "gbm = lgb.LGBMRegressor(objective='regression', num_leaves=31, randomstate=42, learning_rate=0.1, n_estimators=100)\n",
    "gbm.fit(X_train, y_train, eval_set=[(X_test, y_test)], eval_metric ='rmse', early_stopping_rounds = 10, verbose =50) \n",
    "print(gbm)\n",
    "lgb_pred = gbm.predict(X_test, num_iteration = gbm.best_iteration_) \n",
    "lgbpred = pd.DataFrame(lgb_pred[-10:]) \n",
    "lgbpred.rename(columns = {0: 'lgbpredicted'}, inplace=True) \n",
    "lgbpred = lgbpred.round(decimals=0) \n",
    "d = pd.DataFrame(data['TXN']).tail(10)\n",
    "#dt = pd.DataFrame(data['DT']).tail(10)\n",
    "lgbpred.index = d.index\n",
    "lgbok = pd.concat([lgbpred, d], axis=1) \n",
    "lgbok['accuracy'] = round(lgbok.apply(lambda row: row.lgbpredicted / row.TXN*100, axis = 1),2)\n",
    "lgbok['accuracy'] = pd.Series([\"{0:.2f}%\".format(val) for val in lgbok['accuracy']],index = lgbok.index) \n",
    "#lgbok = lgbok.assign(day_of_week = lambda 0: x.index.day_name()) \n",
    "lgbok "
   ]
  },
  {
   "cell_type": "code",
   "execution_count": 97,
   "id": "7a0a3bcb-2d4f-4c2b-a391-c64732fee9fa",
   "metadata": {},
   "outputs": [
    {
     "name": "stdout",
     "output_type": "stream",
     "text": [
      "length of X_train and X_test:  813 204\n",
      "length of y_train and y_test:  813 204\n"
     ]
    },
    {
     "name": "stderr",
     "output_type": "stream",
     "text": [
      "\n",
      "A value is trying to be set on a copy of a slice from a DataFrame.\n",
      "Try using .loc[row_indexer,col_indexer] = value instead\n",
      "\n",
      "See the caveats in the documentation: https://pandas.pydata.org/pandas-docs/stable/user_guide/indexing.html#returning-a-view-versus-a-copy\n"
     ]
    }
   ],
   "source": [
    "X = data[[ 'DAY','MONTH','YEAR','MOVING_AVERAGE', 'DAY_WEEK', 'HOLIDAY']]\n",
    "y = data['TXN']\n",
    "#X = data.iloc[:, 2:10].copy()\n",
    "#y = data.iloc[:, 10].values\n",
    "# Transform categorical features into the appropriate type that is expected by LightGBM\n",
    "for c in X.columns:\n",
    "    col_type = X[c].dtype\n",
    "    if col_type == 'object' or col_type.name == 'category':\n",
    "        X[c] = X[c].astype('category')\n",
    "# Splitting the dataset into the Training set and Test set\n",
    "X_train, X_test, y_train, y_test = train_test_split(X, y, shuffle= False, test_size = 0.2, random_state = 42)\n",
    "print('length of X_train and X_test: ', len(X_train), len(X_test))\n",
    "print('length of y_train and y_test: ', len(y_train), len(y_test))\n",
    "\n",
    "categorical_features_indices = np.where(X.dtypes != np.float)[0]"
   ]
  },
  {
   "cell_type": "code",
   "execution_count": 58,
   "id": "8894b1a9-6cb4-4401-af2c-1658de0cd7a4",
   "metadata": {},
   "outputs": [
    {
     "data": {
      "text/plain": [
       "DAY                  int64\n",
       "MONTH                int64\n",
       "YEAR                 int64\n",
       "MOVING_AVERAGE     float64\n",
       "DAY_WEEK          category\n",
       "HOLIDAY           category\n",
       "dtype: object"
      ]
     },
     "execution_count": 58,
     "metadata": {},
     "output_type": "execute_result"
    }
   ],
   "source": [
    "X.dtypes"
   ]
  },
  {
   "cell_type": "code",
   "execution_count": 98,
   "id": "a90a39fc-ee74-43ea-b010-fe5190f72113",
   "metadata": {},
   "outputs": [
    {
     "data": {
      "application/vnd.jupyter.widget-view+json": {
       "model_id": "8ba362a76d5f49dba67b2f32735bfe9c",
       "version_major": 2,
       "version_minor": 0
      },
      "text/plain": [
       "MetricVisualizer(layout=Layout(align_self='stretch', height='500px'))"
      ]
     },
     "metadata": {},
     "output_type": "display_data"
    },
    {
     "name": "stdout",
     "output_type": "stream",
     "text": [
      "0:\tlearn: 125616.9387568\ttest: 132692.9116346\tbest: 132692.9116346 (0)\ttotal: 6.42ms\tremaining: 57.8ms\n",
      "9:\tlearn: 109270.6923302\ttest: 106769.4887298\tbest: 106769.4887298 (9)\ttotal: 58.2ms\tremaining: 0us\n",
      "\n",
      "bestTest = 106769.4887\n",
      "bestIteration = 9\n",
      "\n",
      "LGBMRegressor(objective='regression', randomstate=42)\n"
     ]
    },
    {
     "data": {
      "text/html": [
       "<div>\n",
       "<style scoped>\n",
       "    .dataframe tbody tr th:only-of-type {\n",
       "        vertical-align: middle;\n",
       "    }\n",
       "\n",
       "    .dataframe tbody tr th {\n",
       "        vertical-align: top;\n",
       "    }\n",
       "\n",
       "    .dataframe thead th {\n",
       "        text-align: right;\n",
       "    }\n",
       "</style>\n",
       "<table border=\"1\" class=\"dataframe\">\n",
       "  <thead>\n",
       "    <tr style=\"text-align: right;\">\n",
       "      <th></th>\n",
       "      <th>catpredicted</th>\n",
       "      <th>TXN</th>\n",
       "      <th>accuracy</th>\n",
       "    </tr>\n",
       "    <tr>\n",
       "      <th>DT</th>\n",
       "      <th></th>\n",
       "      <th></th>\n",
       "      <th></th>\n",
       "    </tr>\n",
       "  </thead>\n",
       "  <tbody>\n",
       "    <tr>\n",
       "      <th>2020-01-22</th>\n",
       "      <td>323411.0</td>\n",
       "      <td>345600</td>\n",
       "      <td>93.58</td>\n",
       "    </tr>\n",
       "    <tr>\n",
       "      <th>2020-01-23</th>\n",
       "      <td>323411.0</td>\n",
       "      <td>342400</td>\n",
       "      <td>94.45</td>\n",
       "    </tr>\n",
       "    <tr>\n",
       "      <th>2020-01-24</th>\n",
       "      <td>311315.0</td>\n",
       "      <td>183500</td>\n",
       "      <td>169.65</td>\n",
       "    </tr>\n",
       "    <tr>\n",
       "      <th>2020-01-25</th>\n",
       "      <td>323411.0</td>\n",
       "      <td>288000</td>\n",
       "      <td>112.30</td>\n",
       "    </tr>\n",
       "    <tr>\n",
       "      <th>2020-01-26</th>\n",
       "      <td>86441.0</td>\n",
       "      <td>164600</td>\n",
       "      <td>52.52</td>\n",
       "    </tr>\n",
       "    <tr>\n",
       "      <th>2020-01-27</th>\n",
       "      <td>323411.0</td>\n",
       "      <td>381000</td>\n",
       "      <td>84.88</td>\n",
       "    </tr>\n",
       "    <tr>\n",
       "      <th>2020-01-28</th>\n",
       "      <td>323411.0</td>\n",
       "      <td>416600</td>\n",
       "      <td>77.63</td>\n",
       "    </tr>\n",
       "    <tr>\n",
       "      <th>2020-01-29</th>\n",
       "      <td>323411.0</td>\n",
       "      <td>366000</td>\n",
       "      <td>88.36</td>\n",
       "    </tr>\n",
       "    <tr>\n",
       "      <th>2020-01-30</th>\n",
       "      <td>336266.0</td>\n",
       "      <td>356300</td>\n",
       "      <td>94.38</td>\n",
       "    </tr>\n",
       "    <tr>\n",
       "      <th>2020-01-31</th>\n",
       "      <td>383945.0</td>\n",
       "      <td>449100</td>\n",
       "      <td>85.49</td>\n",
       "    </tr>\n",
       "  </tbody>\n",
       "</table>\n",
       "</div>"
      ],
      "text/plain": [
       "            catpredicted     TXN  accuracy\n",
       "DT                                        \n",
       "2020-01-22      323411.0  345600     93.58\n",
       "2020-01-23      323411.0  342400     94.45\n",
       "2020-01-24      311315.0  183500    169.65\n",
       "2020-01-25      323411.0  288000    112.30\n",
       "2020-01-26       86441.0  164600     52.52\n",
       "2020-01-27      323411.0  381000     84.88\n",
       "2020-01-28      323411.0  416600     77.63\n",
       "2020-01-29      323411.0  366000     88.36\n",
       "2020-01-30      336266.0  356300     94.38\n",
       "2020-01-31      383945.0  449100     85.49"
      ]
     },
     "execution_count": 98,
     "metadata": {},
     "output_type": "execute_result"
    }
   ],
   "source": [
    "from catboost import CatBoostRegressor\n",
    "cat = CatBoostRegressor(random_seed = 42, iterations=10,\n",
    "                          learning_rate=0.8,\n",
    "                          depth=2)\n",
    "cat.fit(X_train, y_train, cat_features = categorical_features_indices,  eval_set=[(X_test, y_test)], early_stopping_rounds = 10, verbose =50, plot = True) \n",
    "print(gbm)\n",
    "cat_pred = cat.predict(X_test) \n",
    "catpred = pd.DataFrame(cat_pred[-10:]) \n",
    "catpred.rename(columns = {0: 'catpredicted'}, inplace=True) \n",
    "catpred = catpred.round(decimals=0) \n",
    "d = pd.DataFrame(data['TXN']).tail(10)\n",
    "#dt = pd.DataFrame(data['DT']).tail(10)\n",
    "catpred.index = d.index #=dt.index\n",
    "catok = pd.concat([catpred, d], axis=1) \n",
    "catok['accuracy'] = round(catok.apply(lambda row: row.catpredicted / row.TXN*100, axis = 1),2)\n",
    "#catok['accuracy'] = pd.Series([\"{0:.2f}%\".format(val) for val in catok['accuracy']],index = catok.index) \n",
    "#catok = catok.assign(day_of_week = lambda 0: x.index.day_name()) \n",
    "catok"
   ]
  },
  {
   "cell_type": "code",
   "execution_count": 99,
   "id": "b18d1dba-7d50-4f51-ab2a-5c3e39df8210",
   "metadata": {},
   "outputs": [],
   "source": [
    "def mean_absolute_percentage_error(y_true, y_pred): \n",
    "    y_true, y_pred = np.array(y_true), np.array(y_pred)\n",
    "    return np.mean(np.abs((y_true - y_pred) / y_true)) * 100"
   ]
  },
  {
   "cell_type": "code",
   "execution_count": 100,
   "id": "b305df44-af00-4336-a3d2-19d2772120c2",
   "metadata": {},
   "outputs": [
    {
     "name": "stdout",
     "output_type": "stream",
     "text": [
      "Cat 21.065111764784323\n",
      "lgb 20.856726649535172\n",
      "xgb 25.78605937313628\n",
      "lin 22.969879566951615\n"
     ]
    }
   ],
   "source": [
    "print('Cat',mean_absolute_percentage_error(d,catpred))\n",
    "print('lgb',mean_absolute_percentage_error(d,lgbpred))\n",
    "print('xgb',mean_absolute_percentage_error(d,xgbpred))\n",
    "print('lin',mean_absolute_percentage_error(d,linpred))"
   ]
  },
  {
   "cell_type": "code",
   "execution_count": 66,
   "id": "076e242a-d557-496e-8981-ff71a5662dd9",
   "metadata": {},
   "outputs": [
    {
     "name": "stdout",
     "output_type": "stream",
     "text": [
      "Cat 43.13912605653676\n",
      "lgb 40.76087451976975\n",
      "xgb 61.5187644645813\n",
      "lin 51.68824883048089\n"
     ]
    }
   ],
   "source": [
    "print('Cat',mean_absolute_percentage_error(d,catpred))\n",
    "print('lgb',mean_absolute_percentage_error(d,lgbpred))\n",
    "print('xgb',mean_absolute_percentage_error(d,xgbpred))\n",
    "print('lin',mean_absolute_percentage_error(d,linpred))"
   ]
  },
  {
   "cell_type": "code",
   "execution_count": 64,
   "id": "d05904f4-4575-4453-a982-1a55fc4f7920",
   "metadata": {},
   "outputs": [
    {
     "data": {
      "text/html": [
       "<div>\n",
       "<style scoped>\n",
       "    .dataframe tbody tr th:only-of-type {\n",
       "        vertical-align: middle;\n",
       "    }\n",
       "\n",
       "    .dataframe tbody tr th {\n",
       "        vertical-align: top;\n",
       "    }\n",
       "\n",
       "    .dataframe thead th {\n",
       "        text-align: right;\n",
       "    }\n",
       "</style>\n",
       "<table border=\"1\" class=\"dataframe\">\n",
       "  <thead>\n",
       "    <tr style=\"text-align: right;\">\n",
       "      <th></th>\n",
       "      <th>TXN</th>\n",
       "      <th>lin_predicted</th>\n",
       "      <th>catpredicted</th>\n",
       "      <th>lgbpredicted</th>\n",
       "      <th>xgbpredicted</th>\n",
       "    </tr>\n",
       "    <tr>\n",
       "      <th>DT</th>\n",
       "      <th></th>\n",
       "      <th></th>\n",
       "      <th></th>\n",
       "      <th></th>\n",
       "      <th></th>\n",
       "    </tr>\n",
       "  </thead>\n",
       "  <tbody>\n",
       "    <tr>\n",
       "      <th>2021-10-20</th>\n",
       "      <td>160500</td>\n",
       "      <td>242875.0</td>\n",
       "      <td>198644.0</td>\n",
       "      <td>219917.0</td>\n",
       "      <td>234418.0</td>\n",
       "    </tr>\n",
       "    <tr>\n",
       "      <th>2021-10-21</th>\n",
       "      <td>252000</td>\n",
       "      <td>238997.0</td>\n",
       "      <td>198644.0</td>\n",
       "      <td>172824.0</td>\n",
       "      <td>74645.0</td>\n",
       "    </tr>\n",
       "    <tr>\n",
       "      <th>2021-10-22</th>\n",
       "      <td>158000</td>\n",
       "      <td>185833.0</td>\n",
       "      <td>187658.0</td>\n",
       "      <td>144652.0</td>\n",
       "      <td>167222.0</td>\n",
       "    </tr>\n",
       "    <tr>\n",
       "      <th>2021-10-23</th>\n",
       "      <td>359500</td>\n",
       "      <td>237678.0</td>\n",
       "      <td>198644.0</td>\n",
       "      <td>183244.0</td>\n",
       "      <td>296441.0</td>\n",
       "    </tr>\n",
       "    <tr>\n",
       "      <th>2021-10-24</th>\n",
       "      <td>164000</td>\n",
       "      <td>70843.0</td>\n",
       "      <td>70940.0</td>\n",
       "      <td>118935.0</td>\n",
       "      <td>14085.0</td>\n",
       "    </tr>\n",
       "    <tr>\n",
       "      <th>2021-10-25</th>\n",
       "      <td>96000</td>\n",
       "      <td>233552.0</td>\n",
       "      <td>198644.0</td>\n",
       "      <td>189341.0</td>\n",
       "      <td>243371.0</td>\n",
       "    </tr>\n",
       "    <tr>\n",
       "      <th>2021-10-26</th>\n",
       "      <td>156000</td>\n",
       "      <td>232182.0</td>\n",
       "      <td>198644.0</td>\n",
       "      <td>176171.0</td>\n",
       "      <td>98765.0</td>\n",
       "    </tr>\n",
       "    <tr>\n",
       "      <th>2021-10-27</th>\n",
       "      <td>139500</td>\n",
       "      <td>226086.0</td>\n",
       "      <td>198644.0</td>\n",
       "      <td>197654.0</td>\n",
       "      <td>58803.0</td>\n",
       "    </tr>\n",
       "    <tr>\n",
       "      <th>2021-10-28</th>\n",
       "      <td>120500</td>\n",
       "      <td>216242.0</td>\n",
       "      <td>198644.0</td>\n",
       "      <td>212315.0</td>\n",
       "      <td>269217.0</td>\n",
       "    </tr>\n",
       "    <tr>\n",
       "      <th>2021-10-29</th>\n",
       "      <td>150500</td>\n",
       "      <td>178271.0</td>\n",
       "      <td>187658.0</td>\n",
       "      <td>189889.0</td>\n",
       "      <td>169313.0</td>\n",
       "    </tr>\n",
       "  </tbody>\n",
       "</table>\n",
       "</div>"
      ],
      "text/plain": [
       "               TXN  lin_predicted  catpredicted  lgbpredicted  xgbpredicted\n",
       "DT                                                                         \n",
       "2021-10-20  160500       242875.0      198644.0      219917.0      234418.0\n",
       "2021-10-21  252000       238997.0      198644.0      172824.0       74645.0\n",
       "2021-10-22  158000       185833.0      187658.0      144652.0      167222.0\n",
       "2021-10-23  359500       237678.0      198644.0      183244.0      296441.0\n",
       "2021-10-24  164000        70843.0       70940.0      118935.0       14085.0\n",
       "2021-10-25   96000       233552.0      198644.0      189341.0      243371.0\n",
       "2021-10-26  156000       232182.0      198644.0      176171.0       98765.0\n",
       "2021-10-27  139500       226086.0      198644.0      197654.0       58803.0\n",
       "2021-10-28  120500       216242.0      198644.0      212315.0      269217.0\n",
       "2021-10-29  150500       178271.0      187658.0      189889.0      169313.0"
      ]
     },
     "execution_count": 64,
     "metadata": {},
     "output_type": "execute_result"
    }
   ],
   "source": [
    "report = pd.concat([d['TXN'],linok['lin_predicted'],catok['catpredicted'],lgbok['lgbpredicted'], xgbok['xgbpredicted']], axis=1)\n",
    "report"
   ]
  },
  {
   "cell_type": "code",
   "execution_count": 65,
   "id": "03d1decb-4cb6-4ac9-b8ef-d58996414a48",
   "metadata": {},
   "outputs": [
    {
     "data": {
      "text/plain": [
       "<AxesSubplot:xlabel='DT'>"
      ]
     },
     "execution_count": 65,
     "metadata": {},
     "output_type": "execute_result"
    },
    {
     "data": {
      "image/png": "[encoded data removed]",
      "text/plain": [
       "<Figure size 864x576 with 1 Axes>"
      ]
     },
     "metadata": {
      "needs_background": "light"
     },
     "output_type": "display_data"
    }
   ],
   "source": [
    "report.plot(figsize=(12,8))"
   ]
  },
  {
   "cell_type": "code",
   "execution_count": null,
   "id": "b4fb34b6-af4c-463f-b525-6f095fc85ede",
   "metadata": {},
   "outputs": [],
   "source": []
  }
 ],
 "metadata": {
  "kernelspec": {
   "display_name": "Python 3",
   "language": "python",
   "name": "python3"
  },
  "language_info": {
   "codemirror_mode": {
    "name": "ipython",
    "version": 3
   },
   "file_extension": ".py",
   "mimetype": "text/x-python",
   "name": "python",
   "nbconvert_exporter": "python",
   "pygments_lexer": "ipython3",
   "version": "3.9.1"
  }
 },
 "nbformat": 4,
 "nbformat_minor": 5
}
