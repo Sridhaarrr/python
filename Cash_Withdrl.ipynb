{
 "cells": [
  {
   "cell_type": "code",
   "execution_count": 2,
   "id": "5878ffc7-b67c-48ba-aaed-5391ded24329",
   "metadata": {},
   "outputs": [],
   "source": [
    "import numpy as np\n",
    "import matplotlib.pyplot as plt\n",
    "%matplotlib inline\n",
    "from sklearn.model_selection import train_test_split\n",
    "import sklearn\n",
    "import scipy\n",
    "import shap\n",
    "import pandas as pd\n",
    "#data1.set_index(['DT'],inplace=True)"
   ]
  },
  {
   "cell_type": "code",
   "execution_count": 2,
   "id": "c26e1379-a458-4e3c-8914-87d9ea350bbd",
   "metadata": {},
   "outputs": [],
   "source": [
    "def mean_absolute_percentage_error(y_true, y_pred): \n",
    "    y_true, y_pred = np.array(y_true), np.array(y_pred)\n",
    "    return np.mean(np.abs((y_true - y_pred) / y_true)) * 100"
   ]
  },
  {
   "cell_type": "code",
   "execution_count": 61,
   "id": "d87c336c-0f43-407e-a38e-7be76a8f364b",
   "metadata": {},
   "outputs": [],
   "source": [
    "data1 = pd.read_excel('Atm_7.xlsx', 'Sheet1')\n",
    "mask = (data1['DT'] > '2016-12-01') & (data1['DT'] <= '2020-01-31')\n",
    "data = data1.loc[mask]\n",
    "data.set_index(['DT'],inplace=True)"
   ]
  },
  {
   "cell_type": "code",
   "execution_count": 71,
   "id": "3fcddf02-1ccb-4ad9-ba9a-b339587a5ed9",
   "metadata": {},
   "outputs": [
    {
     "data": {
      "text/plain": [
       "count      1100.0\n",
       "mean     387636.0\n",
       "std      168266.0\n",
       "min        2000.0\n",
       "25%      272025.0\n",
       "50%      394600.0\n",
       "75%      497175.0\n",
       "max      857500.0\n",
       "Name: TXN, dtype: float64"
      ]
     },
     "execution_count": 71,
     "metadata": {},
     "output_type": "execute_result"
    },
    {
     "data": {
      "image/png": "[encoded data removed]",
      "text/plain": [
       "<Figure size 1008x432 with 2 Axes>"
      ]
     },
     "metadata": {
      "needs_background": "light"
     },
     "output_type": "display_data"
    }
   ],
   "source": [
    "plt.figure(figsize=(14,6))\n",
    "plt.subplot(1,2,1)\n",
    "data['TXN'].hist(bins=5)\n",
    "plt.title('TXN')\n",
    "plt.subplot(1,2,2)\n",
    "scipy.stats.probplot(data['TXN'], plot=plt);\n",
    "data['TXN'].describe().T.round()"
   ]
  },
  {
   "cell_type": "code",
   "execution_count": 46,
   "id": "0cd5bf00-dc09-4ae9-b16f-e6fd0af88b07",
   "metadata": {},
   "outputs": [
    {
     "data": {
      "text/plain": [
       "Timestamp('2021-12-24 00:00:00')"
      ]
     },
     "execution_count": 46,
     "metadata": {},
     "output_type": "execute_result"
    }
   ],
   "source": [
    "data1['DT'].max()"
   ]
  },
  {
   "cell_type": "code",
   "execution_count": 50,
   "id": "681c7994-19ce-4b7c-9bf6-ef5f83ad1d5d",
   "metadata": {},
   "outputs": [
    {
     "data": {
      "text/plain": [
       "1985    FRIDAY   \n",
       "Name: DAY_WEEK, dtype: object"
      ]
     },
     "execution_count": 50,
     "metadata": {},
     "output_type": "execute_result"
    }
   ],
   "source": [
    "data1[data1['DT'] == data1['DT'].max()]['DAY_WEEK']"
   ]
  },
  {
   "cell_type": "code",
   "execution_count": 32,
   "id": "b0da25ac-135e-4519-ba37-f8a1f3381335",
   "metadata": {},
   "outputs": [
    {
     "name": "stdout",
     "output_type": "stream",
     "text": [
      "length of Xtrain and Xtest:  880 220\n",
      "length of ytrain and ytest:  880 220\n"
     ]
    }
   ],
   "source": [
    "# Copy the original data\n",
    "features = data.copy()\n",
    "# Select the numeric columns\n",
    "numeric_subset = data[['MONTH','YEAR','MOVING_AVERAGE', 'TXN']]\n",
    "# Select the categorical columns\n",
    "# dropped atm_name\n",
    "categorical_subset = data[['DAY_WEEK','HOLIDAY']]\n",
    "# One hot encoding\n",
    "categorical_subset = pd.get_dummies(categorical_subset)\n",
    "# Join the two dataframes using concat\n",
    "features = pd.concat([numeric_subset, categorical_subset], axis = 1)\n",
    "X = features.copy().drop(columns = ['TXN', 'MONTH','YEAR', 'HOLIDAY_W'])\n",
    "y = features['TXN'].copy()\n",
    "Xtrain, Xtest, ytrain, ytest = train_test_split(X, y, shuffle= False, test_size = 0.2, random_state = 42)\n",
    "print('length of Xtrain and Xtest: ', len(Xtrain), len(Xtest))\n",
    "print('length of ytrain and ytest: ', len(ytrain), len(ytest))"
   ]
  },
  {
   "cell_type": "code",
   "execution_count": 33,
   "id": "7b9e6c65-64bb-4331-9558-43f9bcf1c6b8",
   "metadata": {},
   "outputs": [
    {
     "name": "stdout",
     "output_type": "stream",
     "text": [
      "lin 18.701292830092836\n"
     ]
    }
   ],
   "source": [
    "from sklearn.linear_model import LinearRegression\n",
    "linear = LinearRegression(positive=True)\n",
    "linear.fit(Xtrain, ytrain)\n",
    "# make predictions\n",
    "lin_pred = linear.predict(Xtest)\n",
    "linpred = pd.DataFrame(lin_pred[-10:]) # predicting last 10 values\n",
    "linpred.rename(columns = {0: 'lin_predicted'}, inplace=True) # renaming the column\n",
    "linpred = linpred.round(decimals=0) # rounding the decimal values\n",
    "d = pd.DataFrame(data['TXN']).tail(10)\n",
    "#dt = pd.DataFrame(data['DT']).tail(10)\n",
    "linpred.index = d.index #= dt.index\n",
    "# calling last 10 values of original amt wothdrawn\n",
    "#linpred.index = d.index # mapping the index of both dataframe\n",
    "linok = pd.concat([linpred, d], axis=1)\n",
    "linok['accuracy'] = round(linok.apply(lambda row: row.lin_predicted /row.TXN *100, axis = 1),2)\n",
    "linok['accuracy'] = pd.Series([\"{0:.2f}%\".format(val) for val in linok['accuracy']],index = linok.index)\n",
    "#linok = linok.assign(day_of_week = lambda x: x.index.day_name())\n",
    "# Prediction vs Actual\n",
    "print('lin',mean_absolute_percentage_error(d,linpred))"
   ]
  },
  {
   "cell_type": "code",
   "execution_count": 34,
   "id": "4f73e738-1143-419a-9045-57cc501651e6",
   "metadata": {},
   "outputs": [],
   "source": [
    "def linearreg(data):\n",
    "    features = data.copy()\n",
    "    # Select the numeric columns\n",
    "    numeric_subset = data[['MONTH','YEAR','MOVING_AVERAGE', 'TXN']]\n",
    "    # Select the categorical columns\n",
    "    # dropped atm_name\n",
    "    categorical_subset = data[['DAY_WEEK','HOLIDAY']]\n",
    "    # One hot encoding\n",
    "    categorical_subset = pd.get_dummies(categorical_subset)\n",
    "    # Join the two dataframes using concat\n",
    "    features = pd.concat([numeric_subset, categorical_subset], axis = 1)\n",
    "    X = features.copy().drop(columns = ['TXN', 'MONTH','YEAR', 'HOLIDAY_W'])\n",
    "    y = features['TXN'].copy()\n",
    "    Xtrain, Xtest, ytrain, ytest = train_test_split(X, y, shuffle= False, test_size = 0.2, random_state = 42)\n",
    "\n",
    "    lin_pred = linear.predict(Xtest)\n",
    "    linpred = pd.DataFrame(lin_pred[-10:]) # predicting last 10 values\n",
    "    linpred.rename(columns = {0: 'lin_predicted'}, inplace=True) # renaming the column\n",
    "    linpred = linpred.round(decimals=0) # rounding the decimal values\n",
    "    d = pd.DataFrame(data['TXN']).tail(10)\n",
    "    #dt = pd.DataFrame(data['DT']).tail(10)\n",
    "    linpred.index = d.index #= dt.index\n",
    "    # calling last 10 values of original amt wothdrawn\n",
    "    #linpred.index = d.index # mapping the index of both dataframe\n",
    "    linok = pd.concat([linpred, d], axis=1)\n",
    "    linok['accuracy'] = round(linok.apply(lambda row: row.lin_predicted /row.TXN *100, axis = 1),2)\n",
    "    linok['accuracy'] = pd.Series([\"{0:.2f}%\".format(val) for val in linok['accuracy']],index = linok.index)\n",
    "    return linok\n",
    "    #print('lin',mean_absolute_percentage_error(d,linpred))"
   ]
  },
  {
   "cell_type": "code",
   "execution_count": 41,
   "id": "a291c05a-4862-40bd-b34e-0c6b20b14e0f",
   "metadata": {},
   "outputs": [
    {
     "name": "stdout",
     "output_type": "stream",
     "text": [
      "xgb 16.264647621513404\n"
     ]
    }
   ],
   "source": [
    "import xgboost as xgb\n",
    "xgb = xgb.XGBRegressor(objective = 'reg:squarederror', learning_rate=0.100000012) \n",
    "xgb.fit(Xtrain, ytrain)\n",
    "xgb_pred = xgb.predict(Xtest) \n",
    "xgbpred = pd.DataFrame(xgb_pred[-10:]) \n",
    "xgbpred.rename(columns = {0: 'xgbpredicted'}, inplace=True) \n",
    "xgbpred = xgbpred.round(decimals=0) \n",
    "xgbpred.index = d.index\n",
    "xgbok = pd.concat([xgbpred, d], axis=1)\n",
    "xgbok['accuracy'] = round(xgbok.apply(lambda row: row.xgbpredicted / row.TXN*100, axis = 1),2)\n",
    "xgbok['accuracy'] = pd.Series([\"{0:.2f}%\".format(val) for val in xgbok['accuracy']],index = xgbok.index) \n",
    "#xgbok = xgbok.assign(day_of_week = lambda 0: x.index.day_name()) \n",
    "print('xgb',mean_absolute_percentage_error(d,xgbpred))\n",
    "#xgbok "
   ]
  },
  {
   "cell_type": "code",
   "execution_count": 42,
   "id": "3c6b5fc1-4d43-4a1b-9ffb-0fa9de2c0067",
   "metadata": {},
   "outputs": [],
   "source": [
    "def xgboost(data):\n",
    "    features = data.copy()\n",
    "    # Select the numeric columns\n",
    "    numeric_subset = data[['MONTH','YEAR','MOVING_AVERAGE', 'TXN']]\n",
    "    # Select the categorical columns\n",
    "    # dropped atm_name\n",
    "    categorical_subset = data[['DAY_WEEK','HOLIDAY']]\n",
    "    # One hot encoding\n",
    "    categorical_subset = pd.get_dummies(categorical_subset)\n",
    "    # Join the two dataframes using concat\n",
    "    features = pd.concat([numeric_subset, categorical_subset], axis = 1)\n",
    "    X = features.copy().drop(columns = ['TXN', 'MONTH','YEAR', 'HOLIDAY_W'])\n",
    "    y = features['TXN'].copy()\n",
    "    Xtrain, Xtest, ytrain, ytest = train_test_split(X, y, shuffle= False, test_size = 0.2, random_state = 42)\n",
    "    xgb_pred = xgb.predict(Xtest) \n",
    "    xgbpred = pd.DataFrame(xgb_pred[-10:]) \n",
    "    xgbpred.rename(columns = {0: 'xgbpredicted'}, inplace=True) \n",
    "    xgbpred = xgbpred.round(decimals=0)\n",
    "    d = pd.DataFrame(data['TXN']).tail(10)\n",
    "    xgbpred.index = d.index\n",
    "    xgbok = pd.concat([xgbpred, d], axis=1)\n",
    "    xgbok['accuracy'] = round(xgbok.apply(lambda row: row.xgbpredicted / row.TXN*100, axis = 1),2)\n",
    "    xgbok['accuracy'] = pd.Series([\"{0:.2f}%\".format(val) for val in xgbok['accuracy']],index = xgbok.index) \n",
    "    #xgbok = xgbok.assign(day_of_week = lambda 0: x.index.day_name())\n",
    "    return xgbok\n",
    "    #print('xgb',mean_absolute_percentage_error(d,xgbpred))"
   ]
  },
  {
   "cell_type": "code",
   "execution_count": 43,
   "id": "84d95e14-15e7-4fd4-bc9e-a70881f64368",
   "metadata": {},
   "outputs": [
    {
     "data": {
      "text/html": [
       "<div>\n",
       "<style scoped>\n",
       "    .dataframe tbody tr th:only-of-type {\n",
       "        vertical-align: middle;\n",
       "    }\n",
       "\n",
       "    .dataframe tbody tr th {\n",
       "        vertical-align: top;\n",
       "    }\n",
       "\n",
       "    .dataframe thead th {\n",
       "        text-align: right;\n",
       "    }\n",
       "</style>\n",
       "<table border=\"1\" class=\"dataframe\">\n",
       "  <thead>\n",
       "    <tr style=\"text-align: right;\">\n",
       "      <th></th>\n",
       "      <th>xgbpredicted</th>\n",
       "      <th>TXN</th>\n",
       "      <th>accuracy</th>\n",
       "    </tr>\n",
       "  </thead>\n",
       "  <tbody>\n",
       "    <tr>\n",
       "      <th>1976</th>\n",
       "      <td>295665.0</td>\n",
       "      <td>1</td>\n",
       "      <td>29566500.00%</td>\n",
       "    </tr>\n",
       "    <tr>\n",
       "      <th>1977</th>\n",
       "      <td>271781.0</td>\n",
       "      <td>1</td>\n",
       "      <td>27178100.00%</td>\n",
       "    </tr>\n",
       "    <tr>\n",
       "      <th>1978</th>\n",
       "      <td>312935.0</td>\n",
       "      <td>1</td>\n",
       "      <td>31293500.00%</td>\n",
       "    </tr>\n",
       "    <tr>\n",
       "      <th>1979</th>\n",
       "      <td>331487.0</td>\n",
       "      <td>1</td>\n",
       "      <td>33148700.00%</td>\n",
       "    </tr>\n",
       "    <tr>\n",
       "      <th>1980</th>\n",
       "      <td>168903.0</td>\n",
       "      <td>1</td>\n",
       "      <td>16890300.00%</td>\n",
       "    </tr>\n",
       "    <tr>\n",
       "      <th>1981</th>\n",
       "      <td>309012.0</td>\n",
       "      <td>1</td>\n",
       "      <td>30901200.00%</td>\n",
       "    </tr>\n",
       "    <tr>\n",
       "      <th>1982</th>\n",
       "      <td>346779.0</td>\n",
       "      <td>1</td>\n",
       "      <td>34677900.00%</td>\n",
       "    </tr>\n",
       "    <tr>\n",
       "      <th>1983</th>\n",
       "      <td>331693.0</td>\n",
       "      <td>1</td>\n",
       "      <td>33169300.00%</td>\n",
       "    </tr>\n",
       "    <tr>\n",
       "      <th>1984</th>\n",
       "      <td>383250.0</td>\n",
       "      <td>1</td>\n",
       "      <td>38325000.00%</td>\n",
       "    </tr>\n",
       "    <tr>\n",
       "      <th>1985</th>\n",
       "      <td>236656.0</td>\n",
       "      <td>1</td>\n",
       "      <td>23665600.00%</td>\n",
       "    </tr>\n",
       "  </tbody>\n",
       "</table>\n",
       "</div>"
      ],
      "text/plain": [
       "      xgbpredicted  TXN      accuracy\n",
       "1976      295665.0    1  29566500.00%\n",
       "1977      271781.0    1  27178100.00%\n",
       "1978      312935.0    1  31293500.00%\n",
       "1979      331487.0    1  33148700.00%\n",
       "1980      168903.0    1  16890300.00%\n",
       "1981      309012.0    1  30901200.00%\n",
       "1982      346779.0    1  34677900.00%\n",
       "1983      331693.0    1  33169300.00%\n",
       "1984      383250.0    1  38325000.00%\n",
       "1985      236656.0    1  23665600.00%"
      ]
     },
     "execution_count": 43,
     "metadata": {},
     "output_type": "execute_result"
    }
   ],
   "source": [
    "xgboost(dat)"
   ]
  },
  {
   "cell_type": "code",
   "execution_count": 94,
   "id": "5ee72a2f-f0b9-485d-85cc-05d2ae18adbf",
   "metadata": {},
   "outputs": [
    {
     "name": "stderr",
     "output_type": "stream",
     "text": [
      "ntree_limit is deprecated, use `iteration_range` or model slicing instead.\n"
     ]
    },
    {
     "data": {
      "image/png": "[encoded data removed]",
      "text/plain": [
       "<Figure size 576x367.2 with 1 Axes>"
      ]
     },
     "metadata": {
      "needs_background": "light"
     },
     "output_type": "display_data"
    }
   ],
   "source": [
    "shap_values = shap.TreeExplainer(xgb).shap_values(Xtest)\n",
    "shap.summary_plot(shap_values, Xtest, plot_type=\"bar\")"
   ]
  },
  {
   "cell_type": "code",
   "execution_count": 11,
   "id": "d31aee84-016c-410f-a231-1b58ea684a55",
   "metadata": {},
   "outputs": [
    {
     "name": "stdout",
     "output_type": "stream",
     "text": [
      "length of X_train and X_test:  880 220\n",
      "length of y_train and y_test:  880 220\n"
     ]
    },
    {
     "name": "stderr",
     "output_type": "stream",
     "text": [
      "\n",
      "A value is trying to be set on a copy of a slice from a DataFrame.\n",
      "Try using .loc[row_indexer,col_indexer] = value instead\n",
      "\n",
      "See the caveats in the documentation: https://pandas.pydata.org/pandas-docs/stable/user_guide/indexing.html#returning-a-view-versus-a-copy\n"
     ]
    }
   ],
   "source": [
    "X = data[['DAY','MONTH','YEAR','MOVING_AVERAGE', 'DAY_WEEK', 'HOLIDAY']]\n",
    "y = data['TXN']\n",
    "#X = data.iloc[:, 2:10].copy()\n",
    "#y = data.iloc[:, 10].values\n",
    "# Transform categorical features into the appropriate type that is expected by LightGBM\n",
    "for c in X.columns:\n",
    "    col_type = X[c].dtype\n",
    "    if col_type == 'object' or col_type.name == 'category':\n",
    "        X[c] = X[c].astype('category')\n",
    "# Splitting the dataset into the Training set and Test set\n",
    "X_train, X_test, y_train, y_test = train_test_split(X, y, shuffle= False, test_size = 0.2, random_state = 42)\n",
    "print('length of X_train and X_test: ', len(X_train), len(X_test))\n",
    "print('length of y_train and y_test: ', len(y_train), len(y_test))"
   ]
  },
  {
   "cell_type": "code",
   "execution_count": 81,
   "id": "2c03ea6a-a482-40da-be31-57bb7b9469cc",
   "metadata": {},
   "outputs": [
    {
     "name": "stdout",
     "output_type": "stream",
     "text": [
      "<class 'pandas.core.frame.DataFrame'>\n",
      "DatetimeIndex: 880 entries, 2016-12-14 to 2019-06-25\n",
      "Data columns (total 6 columns):\n",
      " #   Column          Non-Null Count  Dtype   \n",
      "---  ------          --------------  -----   \n",
      " 0   DAY             880 non-null    int64   \n",
      " 1   MONTH           880 non-null    int64   \n",
      " 2   YEAR            880 non-null    int64   \n",
      " 3   MOVING_AVERAGE  880 non-null    float64 \n",
      " 4   DAY_WEEK        880 non-null    category\n",
      " 5   HOLIDAY         880 non-null    category\n",
      "dtypes: category(2), float64(1), int64(3)\n",
      "memory usage: 36.6 KB\n"
     ]
    }
   ],
   "source": [
    "X_train.info()"
   ]
  },
  {
   "cell_type": "code",
   "execution_count": 12,
   "id": "39ae89d0-a8f6-42cd-a864-57ce4394d120",
   "metadata": {},
   "outputs": [
    {
     "name": "stderr",
     "output_type": "stream",
     "text": [
      "'early_stopping_rounds' argument is deprecated and will be removed in a future release of LightGBM. Pass 'early_stopping()' callback via 'callbacks' argument instead.\n",
      "'verbose' argument is deprecated and will be removed in a future release of LightGBM. Pass 'log_evaluation()' callback via 'callbacks' argument instead.\n",
      "Overriding the parameters from Reference Dataset.\n",
      "categorical_column in param dict is overridden.\n"
     ]
    },
    {
     "name": "stdout",
     "output_type": "stream",
     "text": [
      "[LightGBM] [Warning] Unknown parameter: randomstate\n",
      "lgb 13.356954475801667\n"
     ]
    }
   ],
   "source": [
    "import lightgbm as lgb\n",
    "import time\n",
    "# Similarly LGBMRegressor can also be imported for a regression model.\n",
    "from lightgbm import LGBMClassifier\n",
    "gbm = lgb.LGBMRegressor(objective='regression', num_leaves=31, randomstate=42, learning_rate=0.4, n_estimators=100)\n",
    "gbm.fit(X_train, y_train, eval_set=[(X_test, y_test)], eval_metric ='rmse', early_stopping_rounds = 10, verbose =50) \n",
    "\n",
    "lgb_pred = gbm.predict(X_test, num_iteration = gbm.best_iteration_) \n",
    "lgbpred = pd.DataFrame(lgb_pred[-10:]) \n",
    "lgbpred.rename(columns = {0: 'lgbpredicted'}, inplace=True) \n",
    "lgbpred = lgbpred.round(decimals=0) \n",
    "d = pd.DataFrame(data['TXN']).tail(10)\n",
    "#dt = pd.DataFrame(data['DT']).tail(10)\n",
    "lgbpred.index = d.index\n",
    "lgbok = pd.concat([lgbpred, d], axis=1) \n",
    "lgbok['accuracy'] = round(lgbok.apply(lambda row: row.lgbpredicted / row.TXN*100, axis = 1),2)\n",
    "lgbok['accuracy'] = pd.Series([\"{0:.2f}%\".format(val) for val in lgbok['accuracy']],index = lgbok.index) \n",
    "#lgbok = lgbok.assign(day_of_week = lambda 0: x.index.day_name()) \n",
    "lgbok \n",
    "print('lgb',mean_absolute_percentage_error(d,lgbpred))"
   ]
  },
  {
   "cell_type": "code",
   "execution_count": 14,
   "id": "c48067b9-315d-4e3e-8c3c-648ebbc0cec8",
   "metadata": {},
   "outputs": [],
   "source": [
    "def lgbreg(data):\n",
    "    X = data[['DAY','MONTH','YEAR','MOVING_AVERAGE', 'DAY_WEEK', 'HOLIDAY']]\n",
    "    y = data['TXN']\n",
    "    #X = data.iloc[:, 2:10].copy()\n",
    "    #y = data.iloc[:, 10].values\n",
    "    # Transform categorical features into the appropriate type that is expected by LightGBM\n",
    "    for c in X.columns:\n",
    "        col_type = X[c].dtype\n",
    "        if col_type == 'object' or col_type.name == 'category':\n",
    "            X[c] = X[c].astype('category')\n",
    "    # Splitting the dataset into the Training set and Test set\n",
    "    X_train, X_test, y_train, y_test = train_test_split(X, y, shuffle= False, test_size = 0.2, random_state = 42)\n",
    "    lgb_pred = gbm.predict(X_test, num_iteration = gbm.best_iteration_) \n",
    "    lgbpred = pd.DataFrame(lgb_pred[-11:]) \n",
    "    lgbpred.rename(columns = {0: 'lgbpredicted'}, inplace=True) \n",
    "    lgbpred = lgbpred.round(decimals=0) \n",
    "    d = pd.DataFrame(data['TXN']).tail(11)\n",
    "    #dt = pd.DataFrame(data['DT']).tail(10)\n",
    "    lgbpred.index = d.index\n",
    "    lgbok = pd.concat([lgbpred, d], axis=1) \n",
    "    lgbok['accuracy'] = round(lgbok.apply(lambda row: row.lgbpredicted / row.TXN*100, axis = 1),2)\n",
    "    lgbok['accuracy'] = pd.Series([\"{0:.2f}%\".format(val) for val in lgbok['accuracy']],index = lgbok.index) \n",
    "    #lgbok = lgbok.assign(day_of_week = lambda 0: x.index.day_name()) \n",
    "    #print('lgb',mean_absolute_percentage_error(d,lgbpred)) \n",
    "    return lgbok"
   ]
  },
  {
   "cell_type": "code",
   "execution_count": 15,
   "id": "7a0a3bcb-2d4f-4c2b-a391-c64732fee9fa",
   "metadata": {},
   "outputs": [
    {
     "name": "stdout",
     "output_type": "stream",
     "text": [
      "length of X_train and X_test:  880 220\n",
      "length of y_train and y_test:  880 220\n"
     ]
    },
    {
     "name": "stderr",
     "output_type": "stream",
     "text": [
      "\n",
      "A value is trying to be set on a copy of a slice from a DataFrame.\n",
      "Try using .loc[row_indexer,col_indexer] = value instead\n",
      "\n",
      "See the caveats in the documentation: https://pandas.pydata.org/pandas-docs/stable/user_guide/indexing.html#returning-a-view-versus-a-copy\n"
     ]
    }
   ],
   "source": [
    "X = data[[ 'DAY','MONTH','YEAR','MOVING_AVERAGE', 'DAY_WEEK', 'HOLIDAY']]\n",
    "y = data['TXN']\n",
    "#X = data.iloc[:, 2:10].copy()\n",
    "#y = data.iloc[:, 10].values\n",
    "# Transform categorical features into the appropriate type that is expected by LightGBM\n",
    "for c in X.columns:\n",
    "    col_type = X[c].dtype\n",
    "    if col_type == 'object' or col_type.name == 'category':\n",
    "        X[c] = X[c].astype('category')\n",
    "# Splitting the dataset into the Training set and Test set\n",
    "X_train, X_test, y_train, y_test = train_test_split(X, y, shuffle= False, test_size = 0.2, random_state = 42)\n",
    "print('length of X_train and X_test: ', len(X_train), len(X_test))\n",
    "print('length of y_train and y_test: ', len(y_train), len(y_test))\n",
    "categorical_features_indices = np.where(X.dtypes != np.float)[0]"
   ]
  },
  {
   "cell_type": "code",
   "execution_count": 58,
   "id": "8894b1a9-6cb4-4401-af2c-1658de0cd7a4",
   "metadata": {},
   "outputs": [
    {
     "data": {
      "text/plain": [
       "DAY                  int64\n",
       "MONTH                int64\n",
       "YEAR                 int64\n",
       "MOVING_AVERAGE     float64\n",
       "DAY_WEEK          category\n",
       "HOLIDAY           category\n",
       "dtype: object"
      ]
     },
     "execution_count": 58,
     "metadata": {},
     "output_type": "execute_result"
    }
   ],
   "source": [
    "X.dtypes"
   ]
  },
  {
   "cell_type": "code",
   "execution_count": 16,
   "id": "a90a39fc-ee74-43ea-b010-fe5190f72113",
   "metadata": {},
   "outputs": [
    {
     "name": "stdout",
     "output_type": "stream",
     "text": [
      "0:\tlearn: 139122.6991153\ttest: 117131.5810433\tbest: 117131.5810433 (0)\ttotal: 152ms\tremaining: 608ms\n",
      "4:\tlearn: 113321.1853524\ttest: 112113.8612671\tbest: 112113.8612671 (4)\ttotal: 194ms\tremaining: 0us\n",
      "\n",
      "bestTest = 112113.8613\n",
      "bestIteration = 4\n",
      "\n",
      "Cat 17.032421090271257\n"
     ]
    }
   ],
   "source": [
    "from catboost import CatBoostRegressor\n",
    "cat = CatBoostRegressor(random_seed = 42, iterations=5,\n",
    "                          learning_rate=0.8,\n",
    "                          depth=2)\n",
    "cat.fit(X_train, y_train, cat_features = categorical_features_indices,  eval_set=[(X_test, y_test)], early_stopping_rounds = 10, verbose =50) \n",
    "\n",
    "cat_pred = cat.predict(X_test) \n",
    "catpred = pd.DataFrame(cat_pred[-10:])\n",
    "catpred.rename(columns = {0: 'catpredicted'}, inplace=True) \n",
    "catpred = catpred.round(decimals=0)\n",
    "d = pd.DataFrame(data['TXN']).tail(10)\n",
    "#dt = pd.DataFrame(data['DT']).tail(10)\n",
    "catpred.index = d.index #=dt.index\n",
    "catok = pd.concat([catpred, d], axis=1) \n",
    "catok['accuracy'] = round(catok.apply(lambda row: row.catpredicted / row.TXN*100, axis = 1),2)\n",
    "#catok['accuracy'] = pd.Series([\"{0:.2f}%\".format(val) for val in catok['accuracy']],index = catok.index) \n",
    "#catok = catok.assign(day_of_week = lambda 0: x.index.day_name()) \n",
    "#catok\n",
    "print('Cat',mean_absolute_percentage_error(d,catpred))"
   ]
  },
  {
   "cell_type": "code",
   "execution_count": 17,
   "id": "dcfbb0f5-96f5-4aeb-90db-98de8c7c95b3",
   "metadata": {},
   "outputs": [],
   "source": [
    "def catboostreg(data):    \n",
    "    X = data[[ 'DAY','MONTH','YEAR','MOVING_AVERAGE', 'DAY_WEEK', 'HOLIDAY']]\n",
    "    y = data['TXN']\n",
    "    #X = data.iloc[:, 2:10].copy()\n",
    "    #y = data.iloc[:, 10].values\n",
    "    # Transform categorical features into the appropriate type that is expected by LightGBM\n",
    "    for c in X.columns:\n",
    "        col_type = X[c].dtype\n",
    "        if col_type == 'object' or col_type.name == 'category':\n",
    "            X[c] = X[c].astype('category')\n",
    "    # Splitting the dataset into the Training set and Test set\n",
    "    X_train, X_test, y_train, y_test = train_test_split(X, y, shuffle= False, test_size = 0.2, random_state = 42)\n",
    "\n",
    "    categorical_features_indices = np.where(X.dtypes != np.float)[0]\n",
    "    cat_pred = cat.predict(X_test) \n",
    "    catpred = pd.DataFrame(cat_pred[-10:]) \n",
    "    catpred.rename(columns = {0: 'catpredicted'}, inplace=True) \n",
    "    catpred = catpred.round(decimals=0) \n",
    "    d = pd.DataFrame(data['TXN']).tail(10)\n",
    "    #dt = pd.DataFrame(data['DT']).tail(10)\n",
    "    catpred.index = d.index #=dt.index\n",
    "    catok = pd.concat([catpred, d], axis=1) \n",
    "    catok['accuracy'] = round(catok.apply(lambda row: row.catpredicted / row.TXN*100, axis = 1),2)\n",
    "    #catok['accuracy'] = pd.Series([\"{0:.2f}%\".format(val) for val in catok['accuracy']],index = catok.index) \n",
    "    #catok = catok.assign(day_of_week = lambda 0: x.index.day_name()) \n",
    "    #print('Cat',mean_absolute_percentage_error(d,catpred))\n",
    "    return catok"
   ]
  },
  {
   "cell_type": "code",
   "execution_count": 36,
   "id": "305f5b6d-5915-4c5c-a0c5-bf4feb7243fa",
   "metadata": {},
   "outputs": [
    {
     "name": "stderr",
     "output_type": "stream",
     "text": [
      "\n",
      "A value is trying to be set on a copy of a slice from a DataFrame.\n",
      "Try using .loc[row_indexer,col_indexer] = value instead\n",
      "\n",
      "See the caveats in the documentation: https://pandas.pydata.org/pandas-docs/stable/user_guide/indexing.html#returning-a-view-versus-a-copy\n"
     ]
    },
    {
     "data": {
      "text/html": [
       "<div>\n",
       "<style scoped>\n",
       "    .dataframe tbody tr th:only-of-type {\n",
       "        vertical-align: middle;\n",
       "    }\n",
       "\n",
       "    .dataframe tbody tr th {\n",
       "        vertical-align: top;\n",
       "    }\n",
       "\n",
       "    .dataframe thead th {\n",
       "        text-align: right;\n",
       "    }\n",
       "</style>\n",
       "<table border=\"1\" class=\"dataframe\">\n",
       "  <thead>\n",
       "    <tr style=\"text-align: right;\">\n",
       "      <th></th>\n",
       "      <th>catpredicted</th>\n",
       "      <th>TXN</th>\n",
       "      <th>accuracy</th>\n",
       "    </tr>\n",
       "  </thead>\n",
       "  <tbody>\n",
       "    <tr>\n",
       "      <th>1976</th>\n",
       "      <td>265905.0</td>\n",
       "      <td>1</td>\n",
       "      <td>26590500.0</td>\n",
       "    </tr>\n",
       "    <tr>\n",
       "      <th>1977</th>\n",
       "      <td>265905.0</td>\n",
       "      <td>1</td>\n",
       "      <td>26590500.0</td>\n",
       "    </tr>\n",
       "    <tr>\n",
       "      <th>1978</th>\n",
       "      <td>324453.0</td>\n",
       "      <td>1</td>\n",
       "      <td>32445300.0</td>\n",
       "    </tr>\n",
       "    <tr>\n",
       "      <th>1979</th>\n",
       "      <td>324453.0</td>\n",
       "      <td>1</td>\n",
       "      <td>32445300.0</td>\n",
       "    </tr>\n",
       "    <tr>\n",
       "      <th>1980</th>\n",
       "      <td>175492.0</td>\n",
       "      <td>1</td>\n",
       "      <td>17549200.0</td>\n",
       "    </tr>\n",
       "    <tr>\n",
       "      <th>1981</th>\n",
       "      <td>347536.0</td>\n",
       "      <td>1</td>\n",
       "      <td>34753600.0</td>\n",
       "    </tr>\n",
       "    <tr>\n",
       "      <th>1982</th>\n",
       "      <td>324453.0</td>\n",
       "      <td>1</td>\n",
       "      <td>32445300.0</td>\n",
       "    </tr>\n",
       "    <tr>\n",
       "      <th>1983</th>\n",
       "      <td>347536.0</td>\n",
       "      <td>1</td>\n",
       "      <td>34753600.0</td>\n",
       "    </tr>\n",
       "    <tr>\n",
       "      <th>1984</th>\n",
       "      <td>324453.0</td>\n",
       "      <td>1</td>\n",
       "      <td>32445300.0</td>\n",
       "    </tr>\n",
       "    <tr>\n",
       "      <th>1985</th>\n",
       "      <td>265905.0</td>\n",
       "      <td>1</td>\n",
       "      <td>26590500.0</td>\n",
       "    </tr>\n",
       "  </tbody>\n",
       "</table>\n",
       "</div>"
      ],
      "text/plain": [
       "      catpredicted  TXN    accuracy\n",
       "1976      265905.0    1  26590500.0\n",
       "1977      265905.0    1  26590500.0\n",
       "1978      324453.0    1  32445300.0\n",
       "1979      324453.0    1  32445300.0\n",
       "1980      175492.0    1  17549200.0\n",
       "1981      347536.0    1  34753600.0\n",
       "1982      324453.0    1  32445300.0\n",
       "1983      347536.0    1  34753600.0\n",
       "1984      324453.0    1  32445300.0\n",
       "1985      265905.0    1  26590500.0"
      ]
     },
     "execution_count": 36,
     "metadata": {},
     "output_type": "execute_result"
    }
   ],
   "source": [
    "catboostreg(dat)"
   ]
  },
  {
   "cell_type": "code",
   "execution_count": 35,
   "id": "d1e6f464-111c-443e-8e55-42ce255b9d05",
   "metadata": {},
   "outputs": [
    {
     "data": {
      "text/html": [
       "<div>\n",
       "<style scoped>\n",
       "    .dataframe tbody tr th:only-of-type {\n",
       "        vertical-align: middle;\n",
       "    }\n",
       "\n",
       "    .dataframe tbody tr th {\n",
       "        vertical-align: top;\n",
       "    }\n",
       "\n",
       "    .dataframe thead th {\n",
       "        text-align: right;\n",
       "    }\n",
       "</style>\n",
       "<table border=\"1\" class=\"dataframe\">\n",
       "  <thead>\n",
       "    <tr style=\"text-align: right;\">\n",
       "      <th></th>\n",
       "      <th>lin_predicted</th>\n",
       "      <th>TXN</th>\n",
       "      <th>accuracy</th>\n",
       "    </tr>\n",
       "  </thead>\n",
       "  <tbody>\n",
       "    <tr>\n",
       "      <th>1976</th>\n",
       "      <td>252866.0</td>\n",
       "      <td>1</td>\n",
       "      <td>25286600.00%</td>\n",
       "    </tr>\n",
       "    <tr>\n",
       "      <th>1977</th>\n",
       "      <td>286931.0</td>\n",
       "      <td>1</td>\n",
       "      <td>28693100.00%</td>\n",
       "    </tr>\n",
       "    <tr>\n",
       "      <th>1978</th>\n",
       "      <td>272174.0</td>\n",
       "      <td>1</td>\n",
       "      <td>27217400.00%</td>\n",
       "    </tr>\n",
       "    <tr>\n",
       "      <th>1979</th>\n",
       "      <td>311937.0</td>\n",
       "      <td>1</td>\n",
       "      <td>31193700.00%</td>\n",
       "    </tr>\n",
       "    <tr>\n",
       "      <th>1980</th>\n",
       "      <td>125389.0</td>\n",
       "      <td>1</td>\n",
       "      <td>12538900.00%</td>\n",
       "    </tr>\n",
       "    <tr>\n",
       "      <th>1981</th>\n",
       "      <td>301699.0</td>\n",
       "      <td>1</td>\n",
       "      <td>30169900.00%</td>\n",
       "    </tr>\n",
       "    <tr>\n",
       "      <th>1982</th>\n",
       "      <td>332840.0</td>\n",
       "      <td>1</td>\n",
       "      <td>33284000.00%</td>\n",
       "    </tr>\n",
       "    <tr>\n",
       "      <th>1983</th>\n",
       "      <td>335464.0</td>\n",
       "      <td>1</td>\n",
       "      <td>33546400.00%</td>\n",
       "    </tr>\n",
       "    <tr>\n",
       "      <th>1984</th>\n",
       "      <td>305322.0</td>\n",
       "      <td>1</td>\n",
       "      <td>30532200.00%</td>\n",
       "    </tr>\n",
       "    <tr>\n",
       "      <th>1985</th>\n",
       "      <td>251375.0</td>\n",
       "      <td>1</td>\n",
       "      <td>25137500.00%</td>\n",
       "    </tr>\n",
       "  </tbody>\n",
       "</table>\n",
       "</div>"
      ],
      "text/plain": [
       "      lin_predicted  TXN      accuracy\n",
       "1976       252866.0    1  25286600.00%\n",
       "1977       286931.0    1  28693100.00%\n",
       "1978       272174.0    1  27217400.00%\n",
       "1979       311937.0    1  31193700.00%\n",
       "1980       125389.0    1  12538900.00%\n",
       "1981       301699.0    1  30169900.00%\n",
       "1982       332840.0    1  33284000.00%\n",
       "1983       335464.0    1  33546400.00%\n",
       "1984       305322.0    1  30532200.00%\n",
       "1985       251375.0    1  25137500.00%"
      ]
     },
     "execution_count": 35,
     "metadata": {},
     "output_type": "execute_result"
    }
   ],
   "source": [
    "linearreg(dat)"
   ]
  },
  {
   "cell_type": "code",
   "execution_count": 230,
   "id": "b305df44-af00-4336-a3d2-19d2772120c2",
   "metadata": {},
   "outputs": [
    {
     "name": "stdout",
     "output_type": "stream",
     "text": [
      "Cat 17.032421090271257\n",
      "lgb 13.356954475801667\n",
      "xgb 16.264647621513404\n",
      "lin 18.701292830092836\n"
     ]
    }
   ],
   "source": [
    "print('Cat',mean_absolute_percentage_error(d,catpred))\n",
    "print('lgb',mean_absolute_percentage_error(d,lgbpred))\n",
    "print('xgb',mean_absolute_percentage_error(d,xgbpred))\n",
    "print('lin',mean_absolute_percentage_error(d,linpred))"
   ]
  },
  {
   "cell_type": "code",
   "execution_count": 168,
   "id": "076e242a-d557-496e-8981-ff71a5662dd9",
   "metadata": {},
   "outputs": [
    {
     "name": "stdout",
     "output_type": "stream",
     "text": [
      "Cat 17.032421090271257\n",
      "lgb 13.356954475801667\n",
      "xgb 16.264647621513404\n",
      "lin 18.701292830092836\n"
     ]
    }
   ],
   "source": [
    "print('Cat',mean_absolute_percentage_error(d,catpred))\n",
    "print('lgb',mean_absolute_percentage_error(d,lgbpred))\n",
    "print('xgb',mean_absolute_percentage_error(d,xgbpred))\n",
    "print('lin',mean_absolute_percentage_error(d,linpred))"
   ]
  },
  {
   "cell_type": "code",
   "execution_count": 169,
   "id": "d05904f4-4575-4453-a982-1a55fc4f7920",
   "metadata": {},
   "outputs": [
    {
     "data": {
      "text/html": [
       "<div>\n",
       "<style scoped>\n",
       "    .dataframe tbody tr th:only-of-type {\n",
       "        vertical-align: middle;\n",
       "    }\n",
       "\n",
       "    .dataframe tbody tr th {\n",
       "        vertical-align: top;\n",
       "    }\n",
       "\n",
       "    .dataframe thead th {\n",
       "        text-align: right;\n",
       "    }\n",
       "</style>\n",
       "<table border=\"1\" class=\"dataframe\">\n",
       "  <thead>\n",
       "    <tr style=\"text-align: right;\">\n",
       "      <th></th>\n",
       "      <th>TXN</th>\n",
       "      <th>lin_predicted</th>\n",
       "      <th>catpredicted</th>\n",
       "      <th>lgbpredicted</th>\n",
       "      <th>xgbpredicted</th>\n",
       "    </tr>\n",
       "    <tr>\n",
       "      <th>DT</th>\n",
       "      <th></th>\n",
       "      <th></th>\n",
       "      <th></th>\n",
       "      <th></th>\n",
       "      <th></th>\n",
       "    </tr>\n",
       "  </thead>\n",
       "  <tbody>\n",
       "    <tr>\n",
       "      <th>2020-01-22</th>\n",
       "      <td>345600</td>\n",
       "      <td>295243.0</td>\n",
       "      <td>347536.0</td>\n",
       "      <td>331513.0</td>\n",
       "      <td>377196.0</td>\n",
       "    </tr>\n",
       "    <tr>\n",
       "      <th>2020-01-23</th>\n",
       "      <td>342400</td>\n",
       "      <td>331142.0</td>\n",
       "      <td>324453.0</td>\n",
       "      <td>340099.0</td>\n",
       "      <td>389769.0</td>\n",
       "    </tr>\n",
       "    <tr>\n",
       "      <th>2020-01-24</th>\n",
       "      <td>183500</td>\n",
       "      <td>304699.0</td>\n",
       "      <td>324453.0</td>\n",
       "      <td>283677.0</td>\n",
       "      <td>304616.0</td>\n",
       "    </tr>\n",
       "    <tr>\n",
       "      <th>2020-01-25</th>\n",
       "      <td>288000</td>\n",
       "      <td>341046.0</td>\n",
       "      <td>347536.0</td>\n",
       "      <td>304947.0</td>\n",
       "      <td>301344.0</td>\n",
       "    </tr>\n",
       "    <tr>\n",
       "      <th>2020-01-26</th>\n",
       "      <td>164600</td>\n",
       "      <td>129797.0</td>\n",
       "      <td>145579.0</td>\n",
       "      <td>173368.0</td>\n",
       "      <td>203169.0</td>\n",
       "    </tr>\n",
       "    <tr>\n",
       "      <th>2020-01-27</th>\n",
       "      <td>381000</td>\n",
       "      <td>327858.0</td>\n",
       "      <td>347536.0</td>\n",
       "      <td>343678.0</td>\n",
       "      <td>380376.0</td>\n",
       "    </tr>\n",
       "    <tr>\n",
       "      <th>2020-01-28</th>\n",
       "      <td>416600</td>\n",
       "      <td>340654.0</td>\n",
       "      <td>347536.0</td>\n",
       "      <td>357721.0</td>\n",
       "      <td>358240.0</td>\n",
       "    </tr>\n",
       "    <tr>\n",
       "      <th>2020-01-29</th>\n",
       "      <td>366000</td>\n",
       "      <td>339985.0</td>\n",
       "      <td>347536.0</td>\n",
       "      <td>398136.0</td>\n",
       "      <td>329175.0</td>\n",
       "    </tr>\n",
       "    <tr>\n",
       "      <th>2020-01-30</th>\n",
       "      <td>356300</td>\n",
       "      <td>351916.0</td>\n",
       "      <td>347536.0</td>\n",
       "      <td>395241.0</td>\n",
       "      <td>348639.0</td>\n",
       "    </tr>\n",
       "    <tr>\n",
       "      <th>2020-01-31</th>\n",
       "      <td>449100</td>\n",
       "      <td>345688.0</td>\n",
       "      <td>347536.0</td>\n",
       "      <td>362068.0</td>\n",
       "      <td>362796.0</td>\n",
       "    </tr>\n",
       "  </tbody>\n",
       "</table>\n",
       "</div>"
      ],
      "text/plain": [
       "               TXN  lin_predicted  catpredicted  lgbpredicted  xgbpredicted\n",
       "DT                                                                         \n",
       "2020-01-22  345600       295243.0      347536.0      331513.0      377196.0\n",
       "2020-01-23  342400       331142.0      324453.0      340099.0      389769.0\n",
       "2020-01-24  183500       304699.0      324453.0      283677.0      304616.0\n",
       "2020-01-25  288000       341046.0      347536.0      304947.0      301344.0\n",
       "2020-01-26  164600       129797.0      145579.0      173368.0      203169.0\n",
       "2020-01-27  381000       327858.0      347536.0      343678.0      380376.0\n",
       "2020-01-28  416600       340654.0      347536.0      357721.0      358240.0\n",
       "2020-01-29  366000       339985.0      347536.0      398136.0      329175.0\n",
       "2020-01-30  356300       351916.0      347536.0      395241.0      348639.0\n",
       "2020-01-31  449100       345688.0      347536.0      362068.0      362796.0"
      ]
     },
     "execution_count": 169,
     "metadata": {},
     "output_type": "execute_result"
    }
   ],
   "source": [
    "report = pd.concat([d['TXN'],linok['lin_predicted'],catok['catpredicted'],lgbok['lgbpredicted'], xgbok['xgbpredicted']], axis=1)\n",
    "report"
   ]
  },
  {
   "cell_type": "code",
   "execution_count": 170,
   "id": "03d1decb-4cb6-4ac9-b8ef-d58996414a48",
   "metadata": {},
   "outputs": [
    {
     "data": {
      "text/plain": [
       "<AxesSubplot:xlabel='DT'>"
      ]
     },
     "execution_count": 170,
     "metadata": {},
     "output_type": "execute_result"
    },
    {
     "data": {
      "image/png": "[encoded data removed]",
      "text/plain": [
       "<Figure size 864x576 with 1 Axes>"
      ]
     },
     "metadata": {
      "needs_background": "light"
     },
     "output_type": "display_data"
    }
   ],
   "source": [
    "report.plot(figsize=(12,8))"
   ]
  },
  {
   "cell_type": "code",
   "execution_count": 24,
   "id": "4bafc8a2-3541-4335-81db-9fb7bdff1508",
   "metadata": {},
   "outputs": [],
   "source": [
    "dat = pd.read_excel('Atm_7.xlsx', 'Sheet1')\n",
    "#dat.set_index(['DT'],inplace=True)\n",
    "#d = pd.DataFrame(dat['TXN']).tail(10)"
   ]
  },
  {
   "cell_type": "code",
   "execution_count": 239,
   "id": "c337b7b0-7f0f-4fa4-909e-4c8b1a5aadec",
   "metadata": {},
   "outputs": [
    {
     "name": "stdout",
     "output_type": "stream",
     "text": [
      "Cat 22900110.0\n"
     ]
    }
   ],
   "source": [
    "#lgbreg(dat)\n",
    "#xgboost(dat)\n",
    "#linearreg(dat)\n",
    "#catboostreg(dat)"
   ]
  },
  {
   "cell_type": "code",
   "execution_count": 47,
   "id": "bd5907df-b2ce-4c98-bd9f-126a651dd3c9",
   "metadata": {},
   "outputs": [],
   "source": [
    "data1 = pd.read_excel('Atm_7.xlsx', 'Sheet1')\n",
    "mask = (data1['DT'] > '2017-04-01') & (data1['DT'] <= '2020-01-31')\n",
    "data = data1.loc[mask]\n",
    "data.set_index(['DT'],inplace=True)\n",
    "d = pd.DataFrame(dat['TXN']).tail(10)"
   ]
  },
  {
   "cell_type": "code",
   "execution_count": null,
   "id": "8c66304d-aa62-42b1-9ab1-7b1c5d7d9819",
   "metadata": {},
   "outputs": [],
   "source": []
  }
 ],
 "metadata": {
  "kernelspec": {
   "display_name": "Python 3",
   "language": "python",
   "name": "python3"
  },
  "language_info": {
   "codemirror_mode": {
    "name": "ipython",
    "version": 3
   },
   "file_extension": ".py",
   "mimetype": "text/x-python",
   "name": "python",
   "nbconvert_exporter": "python",
   "pygments_lexer": "ipython3",
   "version": "3.9.1"
  }
 },
 "nbformat": 4,
 "nbformat_minor": 5
}
