{
 "cells": [
  {
   "cell_type": "code",
   "execution_count": null,
   "id": "85cbb380-67b7-40c9-b5a4-b6ba454f6935",
   "metadata": {},
   "outputs": [],
   "source": [
    "import pandas as pd\n",
    "import numpy as np \n",
    "data = pd.read_excel('sb_churn.xlsx', 'Sheet1')\n",
    "#bins = [-np.inf, 30, 60, 90, 120, 150, 180, 210, np.inf]\n",
    "# data['EMIbins'] = pd.cut(data['EMI_NMI'], bins)\n",
    "# data = data.drop(['EMI_NMI'], axis = 1)\n",
    "\n",
    "bank_cust = data.copy()\n",
    "from sklearn import preprocessing\n",
    "le = preprocessing.LabelEncoder()\n",
    "bank_cust = bank_cust.apply(le.fit_transform)\n",
    "#bank_cust.head()"
   ]
  },
  {
   "cell_type": "code",
   "execution_count": null,
   "id": "cf8a7f99-83f5-4a57-8a8d-6c3d9b86b92f",
   "metadata": {},
   "outputs": [],
   "source": [
    "X = bank_cust.drop(['CUST_CHURN'], axis = 1)\n",
    "#X = X.drop(['V_CUST_ID'], axis = 1)\n",
    "y = bank_cust['CUST_CHURN']"
   ]
  },
  {
   "cell_type": "code",
   "execution_count": null,
   "id": "f68753c4-fa58-4316-ac92-0b37679f0136",
   "metadata": {},
   "outputs": [],
   "source": [
    "from sklearn.linear_model import LogisticRegression\n",
    "from sklearn import metrics\n",
    "from sklearn.model_selection import train_test_split\n",
    "X_train, X_test, y_train, y_test = train_test_split(X, y, test_size=0.3, random_state=1)\n",
    "#logreg = LogisticRegression()\n",
    "#logreg.fit(X_train, y_train)"
   ]
  },
  {
   "cell_type": "code",
   "execution_count": null,
   "id": "8a887a0d-6bab-4b64-b2c2-d35600a4982f",
   "metadata": {},
   "outputs": [],
   "source": [
    "X = bank_cust.drop(['HL'], axis = 1)\n",
    "X = X.drop(['V_CUST_ID'], axis = 1)\n",
    "y = bank_cust['HL']"
   ]
  },
  {
   "cell_type": "code",
   "execution_count": null,
   "id": "daa9fb1a-03b4-42c3-bef3-88bb5feb760e",
   "metadata": {},
   "outputs": [],
   "source": [
    "print(\"Before OverSampling, counts of label '1': {}\".format(sum(y_train == 1)))\n",
    "print(\"Before OverSampling, counts of label '0': {} \\n\".format(sum(y_train == 0)))\n",
    "  \n",
    "# import SMOTE module from imblearn library\n",
    "# pip install imblearn (if you don't have imblearn in your system)\n",
    "from imblearn.over_sampling import SMOTE\n",
    "sm = SMOTE(random_state = 2)\n",
    "X_train_res, y_train_res = sm.fit_resample(X_train, y_train.ravel())\n",
    "  \n",
    "print('After OverSampling, the shape of train_X: {}'.format(X_train_res.shape))\n",
    "print('After OverSampling, the shape of train_y: {} \\n'.format(y_train_res.shape))\n",
    "  \n",
    "print(\"After OverSampling, counts of label '1': {}\".format(sum(y_train_res == 1)))\n",
    "print(\"After OverSampling, counts of label '0': {}\".format(sum(y_train_res == 0)))"
   ]
  },
  {
   "cell_type": "code",
   "execution_count": null,
   "id": "cc77375b-83e9-42a6-b762-9fbb78f8f77f",
   "metadata": {},
   "outputs": [],
   "source": [
    "from xgboost import XGBClassifier\n",
    "model = XGBClassifier( learning_rate=0.400000012,\n",
    "              max_delta_step=0, max_depth=7)\n",
    "model.fit(X_train_res,y_train_res.ravel())"
   ]
  },
  {
   "cell_type": "code",
   "execution_count": null,
   "id": "2fa2f14e-fe3d-4f61-85d0-6d638e36b9c3",
   "metadata": {},
   "outputs": [],
   "source": [
    "import statsmodels.api as sm\n",
    "logit_model=sm.Logit(y_train_res.ravel(),X_train_res)\n",
    "result=logit_model.fit()\n",
    "print(result.summary2())"
   ]
  },
  {
   "cell_type": "code",
   "execution_count": null,
   "id": "f6c98ff9-be56-40b6-b6c4-df0d8d09e985",
   "metadata": {},
   "outputs": [],
   "source": [
    "yhat = model.predict(X_test)\n",
    "prediction = list(map(round, yhat))"
   ]
  },
  {
   "cell_type": "code",
   "execution_count": null,
   "id": "2ce914ac-7079-4699-bb2c-d5fc65fc73ff",
   "metadata": {},
   "outputs": [],
   "source": [
    "from sklearn.metrics import (confusion_matrix,\n",
    "                           accuracy_score)\n",
    "# confusion matrix\n",
    "cm = confusion_matrix(y_test, prediction)\n",
    "print (\"Confusion Matrix : \\n\", cm)\n",
    "# accuracy score of the model\n",
    "print('Test accuracy = ', accuracy_score(y_test, prediction))"
   ]
  }
 ],
 "metadata": {
  "kernelspec": {
   "display_name": "Python 3",
   "language": "python",
   "name": "python3"
  },
  "language_info": {
   "codemirror_mode": {
    "name": "ipython",
    "version": 3
   },
   "file_extension": ".py",
   "mimetype": "text/x-python",
   "name": "python",
   "nbconvert_exporter": "python",
   "pygments_lexer": "ipython3",
   "version": "3.9.1"
  }
 },
 "nbformat": 4,
 "nbformat_minor": 5
}
