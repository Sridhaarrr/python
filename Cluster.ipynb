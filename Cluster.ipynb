{
 "cells": [
  {
   "cell_type": "code",
   "execution_count": null,
   "id": "f835deae-a8e4-4931-bfa5-f556e4bcc970",
   "metadata": {},
   "outputs": [],
   "source": [
    "import pandas as pd\n",
    "import numpy as np \n",
    "data = pd.read_excel('Clustering.xlsx', 'Sheet1')\n",
    "bins = [-np.inf, 30, 60, 90, 120, 150, 180, 210, np.inf]\n",
    "data['EMIbins'] = pd.cut(data['EMI_NMI'], bins)\n",
    "data = data.drop(['EMI_NMI'], axis = 1)\n",
    "bank_cust = data.copy()"
   ]
  },
  {
   "cell_type": "code",
   "execution_count": null,
   "id": "0e553b8a-c9bc-4bf7-9cf9-ed890266f0a9",
   "metadata": {},
   "outputs": [],
   "source": [
    "import pandas as pd\n",
    "import numpy as np \n",
    "data = pd.read_excel('plvlhl.xlsx', 'Sheet1')\n",
    "# bins = [-np.inf, 30, 60, 90, 120, 150, 180, 210, np.inf]\n",
    "# data['EMIbins'] = pd.cut(data['EMI_NMI'], bins)\n",
    "#data = data.drop(['EMI_NMI'], axis = 1)"
   ]
  },
  {
   "cell_type": "code",
   "execution_count": null,
   "id": "0c389d57-cc8f-42d4-82c5-d0cf56b6b2de",
   "metadata": {},
   "outputs": [],
   "source": [
    "import pandas as pd\n",
    "import numpy as np \n",
    "data = pd.read_excel('CnoHmln.xlsx', 'Sheet1')\n",
    "# bins = [-np.inf, 30, 60, 90, 120, 150, 180, 210\n",
    "data = data.dropna(how='any',axis=0)\n",
    "bank_cust = data.copy()\n",
    "from sklearn import preprocessing\n",
    "le = preprocessing.LabelEncoder()\n",
    "numeric_subset = data[['TOTDR','TOTCR','CTDR','CTCR', 'AGE', 'COD_KYC_RISK_CATEGORY', 'HL']]#.apply(pd.to_numeric)\n",
    "#numeric_subset = numeric_subset.apply(le.fit_transform)\n",
    "categorical_subset = data[['CUST_PROFESSION', 'TXT_CUST_SEX']]\n",
    "\n",
    "    # One hot encoding\n",
    "categorical_subset = pd.get_dummies(categorical_subset)\n",
    "    # Join the two dataframes using concat\n",
    "bank_cust = pd.concat([numeric_subset, categorical_subset], axis = 1)\n",
    "#X = bank_cust.drop(['HL'], axis = 1)\n",
    "#X = bank_cust\n",
    "#y = data['HL']"
   ]
  },
  {
   "cell_type": "code",
   "execution_count": null,
   "id": "38417247-c2b7-4c8e-941c-fad4d39b5997",
   "metadata": {},
   "outputs": [],
   "source": [
    "import pandas as pd\n",
    "import numpy as np \n",
    "data1 = pd.read_excel('Ctest.xlsx', 'Sheet1')\n",
    "# bins = [-np.inf, 30, 60, 90, 120, 150, 180, 210, np.inf]\n",
    "# data['EMIbins'] = pd.cut(data['EMI_NMI'], bins)\n",
    "#data = data.drop(['EMI_NMI'], axis = 1)"
   ]
  },
  {
   "cell_type": "code",
   "execution_count": null,
   "id": "178305ab-e1c3-4d15-bb52-d2532c8eb233",
   "metadata": {},
   "outputs": [],
   "source": [
    "import pandas as pd\n",
    "import numpy as np \n",
    "data = pd.read_excel('withhmln.xlsx', 'Sheet1')"
   ]
  },
  {
   "cell_type": "code",
   "execution_count": null,
   "id": "a275acc5-aa9e-4b38-a40d-0b08d547d0ec",
   "metadata": {},
   "outputs": [],
   "source": [
    "data.isnull().sum()*100/data.shape[0]"
   ]
  },
  {
   "cell_type": "code",
   "execution_count": null,
   "id": "82d7c4b2-6be8-414d-b163-719310c3936b",
   "metadata": {},
   "outputs": [],
   "source": [
    "bank1 = data[data['HL'] == 1]\n",
    "bank0 = data[data['HL'] == 2]"
   ]
  },
  {
   "cell_type": "code",
   "execution_count": null,
   "id": "cbd3f876-ba4e-428b-b059-3abeafc3f05c",
   "metadata": {},
   "outputs": [],
   "source": [
    "bank1 = data[data['HL'] == 1]\n",
    "bank0 = data[data['HL'] == 0]\n",
    "b = bank0.sample(n=len(bank1), frac=None, replace=False, weights=None, random_state=3, axis=None)\n",
    "data = b.append(bank1, ignore_index=True)"
   ]
  },
  {
   "cell_type": "code",
   "execution_count": null,
   "id": "9096fde8-0b8e-4b0a-b210-64bdf20be044",
   "metadata": {},
   "outputs": [],
   "source": [
    "bank_cust = data.copy()\n",
    "from sklearn import preprocessing\n",
    "le = preprocessing.LabelEncoder()\n",
    "numeric_subset = data[['APPLICATION_SCORE','ROI_BAND','AGE_BAND', 'CUST_SINCE_BAND','CIBIL_BAND','EMI_NMI']]\n",
    "numeric_subset = numeric_subset.apply(le.fit_transform)\n",
    "#bank_cust.head()"
   ]
  },
  {
   "cell_type": "code",
   "execution_count": null,
   "id": "429fb225-0089-4018-91a2-951df2298f60",
   "metadata": {},
   "outputs": [],
   "source": [
    "categorical_subset = data[['SUBCLASS','GENDER', 'MODEL','ETB','PROF', 'BRANCH_CATEGORY','EMPLOYMENT_TYPES','DIVISION']]\n",
    "    # One hot encoding\n",
    "categorical_subset = pd.get_dummies(categorical_subset)\n",
    "    # Join the two dataframes using concat\n",
    "bank_cust = pd.concat([numeric_subset, categorical_subset], axis = 1)"
   ]
  },
  {
   "cell_type": "code",
   "execution_count": null,
   "id": "4a797c73-d920-4ab9-8f48-700fe8c7c09d",
   "metadata": {},
   "outputs": [],
   "source": [
    "bank_cust = data.copy()\n",
    "from sklearn import preprocessing\n",
    "le = preprocessing.LabelEncoder()\n",
    "numeric_subset = data[['TOTDR','TOTCR','CTDR','CTCR', 'AGE', 'COD_KYC_RISK_CATEGORY']]#.apply(pd.to_numeric)\n",
    "#numeric_subset = numeric_subset.apply(le.fit_transform)\n",
    "categorical_subset = data[['V_BRANCH_NAME','CUST_PROFESSION', 'TXT_CUST_SEX']]\n",
    "\n",
    "    # One hot encoding\n",
    "categorical_subset = pd.get_dummies(categorical_subset)\n",
    "    # Join the two dataframes using concat\n",
    "bank_cust = pd.concat([numeric_subset, categorical_subset], axis = 1)\n",
    "#X = bank_cust.drop(['HL'], axis = 1)\n",
    "X = bank_cust\n",
    "y = data['HL']"
   ]
  },
  {
   "cell_type": "code",
   "execution_count": null,
   "id": "4ff5658e-9ab8-47f7-969a-891a6c1be6cd",
   "metadata": {},
   "outputs": [],
   "source": [
    "bank_cust = data1.copy()\n",
    "from sklearn import preprocessing\n",
    "le = preprocessing.LabelEncoder()\n",
    "numeric_subset = data1[['TOTDR','TOTCR','CTDR','CTCR', 'AGE', 'COD_KYC_RISK_CATEGORY']]#.apply(pd.to_numeric)\n",
    "numeric_subset = numeric_subset.apply(le.fit_transform)\n",
    "categorical_subset = data1[['V_BRANCH_NAME','CUST_PROFESSION', 'TXT_CUST_SEX']]\n",
    "    # One hot encoding\n",
    "categorical_subset = pd.get_dummies(categorical_subset)\n",
    "    # Join the two dataframes using concat\n",
    "bank_cust = pd.concat([numeric_subset, categorical_subset], axis = 1)\n",
    "#X = bank_cust.drop(['HL'], axis = 1)\n",
    "bank_cust1 = bank_cust.copy()\n",
    "for y in X_train.columns:\n",
    "    if (y not in bank_cust.columns):\n",
    "        bank_cust1[y] = [0]*len(bank_cust1)\n",
    "X = bank_cust1[X_train.columns.ravel()]                       \n",
    "y = data1['HL']"
   ]
  },
  {
   "cell_type": "code",
   "execution_count": null,
   "id": "a5a9411d-ce42-4cfe-bd36-57f66670e21e",
   "metadata": {},
   "outputs": [],
   "source": [
    "bank = pd.concat([data1, pd.DataFrame(prediction)], axis = 1)\n",
    "ban = bank[bank[0] == 1]"
   ]
  },
  {
   "cell_type": "code",
   "execution_count": null,
   "id": "8b489716-2e49-41c1-a30a-980a33a13bd5",
   "metadata": {},
   "outputs": [],
   "source": [
    "ban.to_excel('valC1.xlsx')"
   ]
  },
  {
   "cell_type": "code",
   "execution_count": null,
   "id": "637bde8d-bee2-4abb-a88e-ef6656d08073",
   "metadata": {},
   "outputs": [],
   "source": [
    "prediction = clf.predict(X)\n",
    "from sklearn.metrics import (confusion_matrix,\n",
    "                           accuracy_score)\n",
    "# confusion matrix\n",
    "cm = confusion_matrix(y, prediction)\n",
    "print (\"Confusion Matrix : \\n\", cm)\n",
    "# accuracy score of the model\n",
    "print('Test accuracy = ', accuracy_score(y, prediction))"
   ]
  },
  {
   "cell_type": "code",
   "execution_count": null,
   "id": "f23d29ef-8072-4c66-9e89-5d3612a64aa4",
   "metadata": {},
   "outputs": [],
   "source": [
    "yhat = model.predict(X)\n",
    "prediction = list(map(round, yhat))\n",
    "from sklearn.metrics import (confusion_matrix,\n",
    "                           accuracy_score)\n",
    "# confusion matrix\n",
    "cm = confusion_matrix(y, prediction)\n",
    "print (\"Confusion Matrix : \\n\", cm)\n",
    "# accuracy score of the model\n",
    "print('Test accuracy = ', accuracy_score(y_test, prediction))"
   ]
  },
  {
   "cell_type": "code",
   "execution_count": null,
   "id": "9e613f25-d7d1-4665-a891-97a378efa94d",
   "metadata": {},
   "outputs": [],
   "source": [
    "from sklearn.linear_model import LogisticRegression\n",
    "from sklearn import metrics\n",
    "from sklearn.model_selection import train_test_split\n",
    "X_train, X_test, y_train, y_test = train_test_split(X, y, test_size=0.3, random_state=1)\n",
    "#logreg = LogisticRegression()\n",
    "#logreg.fit(X_train, y_train)"
   ]
  },
  {
   "cell_type": "code",
   "execution_count": null,
   "id": "8b357c29-c247-4a01-aaf8-8f9eb9223f41",
   "metadata": {},
   "outputs": [],
   "source": [
    "import pandas as pd\n",
    "import numpy as np \n",
    "data = pd.read_excel('sb_churn.xlsx', 'Sheet1')\n",
    "#bins = [-np.inf, 30, 60, 90, 120, 150, 180, 210, np.inf]\n",
    "# data['EMIbins'] = pd.cut(data['EMI_NMI'], bins)\n",
    "# data = data.drop(['EMI_NMI'], axis = 1)\n",
    "\n",
    "bank_cust = data.copy()\n",
    "from sklearn import preprocessing\n",
    "le = preprocessing.LabelEncoder()\n",
    "bank_cust = bank_cust.apply(le.fit_transform)\n",
    "#bank_cust.head()"
   ]
  },
  {
   "cell_type": "code",
   "execution_count": null,
   "id": "b273e593-7bf2-4cf1-91b1-b6e87f6f2a11",
   "metadata": {},
   "outputs": [],
   "source": [
    "X = bank_cust.drop(['CUST_CHURN'], axis = 1)\n",
    "#X = X.drop(['V_CUST_ID'], axis = 1)\n",
    "y = bank_cust['CUST_CHURN']"
   ]
  },
  {
   "cell_type": "code",
   "execution_count": null,
   "id": "4b9a02ba-7273-455a-8933-7c634ec70105",
   "metadata": {},
   "outputs": [],
   "source": [
    "print(\"Before OverSampling, counts of label '1': {}\".format(sum(y_train == 1)))\n",
    "print(\"Before OverSampling, counts of label '0': {} \\n\".format(sum(y_train == 0)))\n",
    "  \n",
    "# import SMOTE module from imblearn library\n",
    "# pip install imblearn (if you don't have imblearn in your system)\n",
    "from imblearn.over_sampling import SMOTE\n",
    "sm = SMOTE(random_state = 2)\n",
    "X_train_res, y_train_res = sm.fit_resample(X_train, y_train.ravel())\n",
    "\n",
    "print('After OverSampling, the shape of train_X: {}'.format(X_train_res.shape))\n",
    "print('After OverSampling, the shape of train_y: {} \\n'.format(y_train_res.shape))\n",
    "  \n",
    "print(\"After OverSampling, counts of label '1': {}\".format(sum(y_train_res == 1)))\n",
    "print(\"After OverSampling, counts of label '0': {}\".format(sum(y_train_res == 0)))"
   ]
  },
  {
   "cell_type": "code",
   "execution_count": null,
   "id": "0164554f-2ecd-406a-8320-46ffa14f929c",
   "metadata": {},
   "outputs": [],
   "source": [
    "\n",
    "X_train.columns = [col for col in X_train_res.columns.values]"
   ]
  },
  {
   "cell_type": "code",
   "execution_count": null,
   "id": "4acbae99-c6a3-4311-9d97-580367f621b4",
   "metadata": {},
   "outputs": [],
   "source": [
    "import re\n",
    "regex = re.compile(r\"\\[|\\]|<\", re.IGNORECASE)\n",
    "X_train.columns = [regex.sub(\"_\", col) if any(x in str(col) for x in set(('[', ']', '<'))) else col for col in X_train.columns.values]"
   ]
  },
  {
   "cell_type": "code",
   "execution_count": null,
   "id": "e9271b39-a261-47c7-b98c-4134623f5a80",
   "metadata": {},
   "outputs": [],
   "source": [
    "from xgboost import XGBClassifier\n",
    "model = XGBClassifier( learning_rate=0.400000012,\n",
    "              max_delta_step=0, max_depth=7,use_label_encoder=False)\n",
    "model.fit(X_train,y_train)"
   ]
  },
  {
   "cell_type": "code",
   "execution_count": null,
   "id": "967d80d0-f441-4374-9c46-7ebaf44b4838",
   "metadata": {},
   "outputs": [],
   "source": [
    "from xgboost import XGBClassifier\n",
    "model = XGBClassifier( learning_rate=0.800000012,\n",
    "              max_delta_step=0, max_depth=7,use_label_encoder=False)\n",
    "model.fit(X_train, y_train.ravel())"
   ]
  },
  {
   "cell_type": "code",
   "execution_count": null,
   "id": "81a015eb-014b-463d-94b6-3d949e7578ba",
   "metadata": {},
   "outputs": [],
   "source": [
    "X_test = data1[[X_train.columns.ravel()]]\n",
    "y_test = data1['HL']"
   ]
  },
  {
   "cell_type": "code",
   "execution_count": null,
   "id": "e5e8c5e4-2913-4779-9700-b35d61596074",
   "metadata": {},
   "outputs": [],
   "source": [
    "yhat = model.predict(X_test)\n",
    "prediction = list(map(round, yhat))"
   ]
  },
  {
   "cell_type": "code",
   "execution_count": null,
   "id": "db4a6ec4-ac7e-4875-8d7e-437c226fc446",
   "metadata": {},
   "outputs": [],
   "source": [
    "from sklearn.metrics import (confusion_matrix,\n",
    "                           accuracy_score)\n",
    "# confusion matrix\n",
    "cm = confusion_matrix(y_test, prediction)\n",
    "print (\"Confusion Matrix : \\n\", cm)\n",
    "# accuracy score of the model\n",
    "print('Test accuracy = ', accuracy_score(y_test, prediction))"
   ]
  },
  {
   "cell_type": "code",
   "execution_count": null,
   "id": "1343258f-86eb-4c3b-b7c3-514da84ac9b3",
   "metadata": {},
   "outputs": [],
   "source": [
    "import shap\n",
    "shap_values = shap.TreeExplainer(model).shap_values(X_train)\n",
    "shap.summary_plot(shap_values, X_train, plot_type=\"bar\")"
   ]
  },
  {
   "cell_type": "code",
   "execution_count": null,
   "id": "e1aa963e-c3d7-4bca-9780-a432d04a7554",
   "metadata": {},
   "outputs": [],
   "source": [
    "import numpy\n",
    "\n",
    "(unique, counts) = numpy.unique(X_train.columns.ravel(), return_counts=True)\n",
    "frequencies = numpy.asarray((unique, counts)).T\n",
    "\n",
    "print(frequencies)"
   ]
  },
  {
   "cell_type": "code",
   "execution_count": null,
   "id": "6f2d5609-7678-4a89-bd40-ee961c308eeb",
   "metadata": {},
   "outputs": [],
   "source": [
    "c=0\n",
    "d=0\n",
    "for i in y_test:\n",
    "    if i==1:\n",
    "        c+=1\n",
    "    else:    \n",
    "        d+=1\n",
    "print(c)  \n",
    "print(d)"
   ]
  },
  {
   "cell_type": "code",
   "execution_count": null,
   "id": "a1ab083f-7778-4546-9bec-7599559b882f",
   "metadata": {},
   "outputs": [],
   "source": [
    "from sklearn.ensemble import RandomForestClassifier\n",
    "clf = RandomForestClassifier(n_estimators=10, random_state=2) # Set number of decision trees\n",
    "clf = clf.fit(X_train, y_train)"
   ]
  },
  {
   "cell_type": "code",
   "execution_count": null,
   "id": "f43f6eb7-d8e8-4e47-a9bf-f7e581642904",
   "metadata": {},
   "outputs": [],
   "source": [
    "from sklearn import tree\n",
    "clf = tree.DecisionTreeClassifier() # Decision tree Classifier\n",
    "clf = clf.fit(X_train_res,y_train_res.ravel())"
   ]
  },
  {
   "cell_type": "code",
   "execution_count": null,
   "id": "b9f96769-0427-4cef-9308-0780472f95a9",
   "metadata": {},
   "outputs": [],
   "source": [
    "prediction = clf.predict(X_test)"
   ]
  },
  {
   "cell_type": "code",
   "execution_count": null,
   "id": "ed02ed3e-a3f8-481e-8926-87f42b625b78",
   "metadata": {},
   "outputs": [],
   "source": [
    "prediction = clf.predict(X_test)\n",
    "from sklearn.metrics import (confusion_matrix,\n",
    "                           accuracy_score)\n",
    "# confusion matrix\n",
    "cm = confusion_matrix(y_test, prediction)\n",
    "print (\"Confusion Matrix : \\n\", cm)\n",
    "# accuracy score of the model\n",
    "print('Test accuracy = ', accuracy_score(y_test, prediction))"
   ]
  },
  {
   "cell_type": "code",
   "execution_count": null,
   "id": "4df577a7-7a86-4f49-8df5-1b417709f61b",
   "metadata": {},
   "outputs": [],
   "source": [
    "from IPython.display import Image \n",
    "from six import StringIO\n",
    "#from sklearn.externals.six import StringIO  \n",
    "import pydotplus\n",
    "dot_data = StringIO()  \n",
    "tree.export_graphviz(clf, out_file=dot_data,  \n",
    "                         feature_names=features)  \n",
    "graph = pydotplus.graph_from_dot_data(dot_data.getvalue())  \n",
    "graph\n",
    "#Image(graph.create_png())"
   ]
  },
  {
   "cell_type": "code",
   "execution_count": null,
   "id": "9ac3055a-a991-4406-afa2-77e623fbd01d",
   "metadata": {},
   "outputs": [],
   "source": [
    "tn, fp, fn, tp = cm.ravel()\n",
    "(tn, fp, fn, tp)"
   ]
  },
  {
   "cell_type": "code",
   "execution_count": null,
   "id": "8712edef-d37a-44ce-b980-03a5999f6997",
   "metadata": {},
   "outputs": [],
   "source": [
    "import statsmodels.api as sm\n",
    "logit_model=sm.Logit(y_train,X_train)\n",
    "result=logit_model.fit()\n",
    "print(result.summary2())"
   ]
  },
  {
   "cell_type": "code",
   "execution_count": null,
   "id": "bb183062-d5b9-48d3-8f26-8e1800ba02a1",
   "metadata": {},
   "outputs": [],
   "source": [
    "yhat = result.predict(X_test)\n",
    "prediction = list(map(round, yhat))"
   ]
  },
  {
   "cell_type": "code",
   "execution_count": null,
   "id": "63b9be18-bfbd-4ce6-8e67-3dab24b1973e",
   "metadata": {},
   "outputs": [],
   "source": [
    "from sklearn.metrics import (confusion_matrix,\n",
    "                           accuracy_score)\n",
    "# confusion matrix\n",
    "cm = confusion_matrix(y_test, prediction)\n",
    "print (\"Confusion Matrix : \\n\", cm)\n",
    "# accuracy score of the model\n",
    "print('Test accuracy = ', accuracy_score(y_test, prediction))"
   ]
  },
  {
   "cell_type": "code",
   "execution_count": null,
   "id": "4a675dc0-243c-4573-a53e-369f09bf6ac6",
   "metadata": {},
   "outputs": [],
   "source": [
    "confusion_matrix([0, 1, 0, 1], [1, 1, 1, 0])"
   ]
  },
  {
   "cell_type": "code",
   "execution_count": null,
   "id": "2aaa7a52-37b0-4c2f-901e-5232fd2fa3b9",
   "metadata": {},
   "outputs": [],
   "source": [
    "tn, fp, fn, tp = cm.ravel()\n",
    "(tn, fp, fn, tp)"
   ]
  },
  {
   "cell_type": "code",
   "execution_count": null,
   "id": "5d6b6b74-4f7e-45a9-a6ae-a7d18751a00e",
   "metadata": {},
   "outputs": [],
   "source": [
    "import pandas as pd\n",
    "import numpy as np \n",
    "data = pd.read_excel('Clustering.xlsx', 'Sheet1')\n",
    "bins = [-np.inf, 30, 60, 90, 120, 150, 180, 210, np.inf]\n",
    "data['EMIbins'] = pd.cut(data['EMI_NMI'], bins)\n",
    "data = data.drop(['EMI_NMI'], axis = 1)\n",
    "data = data.drop(['HL'], axis = 1)\n",
    "data = data.drop(['V_CUST_ID'], axis = 1)\n",
    "bank_cust1 = data.copy()"
   ]
  },
  {
   "cell_type": "code",
   "execution_count": null,
   "id": "c564de6d-a99b-4d10-9cda-c1dac010bdde",
   "metadata": {},
   "outputs": [],
   "source": [
    "from sklearn import preprocessing\n",
    "le = preprocessing.LabelEncoder()\n",
    "bank_cust1 = bank_cust1.apply(le.fit_transform)"
   ]
  },
  {
   "cell_type": "code",
   "execution_count": null,
   "id": "8ac85d8e-f7a4-4e48-b12f-577aeb3fd64b",
   "metadata": {},
   "outputs": [],
   "source": [
    "# bins = [-np.inf, 30, 60, 90, 120, 150, 180, 210\n",
    "data = data.dropna(how='any',axis=0)\n",
    "bank_cust = data.copy()\n",
    "from sklearn import preprocessing\n",
    "numeric_subset = data[['TOTDR','TOTCR','CTDR','CTCR', 'AGE', 'COD_KYC_RISK_CATEGORY','VINTAGE','HL']]#.apply(pd.to_numeric)\n",
    "#numeric_subset = numeric_subset.apply(le.fit_transform)\n",
    "categorical_subset = data[['CUST_PROFESSION', 'TXT_CUST_SEX', 'V_LOGIC_DIV']]\n",
    "    # One hot encoding\n",
    "categorical_subset = pd.get_dummies(categorical_subset)\n",
    "    # Join the two dataframes using concat\n",
    "data = pd.concat([numeric_subset, categorical_subset], axis = 1)"
   ]
  },
  {
   "cell_type": "code",
   "execution_count": 12,
   "id": "fa5bfcc9-b6af-4946-aba8-d6414373e5c9",
   "metadata": {},
   "outputs": [],
   "source": [
    "clusterCentroidsDf = pd.DataFrame(km_cao.cluster_centroids_)"
   ]
  },
  {
   "cell_type": "code",
   "execution_count": 88,
   "id": "6cfec080-f610-4e36-b072-222538126877",
   "metadata": {},
   "outputs": [],
   "source": [
    "import pandas as pd\n",
    "import numpy as np\n",
    "from kmodes.kmodes import KModes\n",
    "data = pd.read_excel('PPC_data1.xlsx', 'Sheet2')\n",
    "data = data.dropna(how='any',axis=0)\n",
    "data = data[data['AGE']<100]\n",
    "data=data[['N_INT_RATE', 'AVGBAL', 'TOTDR', 'TOTCR', 'CTDR', 'CTCR','TXT_CUST_SEX', 'AGE', 'CUST_PROFFESSION']]"
   ]
  },
  {
   "cell_type": "code",
   "execution_count": null,
   "id": "b39abe14-cd2b-46bf-8073-86c1496762cd",
   "metadata": {},
   "outputs": [],
   "source": [
    "cost = []\n",
    "for num_clusters in list(range(1,5)):\n",
    "    kmode = KModes(n_clusters=num_clusters, init = \"Cao\", n_init = 1, verbose=1)\n",
    "    kmode.fit_predict(data)\n",
    "    cost.append(kmode.cost_)"
   ]
  },
  {
   "cell_type": "code",
   "execution_count": 3,
   "id": "c1795f10-ca4a-46b2-9ec7-f1303d34f17b",
   "metadata": {},
   "outputs": [
    {
     "data": {
      "text/plain": [
       "[<matplotlib.lines.Line2D at 0x16d1fd34fd0>]"
      ]
     },
     "execution_count": 3,
     "metadata": {},
     "output_type": "execute_result"
    },
    {
     "data": {
      "image/png": "[encoded data removed]",
      "text/plain": [
       "<Figure size 432x288 with 1 Axes>"
      ]
     },
     "metadata": {
      "needs_background": "light"
     },
     "output_type": "display_data"
    }
   ],
   "source": [
    "import matplotlib as plt\n",
    "import numpy as np\n",
    "import matplotlib.pyplot as plt\n",
    "y = np.array([i for i in range(1,5,1)])\n",
    "plt.plot(y,cost)"
   ]
  },
  {
   "cell_type": "code",
   "execution_count": 90,
   "id": "c7e044ff-ff2d-4518-b2eb-3189a4650614",
   "metadata": {},
   "outputs": [
    {
     "name": "stdout",
     "output_type": "stream",
     "text": [
      "Init: initializing centroids\n",
      "Init: initializing clusters\n",
      "Starting iterations...\n",
      "Run 1, iteration: 1/100, moves: 40, cost: 3015657.0\n"
     ]
    }
   ],
   "source": [
    "km_cao = KModes(n_clusters=2, init = \"Cao\", n_init = 1, verbose=1)\n",
    "fitClusters_cao = km_cao.fit_predict(data)"
   ]
  },
  {
   "cell_type": "code",
   "execution_count": 138,
   "id": "3d6a1c1c-3300-45ff-8af4-5d76c1153662",
   "metadata": {},
   "outputs": [],
   "source": [
    "combinedDf=combinedDf.describe()\n",
    "import numpy as np\n",
    "binAVG= [-np.inf]+(combinedDf['AVGBAL'].tail(5).tolist())\n",
    "binTDr= [-np.inf]+(combinedDf['TOTDR'].tail(5).tolist())\n",
    "binTCr= [-np.inf]+(combinedDf['TOTCR'].tail(5).tolist())\n",
    "binCDr= [-np.inf]+(combinedDf['CTDR'].tail(5).tolist())\n",
    "binCCr= [-np.inf]+(combinedDf['CTCR'].tail(5).tolist())\n",
    "binAge= [-np.inf]+(combinedDf['AGE'].tail(5).tolist())\n",
    "combinedDf = data.copy()\n",
    "combinedDf['cluster_predicted'] = fitClusters_cao\n",
    "combinedDf = combinedDf.dropna(how='any',axis=0)"
   ]
  },
  {
   "cell_type": "code",
   "execution_count": null,
   "id": "872d1501-0a83-4eef-a4e2-6a7c29dd2145",
   "metadata": {},
   "outputs": [],
   "source": [
    "cluster_0 = combinedDf[combinedDf['cluster_predicted'] == 0]\n",
    "cluster_1 = combinedDf[combinedDf['cluster_predicted'] == 1]"
   ]
  },
  {
   "cell_type": "code",
   "execution_count": 149,
   "id": "8e1751b9-0d9e-47d6-9165-a59c898bd5bb",
   "metadata": {},
   "outputs": [
    {
     "data": {
      "text/html": [
       "<div>\n",
       "<style scoped>\n",
       "    .dataframe tbody tr th:only-of-type {\n",
       "        vertical-align: middle;\n",
       "    }\n",
       "\n",
       "    .dataframe tbody tr th {\n",
       "        vertical-align: top;\n",
       "    }\n",
       "\n",
       "    .dataframe thead th {\n",
       "        text-align: right;\n",
       "    }\n",
       "</style>\n",
       "<table border=\"1\" class=\"dataframe\">\n",
       "  <thead>\n",
       "    <tr style=\"text-align: right;\">\n",
       "      <th></th>\n",
       "      <th>N_INT_RATE</th>\n",
       "      <th>AVGBAL</th>\n",
       "      <th>TOTDR</th>\n",
       "      <th>TOTCR</th>\n",
       "      <th>CTDR</th>\n",
       "      <th>CTCR</th>\n",
       "      <th>AGE</th>\n",
       "      <th>cluster_predicted</th>\n",
       "    </tr>\n",
       "  </thead>\n",
       "  <tbody>\n",
       "    <tr>\n",
       "      <th>count</th>\n",
       "      <td>374434.000000</td>\n",
       "      <td>3.744340e+05</td>\n",
       "      <td>3.744340e+05</td>\n",
       "      <td>3.744340e+05</td>\n",
       "      <td>374434.000000</td>\n",
       "      <td>374434.000000</td>\n",
       "      <td>374434.000000</td>\n",
       "      <td>374434.0</td>\n",
       "    </tr>\n",
       "    <tr>\n",
       "      <th>mean</th>\n",
       "      <td>17.835458</td>\n",
       "      <td>6.836294e+04</td>\n",
       "      <td>1.290930e+05</td>\n",
       "      <td>1.300266e+05</td>\n",
       "      <td>36.779165</td>\n",
       "      <td>24.273327</td>\n",
       "      <td>45.725588</td>\n",
       "      <td>0.0</td>\n",
       "    </tr>\n",
       "    <tr>\n",
       "      <th>std</th>\n",
       "      <td>1.374638</td>\n",
       "      <td>7.386963e+05</td>\n",
       "      <td>1.080237e+06</td>\n",
       "      <td>1.140340e+06</td>\n",
       "      <td>67.817119</td>\n",
       "      <td>92.579017</td>\n",
       "      <td>12.967927</td>\n",
       "      <td>0.0</td>\n",
       "    </tr>\n",
       "    <tr>\n",
       "      <th>min</th>\n",
       "      <td>11.000000</td>\n",
       "      <td>-1.108006e+04</td>\n",
       "      <td>0.000000e+00</td>\n",
       "      <td>0.000000e+00</td>\n",
       "      <td>0.000000</td>\n",
       "      <td>0.000000</td>\n",
       "      <td>0.000000</td>\n",
       "      <td>0.0</td>\n",
       "    </tr>\n",
       "    <tr>\n",
       "      <th>25%</th>\n",
       "      <td>18.200000</td>\n",
       "      <td>1.499842e+03</td>\n",
       "      <td>6.920000e+01</td>\n",
       "      <td>3.541700e+02</td>\n",
       "      <td>2.000000</td>\n",
       "      <td>2.000000</td>\n",
       "      <td>36.000000</td>\n",
       "      <td>0.0</td>\n",
       "    </tr>\n",
       "    <tr>\n",
       "      <th>50%</th>\n",
       "      <td>18.200000</td>\n",
       "      <td>6.898865e+03</td>\n",
       "      <td>2.966991e+04</td>\n",
       "      <td>2.985683e+04</td>\n",
       "      <td>10.000000</td>\n",
       "      <td>6.000000</td>\n",
       "      <td>44.000000</td>\n",
       "      <td>0.0</td>\n",
       "    </tr>\n",
       "    <tr>\n",
       "      <th>75%</th>\n",
       "      <td>18.200000</td>\n",
       "      <td>3.098189e+04</td>\n",
       "      <td>1.142588e+05</td>\n",
       "      <td>1.131111e+05</td>\n",
       "      <td>41.000000</td>\n",
       "      <td>20.000000</td>\n",
       "      <td>53.000000</td>\n",
       "      <td>0.0</td>\n",
       "    </tr>\n",
       "    <tr>\n",
       "      <th>max</th>\n",
       "      <td>18.200000</td>\n",
       "      <td>1.918275e+08</td>\n",
       "      <td>3.682271e+08</td>\n",
       "      <td>3.769576e+08</td>\n",
       "      <td>2555.000000</td>\n",
       "      <td>11232.000000</td>\n",
       "      <td>99.000000</td>\n",
       "      <td>0.0</td>\n",
       "    </tr>\n",
       "  </tbody>\n",
       "</table>\n",
       "</div>"
      ],
      "text/plain": [
       "          N_INT_RATE        AVGBAL         TOTDR         TOTCR           CTDR  \\\n",
       "count  374434.000000  3.744340e+05  3.744340e+05  3.744340e+05  374434.000000   \n",
       "mean       17.835458  6.836294e+04  1.290930e+05  1.300266e+05      36.779165   \n",
       "std         1.374638  7.386963e+05  1.080237e+06  1.140340e+06      67.817119   \n",
       "min        11.000000 -1.108006e+04  0.000000e+00  0.000000e+00       0.000000   \n",
       "25%        18.200000  1.499842e+03  6.920000e+01  3.541700e+02       2.000000   \n",
       "50%        18.200000  6.898865e+03  2.966991e+04  2.985683e+04      10.000000   \n",
       "75%        18.200000  3.098189e+04  1.142588e+05  1.131111e+05      41.000000   \n",
       "max        18.200000  1.918275e+08  3.682271e+08  3.769576e+08    2555.000000   \n",
       "\n",
       "                CTCR            AGE  cluster_predicted  \n",
       "count  374434.000000  374434.000000           374434.0  \n",
       "mean       24.273327      45.725588                0.0  \n",
       "std        92.579017      12.967927                0.0  \n",
       "min         0.000000       0.000000                0.0  \n",
       "25%         2.000000      36.000000                0.0  \n",
       "50%         6.000000      44.000000                0.0  \n",
       "75%        20.000000      53.000000                0.0  \n",
       "max     11232.000000      99.000000                0.0  "
      ]
     },
     "execution_count": 149,
     "metadata": {},
     "output_type": "execute_result"
    }
   ],
   "source": [
    "combinedDf[combinedDf['cluster_predicted'] == 0].describe()"
   ]
  },
  {
   "cell_type": "code",
   "execution_count": 150,
   "id": "a7d5f859-6442-4524-b11d-599a9b0cb142",
   "metadata": {},
   "outputs": [
    {
     "data": {
      "text/html": [
       "<div>\n",
       "<style scoped>\n",
       "    .dataframe tbody tr th:only-of-type {\n",
       "        vertical-align: middle;\n",
       "    }\n",
       "\n",
       "    .dataframe tbody tr th {\n",
       "        vertical-align: top;\n",
       "    }\n",
       "\n",
       "    .dataframe thead th {\n",
       "        text-align: right;\n",
       "    }\n",
       "</style>\n",
       "<table border=\"1\" class=\"dataframe\">\n",
       "  <thead>\n",
       "    <tr style=\"text-align: right;\">\n",
       "      <th></th>\n",
       "      <th>N_INT_RATE</th>\n",
       "      <th>AVGBAL</th>\n",
       "      <th>TOTDR</th>\n",
       "      <th>TOTCR</th>\n",
       "      <th>CTDR</th>\n",
       "      <th>CTCR</th>\n",
       "      <th>AGE</th>\n",
       "      <th>cluster_predicted</th>\n",
       "    </tr>\n",
       "  </thead>\n",
       "  <tbody>\n",
       "    <tr>\n",
       "      <th>count</th>\n",
       "      <td>136912.000000</td>\n",
       "      <td>1.369120e+05</td>\n",
       "      <td>1.369120e+05</td>\n",
       "      <td>1.369120e+05</td>\n",
       "      <td>136912.000000</td>\n",
       "      <td>136912.000000</td>\n",
       "      <td>136912.000000</td>\n",
       "      <td>136912.0</td>\n",
       "    </tr>\n",
       "    <tr>\n",
       "      <th>mean</th>\n",
       "      <td>17.712290</td>\n",
       "      <td>8.457575e+04</td>\n",
       "      <td>1.099981e+05</td>\n",
       "      <td>1.090617e+05</td>\n",
       "      <td>31.719930</td>\n",
       "      <td>21.003528</td>\n",
       "      <td>46.367718</td>\n",
       "      <td>1.0</td>\n",
       "    </tr>\n",
       "    <tr>\n",
       "      <th>std</th>\n",
       "      <td>1.556845</td>\n",
       "      <td>6.012161e+05</td>\n",
       "      <td>5.386418e+05</td>\n",
       "      <td>5.338062e+05</td>\n",
       "      <td>62.762777</td>\n",
       "      <td>78.488096</td>\n",
       "      <td>12.212695</td>\n",
       "      <td>0.0</td>\n",
       "    </tr>\n",
       "    <tr>\n",
       "      <th>min</th>\n",
       "      <td>11.000000</td>\n",
       "      <td>-1.473400e+02</td>\n",
       "      <td>0.000000e+00</td>\n",
       "      <td>0.000000e+00</td>\n",
       "      <td>0.000000</td>\n",
       "      <td>0.000000</td>\n",
       "      <td>2.000000</td>\n",
       "      <td>1.0</td>\n",
       "    </tr>\n",
       "    <tr>\n",
       "      <th>25%</th>\n",
       "      <td>18.200000</td>\n",
       "      <td>2.725648e+03</td>\n",
       "      <td>2.537000e+01</td>\n",
       "      <td>5.000000e+01</td>\n",
       "      <td>1.000000</td>\n",
       "      <td>1.000000</td>\n",
       "      <td>37.000000</td>\n",
       "      <td>1.0</td>\n",
       "    </tr>\n",
       "    <tr>\n",
       "      <th>50%</th>\n",
       "      <td>18.200000</td>\n",
       "      <td>1.035635e+04</td>\n",
       "      <td>1.642338e+04</td>\n",
       "      <td>1.560300e+04</td>\n",
       "      <td>6.000000</td>\n",
       "      <td>5.000000</td>\n",
       "      <td>45.000000</td>\n",
       "      <td>1.0</td>\n",
       "    </tr>\n",
       "    <tr>\n",
       "      <th>75%</th>\n",
       "      <td>18.200000</td>\n",
       "      <td>4.534940e+04</td>\n",
       "      <td>9.049560e+04</td>\n",
       "      <td>8.839358e+04</td>\n",
       "      <td>32.000000</td>\n",
       "      <td>16.000000</td>\n",
       "      <td>54.000000</td>\n",
       "      <td>1.0</td>\n",
       "    </tr>\n",
       "    <tr>\n",
       "      <th>max</th>\n",
       "      <td>18.200000</td>\n",
       "      <td>1.123295e+08</td>\n",
       "      <td>9.004923e+07</td>\n",
       "      <td>8.239233e+07</td>\n",
       "      <td>1612.000000</td>\n",
       "      <td>7824.000000</td>\n",
       "      <td>97.000000</td>\n",
       "      <td>1.0</td>\n",
       "    </tr>\n",
       "  </tbody>\n",
       "</table>\n",
       "</div>"
      ],
      "text/plain": [
       "          N_INT_RATE        AVGBAL         TOTDR         TOTCR           CTDR  \\\n",
       "count  136912.000000  1.369120e+05  1.369120e+05  1.369120e+05  136912.000000   \n",
       "mean       17.712290  8.457575e+04  1.099981e+05  1.090617e+05      31.719930   \n",
       "std         1.556845  6.012161e+05  5.386418e+05  5.338062e+05      62.762777   \n",
       "min        11.000000 -1.473400e+02  0.000000e+00  0.000000e+00       0.000000   \n",
       "25%        18.200000  2.725648e+03  2.537000e+01  5.000000e+01       1.000000   \n",
       "50%        18.200000  1.035635e+04  1.642338e+04  1.560300e+04       6.000000   \n",
       "75%        18.200000  4.534940e+04  9.049560e+04  8.839358e+04      32.000000   \n",
       "max        18.200000  1.123295e+08  9.004923e+07  8.239233e+07    1612.000000   \n",
       "\n",
       "                CTCR            AGE  cluster_predicted  \n",
       "count  136912.000000  136912.000000           136912.0  \n",
       "mean       21.003528      46.367718                1.0  \n",
       "std        78.488096      12.212695                0.0  \n",
       "min         0.000000       2.000000                1.0  \n",
       "25%         1.000000      37.000000                1.0  \n",
       "50%         5.000000      45.000000                1.0  \n",
       "75%        16.000000      54.000000                1.0  \n",
       "max      7824.000000      97.000000                1.0  "
      ]
     },
     "execution_count": 150,
     "metadata": {},
     "output_type": "execute_result"
    }
   ],
   "source": [
    "combinedDf[combinedDf['cluster_predicted'] == 1].describe()"
   ]
  },
  {
   "cell_type": "code",
   "execution_count": 142,
   "id": "33656463-2cc7-4e28-8a5c-916b8ad3fbef",
   "metadata": {},
   "outputs": [],
   "source": [
    "combinedDf['BAvg'] = pd.cut(combinedDf.AVGBAL, bins=binAVG, right=False)\n",
    "combinedDf['BTdr'] = pd.cut(combinedDf.TOTDR, bins=binTDr, right=False)\n",
    "combinedDf['BTcr'] = pd.cut(combinedDf.TOTCR, bins=binTCr, right=False)\n",
    "combinedDf['BCdr'] = pd.cut(combinedDf.CTDR, bins=binCDr, right=False)\n",
    "combinedDf['BCcr'] = pd.cut(combinedDf.CTCR, bins=binCCr, right=False)\n",
    "combinedDf['BAge'] = pd.cut(combinedDf.AGE, bins=binAge, right=False)"
   ]
  },
  {
   "cell_type": "code",
   "execution_count": 143,
   "id": "acbd8fb3-179e-40b0-9b46-e68d8a6a795c",
   "metadata": {},
   "outputs": [
    {
     "data": {
      "image/png": "[encoded data removed]",
      "text/plain": [
       "<Figure size 1080x360 with 1 Axes>"
      ]
     },
     "metadata": {
      "needs_background": "light"
     },
     "output_type": "display_data"
    }
   ],
   "source": [
    "import seaborn as sns\n",
    "plt.subplots(figsize = (15,5))\n",
    "ax = sns.countplot(x=combinedDf['BAvg'],order=combinedDf['BAvg'].value_counts(ascending=False).index,hue=combinedDf['cluster_predicted'])\n",
    "abs_values1 = combinedDf['BAvg'][combinedDf['cluster_predicted'] == 0].value_counts(ascending=False)[combinedDf['BAvg'].value_counts().index]\n",
    "ax.bar_label(container=ax.containers[0], labels=abs_values1)\n",
    "abs_values2 = combinedDf['BAvg'][combinedDf['cluster_predicted'] == 1].value_counts(ascending=False)[combinedDf['BAvg'].value_counts().index]\n",
    "ax.bar_label(container=ax.containers[1], labels=abs_values2)\n",
    "plt.show()"
   ]
  },
  {
   "cell_type": "code",
   "execution_count": 144,
   "id": "f586dcb8-2fac-4dda-897c-47af1ad01eac",
   "metadata": {},
   "outputs": [
    {
     "data": {
      "image/png": "[encoded data removed]",
      "text/plain": [
       "<Figure size 1080x360 with 1 Axes>"
      ]
     },
     "metadata": {
      "needs_background": "light"
     },
     "output_type": "display_data"
    }
   ],
   "source": [
    "import seaborn as sns\n",
    "plt.subplots(figsize = (15,5))\n",
    "ax = sns.countplot(x=combinedDf['BTdr'],order=combinedDf['BTdr'].value_counts(ascending=False).index,hue=combinedDf['cluster_predicted'])\n",
    "abs_values1 = combinedDf['BTdr'][combinedDf['cluster_predicted'] == 0].value_counts(ascending=False)[combinedDf['BTdr'].value_counts().index]\n",
    "ax.bar_label(container=ax.containers[0], labels=abs_values1)\n",
    "abs_values2 = combinedDf['BTdr'][combinedDf['cluster_predicted'] == 1].value_counts(ascending=False)[combinedDf['BTdr'].value_counts().index]\n",
    "ax.bar_label(container=ax.containers[1], labels=abs_values2)\n",
    "plt.show()"
   ]
  },
  {
   "cell_type": "code",
   "execution_count": 145,
   "id": "f2736030-cce4-40dd-bc62-b9227ab12550",
   "metadata": {},
   "outputs": [
    {
     "data": {
      "image/png": "[encoded data removed]",
      "text/plain": [
       "<Figure size 1080x360 with 1 Axes>"
      ]
     },
     "metadata": {
      "needs_background": "light"
     },
     "output_type": "display_data"
    }
   ],
   "source": [
    "import seaborn as sns\n",
    "plt.subplots(figsize = (15,5))\n",
    "ax = sns.countplot(x=combinedDf['BTcr'],order=combinedDf['BTcr'].value_counts(ascending=False).index,hue=combinedDf['cluster_predicted'])\n",
    "abs_values1 = combinedDf['BTcr'][combinedDf['cluster_predicted'] == 0].value_counts(ascending=False)[combinedDf['BTcr'].value_counts().index]\n",
    "ax.bar_label(container=ax.containers[0], labels=abs_values1)\n",
    "abs_values2 = combinedDf['BTcr'][combinedDf['cluster_predicted'] == 1].value_counts(ascending=False)[combinedDf['BTcr'].value_counts().index]\n",
    "ax.bar_label(container=ax.containers[1], labels=abs_values2)\n",
    "plt.show()\n"
   ]
  },
  {
   "cell_type": "code",
   "execution_count": 146,
   "id": "5893209a-e725-440a-b5c9-87d3fb731a00",
   "metadata": {},
   "outputs": [
    {
     "data": {
      "image/png": "[encoded data removed]",
      "text/plain": [
       "<Figure size 1080x360 with 1 Axes>"
      ]
     },
     "metadata": {
      "needs_background": "light"
     },
     "output_type": "display_data"
    }
   ],
   "source": [
    "import seaborn as sns\n",
    "plt.subplots(figsize = (15,5))\n",
    "ax = sns.countplot(x=combinedDf['BCdr'],order=combinedDf['BCdr'].value_counts(ascending=False).index,hue=combinedDf['cluster_predicted'])\n",
    "abs_values1 = combinedDf['BCdr'][combinedDf['cluster_predicted'] == 0].value_counts(ascending=False)[combinedDf['BCdr'].value_counts().index]\n",
    "ax.bar_label(container=ax.containers[0], labels=abs_values1)\n",
    "abs_values2 = combinedDf['BCdr'][combinedDf['cluster_predicted'] == 1].value_counts(ascending=False)[combinedDf['BCdr'].value_counts().index]\n",
    "ax.bar_label(container=ax.containers[1], labels=abs_values2)\n",
    "plt.show()"
   ]
  },
  {
   "cell_type": "code",
   "execution_count": 147,
   "id": "668b6c96-690f-4829-b4b4-ae471b843276",
   "metadata": {},
   "outputs": [
    {
     "data": {
      "image/png": "[encoded data removed]",
      "text/plain": [
       "<Figure size 1080x360 with 1 Axes>"
      ]
     },
     "metadata": {
      "needs_background": "light"
     },
     "output_type": "display_data"
    }
   ],
   "source": [
    "import seaborn as sns\n",
    "plt.subplots(figsize = (15,5))\n",
    "ax = sns.countplot(x=combinedDf['BCcr'],order=combinedDf['BCcr'].value_counts(ascending=False).index,hue=combinedDf['cluster_predicted'])\n",
    "abs_values1 = combinedDf['BCcr'][combinedDf['cluster_predicted'] == 0].value_counts(ascending=False)[combinedDf['BCcr'].value_counts().index]\n",
    "ax.bar_label(container=ax.containers[0], labels=abs_values1)\n",
    "abs_values2 = combinedDf['BCcr'][combinedDf['cluster_predicted'] == 1].value_counts(ascending=False)[combinedDf['BCcr'].value_counts().index]\n",
    "ax.bar_label(container=ax.containers[1], labels=abs_values2)\n",
    "plt.show()"
   ]
  },
  {
   "cell_type": "code",
   "execution_count": 148,
   "id": "3a67841d-9c5c-4aeb-b6c1-85ad675be9f5",
   "metadata": {},
   "outputs": [
    {
     "data": {
      "image/png": "[encoded data removed]",
      "text/plain": [
       "<Figure size 1080x360 with 1 Axes>"
      ]
     },
     "metadata": {
      "needs_background": "light"
     },
     "output_type": "display_data"
    }
   ],
   "source": [
    "import seaborn as sns\n",
    "plt.subplots(figsize = (15,5))\n",
    "ax = sns.countplot(x=combinedDf['BAge'],order=combinedDf['BAge'].value_counts(ascending=False).index,hue=combinedDf['cluster_predicted'])\n",
    "abs_values1 = combinedDf['BAge'][combinedDf['cluster_predicted'] == 0].value_counts(ascending=False)[combinedDf['BAge'].value_counts().index]\n",
    "ax.bar_label(container=ax.containers[0], labels=abs_values1)\n",
    "abs_values2 = combinedDf['BAge'][combinedDf['cluster_predicted'] == 1].value_counts(ascending=False)[combinedDf['BAge'].value_counts().index]\n",
    "ax.bar_label(container=ax.containers[1], labels=abs_values2)\n",
    "plt.show()"
   ]
  },
  {
   "cell_type": "code",
   "execution_count": null,
   "id": "e34a3bb6-8e1e-4b66-98f7-dbc75cdd57b6",
   "metadata": {},
   "outputs": [],
   "source": []
  },
  {
   "cell_type": "code",
   "execution_count": 77,
   "id": "1b7d0e7b-4bf1-4fce-906c-4680a25fd833",
   "metadata": {},
   "outputs": [
    {
     "data": {
      "image/png": "[encoded data removed]",
      "text/plain": [
       "<Figure size 1080x360 with 1 Axes>"
      ]
     },
     "metadata": {
      "needs_background": "light"
     },
     "output_type": "display_data"
    }
   ],
   "source": [
    "plt.subplots(figsize = (15,5))\n",
    "sns.countplot(x=combinedDf['Age_qcut'],order=combinedDf['Age_qcut'].value_counts().index,hue=combinedDf['cluster_predicted'])\n",
    "plt.show()"
   ]
  },
  {
   "cell_type": "code",
   "execution_count": null,
   "id": "c9740a3d-9fde-4a63-a899-74f58e51c1a5",
   "metadata": {},
   "outputs": [],
   "source": [
    "plt.subplots(figsize = (15,5))\n",
    "sns.countplot(x=data['HL'],order=data['HL'].value_counts().index,hue=combinedDf['cluster_predicted'])\n",
    "plt.show()"
   ]
  },
  {
   "cell_type": "code",
   "execution_count": null,
   "id": "8f7f0639-bce0-43f3-b4a5-4274601cb8af",
   "metadata": {},
   "outputs": [],
   "source": [
    "plt.subplots(figsize = (15,5))\n",
    "sns.countplot(x=data['CUST_SINCE_BAND'],order=data['CUST_SINCE_BAND'].value_counts().index,hue=combinedDf['cluster_predicted'])\n",
    "plt.show()"
   ]
  },
  {
   "cell_type": "code",
   "execution_count": null,
   "id": "cdd1e3f2-1341-4db0-bcc1-2cb441ff0014",
   "metadata": {},
   "outputs": [],
   "source": [
    "plt.subplots(figsize = (15,5))\n",
    "sns.countplot(x=data['BRANCH_CATEGORY'],order=data['BRANCH_CATEGORY'].value_counts().index,hue=combinedDf['cluster_predicted'])\n",
    "plt.show()"
   ]
  },
  {
   "cell_type": "code",
   "execution_count": null,
   "id": "da9d7920-ef64-48de-9739-9ff9a60872f4",
   "metadata": {},
   "outputs": [],
   "source": [
    "plt.subplots(figsize = (15,5))\n",
    "sns.countplot(x=data['ETB'],order=data['ETB'].value_counts().index,hue=combinedDf['cluster_predicted'])\n",
    "plt.show()"
   ]
  },
  {
   "cell_type": "code",
   "execution_count": null,
   "id": "5a568a94-a561-42e4-a3c6-c880b4aa7393",
   "metadata": {},
   "outputs": [],
   "source": [
    "plt.subplots(figsize = (15,5))\n",
    "sns.countplot(x=data['EMIbins'],order=data['EMIbins'].value_counts().index,hue=combinedDf['cluster_predicted'])\n",
    "plt.show()"
   ]
  }
 ],
 "metadata": {
  "kernelspec": {
   "display_name": "Python 3",
   "language": "python",
   "name": "python3"
  },
  "language_info": {
   "codemirror_mode": {
    "name": "ipython",
    "version": 3
   },
   "file_extension": ".py",
   "mimetype": "text/x-python",
   "name": "python",
   "nbconvert_exporter": "python",
   "pygments_lexer": "ipython3",
   "version": "3.9.1"
  }
 },
 "nbformat": 4,
 "nbformat_minor": 5
}
