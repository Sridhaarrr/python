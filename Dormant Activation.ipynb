{
 "cells": [
  {
   "cell_type": "code",
   "execution_count": 1,
   "id": "94adb62d",
   "metadata": {},
   "outputs": [],
   "source": [
    "import numpy as np\n",
    "import pandas as pd"
   ]
  },
  {
   "cell_type": "code",
   "execution_count": 53,
   "id": "9924d91d",
   "metadata": {},
   "outputs": [],
   "source": [
    "import datetime"
   ]
  },
  {
   "cell_type": "markdown",
   "id": "2c43729c",
   "metadata": {},
   "source": [
    "### Importing data"
   ]
  },
  {
   "cell_type": "code",
   "execution_count": 4,
   "id": "3924e65d",
   "metadata": {},
   "outputs": [],
   "source": [
    "d1 = pd.read_csv(\"E:/Projects/2022_05/Dormant_Activation/Dormant_Analysis/Account_Status_mar22.csv\")"
   ]
  },
  {
   "cell_type": "code",
   "execution_count": 5,
   "id": "29acd6cd",
   "metadata": {},
   "outputs": [],
   "source": [
    "d2 = pd.read_csv(\"E:/Projects/2022_05/Dormant_Activation/Dormant_Analysis/Balance_Buildup_Demographics_cust_mar22.csv\")"
   ]
  },
  {
   "cell_type": "code",
   "execution_count": 6,
   "id": "66b5a12f",
   "metadata": {},
   "outputs": [],
   "source": [
    "d3 = pd.read_csv(\"E:/Projects/2022_05/Dormant_Activation/Dormant_Analysis/Balance_Buildup_Demographics1_mar22.csv\")"
   ]
  },
  {
   "cell_type": "code",
   "execution_count": 7,
   "id": "6f22b5e5",
   "metadata": {},
   "outputs": [],
   "source": [
    "d4 = pd.read_csv(\"E:/Projects/2022_05/Dormant_Activation/Dormant_Analysis/Balance_buildup_txn_JFM22.csv\")"
   ]
  },
  {
   "cell_type": "code",
   "execution_count": 8,
   "id": "639e2e74",
   "metadata": {},
   "outputs": [],
   "source": [
    "d5 = pd.read_csv(\"E:/Projects/2022_05/Dormant_Activation/Dormant_Analysis/PPC_MAR22.csv\")"
   ]
  },
  {
   "cell_type": "code",
   "execution_count": 113,
   "id": "c9f89fa2",
   "metadata": {},
   "outputs": [
    {
     "data": {
      "text/html": [
       "<div>\n",
       "<style scoped>\n",
       "    .dataframe tbody tr th:only-of-type {\n",
       "        vertical-align: middle;\n",
       "    }\n",
       "\n",
       "    .dataframe tbody tr th {\n",
       "        vertical-align: top;\n",
       "    }\n",
       "\n",
       "    .dataframe thead th {\n",
       "        text-align: right;\n",
       "    }\n",
       "</style>\n",
       "<table border=\"1\" class=\"dataframe\">\n",
       "  <thead>\n",
       "    <tr style=\"text-align: right;\">\n",
       "      <th></th>\n",
       "      <th>CUST_ID</th>\n",
       "      <th>ACCT_NO</th>\n",
       "      <th>CA</th>\n",
       "      <th>SB</th>\n",
       "      <th>RD</th>\n",
       "      <th>TD</th>\n",
       "      <th>TD_BAL</th>\n",
       "      <th>JEWEL_LOAN</th>\n",
       "      <th>HL_PL_LAP_4WL_2WL</th>\n",
       "      <th>DIG</th>\n",
       "    </tr>\n",
       "  </thead>\n",
       "  <tbody>\n",
       "    <tr>\n",
       "      <th>0</th>\n",
       "      <td>10923710</td>\n",
       "      <td>1208155000163264</td>\n",
       "      <td>0</td>\n",
       "      <td>1</td>\n",
       "      <td>0</td>\n",
       "      <td>0</td>\n",
       "      <td>0</td>\n",
       "      <td>0</td>\n",
       "      <td>0</td>\n",
       "      <td>0</td>\n",
       "    </tr>\n",
       "    <tr>\n",
       "      <th>1</th>\n",
       "      <td>15503072</td>\n",
       "      <td>1339155000029990</td>\n",
       "      <td>0</td>\n",
       "      <td>1</td>\n",
       "      <td>0</td>\n",
       "      <td>0</td>\n",
       "      <td>0</td>\n",
       "      <td>0</td>\n",
       "      <td>0</td>\n",
       "      <td>0</td>\n",
       "    </tr>\n",
       "    <tr>\n",
       "      <th>2</th>\n",
       "      <td>10525978</td>\n",
       "      <td>1741155000003190</td>\n",
       "      <td>0</td>\n",
       "      <td>1</td>\n",
       "      <td>0</td>\n",
       "      <td>0</td>\n",
       "      <td>0</td>\n",
       "      <td>2</td>\n",
       "      <td>0</td>\n",
       "      <td>0</td>\n",
       "    </tr>\n",
       "    <tr>\n",
       "      <th>3</th>\n",
       "      <td>21207635</td>\n",
       "      <td>1739155000067739</td>\n",
       "      <td>0</td>\n",
       "      <td>1</td>\n",
       "      <td>0</td>\n",
       "      <td>0</td>\n",
       "      <td>0</td>\n",
       "      <td>0</td>\n",
       "      <td>0</td>\n",
       "      <td>0</td>\n",
       "    </tr>\n",
       "    <tr>\n",
       "      <th>4</th>\n",
       "      <td>6268562</td>\n",
       "      <td>1477155000002133</td>\n",
       "      <td>0</td>\n",
       "      <td>1</td>\n",
       "      <td>0</td>\n",
       "      <td>0</td>\n",
       "      <td>0</td>\n",
       "      <td>0</td>\n",
       "      <td>0</td>\n",
       "      <td>0</td>\n",
       "    </tr>\n",
       "  </tbody>\n",
       "</table>\n",
       "</div>"
      ],
      "text/plain": [
       "    CUST_ID           ACCT_NO CA SB RD TD TD_BAL JEWEL_LOAN HL_PL_LAP_4WL_2WL  \\\n",
       "0  10923710  1208155000163264  0  1  0  0      0          0                 0   \n",
       "1  15503072  1339155000029990  0  1  0  0      0          0                 0   \n",
       "2  10525978  1741155000003190  0  1  0  0      0          2                 0   \n",
       "3  21207635  1739155000067739  0  1  0  0      0          0                 0   \n",
       "4   6268562  1477155000002133  0  1  0  0      0          0                 0   \n",
       "\n",
       "  DIG  \n",
       "0   0  \n",
       "1   0  \n",
       "2   0  \n",
       "3   0  \n",
       "4   0  "
      ]
     },
     "execution_count": 113,
     "metadata": {},
     "output_type": "execute_result"
    }
   ],
   "source": [
    "d5.head()"
   ]
  },
  {
   "cell_type": "markdown",
   "id": "8d0ff939",
   "metadata": {},
   "source": [
    "### Data Spliting"
   ]
  },
  {
   "cell_type": "code",
   "execution_count": 10,
   "id": "7c421c2f",
   "metadata": {},
   "outputs": [],
   "source": [
    "d1[['ACCT_NO','ACCT_STAT']] = d1['DATAPOINTS'].str.split('|',expand = True)"
   ]
  },
  {
   "cell_type": "code",
   "execution_count": 14,
   "id": "b45d9e96",
   "metadata": {},
   "outputs": [],
   "source": [
    "d1 = d1.drop(['DATAPOINTS'],axis =1)"
   ]
  },
  {
   "cell_type": "code",
   "execution_count": 20,
   "id": "098c2e3d",
   "metadata": {
    "scrolled": true
   },
   "outputs": [
    {
     "data": {
      "text/html": [
       "<div>\n",
       "<style scoped>\n",
       "    .dataframe tbody tr th:only-of-type {\n",
       "        vertical-align: middle;\n",
       "    }\n",
       "\n",
       "    .dataframe tbody tr th {\n",
       "        vertical-align: top;\n",
       "    }\n",
       "\n",
       "    .dataframe thead th {\n",
       "        text-align: right;\n",
       "    }\n",
       "</style>\n",
       "<table border=\"1\" class=\"dataframe\">\n",
       "  <thead>\n",
       "    <tr style=\"text-align: right;\">\n",
       "      <th></th>\n",
       "      <th>ACCT_NO</th>\n",
       "      <th>ACCT_STAT</th>\n",
       "    </tr>\n",
       "  </thead>\n",
       "  <tbody>\n",
       "    <tr>\n",
       "      <th>0</th>\n",
       "      <td>1630173000001143</td>\n",
       "      <td>7</td>\n",
       "    </tr>\n",
       "    <tr>\n",
       "      <th>1</th>\n",
       "      <td>1828173000000956</td>\n",
       "      <td>7</td>\n",
       "    </tr>\n",
       "    <tr>\n",
       "      <th>2</th>\n",
       "      <td>1273173000002614</td>\n",
       "      <td>8</td>\n",
       "    </tr>\n",
       "    <tr>\n",
       "      <th>3</th>\n",
       "      <td>1246177000002444</td>\n",
       "      <td>8</td>\n",
       "    </tr>\n",
       "    <tr>\n",
       "      <th>4</th>\n",
       "      <td>1661173000002793</td>\n",
       "      <td>8</td>\n",
       "    </tr>\n",
       "  </tbody>\n",
       "</table>\n",
       "</div>"
      ],
      "text/plain": [
       "            ACCT_NO ACCT_STAT\n",
       "0  1630173000001143         7\n",
       "1  1828173000000956         7\n",
       "2  1273173000002614         8\n",
       "3  1246177000002444         8\n",
       "4  1661173000002793         8"
      ]
     },
     "execution_count": 20,
     "metadata": {},
     "output_type": "execute_result"
    }
   ],
   "source": [
    "d1.head()"
   ]
  },
  {
   "cell_type": "code",
   "execution_count": 35,
   "id": "37826ed7",
   "metadata": {},
   "outputs": [
    {
     "data": {
      "text/plain": [
       "(4876072, 2)"
      ]
     },
     "execution_count": 35,
     "metadata": {},
     "output_type": "execute_result"
    }
   ],
   "source": [
    "d1.shape"
   ]
  },
  {
   "cell_type": "code",
   "execution_count": 16,
   "id": "813b2277",
   "metadata": {},
   "outputs": [],
   "source": [
    "d2[['CUST_ID','ACCT_NO','DAT_CUST_OPEN','FLG_STAFF','DAT_BIRTH_CUST','TXT_CUST_SEX','COD_CUST_MARSTAT']] = d2['DATA_POINTS'].str.split('|',expand = True)"
   ]
  },
  {
   "cell_type": "code",
   "execution_count": 17,
   "id": "8bcb23f7",
   "metadata": {},
   "outputs": [],
   "source": [
    "d2 = d2.drop(['DATA_POINTS'],axis = 1)"
   ]
  },
  {
   "cell_type": "code",
   "execution_count": 19,
   "id": "57425f10",
   "metadata": {
    "scrolled": true
   },
   "outputs": [
    {
     "data": {
      "text/html": [
       "<div>\n",
       "<style scoped>\n",
       "    .dataframe tbody tr th:only-of-type {\n",
       "        vertical-align: middle;\n",
       "    }\n",
       "\n",
       "    .dataframe tbody tr th {\n",
       "        vertical-align: top;\n",
       "    }\n",
       "\n",
       "    .dataframe thead th {\n",
       "        text-align: right;\n",
       "    }\n",
       "</style>\n",
       "<table border=\"1\" class=\"dataframe\">\n",
       "  <thead>\n",
       "    <tr style=\"text-align: right;\">\n",
       "      <th></th>\n",
       "      <th>CUST_ID</th>\n",
       "      <th>ACCT_NO</th>\n",
       "      <th>DAT_CUST_OPEN</th>\n",
       "      <th>FLG_STAFF</th>\n",
       "      <th>DAT_BIRTH_CUST</th>\n",
       "      <th>TXT_CUST_SEX</th>\n",
       "      <th>COD_CUST_MARSTAT</th>\n",
       "    </tr>\n",
       "  </thead>\n",
       "  <tbody>\n",
       "    <tr>\n",
       "      <th>0</th>\n",
       "      <td>8665085</td>\n",
       "      <td>1473155000062860</td>\n",
       "      <td>2012-07-19</td>\n",
       "      <td>N</td>\n",
       "      <td>1979-02-12</td>\n",
       "      <td>M</td>\n",
       "      <td>2</td>\n",
       "    </tr>\n",
       "    <tr>\n",
       "      <th>1</th>\n",
       "      <td>9463999</td>\n",
       "      <td>1709155000003774</td>\n",
       "      <td>2012-12-06</td>\n",
       "      <td>N</td>\n",
       "      <td>1986-06-09</td>\n",
       "      <td>M</td>\n",
       "      <td>2</td>\n",
       "    </tr>\n",
       "    <tr>\n",
       "      <th>2</th>\n",
       "      <td>10448555</td>\n",
       "      <td>1698172000001624</td>\n",
       "      <td>2013-10-03</td>\n",
       "      <td>N</td>\n",
       "      <td>1964-05-27</td>\n",
       "      <td>M</td>\n",
       "      <td>2</td>\n",
       "    </tr>\n",
       "    <tr>\n",
       "      <th>3</th>\n",
       "      <td>7564978</td>\n",
       "      <td>1419162000000642</td>\n",
       "      <td>2011-12-05</td>\n",
       "      <td>N</td>\n",
       "      <td>2010-07-26</td>\n",
       "      <td>F</td>\n",
       "      <td>1</td>\n",
       "    </tr>\n",
       "    <tr>\n",
       "      <th>4</th>\n",
       "      <td>14322294</td>\n",
       "      <td>1192155000099073</td>\n",
       "      <td>2016-11-28</td>\n",
       "      <td>N</td>\n",
       "      <td>1995-07-16</td>\n",
       "      <td>F</td>\n",
       "      <td>1</td>\n",
       "    </tr>\n",
       "  </tbody>\n",
       "</table>\n",
       "</div>"
      ],
      "text/plain": [
       "    CUST_ID           ACCT_NO DAT_CUST_OPEN FLG_STAFF DAT_BIRTH_CUST  \\\n",
       "0   8665085  1473155000062860    2012-07-19         N     1979-02-12   \n",
       "1   9463999  1709155000003774    2012-12-06         N     1986-06-09   \n",
       "2  10448555  1698172000001624    2013-10-03         N     1964-05-27   \n",
       "3   7564978  1419162000000642    2011-12-05         N     2010-07-26   \n",
       "4  14322294  1192155000099073    2016-11-28         N     1995-07-16   \n",
       "\n",
       "  TXT_CUST_SEX COD_CUST_MARSTAT  \n",
       "0            M                2  \n",
       "1            M                2  \n",
       "2            M                2  \n",
       "3            F                1  \n",
       "4            F                1  "
      ]
     },
     "execution_count": 19,
     "metadata": {},
     "output_type": "execute_result"
    }
   ],
   "source": [
    "d2.head()"
   ]
  },
  {
   "cell_type": "code",
   "execution_count": 36,
   "id": "1c11ae53",
   "metadata": {},
   "outputs": [
    {
     "data": {
      "text/plain": [
       "(4898441, 7)"
      ]
     },
     "execution_count": 36,
     "metadata": {},
     "output_type": "execute_result"
    }
   ],
   "source": [
    "d2.shape"
   ]
  },
  {
   "cell_type": "code",
   "execution_count": 23,
   "id": "1e845f39",
   "metadata": {},
   "outputs": [],
   "source": [
    "d3[['V_LOGIC_DIV','ACCT_NO','D_OPEN_DATE','V_CUST_TYPE','CUST_PROFESSION','FALL_BACK_BAL']] = d3['DATA_POINTS'].str.split('|',expand = True)"
   ]
  },
  {
   "cell_type": "code",
   "execution_count": 25,
   "id": "58941219",
   "metadata": {},
   "outputs": [],
   "source": [
    "d3 = d3.drop('DATA_POINTS', axis = 1)"
   ]
  },
  {
   "cell_type": "code",
   "execution_count": 26,
   "id": "26e8ec5e",
   "metadata": {
    "scrolled": true
   },
   "outputs": [
    {
     "data": {
      "text/html": [
       "<div>\n",
       "<style scoped>\n",
       "    .dataframe tbody tr th:only-of-type {\n",
       "        vertical-align: middle;\n",
       "    }\n",
       "\n",
       "    .dataframe tbody tr th {\n",
       "        vertical-align: top;\n",
       "    }\n",
       "\n",
       "    .dataframe thead th {\n",
       "        text-align: right;\n",
       "    }\n",
       "</style>\n",
       "<table border=\"1\" class=\"dataframe\">\n",
       "  <thead>\n",
       "    <tr style=\"text-align: right;\">\n",
       "      <th></th>\n",
       "      <th>V_LOGIC_DIV</th>\n",
       "      <th>ACCT_NO</th>\n",
       "      <th>D_OPEN_DATE</th>\n",
       "      <th>V_CUST_TYPE</th>\n",
       "      <th>CUST_PROFESSION</th>\n",
       "      <th>FALL_BACK_BAL</th>\n",
       "    </tr>\n",
       "  </thead>\n",
       "  <tbody>\n",
       "    <tr>\n",
       "      <th>0</th>\n",
       "      <td>AHMEDABAD</td>\n",
       "      <td>2201155000052410</td>\n",
       "      <td>2014-03-27</td>\n",
       "      <td>R</td>\n",
       "      <td>BUSINESS</td>\n",
       "      <td>1177</td>\n",
       "    </tr>\n",
       "    <tr>\n",
       "      <th>1</th>\n",
       "      <td>AHMEDABAD</td>\n",
       "      <td>2201162000000591</td>\n",
       "      <td>2013-08-01</td>\n",
       "      <td>R</td>\n",
       "      <td>BANKER</td>\n",
       "      <td>40804</td>\n",
       "    </tr>\n",
       "    <tr>\n",
       "      <th>2</th>\n",
       "      <td>AHMEDABAD</td>\n",
       "      <td>2201155000051943</td>\n",
       "      <td>2014-01-04</td>\n",
       "      <td>R</td>\n",
       "      <td>SERVICE - OTHERS</td>\n",
       "      <td>424610</td>\n",
       "    </tr>\n",
       "    <tr>\n",
       "      <th>3</th>\n",
       "      <td>AHMEDABAD</td>\n",
       "      <td>2201155000051955</td>\n",
       "      <td>2014-01-06</td>\n",
       "      <td>R</td>\n",
       "      <td>SERVICE - OTHERS</td>\n",
       "      <td>57126</td>\n",
       "    </tr>\n",
       "    <tr>\n",
       "      <th>4</th>\n",
       "      <td>AHMEDABAD</td>\n",
       "      <td>2201155000052280</td>\n",
       "      <td>2014-03-04</td>\n",
       "      <td>R</td>\n",
       "      <td>SERVICE - PRIVATE SECTOR</td>\n",
       "      <td>3114</td>\n",
       "    </tr>\n",
       "  </tbody>\n",
       "</table>\n",
       "</div>"
      ],
      "text/plain": [
       "  V_LOGIC_DIV           ACCT_NO D_OPEN_DATE V_CUST_TYPE  \\\n",
       "0   AHMEDABAD  2201155000052410  2014-03-27           R   \n",
       "1   AHMEDABAD  2201162000000591  2013-08-01           R   \n",
       "2   AHMEDABAD  2201155000051943  2014-01-04           R   \n",
       "3   AHMEDABAD  2201155000051955  2014-01-06           R   \n",
       "4   AHMEDABAD  2201155000052280  2014-03-04           R   \n",
       "\n",
       "            CUST_PROFESSION FALL_BACK_BAL  \n",
       "0                  BUSINESS          1177  \n",
       "1                    BANKER         40804  \n",
       "2          SERVICE - OTHERS        424610  \n",
       "3          SERVICE - OTHERS         57126  \n",
       "4  SERVICE - PRIVATE SECTOR          3114  "
      ]
     },
     "execution_count": 26,
     "metadata": {},
     "output_type": "execute_result"
    }
   ],
   "source": [
    "d3.head()"
   ]
  },
  {
   "cell_type": "code",
   "execution_count": 38,
   "id": "015192c4",
   "metadata": {},
   "outputs": [
    {
     "data": {
      "text/plain": [
       "(4875376, 6)"
      ]
     },
     "execution_count": 38,
     "metadata": {},
     "output_type": "execute_result"
    }
   ],
   "source": [
    "d3.shape"
   ]
  },
  {
   "cell_type": "code",
   "execution_count": 28,
   "id": "38236fb8",
   "metadata": {},
   "outputs": [],
   "source": [
    "d4[['ACCT_NO','MAX_AVG_BALANCE','AVG_AMT_ADB_PRODUCT','MAX_AMT_TOT_CR','AVG_AMT_TOT_CR','SUM_AMT_TOT_CR','MAX_AMT_TOT_DR',\n",
    "    'AVG_AMT_TOT_DR','SUM_AMT_TOT_DR','SUM_CTR_TOT_CR','SUM_CTR_TOT_DR','MAX_CTR_TOT_CR','MAX_CTR_TOT_DR',\n",
    "   'AVG_CTR_TOT_CR','AVG_CTR_TOT_DR']] = d4['AVG_BAL'].str.split('|', expand = True)"
   ]
  },
  {
   "cell_type": "code",
   "execution_count": 29,
   "id": "05b7b16b",
   "metadata": {},
   "outputs": [],
   "source": [
    "d4 = d4.drop('AVG_BAL', axis = 1)"
   ]
  },
  {
   "cell_type": "code",
   "execution_count": 30,
   "id": "e00d5afb",
   "metadata": {
    "scrolled": true
   },
   "outputs": [
    {
     "data": {
      "text/html": [
       "<div>\n",
       "<style scoped>\n",
       "    .dataframe tbody tr th:only-of-type {\n",
       "        vertical-align: middle;\n",
       "    }\n",
       "\n",
       "    .dataframe tbody tr th {\n",
       "        vertical-align: top;\n",
       "    }\n",
       "\n",
       "    .dataframe thead th {\n",
       "        text-align: right;\n",
       "    }\n",
       "</style>\n",
       "<table border=\"1\" class=\"dataframe\">\n",
       "  <thead>\n",
       "    <tr style=\"text-align: right;\">\n",
       "      <th></th>\n",
       "      <th>ACCT_NO</th>\n",
       "      <th>MAX_AVG_BALANCE</th>\n",
       "      <th>AVG_AMT_ADB_PRODUCT</th>\n",
       "      <th>MAX_AMT_TOT_CR</th>\n",
       "      <th>AVG_AMT_TOT_CR</th>\n",
       "      <th>SUM_AMT_TOT_CR</th>\n",
       "      <th>MAX_AMT_TOT_DR</th>\n",
       "      <th>AVG_AMT_TOT_DR</th>\n",
       "      <th>SUM_AMT_TOT_DR</th>\n",
       "      <th>SUM_CTR_TOT_CR</th>\n",
       "      <th>SUM_CTR_TOT_DR</th>\n",
       "      <th>MAX_CTR_TOT_CR</th>\n",
       "      <th>MAX_CTR_TOT_DR</th>\n",
       "      <th>AVG_CTR_TOT_CR</th>\n",
       "      <th>AVG_CTR_TOT_DR</th>\n",
       "    </tr>\n",
       "  </thead>\n",
       "  <tbody>\n",
       "    <tr>\n",
       "      <th>0</th>\n",
       "      <td>1267155000247576</td>\n",
       "      <td>1248</td>\n",
       "      <td>1237</td>\n",
       "      <td>31506</td>\n",
       "      <td>14665</td>\n",
       "      <td>43994</td>\n",
       "      <td>31492</td>\n",
       "      <td>14664</td>\n",
       "      <td>43993</td>\n",
       "      <td>18</td>\n",
       "      <td>53</td>\n",
       "      <td>11</td>\n",
       "      <td>31</td>\n",
       "      <td>6</td>\n",
       "      <td>18</td>\n",
       "    </tr>\n",
       "    <tr>\n",
       "      <th>1</th>\n",
       "      <td>1234155000000653</td>\n",
       "      <td>64621</td>\n",
       "      <td>64785</td>\n",
       "      <td>849183</td>\n",
       "      <td>660911</td>\n",
       "      <td>1982734</td>\n",
       "      <td>852677</td>\n",
       "      <td>660810</td>\n",
       "      <td>1982429</td>\n",
       "      <td>53</td>\n",
       "      <td>42</td>\n",
       "      <td>20</td>\n",
       "      <td>19</td>\n",
       "      <td>18</td>\n",
       "      <td>14</td>\n",
       "    </tr>\n",
       "    <tr>\n",
       "      <th>2</th>\n",
       "      <td>1405166000014874</td>\n",
       "      <td>361</td>\n",
       "      <td>366</td>\n",
       "      <td>8250</td>\n",
       "      <td>7917</td>\n",
       "      <td>23752</td>\n",
       "      <td>16000</td>\n",
       "      <td>10669</td>\n",
       "      <td>32006</td>\n",
       "      <td>4</td>\n",
       "      <td>5</td>\n",
       "      <td>2</td>\n",
       "      <td>2</td>\n",
       "      <td>1</td>\n",
       "      <td>2</td>\n",
       "    </tr>\n",
       "    <tr>\n",
       "      <th>3</th>\n",
       "      <td>1406155000092986</td>\n",
       "      <td>1000</td>\n",
       "      <td>1000</td>\n",
       "      <td>6</td>\n",
       "      <td>2</td>\n",
       "      <td>6</td>\n",
       "      <td>6</td>\n",
       "      <td>2</td>\n",
       "      <td>6</td>\n",
       "      <td>1</td>\n",
       "      <td>1</td>\n",
       "      <td>1</td>\n",
       "      <td>1</td>\n",
       "      <td>0</td>\n",
       "      <td>0</td>\n",
       "    </tr>\n",
       "    <tr>\n",
       "      <th>4</th>\n",
       "      <td>1249155000143421</td>\n",
       "      <td>2302</td>\n",
       "      <td>2282</td>\n",
       "      <td>95605</td>\n",
       "      <td>55258</td>\n",
       "      <td>165774</td>\n",
       "      <td>103559</td>\n",
       "      <td>55126</td>\n",
       "      <td>165378</td>\n",
       "      <td>26</td>\n",
       "      <td>72</td>\n",
       "      <td>10</td>\n",
       "      <td>33</td>\n",
       "      <td>9</td>\n",
       "      <td>24</td>\n",
       "    </tr>\n",
       "  </tbody>\n",
       "</table>\n",
       "</div>"
      ],
      "text/plain": [
       "            ACCT_NO MAX_AVG_BALANCE AVG_AMT_ADB_PRODUCT MAX_AMT_TOT_CR  \\\n",
       "0  1267155000247576            1248                1237          31506   \n",
       "1  1234155000000653           64621               64785         849183   \n",
       "2  1405166000014874             361                 366           8250   \n",
       "3  1406155000092986            1000                1000              6   \n",
       "4  1249155000143421            2302                2282          95605   \n",
       "\n",
       "  AVG_AMT_TOT_CR SUM_AMT_TOT_CR MAX_AMT_TOT_DR AVG_AMT_TOT_DR SUM_AMT_TOT_DR  \\\n",
       "0          14665          43994          31492          14664          43993   \n",
       "1         660911        1982734         852677         660810        1982429   \n",
       "2           7917          23752          16000          10669          32006   \n",
       "3              2              6              6              2              6   \n",
       "4          55258         165774         103559          55126         165378   \n",
       "\n",
       "  SUM_CTR_TOT_CR SUM_CTR_TOT_DR MAX_CTR_TOT_CR MAX_CTR_TOT_DR AVG_CTR_TOT_CR  \\\n",
       "0             18             53             11             31              6   \n",
       "1             53             42             20             19             18   \n",
       "2              4              5              2              2              1   \n",
       "3              1              1              1              1              0   \n",
       "4             26             72             10             33              9   \n",
       "\n",
       "  AVG_CTR_TOT_DR  \n",
       "0             18  \n",
       "1             14  \n",
       "2              2  \n",
       "3              0  \n",
       "4             24  "
      ]
     },
     "execution_count": 30,
     "metadata": {},
     "output_type": "execute_result"
    }
   ],
   "source": [
    "d4.head()"
   ]
  },
  {
   "cell_type": "code",
   "execution_count": 39,
   "id": "393f70c4",
   "metadata": {},
   "outputs": [
    {
     "data": {
      "text/plain": [
       "(4897935, 15)"
      ]
     },
     "execution_count": 39,
     "metadata": {},
     "output_type": "execute_result"
    }
   ],
   "source": [
    "d4.shape"
   ]
  },
  {
   "cell_type": "code",
   "execution_count": 32,
   "id": "0c2a50a3",
   "metadata": {},
   "outputs": [],
   "source": [
    "d5[['CUST_ID','ACCT_NO','CA','SB','RD','TD','TD_BAL','JEWEL_LOAN','HL_PL_LAP_4WL_2WL','DIG']] = d5['DATA_POINTS'].str.split('|', expand = True)"
   ]
  },
  {
   "cell_type": "code",
   "execution_count": 33,
   "id": "7ebccdd3",
   "metadata": {},
   "outputs": [],
   "source": [
    "d5 = d5.drop('DATA_POINTS', axis = 1)"
   ]
  },
  {
   "cell_type": "code",
   "execution_count": 34,
   "id": "8de6b894",
   "metadata": {
    "scrolled": true
   },
   "outputs": [
    {
     "data": {
      "text/html": [
       "<div>\n",
       "<style scoped>\n",
       "    .dataframe tbody tr th:only-of-type {\n",
       "        vertical-align: middle;\n",
       "    }\n",
       "\n",
       "    .dataframe tbody tr th {\n",
       "        vertical-align: top;\n",
       "    }\n",
       "\n",
       "    .dataframe thead th {\n",
       "        text-align: right;\n",
       "    }\n",
       "</style>\n",
       "<table border=\"1\" class=\"dataframe\">\n",
       "  <thead>\n",
       "    <tr style=\"text-align: right;\">\n",
       "      <th></th>\n",
       "      <th>CUST_ID</th>\n",
       "      <th>ACCT_NO</th>\n",
       "      <th>CA</th>\n",
       "      <th>SB</th>\n",
       "      <th>RD</th>\n",
       "      <th>TD</th>\n",
       "      <th>TD_BAL</th>\n",
       "      <th>JEWEL_LOAN</th>\n",
       "      <th>HL_PL_LAP_4WL_2WL</th>\n",
       "      <th>DIG</th>\n",
       "    </tr>\n",
       "  </thead>\n",
       "  <tbody>\n",
       "    <tr>\n",
       "      <th>0</th>\n",
       "      <td>10923710</td>\n",
       "      <td>1208155000163264</td>\n",
       "      <td>0</td>\n",
       "      <td>1</td>\n",
       "      <td>0</td>\n",
       "      <td>0</td>\n",
       "      <td>0</td>\n",
       "      <td>0</td>\n",
       "      <td>0</td>\n",
       "      <td>0</td>\n",
       "    </tr>\n",
       "    <tr>\n",
       "      <th>1</th>\n",
       "      <td>15503072</td>\n",
       "      <td>1339155000029990</td>\n",
       "      <td>0</td>\n",
       "      <td>1</td>\n",
       "      <td>0</td>\n",
       "      <td>0</td>\n",
       "      <td>0</td>\n",
       "      <td>0</td>\n",
       "      <td>0</td>\n",
       "      <td>0</td>\n",
       "    </tr>\n",
       "    <tr>\n",
       "      <th>2</th>\n",
       "      <td>10525978</td>\n",
       "      <td>1741155000003190</td>\n",
       "      <td>0</td>\n",
       "      <td>1</td>\n",
       "      <td>0</td>\n",
       "      <td>0</td>\n",
       "      <td>0</td>\n",
       "      <td>2</td>\n",
       "      <td>0</td>\n",
       "      <td>0</td>\n",
       "    </tr>\n",
       "    <tr>\n",
       "      <th>3</th>\n",
       "      <td>21207635</td>\n",
       "      <td>1739155000067739</td>\n",
       "      <td>0</td>\n",
       "      <td>1</td>\n",
       "      <td>0</td>\n",
       "      <td>0</td>\n",
       "      <td>0</td>\n",
       "      <td>0</td>\n",
       "      <td>0</td>\n",
       "      <td>0</td>\n",
       "    </tr>\n",
       "    <tr>\n",
       "      <th>4</th>\n",
       "      <td>6268562</td>\n",
       "      <td>1477155000002133</td>\n",
       "      <td>0</td>\n",
       "      <td>1</td>\n",
       "      <td>0</td>\n",
       "      <td>0</td>\n",
       "      <td>0</td>\n",
       "      <td>0</td>\n",
       "      <td>0</td>\n",
       "      <td>0</td>\n",
       "    </tr>\n",
       "  </tbody>\n",
       "</table>\n",
       "</div>"
      ],
      "text/plain": [
       "    CUST_ID           ACCT_NO CA SB RD TD TD_BAL JEWEL_LOAN HL_PL_LAP_4WL_2WL  \\\n",
       "0  10923710  1208155000163264  0  1  0  0      0          0                 0   \n",
       "1  15503072  1339155000029990  0  1  0  0      0          0                 0   \n",
       "2  10525978  1741155000003190  0  1  0  0      0          2                 0   \n",
       "3  21207635  1739155000067739  0  1  0  0      0          0                 0   \n",
       "4   6268562  1477155000002133  0  1  0  0      0          0                 0   \n",
       "\n",
       "  DIG  \n",
       "0   0  \n",
       "1   0  \n",
       "2   0  \n",
       "3   0  \n",
       "4   0  "
      ]
     },
     "execution_count": 34,
     "metadata": {},
     "output_type": "execute_result"
    }
   ],
   "source": [
    "d5.head()"
   ]
  },
  {
   "cell_type": "code",
   "execution_count": 40,
   "id": "5a28178a",
   "metadata": {},
   "outputs": [
    {
     "data": {
      "text/plain": [
       "(4898247, 10)"
      ]
     },
     "execution_count": 40,
     "metadata": {},
     "output_type": "execute_result"
    }
   ],
   "source": [
    "d5.shape"
   ]
  },
  {
   "cell_type": "markdown",
   "id": "0123d6b7",
   "metadata": {},
   "source": [
    "### Data Merging"
   ]
  },
  {
   "cell_type": "code",
   "execution_count": 94,
   "id": "784db857",
   "metadata": {},
   "outputs": [],
   "source": [
    "data = d1.merge(d2, on = 'ACCT_NO', how = 'left')"
   ]
  },
  {
   "cell_type": "code",
   "execution_count": 95,
   "id": "27441e8d",
   "metadata": {},
   "outputs": [],
   "source": [
    "data = data.merge(d3, on = 'ACCT_NO', how = 'left')"
   ]
  },
  {
   "cell_type": "code",
   "execution_count": 96,
   "id": "a4477417",
   "metadata": {},
   "outputs": [],
   "source": [
    "data = data.merge(d4, on = 'ACCT_NO', how = 'left')"
   ]
  },
  {
   "cell_type": "code",
   "execution_count": 97,
   "id": "6852ca99",
   "metadata": {},
   "outputs": [],
   "source": [
    "data = data.merge(d5, on = 'ACCT_NO', how = 'left')"
   ]
  },
  {
   "cell_type": "code",
   "execution_count": 98,
   "id": "9f7e6c7e",
   "metadata": {},
   "outputs": [
    {
     "name": "stdout",
     "output_type": "stream",
     "text": [
      "ACCT_NO\n",
      "ACCT_STAT\n",
      "CUST_ID_x\n",
      "DAT_CUST_OPEN\n",
      "FLG_STAFF\n",
      "DAT_BIRTH_CUST\n",
      "TXT_CUST_SEX\n",
      "COD_CUST_MARSTAT\n",
      "V_LOGIC_DIV\n",
      "D_OPEN_DATE\n",
      "V_CUST_TYPE\n",
      "CUST_PROFESSION\n",
      "FALL_BACK_BAL\n",
      "MAX_AVG_BALANCE\n",
      "AVG_AMT_ADB_PRODUCT\n",
      "MAX_AMT_TOT_CR\n",
      "AVG_AMT_TOT_CR\n",
      "SUM_AMT_TOT_CR\n",
      "MAX_AMT_TOT_DR\n",
      "AVG_AMT_TOT_DR\n",
      "SUM_AMT_TOT_DR\n",
      "SUM_CTR_TOT_CR\n",
      "SUM_CTR_TOT_DR\n",
      "MAX_CTR_TOT_CR\n",
      "MAX_CTR_TOT_DR\n",
      "AVG_CTR_TOT_CR\n",
      "AVG_CTR_TOT_DR\n",
      "CUST_ID_y\n",
      "CA\n",
      "SB\n",
      "RD\n",
      "TD\n",
      "TD_BAL\n",
      "JEWEL_LOAN\n",
      "HL_PL_LAP_4WL_2WL\n",
      "DIG\n"
     ]
    }
   ],
   "source": [
    "for col in data.columns:\n",
    "    print(col)"
   ]
  },
  {
   "cell_type": "code",
   "execution_count": 99,
   "id": "ef5363a2",
   "metadata": {},
   "outputs": [],
   "source": [
    "data = data.drop('CUST_ID_y',axis = 1)"
   ]
  },
  {
   "cell_type": "code",
   "execution_count": 100,
   "id": "0975ccb6",
   "metadata": {},
   "outputs": [],
   "source": [
    "data = data.rename(columns={'CUST_ID_x':'CUST_ID'})"
   ]
  },
  {
   "cell_type": "code",
   "execution_count": 101,
   "id": "20a99b8d",
   "metadata": {},
   "outputs": [
    {
     "data": {
      "text/html": [
       "<div>\n",
       "<style scoped>\n",
       "    .dataframe tbody tr th:only-of-type {\n",
       "        vertical-align: middle;\n",
       "    }\n",
       "\n",
       "    .dataframe tbody tr th {\n",
       "        vertical-align: top;\n",
       "    }\n",
       "\n",
       "    .dataframe thead th {\n",
       "        text-align: right;\n",
       "    }\n",
       "</style>\n",
       "<table border=\"1\" class=\"dataframe\">\n",
       "  <thead>\n",
       "    <tr style=\"text-align: right;\">\n",
       "      <th></th>\n",
       "      <th>ACCT_NO</th>\n",
       "      <th>ACCT_STAT</th>\n",
       "      <th>CUST_ID</th>\n",
       "      <th>DAT_CUST_OPEN</th>\n",
       "      <th>FLG_STAFF</th>\n",
       "      <th>DAT_BIRTH_CUST</th>\n",
       "      <th>TXT_CUST_SEX</th>\n",
       "      <th>COD_CUST_MARSTAT</th>\n",
       "      <th>V_LOGIC_DIV</th>\n",
       "      <th>D_OPEN_DATE</th>\n",
       "      <th>...</th>\n",
       "      <th>AVG_CTR_TOT_CR</th>\n",
       "      <th>AVG_CTR_TOT_DR</th>\n",
       "      <th>CA</th>\n",
       "      <th>SB</th>\n",
       "      <th>RD</th>\n",
       "      <th>TD</th>\n",
       "      <th>TD_BAL</th>\n",
       "      <th>JEWEL_LOAN</th>\n",
       "      <th>HL_PL_LAP_4WL_2WL</th>\n",
       "      <th>DIG</th>\n",
       "    </tr>\n",
       "  </thead>\n",
       "  <tbody>\n",
       "    <tr>\n",
       "      <th>0</th>\n",
       "      <td>1630173000001143</td>\n",
       "      <td>7</td>\n",
       "      <td>14628733</td>\n",
       "      <td>2017-07-20</td>\n",
       "      <td>N</td>\n",
       "      <td>1955-07-10</td>\n",
       "      <td>F</td>\n",
       "      <td>2</td>\n",
       "      <td>SALEM</td>\n",
       "      <td>2017-07-20</td>\n",
       "      <td>...</td>\n",
       "      <td>0</td>\n",
       "      <td>0</td>\n",
       "      <td>0</td>\n",
       "      <td>1</td>\n",
       "      <td>0</td>\n",
       "      <td>0</td>\n",
       "      <td>0</td>\n",
       "      <td>0</td>\n",
       "      <td>0</td>\n",
       "      <td>0</td>\n",
       "    </tr>\n",
       "    <tr>\n",
       "      <th>1</th>\n",
       "      <td>1828173000000956</td>\n",
       "      <td>7</td>\n",
       "      <td>15213816</td>\n",
       "      <td>2017-06-30</td>\n",
       "      <td>N</td>\n",
       "      <td>1950-09-14</td>\n",
       "      <td>F</td>\n",
       "      <td>2</td>\n",
       "      <td>MADURAI</td>\n",
       "      <td>2017-06-30</td>\n",
       "      <td>...</td>\n",
       "      <td>0</td>\n",
       "      <td>0</td>\n",
       "      <td>0</td>\n",
       "      <td>1</td>\n",
       "      <td>0</td>\n",
       "      <td>0</td>\n",
       "      <td>0</td>\n",
       "      <td>0</td>\n",
       "      <td>0</td>\n",
       "      <td>0</td>\n",
       "    </tr>\n",
       "    <tr>\n",
       "      <th>2</th>\n",
       "      <td>1273173000002614</td>\n",
       "      <td>8</td>\n",
       "      <td>3535854</td>\n",
       "      <td>2006-02-20</td>\n",
       "      <td>N</td>\n",
       "      <td>1956-06-15</td>\n",
       "      <td>M</td>\n",
       "      <td>2</td>\n",
       "      <td>MADURAI</td>\n",
       "      <td>2019-04-04</td>\n",
       "      <td>...</td>\n",
       "      <td>2</td>\n",
       "      <td>0</td>\n",
       "      <td>0</td>\n",
       "      <td>1</td>\n",
       "      <td>0</td>\n",
       "      <td>0</td>\n",
       "      <td>0</td>\n",
       "      <td>0</td>\n",
       "      <td>0</td>\n",
       "      <td>0</td>\n",
       "    </tr>\n",
       "    <tr>\n",
       "      <th>3</th>\n",
       "      <td>1246177000002444</td>\n",
       "      <td>8</td>\n",
       "      <td>13286933</td>\n",
       "      <td>2015-10-08</td>\n",
       "      <td>Y</td>\n",
       "      <td>1986-12-22</td>\n",
       "      <td>F</td>\n",
       "      <td>2</td>\n",
       "      <td>SALEM</td>\n",
       "      <td>2019-02-07</td>\n",
       "      <td>...</td>\n",
       "      <td>2</td>\n",
       "      <td>15</td>\n",
       "      <td>0</td>\n",
       "      <td>2</td>\n",
       "      <td>0</td>\n",
       "      <td>0</td>\n",
       "      <td>0</td>\n",
       "      <td>0</td>\n",
       "      <td>0</td>\n",
       "      <td>0</td>\n",
       "    </tr>\n",
       "    <tr>\n",
       "      <th>4</th>\n",
       "      <td>1661173000002793</td>\n",
       "      <td>8</td>\n",
       "      <td>18101688</td>\n",
       "      <td>2019-05-07</td>\n",
       "      <td>N</td>\n",
       "      <td>1946-01-30</td>\n",
       "      <td>M</td>\n",
       "      <td>2</td>\n",
       "      <td>TRICHY</td>\n",
       "      <td>2019-05-07</td>\n",
       "      <td>...</td>\n",
       "      <td>1</td>\n",
       "      <td>1</td>\n",
       "      <td>0</td>\n",
       "      <td>1</td>\n",
       "      <td>0</td>\n",
       "      <td>0</td>\n",
       "      <td>0</td>\n",
       "      <td>0</td>\n",
       "      <td>0</td>\n",
       "      <td>0</td>\n",
       "    </tr>\n",
       "  </tbody>\n",
       "</table>\n",
       "<p>5 rows × 35 columns</p>\n",
       "</div>"
      ],
      "text/plain": [
       "            ACCT_NO ACCT_STAT   CUST_ID DAT_CUST_OPEN FLG_STAFF  \\\n",
       "0  1630173000001143         7  14628733    2017-07-20         N   \n",
       "1  1828173000000956         7  15213816    2017-06-30         N   \n",
       "2  1273173000002614         8   3535854    2006-02-20         N   \n",
       "3  1246177000002444         8  13286933    2015-10-08         Y   \n",
       "4  1661173000002793         8  18101688    2019-05-07         N   \n",
       "\n",
       "  DAT_BIRTH_CUST TXT_CUST_SEX COD_CUST_MARSTAT V_LOGIC_DIV D_OPEN_DATE  ...  \\\n",
       "0     1955-07-10            F                2       SALEM  2017-07-20  ...   \n",
       "1     1950-09-14            F                2     MADURAI  2017-06-30  ...   \n",
       "2     1956-06-15            M                2     MADURAI  2019-04-04  ...   \n",
       "3     1986-12-22            F                2       SALEM  2019-02-07  ...   \n",
       "4     1946-01-30            M                2      TRICHY  2019-05-07  ...   \n",
       "\n",
       "  AVG_CTR_TOT_CR AVG_CTR_TOT_DR CA SB RD TD TD_BAL JEWEL_LOAN  \\\n",
       "0              0              0  0  1  0  0      0          0   \n",
       "1              0              0  0  1  0  0      0          0   \n",
       "2              2              0  0  1  0  0      0          0   \n",
       "3              2             15  0  2  0  0      0          0   \n",
       "4              1              1  0  1  0  0      0          0   \n",
       "\n",
       "  HL_PL_LAP_4WL_2WL DIG  \n",
       "0                 0   0  \n",
       "1                 0   0  \n",
       "2                 0   0  \n",
       "3                 0   0  \n",
       "4                 0   0  \n",
       "\n",
       "[5 rows x 35 columns]"
      ]
     },
     "execution_count": 101,
     "metadata": {},
     "output_type": "execute_result"
    }
   ],
   "source": [
    "data.head()"
   ]
  },
  {
   "cell_type": "markdown",
   "id": "c2df70eb",
   "metadata": {},
   "source": [
    "### String to date and Vintage"
   ]
  },
  {
   "cell_type": "code",
   "execution_count": 102,
   "id": "44689671",
   "metadata": {},
   "outputs": [],
   "source": [
    "data['DAT_CUST_OPEN'] = pd.to_datetime(data['DAT_CUST_OPEN'])\n",
    "data['DAT_BIRTH_CUST'] = pd.to_datetime(data['DAT_BIRTH_CUST'], errors = 'coerce')\n",
    "data['D_OPEN_DATE'] = pd.to_datetime(data['D_OPEN_DATE'])"
   ]
  },
  {
   "cell_type": "code",
   "execution_count": 103,
   "id": "2a958fd9",
   "metadata": {},
   "outputs": [
    {
     "name": "stdout",
     "output_type": "stream",
     "text": [
      "<class 'pandas.core.frame.DataFrame'>\n",
      "Int64Index: 4877176 entries, 0 to 4877175\n",
      "Data columns (total 35 columns):\n",
      " #   Column               Dtype         \n",
      "---  ------               -----         \n",
      " 0   ACCT_NO              object        \n",
      " 1   ACCT_STAT            object        \n",
      " 2   CUST_ID              object        \n",
      " 3   DAT_CUST_OPEN        datetime64[ns]\n",
      " 4   FLG_STAFF            object        \n",
      " 5   DAT_BIRTH_CUST       datetime64[ns]\n",
      " 6   TXT_CUST_SEX         object        \n",
      " 7   COD_CUST_MARSTAT     object        \n",
      " 8   V_LOGIC_DIV          object        \n",
      " 9   D_OPEN_DATE          datetime64[ns]\n",
      " 10  V_CUST_TYPE          object        \n",
      " 11  CUST_PROFESSION      object        \n",
      " 12  FALL_BACK_BAL        object        \n",
      " 13  MAX_AVG_BALANCE      object        \n",
      " 14  AVG_AMT_ADB_PRODUCT  object        \n",
      " 15  MAX_AMT_TOT_CR       object        \n",
      " 16  AVG_AMT_TOT_CR       object        \n",
      " 17  SUM_AMT_TOT_CR       object        \n",
      " 18  MAX_AMT_TOT_DR       object        \n",
      " 19  AVG_AMT_TOT_DR       object        \n",
      " 20  SUM_AMT_TOT_DR       object        \n",
      " 21  SUM_CTR_TOT_CR       object        \n",
      " 22  SUM_CTR_TOT_DR       object        \n",
      " 23  MAX_CTR_TOT_CR       object        \n",
      " 24  MAX_CTR_TOT_DR       object        \n",
      " 25  AVG_CTR_TOT_CR       object        \n",
      " 26  AVG_CTR_TOT_DR       object        \n",
      " 27  CA                   object        \n",
      " 28  SB                   object        \n",
      " 29  RD                   object        \n",
      " 30  TD                   object        \n",
      " 31  TD_BAL               object        \n",
      " 32  JEWEL_LOAN           object        \n",
      " 33  HL_PL_LAP_4WL_2WL    object        \n",
      " 34  DIG                  object        \n",
      "dtypes: datetime64[ns](3), object(32)\n",
      "memory usage: 1.3+ GB\n"
     ]
    }
   ],
   "source": [
    "data.info()"
   ]
  },
  {
   "cell_type": "code",
   "execution_count": 105,
   "id": "c33924e7",
   "metadata": {},
   "outputs": [],
   "source": [
    "data['DAT_CUST_OPEN'] = data.apply(lambda data: (datetime.datetime.strptime('2022-03-31', '%Y-%m-%d') - data['DAT_CUST_OPEN']).days/365, axis = 1)\n",
    "data['DAT_BIRTH_CUST'] = data.apply(lambda data: (datetime.datetime.strptime('2022-03-31', '%Y-%m-%d') - data['DAT_BIRTH_CUST']).days/365, axis = 1)\n",
    "data['D_OPEN_DATE'] = data.apply(lambda data: (datetime.datetime.strptime('2022-03-31', '%Y-%m-%d') - data['D_OPEN_DATE']).days/365, axis = 1)"
   ]
  },
  {
   "cell_type": "code",
   "execution_count": 106,
   "id": "e1bab197",
   "metadata": {},
   "outputs": [
    {
     "data": {
      "text/html": [
       "<div>\n",
       "<style scoped>\n",
       "    .dataframe tbody tr th:only-of-type {\n",
       "        vertical-align: middle;\n",
       "    }\n",
       "\n",
       "    .dataframe tbody tr th {\n",
       "        vertical-align: top;\n",
       "    }\n",
       "\n",
       "    .dataframe thead th {\n",
       "        text-align: right;\n",
       "    }\n",
       "</style>\n",
       "<table border=\"1\" class=\"dataframe\">\n",
       "  <thead>\n",
       "    <tr style=\"text-align: right;\">\n",
       "      <th></th>\n",
       "      <th>ACCT_NO</th>\n",
       "      <th>ACCT_STAT</th>\n",
       "      <th>CUST_ID</th>\n",
       "      <th>DAT_CUST_OPEN</th>\n",
       "      <th>FLG_STAFF</th>\n",
       "      <th>DAT_BIRTH_CUST</th>\n",
       "      <th>TXT_CUST_SEX</th>\n",
       "      <th>COD_CUST_MARSTAT</th>\n",
       "      <th>V_LOGIC_DIV</th>\n",
       "      <th>D_OPEN_DATE</th>\n",
       "      <th>...</th>\n",
       "      <th>AVG_CTR_TOT_CR</th>\n",
       "      <th>AVG_CTR_TOT_DR</th>\n",
       "      <th>CA</th>\n",
       "      <th>SB</th>\n",
       "      <th>RD</th>\n",
       "      <th>TD</th>\n",
       "      <th>TD_BAL</th>\n",
       "      <th>JEWEL_LOAN</th>\n",
       "      <th>HL_PL_LAP_4WL_2WL</th>\n",
       "      <th>DIG</th>\n",
       "    </tr>\n",
       "  </thead>\n",
       "  <tbody>\n",
       "    <tr>\n",
       "      <th>0</th>\n",
       "      <td>1630173000001143</td>\n",
       "      <td>7</td>\n",
       "      <td>14628733</td>\n",
       "      <td>4.698630</td>\n",
       "      <td>N</td>\n",
       "      <td>66.769863</td>\n",
       "      <td>F</td>\n",
       "      <td>2</td>\n",
       "      <td>SALEM</td>\n",
       "      <td>4.698630</td>\n",
       "      <td>...</td>\n",
       "      <td>0</td>\n",
       "      <td>0</td>\n",
       "      <td>0</td>\n",
       "      <td>1</td>\n",
       "      <td>0</td>\n",
       "      <td>0</td>\n",
       "      <td>0</td>\n",
       "      <td>0</td>\n",
       "      <td>0</td>\n",
       "      <td>0</td>\n",
       "    </tr>\n",
       "    <tr>\n",
       "      <th>1</th>\n",
       "      <td>1828173000000956</td>\n",
       "      <td>7</td>\n",
       "      <td>15213816</td>\n",
       "      <td>4.753425</td>\n",
       "      <td>N</td>\n",
       "      <td>71.591781</td>\n",
       "      <td>F</td>\n",
       "      <td>2</td>\n",
       "      <td>MADURAI</td>\n",
       "      <td>4.753425</td>\n",
       "      <td>...</td>\n",
       "      <td>0</td>\n",
       "      <td>0</td>\n",
       "      <td>0</td>\n",
       "      <td>1</td>\n",
       "      <td>0</td>\n",
       "      <td>0</td>\n",
       "      <td>0</td>\n",
       "      <td>0</td>\n",
       "      <td>0</td>\n",
       "      <td>0</td>\n",
       "    </tr>\n",
       "    <tr>\n",
       "      <th>2</th>\n",
       "      <td>1273173000002614</td>\n",
       "      <td>8</td>\n",
       "      <td>3535854</td>\n",
       "      <td>16.117808</td>\n",
       "      <td>N</td>\n",
       "      <td>65.835616</td>\n",
       "      <td>M</td>\n",
       "      <td>2</td>\n",
       "      <td>MADURAI</td>\n",
       "      <td>2.991781</td>\n",
       "      <td>...</td>\n",
       "      <td>2</td>\n",
       "      <td>0</td>\n",
       "      <td>0</td>\n",
       "      <td>1</td>\n",
       "      <td>0</td>\n",
       "      <td>0</td>\n",
       "      <td>0</td>\n",
       "      <td>0</td>\n",
       "      <td>0</td>\n",
       "      <td>0</td>\n",
       "    </tr>\n",
       "    <tr>\n",
       "      <th>3</th>\n",
       "      <td>1246177000002444</td>\n",
       "      <td>8</td>\n",
       "      <td>13286933</td>\n",
       "      <td>6.482192</td>\n",
       "      <td>Y</td>\n",
       "      <td>35.295890</td>\n",
       "      <td>F</td>\n",
       "      <td>2</td>\n",
       "      <td>SALEM</td>\n",
       "      <td>3.145205</td>\n",
       "      <td>...</td>\n",
       "      <td>2</td>\n",
       "      <td>15</td>\n",
       "      <td>0</td>\n",
       "      <td>2</td>\n",
       "      <td>0</td>\n",
       "      <td>0</td>\n",
       "      <td>0</td>\n",
       "      <td>0</td>\n",
       "      <td>0</td>\n",
       "      <td>0</td>\n",
       "    </tr>\n",
       "    <tr>\n",
       "      <th>4</th>\n",
       "      <td>1661173000002793</td>\n",
       "      <td>8</td>\n",
       "      <td>18101688</td>\n",
       "      <td>2.901370</td>\n",
       "      <td>N</td>\n",
       "      <td>76.216438</td>\n",
       "      <td>M</td>\n",
       "      <td>2</td>\n",
       "      <td>TRICHY</td>\n",
       "      <td>2.901370</td>\n",
       "      <td>...</td>\n",
       "      <td>1</td>\n",
       "      <td>1</td>\n",
       "      <td>0</td>\n",
       "      <td>1</td>\n",
       "      <td>0</td>\n",
       "      <td>0</td>\n",
       "      <td>0</td>\n",
       "      <td>0</td>\n",
       "      <td>0</td>\n",
       "      <td>0</td>\n",
       "    </tr>\n",
       "  </tbody>\n",
       "</table>\n",
       "<p>5 rows × 35 columns</p>\n",
       "</div>"
      ],
      "text/plain": [
       "            ACCT_NO ACCT_STAT   CUST_ID  DAT_CUST_OPEN FLG_STAFF  \\\n",
       "0  1630173000001143         7  14628733       4.698630         N   \n",
       "1  1828173000000956         7  15213816       4.753425         N   \n",
       "2  1273173000002614         8   3535854      16.117808         N   \n",
       "3  1246177000002444         8  13286933       6.482192         Y   \n",
       "4  1661173000002793         8  18101688       2.901370         N   \n",
       "\n",
       "   DAT_BIRTH_CUST TXT_CUST_SEX COD_CUST_MARSTAT V_LOGIC_DIV  D_OPEN_DATE  ...  \\\n",
       "0       66.769863            F                2       SALEM     4.698630  ...   \n",
       "1       71.591781            F                2     MADURAI     4.753425  ...   \n",
       "2       65.835616            M                2     MADURAI     2.991781  ...   \n",
       "3       35.295890            F                2       SALEM     3.145205  ...   \n",
       "4       76.216438            M                2      TRICHY     2.901370  ...   \n",
       "\n",
       "  AVG_CTR_TOT_CR AVG_CTR_TOT_DR CA SB RD TD TD_BAL JEWEL_LOAN  \\\n",
       "0              0              0  0  1  0  0      0          0   \n",
       "1              0              0  0  1  0  0      0          0   \n",
       "2              2              0  0  1  0  0      0          0   \n",
       "3              2             15  0  2  0  0      0          0   \n",
       "4              1              1  0  1  0  0      0          0   \n",
       "\n",
       "  HL_PL_LAP_4WL_2WL DIG  \n",
       "0                 0   0  \n",
       "1                 0   0  \n",
       "2                 0   0  \n",
       "3                 0   0  \n",
       "4                 0   0  \n",
       "\n",
       "[5 rows x 35 columns]"
      ]
     },
     "execution_count": 106,
     "metadata": {},
     "output_type": "execute_result"
    }
   ],
   "source": [
    "data.head()"
   ]
  },
  {
   "cell_type": "markdown",
   "id": "ba38bc80",
   "metadata": {},
   "source": [
    "### EDA"
   ]
  },
  {
   "cell_type": "code",
   "execution_count": 108,
   "id": "225fb41c",
   "metadata": {},
   "outputs": [
    {
     "data": {
      "text/plain": [
       "array(['7', '8', '2', '3', '5', '17', '10', '11', '4', '16', '18', '19',\n",
       "       '12', '6'], dtype=object)"
      ]
     },
     "execution_count": 108,
     "metadata": {},
     "output_type": "execute_result"
    }
   ],
   "source": [
    "data.ACCT_STAT.unique()"
   ]
  },
  {
   "cell_type": "code",
   "execution_count": null,
   "id": "06e92497",
   "metadata": {},
   "outputs": [],
   "source": [
    "6 and 8 active"
   ]
  },
  {
   "cell_type": "code",
   "execution_count": null,
   "id": "7725f47f",
   "metadata": {},
   "outputs": [],
   "source": [
    "7 Dormant "
   ]
  }
 ],
 "metadata": {
  "kernelspec": {
   "display_name": "Python 3",
   "language": "python",
   "name": "python3"
  },
  "language_info": {
   "codemirror_mode": {
    "name": "ipython",
    "version": 3
   },
   "file_extension": ".py",
   "mimetype": "text/x-python",
   "name": "python",
   "nbconvert_exporter": "python",
   "pygments_lexer": "ipython3",
   "version": "3.9.1"
  }
 },
 "nbformat": 4,
 "nbformat_minor": 5
}
