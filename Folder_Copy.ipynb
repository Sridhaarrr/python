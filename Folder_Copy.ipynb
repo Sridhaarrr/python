{
 "cells": [
  {
   "cell_type": "code",
   "execution_count": 1,
   "id": "ea034bc8-f277-42a9-a9c3-611164662d35",
   "metadata": {},
   "outputs": [],
   "source": [
    "import shutil  \n",
    "# Source path \n",
    "src = 'D:/R-4.0.3/library/chron'\n",
    "    \n",
    "# Destination path \n",
    "dest = 'C:/Users/018598/Desktop/RPackages/chron'\n",
    "    \n",
    "# Copy the content of \n",
    "# source to destination \n",
    "destination = shutil.copytree(src, dest) "
   ]
  },
  {
   "cell_type": "code",
   "execution_count": 4,
   "id": "4fc8c324-bff1-417e-92a2-e2f30f5db4de",
   "metadata": {},
   "outputs": [],
   "source": [
    "inp = 'D:/R-4.0.3/library'\n",
    "out = 'C:/Users/018598/Desktop/RPackages'"
   ]
  },
  {
   "cell_type": "code",
   "execution_count": null,
   "id": "f8c728c4-e2b0-4e5c-86be-2cac1396f245",
   "metadata": {},
   "outputs": [],
   "source": [
    "\"BH\",\"chron\",\"cli\",\"cpp11\",\"data.table\",\"fansi\","
   ]
  },
  {
   "cell_type": "code",
   "execution_count": 23,
   "id": "db9011c9-1c0e-4480-a830-3ac8be6e6834",
   "metadata": {},
   "outputs": [],
   "source": [
    "a = [ \"cli\",\"cpp11\",\"data.table\",\"fansi\", \"glue\",  \"magrittr\", \"rlang\", \"tibble\", \"xml2\",\"rJava\", \"xlsxjars\",\"Rcpp\", \"slam\",  \"XML\",\"Rcpp\", \"zip\", \"plyr\",  \"purrr\",  \"rJava\",  \"igraph\", \"openxlsx\", \"plotrix\", \"reshape2\", \"stringdist\", \"tidyr\", \"venneuler\", \"wordcloud\", \"XML\",\"iterators\", \"tau\", \"foreach\", \"shape\", \"Rcpp\", \"RcppEigen\", \"lars\", \"randomForest\", \"ngramrr\", \"moments\", \"stringdist\", \"glmnet\", \"spikeslab\",\"iterators\", \"tau\", \"foreach\", \"shape\", \"Rcpp\", \"RcppEigen\", \"lars\", \"randomForest\", \"ngramrr\", \"moments\", \"stringdist\", \"glmnet\", \"spikeslab\"]"
   ]
  },
  {
   "cell_type": "code",
   "execution_count": null,
   "id": "f21b6a9b-4d35-46e2-b439-b34c59da949e",
   "metadata": {},
   "outputs": [],
   "source": [
    "a = [*set(a)]\n",
    "a"
   ]
  },
  {
   "cell_type": "code",
   "execution_count": null,
   "id": "fc59feb1-4cdb-4e79-9313-c8ad59974e98",
   "metadata": {},
   "outputs": [],
   "source": [
    "import os\n",
    "import shutil\n",
    "for f in range(len(a)):\n",
    "        shutil.copytree('D:/R-4.0.3/library'+'/'+a[f], 'C:/Users/018598/Desktop/RPackages'+'/'+a[f])\n",
    "        print('Copied')"
   ]
  }
 ],
 "metadata": {
  "kernelspec": {
   "display_name": "Python 3",
   "language": "python",
   "name": "python3"
  },
  "language_info": {
   "codemirror_mode": {
    "name": "ipython",
    "version": 3
   },
   "file_extension": ".py",
   "mimetype": "text/x-python",
   "name": "python",
   "nbconvert_exporter": "python",
   "pygments_lexer": "ipython3",
   "version": "3.9.1"
  }
 },
 "nbformat": 4,
 "nbformat_minor": 5
}
