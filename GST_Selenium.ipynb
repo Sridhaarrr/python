{
 "cells": [
  {
   "cell_type": "code",
   "execution_count": 1,
   "id": "7d0f1fb8-61ba-4a64-b774-e9ea87e9097f",
   "metadata": {},
   "outputs": [],
   "source": [
    "from selenium import webdriver\n",
    "from selenium.webdriver.support import expected_conditions as ec\n",
    "from selenium.webdriver.support.wait import WebDriverWait\n",
    "from selenium.webdriver.common.by import By\n",
    "from selenium.webdriver.support.select import Select\n",
    "from selenium.common.exceptions import *\n",
    "from selenium.webdriver.common.keys import Keys\n",
    "import re\n",
    "import pandas as pd\n",
    "import numpy as np\n",
    "chrome_options = webdriver.ChromeOptions()\n",
    "chrome_options.add_argument('--headless')\n",
    "chrome_options.add_argument('--no-sandbox')\n",
    "chrome_options.add_argument('--disable-dev-shm-usage')"
   ]
  },
  {
   "cell_type": "code",
   "execution_count": 3,
   "id": "34acc046-2117-4ad5-9cc7-83077b02a9a1",
   "metadata": {},
   "outputs": [
    {
     "name": "stderr",
     "output_type": "stream",
     "text": [
      "<ipython-input-3-98c304213ea8>:1: DeprecationWarning: use options instead of chrome_options\n",
      "  wd1 = webdriver.Chrome('D:\\libs\\chromedriver.exe',chrome_options=chrome_options)\n",
      "<ipython-input-3-98c304213ea8>:2: DeprecationWarning: use options instead of chrome_options\n",
      "  wd2 = webdriver.Chrome('D:\\libs\\chromedriver.exe',chrome_options=chrome_options)\n"
     ]
    }
   ],
   "source": [
    "wd1 = webdriver.Chrome('D:\\libs\\chromedriver.exe',chrome_options=chrome_options)\n",
    "wd2 = webdriver.Chrome('D:\\libs\\chromedriver.exe',chrome_options=chrome_options)"
   ]
  },
  {
   "cell_type": "code",
   "execution_count": null,
   "id": "882f1607-b248-4d96-8c25-1b01f20b1cfe",
   "metadata": {},
   "outputs": [],
   "source": [
    "html = wd1.page_source\n",
    "html"
   ]
  },
  {
   "cell_type": "code",
   "execution_count": 64,
   "id": "67d1a493-6236-4ed4-a0d2-2933d0cf2a41",
   "metadata": {},
   "outputs": [],
   "source": [
    "url = \"https://www.mca.gov.in/content/mca/global/en/data-and-reports/company-llp-info/incorporated-closed-month.html\"\n",
    "wd1.get(url)\n",
    "#wd1.find_element_by_xpath(\"//select[@id='pagination-values']\")\n",
    "#wd1.find_element_by_xpath(\"//div[@class='pages']//span[@class='next']\")"
   ]
  },
  {
   "cell_type": "code",
   "execution_count": null,
   "id": "04ff0db3-6cda-45c7-aeec-167bff5342e6",
   "metadata": {},
   "outputs": [],
   "source": [
    "WebDriverWait(wd1, 20).until(ec.element_to_be_clickable((By.XPATH,\"//select[@id='pagination-values']//option[@value = '20']\"))).click()"
   ]
  },
  {
   "cell_type": "code",
   "execution_count": 59,
   "id": "d3ce539c-a249-42df-b243-af1d0f37480f",
   "metadata": {},
   "outputs": [
    {
     "data": {
      "text/html": [
       "<div>\n",
       "<style scoped>\n",
       "    .dataframe tbody tr th:only-of-type {\n",
       "        vertical-align: middle;\n",
       "    }\n",
       "\n",
       "    .dataframe tbody tr th {\n",
       "        vertical-align: top;\n",
       "    }\n",
       "\n",
       "    .dataframe thead th {\n",
       "        text-align: right;\n",
       "    }\n",
       "</style>\n",
       "<table border=\"1\" class=\"dataframe\">\n",
       "  <thead>\n",
       "    <tr style=\"text-align: right;\">\n",
       "      <th></th>\n",
       "      <th>File Name</th>\n",
       "      <th>Month</th>\n",
       "      <th>Year</th>\n",
       "      <th>Download</th>\n",
       "    </tr>\n",
       "  </thead>\n",
       "  <tbody>\n",
       "    <tr>\n",
       "      <th>0</th>\n",
       "      <td>Indian Companies Foriegn Companies Register in...</td>\n",
       "      <td>October</td>\n",
       "      <td>2022</td>\n",
       "      <td>NaN</td>\n",
       "    </tr>\n",
       "    <tr>\n",
       "      <th>1</th>\n",
       "      <td>Indian Companies Foriegn Companies Register in...</td>\n",
       "      <td>September</td>\n",
       "      <td>2022</td>\n",
       "      <td>NaN</td>\n",
       "    </tr>\n",
       "    <tr>\n",
       "      <th>2</th>\n",
       "      <td>Indian Companies Foriegn Companies Register in...</td>\n",
       "      <td>August</td>\n",
       "      <td>2022</td>\n",
       "      <td>NaN</td>\n",
       "    </tr>\n",
       "    <tr>\n",
       "      <th>3</th>\n",
       "      <td>Indian Companies_Foreign Companies Register in...</td>\n",
       "      <td>July</td>\n",
       "      <td>2022</td>\n",
       "      <td>NaN</td>\n",
       "    </tr>\n",
       "    <tr>\n",
       "      <th>4</th>\n",
       "      <td>Indian Companies_Foreign Companies Register in...</td>\n",
       "      <td>June</td>\n",
       "      <td>2022</td>\n",
       "      <td>NaN</td>\n",
       "    </tr>\n",
       "  </tbody>\n",
       "</table>\n",
       "</div>"
      ],
      "text/plain": [
       "                                           File Name      Month  Year  \\\n",
       "0  Indian Companies Foriegn Companies Register in...    October  2022   \n",
       "1  Indian Companies Foriegn Companies Register in...  September  2022   \n",
       "2  Indian Companies Foriegn Companies Register in...     August  2022   \n",
       "3  Indian Companies_Foreign Companies Register in...       July  2022   \n",
       "4  Indian Companies_Foreign Companies Register in...       June  2022   \n",
       "\n",
       "   Download  \n",
       "0       NaN  \n",
       "1       NaN  \n",
       "2       NaN  \n",
       "3       NaN  \n",
       "4       NaN  "
      ]
     },
     "execution_count": 59,
     "metadata": {},
     "output_type": "execute_result"
    }
   ],
   "source": [
    "table = wd1.find_element_by_xpath(\"//table[@class='table parent']\")\n",
    "t = table.get_attribute('outerHTML')\n",
    "tab_dfs = pd.read_html(t)\n",
    "df = tab_dfs[0]\n",
    "df\n",
    "#d = re.findall(r'data-value=\"(.*?)\"', t)"
   ]
  },
  {
   "cell_type": "code",
   "execution_count": 43,
   "id": "72d0b1e1-95c6-4d9c-81aa-1cd92854eb5d",
   "metadata": {},
   "outputs": [
    {
     "name": "stdout",
     "output_type": "stream",
     "text": [
      "JIiy0pXLc4BxBHuhMFKzMg%3D%3D\n",
      "u6fk7PJ0d4n5mYqvt0GsXQ%3D%3D\n",
      "X1%2BcvIGnmzo8MdQIsPZO4Q%3D%3D\n",
      "50sNVIfVFw%2B%2BpEQk8kfQCA%3D%3D\n",
      "eTusNJkJ8ZfPktZmur3Qig%3D%3D\n"
     ]
    }
   ],
   "source": [
    "for v in set(d[1:len(d)]):\n",
    "    print(v)"
   ]
  },
  {
   "cell_type": "code",
   "execution_count": 23,
   "id": "b3a5eb3c-6660-437f-93fd-05464031b146",
   "metadata": {},
   "outputs": [],
   "source": [
    "driver = webdriver.Chrome('D:\\libs\\chromedriver.exe')\n",
    "driver.get(\"https://www.mca.gov.in/bin/dms/getdocument?mds=\"JIiy0pXLc4BxBHuhMFKzMg%3D%3D\"&type=open\")"
   ]
  },
  {
   "cell_type": "code",
   "execution_count": null,
   "id": "e53353e7-4156-4ed3-a6bd-f2a56e25c144",
   "metadata": {},
   "outputs": [],
   "source": [
    "wd1.find_element_by_xpath(\"//h3[@class='LC20lb MBeuO DKV0Md']\")"
   ]
  },
  {
   "cell_type": "code",
   "execution_count": 9,
   "id": "d88eaf3e-4862-4d96-a84a-90e98c2cf2e2",
   "metadata": {},
   "outputs": [],
   "source": [
    "url = 'https://google.com/search?q=Bagalkot+Milks+(P)+Ltd.+insiderbiz'"
   ]
  },
  {
   "cell_type": "code",
   "execution_count": 12,
   "id": "409be3f7-410b-4927-b023-b8522b5130b5",
   "metadata": {},
   "outputs": [
    {
     "data": {
      "text/plain": [
       "'<html><head></head><body></body></html>'"
      ]
     },
     "execution_count": 12,
     "metadata": {},
     "output_type": "execute_result"
    }
   ],
   "source": [
    "#wd1.get(\"https://www.tijorifinance.com/in/watchlist\")\n",
    "html = wd1.page_source\n",
    "html"
   ]
  },
  {
   "cell_type": "code",
   "execution_count": 6,
   "id": "39b4e8bb-81c8-425c-9574-2f8c1a46d97b",
   "metadata": {},
   "outputs": [],
   "source": [
    "import pandas as pd\n",
    "data1 = pd.read_html(\"C:/Users/018598/Document.html\")"
   ]
  },
  {
   "cell_type": "code",
   "execution_count": 13,
   "id": "81b00bb4-51c9-4644-b110-6f0e6d878d43",
   "metadata": {},
   "outputs": [],
   "source": [
    "import pandas as pd\n",
    "data1 = pd.read_html(\"C:/Users/018598/Do.html\")"
   ]
  },
  {
   "cell_type": "code",
   "execution_count": null,
   "id": "a7e8d685-82bb-4a1b-9fc2-b1f2d239f0a8",
   "metadata": {},
   "outputs": [],
   "source": [
    "data1"
   ]
  },
  {
   "cell_type": "code",
   "execution_count": null,
   "id": "a63d08f2-2e83-4146-8cb5-736c29542e12",
   "metadata": {},
   "outputs": [],
   "source": [
    "html = wd1.page_source\n",
    "html"
   ]
  },
  {
   "cell_type": "code",
   "execution_count": null,
   "id": "05c6af5f-13cd-416c-8eb1-90182f630eaa",
   "metadata": {},
   "outputs": [],
   "source": [
    "WebDriverWait(wd1,20).until(ec.presence_of_element_located((By.XPATH, \"//div//i//svg[@xmlns='http://www.w3.org/2000/svg']\"))).click\n",
    "que = WebDriverWait(wd1,20).until(ec.presence_of_element_located((By.XPATH, \"//input[@id='companySearch2']\"))).click\n",
    "que.clear()\n",
    "que.send_keys('Karur Vysya Bank Ltd.')\n",
    "que.send_keys(Keys.RETURN)\n",
    "WebDriverWait(wd1,20).until(ec.presence_of_element_located((By.XPATH, \"//li[@reltba='fintab']\"))).click\n",
    "wd1.save_screenshot('screensh.png')"
   ]
  },
  {
   "cell_type": "code",
   "execution_count": null,
   "id": "e1f1a419-f102-4a64-a3aa-2d8b4c2815e9",
   "metadata": {},
   "outputs": [],
   "source": [
    "wd1.get(\"https://www.tijorifinance.com/in/watchlist?page=1\")\n",
    "html = wd1.page_source\n",
    "g = re.findall(r'href=\"(.*?)\">South Indian Bank', html)\n",
    "g\n",
    "#WebDriverWait(wd1,20).until(ec.prese"
   ]
  },
  {
   "cell_type": "code",
   "execution_count": null,
   "id": "8e46e85e-893c-4ff6-8779-a158559df60a",
   "metadata": {},
   "outputs": [],
   "source": [
    "data = pd.read_excel('pincodes_1.xlsx', 'Sheet1')\n",
    "f=[]\n",
    "for i in data['Pin']:    \n",
    "    que = wd1.find_element_by_xpath(\"//input[@type='text']\")\n",
    "    que.clear()\n",
    "    que.send_keys(i)\n",
    "    que.send_keys(Keys.RETURN)\n",
    "    f.append((wd1.find_element_by_xpath(\"//input[@name='lat']\").text,wd1.find_element_by_xpath(\"//input[@name='lng']\").text))"
   ]
  },
  {
   "cell_type": "code",
   "execution_count": null,
   "id": "5f837a60-a7bf-470f-8c54-108106ac7d1b",
   "metadata": {},
   "outputs": [],
   "source": [
    "WebDriverWait(wd1,20).until(ec.presence_of_element_located((By.XPATH, \"//th//strong[@class='ng-binding']\"))).text\n"
   ]
  },
  {
   "cell_type": "code",
   "execution_count": null,
   "id": "94aac55a-5ba7-4dcf-ad2b-a2b2d1309cde",
   "metadata": {},
   "outputs": [],
   "source": [
    "wd1 = webdriver.Chrome('D:\\libs\\chromedriver.exe',chrome_options=chrome_options)\n",
    "wd1.get(\"https://www.fieo.org/BrowseBuyersbyChapters.php\")"
   ]
  },
  {
   "cell_type": "code",
   "execution_count": null,
   "id": "72b12c86-d656-4110-be62-d2b8c2443639",
   "metadata": {},
   "outputs": [],
   "source": [
    "wd1 = webdriver.Chrome('D:\\libs\\chromedriver.exe',chrome_options=chrome_options)\n",
    "wd1.get(\"https://www.mastersindia.co/gst-number-search-by-name-and-pan/\")"
   ]
  },
  {
   "cell_type": "code",
   "execution_count": null,
   "id": "3aec52c0-279b-4596-848e-c7f116911c19",
   "metadata": {},
   "outputs": [],
   "source": [
    "dic = {'South': 'INE683A01023',\n",
    " 'Fed': 'INE171A01029',\n",
    " 'CUB': 'INE491A01021',\n",
    " 'karur': 'INE036D01028',\n",
    " 'CSB': 'INE679A01013',\n",
    " 'RBL': 'INE976G01028'}"
   ]
  },
  {
   "cell_type": "code",
   "execution_count": null,
   "id": "6da0f432-181f-4673-be10-0684c5f72306",
   "metadata": {},
   "outputs": [],
   "source": [
    "import time\n",
    "for value in dic:\n",
    "    wd1 = webdriver.Chrome('D:\\libs\\chromedriver.exe',chrome_options=chrome_options)\n",
    "    wd1.get(\"https://www.bseindia.com/markets.html\")\n",
    "    wd1.save_screenshot('screensh.png')\n",
    "    que = WebDriverWait(wd1,20).until(ec.presence_of_element_located((By.XPATH, \"//form//div//input[@type='text']\")))\n",
    "    #que = wd1.find_element_by_xpath(\"//input[@type='text']\")\n",
    "    que.clear()\n",
    "    que.send_keys(dic[value])\n",
    "    wd1.implicitly_wait(5)\n",
    "    wd1.save_screenshot('screensh.png')\n",
    "    #WebDriverWait(wd1,15).until(ec.presence_of_element_located((By.XPATH, \"//li[@class='quotemenu']\")))\n",
    "    que.send_keys(Keys.RETURN)\n",
    "    print(dic[value])\n",
    "    #print(wd1.find_element_by_xpath(\"//th//strong[@class='ng-binding']\").text)\n",
    "    WebDriverWait(wd1,20).until(ec.presence_of_element_located((By.XPATH, \"//thead//tr//th//strong[@class='ng-binding']\"))).text\n",
    "\n",
    "#     try:\n",
    "#         print(wd1.find_element_by_xpath(\"//th//strong[@class='ng-binding']\").text)\n",
    "#         #WebDriverWait(wd1,20).until(ec.presence_of_element_located((By.XPATH, \"//th//strong[@class='ng-binding']\"))).text\n",
    "#     except NoSuchElementException:\n",
    "#             try:\n",
    "#                 print(wd1.find_element_by_xpath(\"//th//strong[@class='ng-binding']\").text)\n",
    "#                 #WebDriverWait(wd1,20).until(ec.presence_of_element_located((By.XPATH, \"//th//strong[@class='ng-binding']\"))).text\n",
    "#             except NoSuchElementException:\n",
    "#                     try:\n",
    "#                         print(wd1.find_element_by_xpath(\"//th//strong[@class='ng-binding']\").text)\n",
    "#                         #WebDriverWait(wd1,20).until(ec.presence_of_element_located((By.XPATH, \"//th//strong[@class='ng-binding']\"))).text\n",
    "#                     except NoSuchElementException:\n",
    "#                             try:\n",
    "#                                 print(wd1.find_element_by_xpath(\"//th//strong[@class='ng-binding']\").text)\n",
    "#                                 #WebDriverWait(wd1,20).until(ec.presence_of_element_located((By.XPATH, \"//th//strong[@class='ng-binding']\"))).text\n",
    "#                             except NoSuchElementException:\n",
    "\n",
    "#                                 print('try again')\n",
    "                \n",
    "                "
   ]
  },
  {
   "cell_type": "code",
   "execution_count": null,
   "id": "6545ad58-4d3c-4dd3-869e-bbe05f2abf17",
   "metadata": {},
   "outputs": [],
   "source": [
    "que = wd1.find_element_by_xpath(\"//input[@placeholder='Search Company GSTIN by Name or PAN']\")\n",
    "que.clear()\n",
    "que.send_keys('AXLES INDIA LIMITED')\n",
    "wd1.save_screenshot('screensh.png')\n",
    "#wd1.find_element_by_xpath(\"//jdiv[@id='jivo_close_button']\").click()\n",
    "t = wd1.find_element_by_xpath(\"//button[@class='indexstyled__StyledAppButton-sc-1jqct5f-0 iSMwNy indexstyled__StyledButton-sc-1gm4591-2 dtmeEZ']\")\n",
    "t.click()\n",
    "x= WebDriverWait(wd1,20).until(ec.presence_of_element_located((By.XPATH, \"//table\"))).get_attribute('outerHTML')\n",
    "wd1.save_screenshot('screensh.png')\n",
    "#wd1.save_screenshot('screensh.png')\n",
    "# #wd1.find_element_by_name(\"Search\").click()"
   ]
  },
  {
   "cell_type": "code",
   "execution_count": null,
   "id": "e5fca27b-1234-46f9-bbac-3e613eca4b4e",
   "metadata": {},
   "outputs": [],
   "source": [
    "#WebDriverWait(wd1, 2).until(ec.element_to_be_clickable((By.XPATH, \"//button[@class='indexstyled__StyledAppButton-sc-1jqct5f-0 iSMwNy indexstyled__StyledButton-sc-1gm4591-2 dtmeEZ']\"))).click()\n",
    "x= WebDriverWait(wd1,20).until(ec.presence_of_element_located((By.XPATH, \"//table\"))).get_attribute('outerHTML')\n",
    "p = re.compile(r'<td +(?:(?!var\\d).)*?>+(?:(?!var\\d).)*?</td>', re.DOTALL)\n",
    "data = p.findall(x)\n",
    "y = ''.join(data)\n",
    "f1 = pd.DataFrame()\n",
    "q = re.compile(r'>+(?:(?!var\\d).)*?</td>', re.DOTALL)\n",
    "data = q.findall(y)\n",
    "da = [data[0+i:11+i] for i in range(0,len(data),11)]\n",
    "d = [i[0:3] for i in da]\n",
    "data = pd.DataFrame(d)\n",
    "f1 = f1.append(data)\n",
    "f1\n",
    "# data = d.append(data[:3])\n",
    "# data\n",
    "# data = pd.DataFrame(data).tr\n",
    "# data"
   ]
  },
  {
   "cell_type": "code",
   "execution_count": null,
   "id": "53ecb393-a8ab-4290-9a9d-089d7fa1a1e1",
   "metadata": {},
   "outputs": [],
   "source": [
    "df = pd.read_excel('EEPCGSTREQUIRED.XLSX')\n",
    "df1=[]\n",
    "#df1 = pd.DataFrame()"
   ]
  },
  {
   "cell_type": "code",
   "execution_count": null,
   "id": "3f1162bf-72bd-46ed-92f5-85585c8a9f67",
   "metadata": {},
   "outputs": [],
   "source": [
    "que = wd1.find_element_by_xpath(\"//input[@placeholder='Search Company GSTIN by Name or PAN']\")\n",
    "que.clear()\n",
    "que.send_keys(df.iloc[2,0])\n",
    "wd1.save_screenshot('screensh.png')\n",
    "#wd1.find_element_by_xpath(\"//jdiv[@id='jivo_close_button']\").click()\n",
    "t = wd1.find_element_by_xpath(\"//button[@class='indexstyled__StyledAppButton-sc-1jqct5f-0 iSMwNy indexstyled__StyledButton-sc-1gm4591-2 dtmeEZ']\")\n",
    "t.click()\n",
    "x= WebDriverWait(wd1,20).until(ec.presence_of_element_located((By.XPATH, \"//table\"))).get_attribute('outerHTML')"
   ]
  },
  {
   "cell_type": "code",
   "execution_count": null,
   "id": "b1fc1587-baa2-47c8-867f-306b7b6fc2af",
   "metadata": {},
   "outputs": [],
   "source": [
    "wd1 = webdriver.Chrome('D:\\libs\\chromedriver.exe',chrome_options=chrome_options)\n",
    "wd1.get(\"https://www.mastersindia.co/gst-number-search-by-name-and-pan/\")\n",
    "f=[]\n",
    "df1 = pd.DataFrame()\n",
    "for i in range(6800,7200):\n",
    "  try:\n",
    "    que = wd1.find_element_by_xpath(\"//input[@placeholder='Search Company GSTIN by Name or PAN']\")\n",
    "    que.clear()\n",
    "    que.send_keys(df.iloc[i,0])\n",
    "    wd1.find_element_by_xpath(\"//jdiv[@id='jivo_close_button']\").click()\n",
    "    wd1.save_screenshot('screensh.png')\n",
    "    t = wd1.find_element_by_xpath(\"//button[@class='indexstyled__StyledAppButton-sc-1jqct5f-0 iSMwNy indexstyled__StyledButton-sc-1gm4591-2 dtmeEZ']\")\n",
    "    t.click()\n",
    "    x= WebDriverWait(wd1,20).until(ec.presence_of_element_located((By.XPATH, \"//table\"))).get_attribute('outerHTML')\n",
    "    p = re.compile(r'<td +(?:(?!var\\d).)*?>+(?:(?!var\\d).)*?</td>', re.DOTALL)\n",
    "    data = p.findall(x)\n",
    "    y = ''.join(data)\n",
    "    q = re.compile(r'>+(?:(?!var\\d).)*?</td>', re.DOTALL)\n",
    "    data = q.findall(y)\n",
    "    da = [data[0+i:11+i] for i in range(0,len(data),11)]\n",
    "    d = [i[0:3] for i in da]\n",
    "    df1.append(d)\n",
    "    #data = pd.DataFrame(d)\n",
    "    #df1 = df1.append(data)\n",
    "                           \n",
    "  except (NoSuchElementException,TimeoutException):\n",
    "    f.append(i)\n",
    "    print (\"Exception has been thrown. \"+str(i))  \n",
    "  #wd.close() "
   ]
  },
  {
   "cell_type": "code",
   "execution_count": null,
   "id": "c781470c-e8eb-4da5-bec0-7daf471b1c8e",
   "metadata": {},
   "outputs": [],
   "source": [
    "for i in range(0,200):\n",
    "  try:\n",
    "    wd1 = webdriver.Chrome('D:\\libs\\chromedriver.exe',chrome_options=chrome_options)\n",
    "    wd1.get(\"https://www.mastersindia.co/gst-number-search-and-gstin-verification/\")\n",
    "    que = wd1.find_element_by_xpath(\"//input[@placeholder='Search by GST Number']\")\n",
    "    que.clear()\n",
    "    que.send_keys(df.iloc[i,0])\n",
    "    t = wd1.find_element_by_xpath(\"//button[@class='indexstyled__StyledAppButton-sc-1jqct5f-0 iSMwNy indexstyled__StyledButton-sc-1gm4591-2 dtmeEZ']\")\n",
    "    #wd1.find_element_by_xpath(\"//jdiv[@id='jivo_close_button']\").click()\n",
    "    t.click()\n",
    "    x= [i.get_attribute('outerHTML')for i in WebDriverWait(wd1,20).until(ec.presence_of_all_elements_located((By.XPATH, \"//table//tbody//tr//td[@class='TableRowstyled__StyledTableItem-sc-1dtpknt-0 kULGfa']\")))]\n",
    "    x = ''.join(x)\n",
    "    #print(x,type(x))\n",
    "    #x1= WebDriverWait(wd1,20).until(ec.presence_of_all_elements_located((By.XPATH, \"//table//tbody//tr//td[@class='TableRowstyled__StyledTableItem-sc-1dtpknt-0 kULGfa']\")))[2].get_attribute('outerHTML')\n",
    "    #wd1.save_screenshot(df.iloc[i,0]+'screensh.png')\n",
    "    #p = re.compile(r'<td +(?:(?!var\\d).)*?>+(?:(?!var\\d).)*?</td>', re.DOTALL)\n",
    "#     p = re.compile(r'<tr+(?:(?!var\\d).)*?>+(?:(?!var\\d).)*?<div>', re.DOTALL)\n",
    "#     data = p.findall(x)\n",
    "    #y = ''.join(data)\n",
    "    q = re.compile(r'>+(?:(?!var\\d).)*?<', re.DOTALL)\n",
    "    data = q.findall(x)\n",
    "    a = np.array(data)\n",
    "    b = [0,10,20]\n",
    "    d = (list(a[b]))\n",
    "    print(b)\n",
    "    df1.append(d)\n",
    "                               \n",
    "  except (NoSuchElementException,TimeoutException):\n",
    "    print (\"Exception has been thrown. \"+str(i))\n"
   ]
  },
  {
   "cell_type": "code",
   "execution_count": null,
   "id": "1becb5ce-ce41-4eff-8d7b-b99537a345b6",
   "metadata": {},
   "outputs": [],
   "source": [
    "df1.to_excel(\"GS21.xlsx\", header = False) "
   ]
  },
  {
   "cell_type": "code",
   "execution_count": null,
   "id": "82e31e9c-52b5-4958-85b6-4d34644e51a5",
   "metadata": {},
   "outputs": [],
   "source": [
    "e=[]\n",
    "for j in range(len(d)):\n",
    "    for i in d[j]:\n",
    "        e.append(i)"
   ]
  },
  {
   "cell_type": "code",
   "execution_count": null,
   "id": "42a68d8c-4552-42fb-a59c-de6d6fe45703",
   "metadata": {},
   "outputs": [],
   "source": [
    "pd.DataFrame(e).to_excel(\"Gfin.xlsx\", header = False) "
   ]
  },
  {
   "cell_type": "code",
   "execution_count": null,
   "id": "adda761e-d2b3-4243-bece-954f810bc625",
   "metadata": {},
   "outputs": [],
   "source": [
    "import numpy as np\n",
    "import os\n",
    "\n",
    "# # # dir_path for input reading and output files & a for loop # # #\n",
    "path_input = 'C:/Users/018598/GST_web/'\n",
    "d = []\n",
    "for file in os.listdir(path_input):\n",
    "    df = pd.read_excel(path_input+file)\n",
    "    d.append(df.to_numpy())\n",
    "e = pd.concat(d)\n"
   ]
  },
  {
   "cell_type": "code",
   "execution_count": null,
   "id": "02b54ad3-bf7b-4dc0-97da-65e3740e8b18",
   "metadata": {},
   "outputs": [],
   "source": [
    "df2 = pd.concat(df1, ignore_index=True)"
   ]
  },
  {
   "cell_type": "code",
   "execution_count": null,
   "id": "bc65b9eb-ce6f-45f3-9f18-951da0d07e27",
   "metadata": {},
   "outputs": [],
   "source": [
    "df2.to_excel(\"Gfinal.xlsx\", header = False) "
   ]
  },
  {
   "cell_type": "code",
   "execution_count": null,
   "id": "24515e1f-f1a4-44da-9923-0bb687991e8c",
   "metadata": {},
   "outputs": [],
   "source": [
    "f=[]\n",
    "wd1.get(\"https://www.fieo.org/searchItcHcCode_fieo.php?searchStringProducts=47&stype=Like\")\n",
    "html = wd1.page_source\n",
    "g = re.findall(r'href=\"(.*?)\">Certificate', html)\n",
    "wd2.get('https://www.fieo.org/'+g[0])\n",
    "#element7 = wd2.find_element_by_xpath(\"//strong[@data-info='Products/Services:']\").text\n",
    "element7 = re.sub(r'Constitution:', '', str(wd2.find_element_by_xpath(\"//td[@colspan='2']//table//tbody//tr//td//font[@face='arial'][@size='1']\").text))\n",
    "element1 = wd2.find_element_by_xpath(\"//strong[@data-info='memberName']\").text\n",
    "element6 = wd2.find_element_by_xpath(\"//span[@data-info='address']\").text\n",
    "element2 = wd2.find_element_by_xpath(\"//span[@data-info='city']\").text\n",
    "element3 = wd2.find_element_by_xpath(\"//span[@data-info='state']\").text\n",
    "element4 = wd2.find_element_by_xpath(\"//span[@data-info='pincode']\").text\n",
    "element5 = re.sub(r'Products/Services:\\n', '', str(wd2.find_element_by_xpath(\"//font[@color='#111111']\").text)) \n",
    "f.append((element7,element5, element6,element1, element2, element3, element4 ))"
   ]
  },
  {
   "cell_type": "code",
   "execution_count": null,
   "id": "8a42c714-3034-4d9d-9d01-8520d1469005",
   "metadata": {},
   "outputs": [],
   "source": [
    "f= []\n",
    "wd1 = webdriver.Chrome('D:\\libs\\chromedriver.exe',chrome_options=chrome_options)\n",
    "wd2 = webdriver.Chrome('D:\\libs\\chromedriver.exe',chrome_options=chrome_options)\n",
    "try:\n",
    "    wd1.get(\"https://www.fieo.org/searchItcHcCode_fieo.php?searchStringProducts=47&stype=Like\")\n",
    "    html = wd1.page_source\n",
    "    g = re.findall(r'href=\"(.*?)\">Certificate', html)\n",
    "    for j in g:\n",
    "        wd2.get('https://www.fieo.org/'+j)\n",
    "        #element7 = wd2.find_element_by_xpath(\"//strong[@data-info='Products/Services:']\").text\n",
    "        element7 = re.sub(r'Constitution:', '', str(wd2.find_element_by_xpath(\"//td[@colspan='2']//table//tbody//tr//td//font[@face='arial'][@size='1']\").text))\n",
    "        element1 = wd2.find_element_by_xpath(\"//strong[@data-info='memberName']\").text\n",
    "        element6 = wd2.find_element_by_xpath(\"//span[@data-info='address']\").text\n",
    "        element2 = wd2.find_element_by_xpath(\"//span[@data-info='city']\").text\n",
    "        element3 = wd2.find_element_by_xpath(\"//span[@data-info='state']\").text\n",
    "        element4 = wd2.find_element_by_xpath(\"//span[@data-info='pincode']\").text\n",
    "        element5 = re.sub(r'Products/Services:\\n', '', str(wd2.find_element_by_xpath(\"//font[@color='#111111']\").text))            \n",
    "        f.append((element7,element5, element6,element1, element2, element3, element4 ))\n",
    "except (NoSuchElementException,TimeoutException):\n",
    "    print (\"Exception has been thrown. \"+str(j)) "
   ]
  },
  {
   "cell_type": "code",
   "execution_count": null,
   "id": "b9363122-3627-495a-b15e-0d969b6814ca",
   "metadata": {},
   "outputs": [],
   "source": [
    "pd.DataFrame(f).to_excel(\"Dr5.xlsx\", header = False) "
   ]
  },
  {
   "cell_type": "code",
   "execution_count": null,
   "id": "4a60a701-ea81-4e9c-927d-35c87d33bb36",
   "metadata": {},
   "outputs": [],
   "source": [
    "html = wd1.page_source\n",
    "d = re.findall(r'href=\"(.*?)\">Company', html)\n",
    "l =[\"https://www.fieo.org/\"+ i for i in d ]\n",
    "l1=[]\n",
    "for i,j in enumerate(l):\n",
    "    if i>76:\n",
    "        l1.append((i+2,j))   \n",
    "    else:\n",
    "        l1.append((i+1,j))"
   ]
  },
  {
   "cell_type": "code",
   "execution_count": null,
   "id": "43967e6f-6c75-4333-b14c-30c5a447e13a",
   "metadata": {},
   "outputs": [],
   "source": [
    "wd2 = webdriver.Chrome('D:\\libs\\chromedriver.exe',chrome_options=chrome_options)\n",
    "wd1 = webdriver.Chrome('D:\\libs\\chromedriver.exe',chrome_options=chrome_options)\n",
    "f = []\n",
    "for i in range(len(l1)-69):\n",
    "    try:\n",
    "        wd1.get(l1[i][1])\n",
    "        html = wd1.page_source\n",
    "        g = re.findall(r'href=\"(.*?)\">Certificate', html)\n",
    "        for j in g:\n",
    "            wd2.get('https://www.fieo.org/'+j)\n",
    "            html = wd2.page_source\n",
    "            element7 = l1[i][0]\n",
    "            element1 = wd2.find_element_by_xpath(\"//strong[@data-info='memberName']\").text\n",
    "            element6 = wd2.find_element_by_xpath(\"//span[@data-info='address']\").text\n",
    "            element2 = wd2.find_element_by_xpath(\"//span[@data-info='city']\").text\n",
    "            element3 = wd2.find_element_by_xpath(\"//span[@data-info='state']\").text\n",
    "            element4 = wd2.find_element_by_xpath(\"//span[@data-info='pincode']\").text\n",
    "            element5 = re.sub(r'Products/Services:\\n', '', str(wd2.find_element_by_xpath(\"//font[@color='#111111']\").text))            \n",
    "            f.append((element7,element5, element6,element1, element2, element3, element4 ))\n",
    "    except (NoSuchElementException,TimeoutException):\n",
    "        print (\"Exception has been thrown. \"+str(j)) "
   ]
  },
  {
   "cell_type": "code",
   "execution_count": null,
   "id": "ddcae2fb-7178-4557-b267-492b7be02d25",
   "metadata": {},
   "outputs": [],
   "source": [
    "t = pd.DataFrame(f, columns =[\"Industry\",\"address\", \"memberName\", \"city\", \"state\", \"pincode\"])\n",
    "t = t.dropna()\n",
    "t"
   ]
  },
  {
   "cell_type": "code",
   "execution_count": null,
   "id": "ca4aa3c4-dc50-41be-ae7f-03c116395408",
   "metadata": {},
   "outputs": [],
   "source": [
    "t.to_excel('FIEO.xlsx')"
   ]
  },
  {
   "cell_type": "code",
   "execution_count": null,
   "id": "f5396328-4198-4eab-81b1-1affeb95b1e5",
   "metadata": {},
   "outputs": [],
   "source": [
    "wd2 = webdriver.Chrome('D:\\libs\\chromedriver.exe',chrome_options=chrome_options)\n",
    "wd2.get(e[1])\n",
    "html = wd2.page_source"
   ]
  },
  {
   "cell_type": "code",
   "execution_count": null,
   "id": "b6ccd4d7-a956-44cf-a29b-530a5375424a",
   "metadata": {},
   "outputs": [],
   "source": [
    "wd2 = webdriver.Chrome('D:\\libs\\chromedriver.exe',chrome_options=chrome_options)\n",
    "e = []\n",
    "for i in l1:\n",
    "    wd2.get(i)\n",
    "    html = wd2.page_source\n",
    "    e = append(re.findall(r'href=\"(.*?)\">Certificate', html))\n",
    "    #l1 =[\"https://www.fieo.org/\"+ i for i in d ]\n",
    "    https://www.fieo.org/"
   ]
  },
  {
   "cell_type": "code",
   "execution_count": null,
   "id": "c83361f2-9ca6-43a1-b4ca-e90273ff7601",
   "metadata": {},
   "outputs": [],
   "source": [
    "wd1 = webdriver.Chrome('D:\\libs\\chromedriver.exe',chrome_options=chrome_options)\n",
    "wd1.get(\"https://www.mastersindia.co/gst-number-search-and-gstin-verification/\")"
   ]
  },
  {
   "cell_type": "code",
   "execution_count": null,
   "id": "19245a6b-4dee-4fc7-8ee5-26728e8dc110",
   "metadata": {},
   "outputs": [],
   "source": [
    "wd1 = webdriver.Chrome('D:\\libs\\chromedriver.exe',chrome_options=chrome_options)\n",
    "wd1.get(\"https://www.mastersindia.co/gst-number-search-and-gstin-verification/\")\n",
    "wd2 = webdriver.Chrome('D:\\libs\\chromedriver.exe',chrome_options=chrome_options)\n",
    "wd2.get(\"https://www.mastersindia.co/gst-number-search-and-gstin-verification/\")\n",
    "wd3 = webdriver.Chrome('D:\\libs\\chromedriver.exe',chrome_options=chrome_options)\n",
    "wd3.get(\"https://www.mastersindia.co/gst-number-search-and-gstin-verification/\")\n",
    "wd4 = webdriver.Chrome('D:\\libs\\chromedriver.exe',chrome_options=chrome_options)\n",
    "wd4.get(\"https://www.mastersindia.co/gst-number-search-and-gstin-verification/\")\n",
    "wd5 = webdriver.Chrome('D:\\libs\\chromedriver.exe',chrome_options=chrome_options)\n",
    "wd5.get(\"https://www.mastersindia.co/gst-number-search-and-gstin-verification/\")\n",
    "wd6 = webdriver.Chrome('D:\\libs\\chromedriver.exe',chrome_options=chrome_options)\n",
    "wd6.get(\"https://www.mastersindia.co/gst-number-search-and-gstin-verification/\")"
   ]
  },
  {
   "cell_type": "code",
   "execution_count": null,
   "id": "4d5eda22-9dd6-4ff0-b76a-f11c98995576",
   "metadata": {},
   "outputs": [],
   "source": [
    "for i in range(36200,36300):\n",
    "  try:\n",
    "    que=wd1.find_element_by_name(\"keyword\")\n",
    "    que.clear()\n",
    "    que.send_keys(df.iloc[i,0])\n",
    "    wd1.find_element_by_name(\"Submit\").click()\n",
    "    WebDriverWait(wd1, 5)\n",
    "    x = WebDriverWait(wd1,10).until(ec.presence_of_element_located((By.CLASS_NAME,\"mytab\"))).get_attribute('innerHTML')\n",
    "    p = re.compile(r'<td>+(?:(?!var\\d).)*?</td>', re.DOTALL)\n",
    "    data = p.findall(x)\n",
    "    data = pd.DataFrame(data)\n",
    "    df1 = df1.append(data.transpose())\n",
    "\n",
    "    que=wd2.find_element_by_name(\"keyword\")\n",
    "    que.clear()\n",
    "    que.send_keys(df.iloc[i+100,0])\n",
    "    wd2.find_element_by_name(\"Submit\").click()\n",
    "    WebDriverWait(wd2, 5)\n",
    "    x = WebDriverWait(wd2,10).until(ec.presence_of_element_located((By.CLASS_NAME,\"mytab\"))).get_attribute('innerHTML')\n",
    "    p = re.compile(r'<td>+(?:(?!var\\d).)*?</td>', re.DOTALL)\n",
    "    data = p.findall(x)\n",
    "    data = pd.DataFrame(data)\n",
    "    df1 = df1.append(data.transpose())\n",
    "\n",
    "    que=wd3.find_element_by_name(\"keyword\")\n",
    "    que.clear()\n",
    "    que.send_keys(df.iloc[i+200,0])\n",
    "    wd3.find_element_by_name(\"Submit\").click()\n",
    "    WebDriverWait(wd3, 5)\n",
    "    x = WebDriverWait(wd3,10).until(ec.presence_of_element_located((By.CLASS_NAME,\"mytab\"))).get_attribute('innerHTML')\n",
    "    p = re.compile(r'<td>+(?:(?!var\\d).)*?</td>', re.DOTALL)\n",
    "    data = p.findall(x)\n",
    "    data = pd.DataFrame(data)\n",
    "    df1 = df1.append(data.transpose())\n",
    "\n",
    "    que=wd4.find_element_by_name(\"keyword\")\n",
    "    que.clear()\n",
    "    que.send_keys(df.iloc[i+300,0])\n",
    "    wd4.find_element_by_name(\"Submit\").click()\n",
    "    WebDriverWait(wd4, 5)\n",
    "    x = WebDriverWait(wd4,100).until(ec.presence_of_element_located((By.CLASS_NAME,\"mytab\"))).get_attribute('innerHTML')\n",
    "    p = re.compile(r'<td>+(?:(?!var\\d).)*?</td>', re.DOTALL)\n",
    "    data = p.findall(x)\n",
    "    data = pd.DataFrame(data)\n",
    "    df1 = df1.append(data.transpose())\n",
    "\n",
    "    que=wd5.find_element_by_name(\"keyword\")\n",
    "    que.clear()\n",
    "    que.send_keys(df.iloc[i+400,0])\n",
    "    wd5.find_element_by_name(\"Submit\").click()\n",
    "    WebDriverWait(wd5, 5)\n",
    "    x = WebDriverWait(wd5,10).until(ec.presence_of_element_located((By.CLASS_NAME,\"mytab\"))).get_attribute('innerHTML')\n",
    "    p = re.compile(r'<td>+(?:(?!var\\d).)*?</td>', re.DOTALL)\n",
    "    data = p.findall(x)\n",
    "    data = pd.DataFrame(data)\n",
    "    df1 = df1.append(data.transpose())\n",
    "\n",
    "    que=wd6.find_element_by_name(\"keyword\")\n",
    "    que.clear()\n",
    "    que.send_keys(df.iloc[i+500,0])\n",
    "    wd6.find_element_by_name(\"Submit\").click()\n",
    "    WebDriverWait(wd6, 5)\n",
    "    x = WebDriverWait(wd6,10).until(ec.presence_of_element_located((By.CLASS_NAME,\"mytab\"))).get_attribute('innerHTML')\n",
    "    p = re.compile(r'<td>+(?:(?!var\\d).)*?</td>', re.DOTALL)\n",
    "    data = p.findall(x)\n",
    "    data = pd.DataFrame(data)\n",
    "    df1 = df1.append(data.transpose())\n",
    "                           \n",
    "  except (NoSuchElementException,TimeoutException):\n",
    "    print (\"Exception has been thrown. \"+str(i))  \n",
    "  #wd.close()                         "
   ]
  },
  {
   "cell_type": "code",
   "execution_count": null,
   "id": "0ec6e903-e699-4900-ae81-2c42f5c88211",
   "metadata": {},
   "outputs": [],
   "source": [
    "df1.to_excel(\"GsT21-5.xlsx\", header = False) "
   ]
  },
  {
   "cell_type": "code",
   "execution_count": null,
   "id": "138e51b4-3eed-4894-8e12-7e93fc19f818",
   "metadata": {},
   "outputs": [],
   "source": [
    "wd1 = webdriver.Chrome('D:\\libs\\chromedriver.exe',chrome_options=chrome_options)\n",
    "wd1.get(\"https://www.mastersindia.co/gst-number-search-and-gstin-verification/\")\t\n",
    "que=wd1.find_element_by_name(\"keyword\")\n",
    "que.clear()\n",
    "que.send_keys(df.iloc[1,0])\n",
    "wd1.find_element_by_name(\"Submit\").click()\n",
    "WebDriverWait(wd1, 5)\n",
    "x = WebDriverWait(wd1,10).until(ec.presence_of_element_located((By.CLASS_NAME,\"mytab\"))).get_attribute('innerHTML')\n",
    "p = re.compile(r'<td>+(?:(?!var\\d).)*?</td>', re.DOTALL)\n",
    "data = p.findall(x)\n",
    "data = pd.DataFrame(data)\n",
    "df1 = df1.append(data.transpose())\n",
    "\n",
    "\n",
    "df1.to_excel(\"GsT2.xlsx\", header = False)"
   ]
  },
  {
   "cell_type": "code",
   "execution_count": null,
   "id": "e7b9e81e-29a2-4272-bfb9-c5927297cb5d",
   "metadata": {},
   "outputs": [],
   "source": [
    "webdriver.Chrome('D:\\libs\\chromedriver.exe',chrome_options=chrome_options)"
   ]
  }
 ],
 "metadata": {
  "kernelspec": {
   "display_name": "Python 3",
   "language": "python",
   "name": "python3"
  },
  "language_info": {
   "codemirror_mode": {
    "name": "ipython",
    "version": 3
   },
   "file_extension": ".py",
   "mimetype": "text/x-python",
   "name": "python",
   "nbconvert_exporter": "python",
   "pygments_lexer": "ipython3",
   "version": "3.9.1"
  }
 },
 "nbformat": 4,
 "nbformat_minor": 5
}
