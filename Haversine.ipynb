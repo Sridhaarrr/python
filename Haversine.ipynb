{
 "cells": [
  {
   "cell_type": "code",
   "execution_count": null,
   "id": "20923393-d8e9-429d-b462-cf0dc556720d",
   "metadata": {},
   "outputs": [],
   "source": [
    "print(\"The original string : \" + test_string)\n",
    "  \n",
    "# using List comprehension + isdigit() +split()\n",
    "# getting numbers from string \n",
    "res = [int(i) for i in test_string.split() if i.isdigit()]\n",
    "  \n",
    "# print result\n",
    "print(\"The numbers list is : \" + str(res))"
   ]
  },
  {
   "cell_type": "code",
   "execution_count": 2,
   "id": "8b6164ac-4f27-437f-9612-9c4ad8101ee9",
   "metadata": {},
   "outputs": [
    {
     "name": "stdout",
     "output_type": "stream",
     "text": [
      "Python version\n",
      "3.9.1 (tags/v3.9.1:1e5d33e, Dec  7 2020, 17:08:21) [MSC v.1927 64 bit (AMD64)]\n"
     ]
    }
   ],
   "source": [
    "import sys\n",
    "print(\"Python version\")\n",
    "print (sys.version)"
   ]
  },
  {
   "cell_type": "code",
   "execution_count": 1,
   "id": "1dc3e97d-b493-4420-a58b-a8b9b6fa596d",
   "metadata": {},
   "outputs": [],
   "source": [
    "File_object = open(r\"IN.txt\")"
   ]
  },
  {
   "cell_type": "code",
   "execution_count": 2,
   "id": "d0a7b020-d36b-4455-8125-9cf3fae632aa",
   "metadata": {},
   "outputs": [],
   "source": [
    "x= File_object.readline()"
   ]
  },
  {
   "cell_type": "code",
   "execution_count": 4,
   "id": "be599ecd-1013-4d6f-8464-89fa74b7a3a6",
   "metadata": {},
   "outputs": [],
   "source": [
    "a =File_object.readlines()"
   ]
  },
  {
   "cell_type": "code",
   "execution_count": 83,
   "id": "0b491763-9330-4206-835f-9b4933081b71",
   "metadata": {},
   "outputs": [],
   "source": [
    "b=[]"
   ]
  },
  {
   "cell_type": "code",
   "execution_count": 84,
   "id": "2354592f-68c0-498d-8a68-486fbca8edf6",
   "metadata": {},
   "outputs": [],
   "source": [
    "for j in range (1,(len(a))):\n",
    "    res = [int(i) for i in a[j].split() if i.isdigit()]\n",
    "    b.append(res[0])    "
   ]
  },
  {
   "cell_type": "code",
   "execution_count": 72,
   "id": "69827a95-acc1-42fe-9c5b-56c84d80cab8",
   "metadata": {},
   "outputs": [],
   "source": [
    "b.append(res[0])"
   ]
  },
  {
   "cell_type": "code",
   "execution_count": 87,
   "id": "c3884ccd-8c22-4f28-a083-52d94989948e",
   "metadata": {},
   "outputs": [],
   "source": [
    "d = pd.DataFrame(b)"
   ]
  },
  {
   "cell_type": "code",
   "execution_count": 88,
   "id": "10d88f1f-44bc-4f62-833f-d38854b97231",
   "metadata": {},
   "outputs": [],
   "source": [
    "d.to_excel(\"GS.xlsx\", index = False)"
   ]
  },
  {
   "cell_type": "code",
   "execution_count": 10,
   "id": "39cba6e0-4297-40dc-a1c3-96d3d24af306",
   "metadata": {},
   "outputs": [
    {
     "ename": "SSLError",
     "evalue": "HTTPSConnectionPool(host='www.familyeducation.com', port=443): Max retries exceeded with url: /baby-names/browse-origin/surname/german (Caused by SSLError(SSLCertVerificationError(1, '[SSL: CERTIFICATE_VERIFY_FAILED] certificate verify failed: unable to get local issuer certificate (_ssl.c:1123)')))",
     "output_type": "error",
     "traceback": [
      "\u001b[1;31m---------------------------------------------------------------------------\u001b[0m",
      "\u001b[1;31mSSLCertVerificationError\u001b[0m                  Traceback (most recent call last)",
      "\u001b[1;32mD:\\lib\\site-packages\\urllib3\\connectionpool.py\u001b[0m in \u001b[0;36murlopen\u001b[1;34m(self, method, url, body, headers, retries, redirect, assert_same_host, timeout, pool_timeout, release_conn, chunked, body_pos, **response_kw)\u001b[0m\n\u001b[0;32m    698\u001b[0m             \u001b[1;31m# Make the request on the httplib connection object.\u001b[0m\u001b[1;33m\u001b[0m\u001b[1;33m\u001b[0m\u001b[1;33m\u001b[0m\u001b[0m\n\u001b[1;32m--> 699\u001b[1;33m             httplib_response = self._make_request(\n\u001b[0m\u001b[0;32m    700\u001b[0m                 \u001b[0mconn\u001b[0m\u001b[1;33m,\u001b[0m\u001b[1;33m\u001b[0m\u001b[1;33m\u001b[0m\u001b[0m\n",
      "\u001b[1;32mD:\\lib\\site-packages\\urllib3\\connectionpool.py\u001b[0m in \u001b[0;36m_make_request\u001b[1;34m(self, conn, method, url, timeout, chunked, **httplib_request_kw)\u001b[0m\n\u001b[0;32m    381\u001b[0m         \u001b[1;32mtry\u001b[0m\u001b[1;33m:\u001b[0m\u001b[1;33m\u001b[0m\u001b[1;33m\u001b[0m\u001b[0m\n\u001b[1;32m--> 382\u001b[1;33m             \u001b[0mself\u001b[0m\u001b[1;33m.\u001b[0m\u001b[0m_validate_conn\u001b[0m\u001b[1;33m(\u001b[0m\u001b[0mconn\u001b[0m\u001b[1;33m)\u001b[0m\u001b[1;33m\u001b[0m\u001b[1;33m\u001b[0m\u001b[0m\n\u001b[0m\u001b[0;32m    383\u001b[0m         \u001b[1;32mexcept\u001b[0m \u001b[1;33m(\u001b[0m\u001b[0mSocketTimeout\u001b[0m\u001b[1;33m,\u001b[0m \u001b[0mBaseSSLError\u001b[0m\u001b[1;33m)\u001b[0m \u001b[1;32mas\u001b[0m \u001b[0me\u001b[0m\u001b[1;33m:\u001b[0m\u001b[1;33m\u001b[0m\u001b[1;33m\u001b[0m\u001b[0m\n",
      "\u001b[1;32mD:\\lib\\site-packages\\urllib3\\connectionpool.py\u001b[0m in \u001b[0;36m_validate_conn\u001b[1;34m(self, conn)\u001b[0m\n\u001b[0;32m   1009\u001b[0m         \u001b[1;32mif\u001b[0m \u001b[1;32mnot\u001b[0m \u001b[0mgetattr\u001b[0m\u001b[1;33m(\u001b[0m\u001b[0mconn\u001b[0m\u001b[1;33m,\u001b[0m \u001b[1;34m\"sock\"\u001b[0m\u001b[1;33m,\u001b[0m \u001b[1;32mNone\u001b[0m\u001b[1;33m)\u001b[0m\u001b[1;33m:\u001b[0m  \u001b[1;31m# AppEngine might not have  `.sock`\u001b[0m\u001b[1;33m\u001b[0m\u001b[1;33m\u001b[0m\u001b[0m\n\u001b[1;32m-> 1010\u001b[1;33m             \u001b[0mconn\u001b[0m\u001b[1;33m.\u001b[0m\u001b[0mconnect\u001b[0m\u001b[1;33m(\u001b[0m\u001b[1;33m)\u001b[0m\u001b[1;33m\u001b[0m\u001b[1;33m\u001b[0m\u001b[0m\n\u001b[0m\u001b[0;32m   1011\u001b[0m \u001b[1;33m\u001b[0m\u001b[0m\n",
      "\u001b[1;32mD:\\lib\\site-packages\\urllib3\\connection.py\u001b[0m in \u001b[0;36mconnect\u001b[1;34m(self)\u001b[0m\n\u001b[0;32m    410\u001b[0m \u001b[1;33m\u001b[0m\u001b[0m\n\u001b[1;32m--> 411\u001b[1;33m         self.sock = ssl_wrap_socket(\n\u001b[0m\u001b[0;32m    412\u001b[0m             \u001b[0msock\u001b[0m\u001b[1;33m=\u001b[0m\u001b[0mconn\u001b[0m\u001b[1;33m,\u001b[0m\u001b[1;33m\u001b[0m\u001b[1;33m\u001b[0m\u001b[0m\n",
      "\u001b[1;32mD:\\lib\\site-packages\\urllib3\\util\\ssl_.py\u001b[0m in \u001b[0;36mssl_wrap_socket\u001b[1;34m(sock, keyfile, certfile, cert_reqs, ca_certs, server_hostname, ssl_version, ciphers, ssl_context, ca_cert_dir, key_password, ca_cert_data, tls_in_tls)\u001b[0m\n\u001b[0;32m    427\u001b[0m     \u001b[1;32mif\u001b[0m \u001b[0msend_sni\u001b[0m\u001b[1;33m:\u001b[0m\u001b[1;33m\u001b[0m\u001b[1;33m\u001b[0m\u001b[0m\n\u001b[1;32m--> 428\u001b[1;33m         ssl_sock = _ssl_wrap_socket_impl(\n\u001b[0m\u001b[0;32m    429\u001b[0m             \u001b[0msock\u001b[0m\u001b[1;33m,\u001b[0m \u001b[0mcontext\u001b[0m\u001b[1;33m,\u001b[0m \u001b[0mtls_in_tls\u001b[0m\u001b[1;33m,\u001b[0m \u001b[0mserver_hostname\u001b[0m\u001b[1;33m=\u001b[0m\u001b[0mserver_hostname\u001b[0m\u001b[1;33m\u001b[0m\u001b[1;33m\u001b[0m\u001b[0m\n",
      "\u001b[1;32mD:\\lib\\site-packages\\urllib3\\util\\ssl_.py\u001b[0m in \u001b[0;36m_ssl_wrap_socket_impl\u001b[1;34m(sock, ssl_context, tls_in_tls, server_hostname)\u001b[0m\n\u001b[0;32m    471\u001b[0m     \u001b[1;32mif\u001b[0m \u001b[0mserver_hostname\u001b[0m\u001b[1;33m:\u001b[0m\u001b[1;33m\u001b[0m\u001b[1;33m\u001b[0m\u001b[0m\n\u001b[1;32m--> 472\u001b[1;33m         \u001b[1;32mreturn\u001b[0m \u001b[0mssl_context\u001b[0m\u001b[1;33m.\u001b[0m\u001b[0mwrap_socket\u001b[0m\u001b[1;33m(\u001b[0m\u001b[0msock\u001b[0m\u001b[1;33m,\u001b[0m \u001b[0mserver_hostname\u001b[0m\u001b[1;33m=\u001b[0m\u001b[0mserver_hostname\u001b[0m\u001b[1;33m)\u001b[0m\u001b[1;33m\u001b[0m\u001b[1;33m\u001b[0m\u001b[0m\n\u001b[0m\u001b[0;32m    473\u001b[0m     \u001b[1;32melse\u001b[0m\u001b[1;33m:\u001b[0m\u001b[1;33m\u001b[0m\u001b[1;33m\u001b[0m\u001b[0m\n",
      "\u001b[1;32md:\\lib\\ssl.py\u001b[0m in \u001b[0;36mwrap_socket\u001b[1;34m(self, sock, server_side, do_handshake_on_connect, suppress_ragged_eofs, server_hostname, session)\u001b[0m\n\u001b[0;32m    499\u001b[0m         \u001b[1;31m# ctx._wrap_socket()\u001b[0m\u001b[1;33m\u001b[0m\u001b[1;33m\u001b[0m\u001b[1;33m\u001b[0m\u001b[0m\n\u001b[1;32m--> 500\u001b[1;33m         return self.sslsocket_class._create(\n\u001b[0m\u001b[0;32m    501\u001b[0m             \u001b[0msock\u001b[0m\u001b[1;33m=\u001b[0m\u001b[0msock\u001b[0m\u001b[1;33m,\u001b[0m\u001b[1;33m\u001b[0m\u001b[1;33m\u001b[0m\u001b[0m\n",
      "\u001b[1;32md:\\lib\\ssl.py\u001b[0m in \u001b[0;36m_create\u001b[1;34m(cls, sock, server_side, do_handshake_on_connect, suppress_ragged_eofs, server_hostname, context, session)\u001b[0m\n\u001b[0;32m   1039\u001b[0m                         \u001b[1;32mraise\u001b[0m \u001b[0mValueError\u001b[0m\u001b[1;33m(\u001b[0m\u001b[1;34m\"do_handshake_on_connect should not be specified for non-blocking sockets\"\u001b[0m\u001b[1;33m)\u001b[0m\u001b[1;33m\u001b[0m\u001b[1;33m\u001b[0m\u001b[0m\n\u001b[1;32m-> 1040\u001b[1;33m                     \u001b[0mself\u001b[0m\u001b[1;33m.\u001b[0m\u001b[0mdo_handshake\u001b[0m\u001b[1;33m(\u001b[0m\u001b[1;33m)\u001b[0m\u001b[1;33m\u001b[0m\u001b[1;33m\u001b[0m\u001b[0m\n\u001b[0m\u001b[0;32m   1041\u001b[0m             \u001b[1;32mexcept\u001b[0m \u001b[1;33m(\u001b[0m\u001b[0mOSError\u001b[0m\u001b[1;33m,\u001b[0m \u001b[0mValueError\u001b[0m\u001b[1;33m)\u001b[0m\u001b[1;33m:\u001b[0m\u001b[1;33m\u001b[0m\u001b[1;33m\u001b[0m\u001b[0m\n",
      "\u001b[1;32md:\\lib\\ssl.py\u001b[0m in \u001b[0;36mdo_handshake\u001b[1;34m(self, block)\u001b[0m\n\u001b[0;32m   1308\u001b[0m                 \u001b[0mself\u001b[0m\u001b[1;33m.\u001b[0m\u001b[0msettimeout\u001b[0m\u001b[1;33m(\u001b[0m\u001b[1;32mNone\u001b[0m\u001b[1;33m)\u001b[0m\u001b[1;33m\u001b[0m\u001b[1;33m\u001b[0m\u001b[0m\n\u001b[1;32m-> 1309\u001b[1;33m             \u001b[0mself\u001b[0m\u001b[1;33m.\u001b[0m\u001b[0m_sslobj\u001b[0m\u001b[1;33m.\u001b[0m\u001b[0mdo_handshake\u001b[0m\u001b[1;33m(\u001b[0m\u001b[1;33m)\u001b[0m\u001b[1;33m\u001b[0m\u001b[1;33m\u001b[0m\u001b[0m\n\u001b[0m\u001b[0;32m   1310\u001b[0m         \u001b[1;32mfinally\u001b[0m\u001b[1;33m:\u001b[0m\u001b[1;33m\u001b[0m\u001b[1;33m\u001b[0m\u001b[0m\n",
      "\u001b[1;31mSSLCertVerificationError\u001b[0m: [SSL: CERTIFICATE_VERIFY_FAILED] certificate verify failed: unable to get local issuer certificate (_ssl.c:1123)",
      "\nDuring handling of the above exception, another exception occurred:\n",
      "\u001b[1;31mMaxRetryError\u001b[0m                             Traceback (most recent call last)",
      "\u001b[1;32m~\\AppData\\Roaming\\Python\\Python39\\site-packages\\requests\\adapters.py\u001b[0m in \u001b[0;36msend\u001b[1;34m(self, request, stream, timeout, verify, cert, proxies)\u001b[0m\n\u001b[0;32m    488\u001b[0m             \u001b[1;32mif\u001b[0m \u001b[1;32mnot\u001b[0m \u001b[0mchunked\u001b[0m\u001b[1;33m:\u001b[0m\u001b[1;33m\u001b[0m\u001b[1;33m\u001b[0m\u001b[0m\n\u001b[1;32m--> 489\u001b[1;33m                 resp = conn.urlopen(\n\u001b[0m\u001b[0;32m    490\u001b[0m                     \u001b[0mmethod\u001b[0m\u001b[1;33m=\u001b[0m\u001b[0mrequest\u001b[0m\u001b[1;33m.\u001b[0m\u001b[0mmethod\u001b[0m\u001b[1;33m,\u001b[0m\u001b[1;33m\u001b[0m\u001b[1;33m\u001b[0m\u001b[0m\n",
      "\u001b[1;32mD:\\lib\\site-packages\\urllib3\\connectionpool.py\u001b[0m in \u001b[0;36murlopen\u001b[1;34m(self, method, url, body, headers, retries, redirect, assert_same_host, timeout, pool_timeout, release_conn, chunked, body_pos, **response_kw)\u001b[0m\n\u001b[0;32m    754\u001b[0m \u001b[1;33m\u001b[0m\u001b[0m\n\u001b[1;32m--> 755\u001b[1;33m             retries = retries.increment(\n\u001b[0m\u001b[0;32m    756\u001b[0m                 \u001b[0mmethod\u001b[0m\u001b[1;33m,\u001b[0m \u001b[0murl\u001b[0m\u001b[1;33m,\u001b[0m \u001b[0merror\u001b[0m\u001b[1;33m=\u001b[0m\u001b[0me\u001b[0m\u001b[1;33m,\u001b[0m \u001b[0m_pool\u001b[0m\u001b[1;33m=\u001b[0m\u001b[0mself\u001b[0m\u001b[1;33m,\u001b[0m \u001b[0m_stacktrace\u001b[0m\u001b[1;33m=\u001b[0m\u001b[0msys\u001b[0m\u001b[1;33m.\u001b[0m\u001b[0mexc_info\u001b[0m\u001b[1;33m(\u001b[0m\u001b[1;33m)\u001b[0m\u001b[1;33m[\u001b[0m\u001b[1;36m2\u001b[0m\u001b[1;33m]\u001b[0m\u001b[1;33m\u001b[0m\u001b[1;33m\u001b[0m\u001b[0m\n",
      "\u001b[1;32mD:\\lib\\site-packages\\urllib3\\util\\retry.py\u001b[0m in \u001b[0;36mincrement\u001b[1;34m(self, method, url, response, error, _pool, _stacktrace)\u001b[0m\n\u001b[0;32m    573\u001b[0m         \u001b[1;32mif\u001b[0m \u001b[0mnew_retry\u001b[0m\u001b[1;33m.\u001b[0m\u001b[0mis_exhausted\u001b[0m\u001b[1;33m(\u001b[0m\u001b[1;33m)\u001b[0m\u001b[1;33m:\u001b[0m\u001b[1;33m\u001b[0m\u001b[1;33m\u001b[0m\u001b[0m\n\u001b[1;32m--> 574\u001b[1;33m             \u001b[1;32mraise\u001b[0m \u001b[0mMaxRetryError\u001b[0m\u001b[1;33m(\u001b[0m\u001b[0m_pool\u001b[0m\u001b[1;33m,\u001b[0m \u001b[0murl\u001b[0m\u001b[1;33m,\u001b[0m \u001b[0merror\u001b[0m \u001b[1;32mor\u001b[0m \u001b[0mResponseError\u001b[0m\u001b[1;33m(\u001b[0m\u001b[0mcause\u001b[0m\u001b[1;33m)\u001b[0m\u001b[1;33m)\u001b[0m\u001b[1;33m\u001b[0m\u001b[1;33m\u001b[0m\u001b[0m\n\u001b[0m\u001b[0;32m    575\u001b[0m \u001b[1;33m\u001b[0m\u001b[0m\n",
      "\u001b[1;31mMaxRetryError\u001b[0m: HTTPSConnectionPool(host='www.familyeducation.com', port=443): Max retries exceeded with url: /baby-names/browse-origin/surname/german (Caused by SSLError(SSLCertVerificationError(1, '[SSL: CERTIFICATE_VERIFY_FAILED] certificate verify failed: unable to get local issuer certificate (_ssl.c:1123)')))",
      "\nDuring handling of the above exception, another exception occurred:\n",
      "\u001b[1;31mSSLError\u001b[0m                                  Traceback (most recent call last)",
      "\u001b[1;32m<ipython-input-10-441602277e1c>\u001b[0m in \u001b[0;36m<module>\u001b[1;34m\u001b[0m\n\u001b[0;32m      9\u001b[0m \u001b[1;33m\u001b[0m\u001b[0m\n\u001b[0;32m     10\u001b[0m \u001b[1;31m# Sending HTTP request\u001b[0m\u001b[1;33m\u001b[0m\u001b[1;33m\u001b[0m\u001b[1;33m\u001b[0m\u001b[0m\n\u001b[1;32m---> 11\u001b[1;33m \u001b[0mhtml\u001b[0m \u001b[1;33m=\u001b[0m \u001b[0mrequests\u001b[0m\u001b[1;33m.\u001b[0m\u001b[0mget\u001b[0m\u001b[1;33m(\u001b[0m\u001b[1;34m\"https://www.familyeducation.com/baby-names/browse-origin/surname/german\"\u001b[0m\u001b[1;33m)\u001b[0m\u001b[1;33m\u001b[0m\u001b[1;33m\u001b[0m\u001b[0m\n\u001b[0m\u001b[0;32m     12\u001b[0m \u001b[1;33m\u001b[0m\u001b[0m\n\u001b[0;32m     13\u001b[0m \u001b[0msoup\u001b[0m \u001b[1;33m=\u001b[0m \u001b[0mBeautifulSoup\u001b[0m\u001b[1;33m(\u001b[0m\u001b[0mhtml\u001b[0m\u001b[1;33m.\u001b[0m\u001b[0mtext\u001b[0m\u001b[1;33m,\u001b[0m \u001b[1;34m\"html.parser\"\u001b[0m\u001b[1;33m)\u001b[0m\u001b[1;33m\u001b[0m\u001b[1;33m\u001b[0m\u001b[0m\n",
      "\u001b[1;32m~\\AppData\\Roaming\\Python\\Python39\\site-packages\\requests\\api.py\u001b[0m in \u001b[0;36mget\u001b[1;34m(url, params, **kwargs)\u001b[0m\n\u001b[0;32m     71\u001b[0m     \"\"\"\n\u001b[0;32m     72\u001b[0m \u001b[1;33m\u001b[0m\u001b[0m\n\u001b[1;32m---> 73\u001b[1;33m     \u001b[1;32mreturn\u001b[0m \u001b[0mrequest\u001b[0m\u001b[1;33m(\u001b[0m\u001b[1;34m\"get\"\u001b[0m\u001b[1;33m,\u001b[0m \u001b[0murl\u001b[0m\u001b[1;33m,\u001b[0m \u001b[0mparams\u001b[0m\u001b[1;33m=\u001b[0m\u001b[0mparams\u001b[0m\u001b[1;33m,\u001b[0m \u001b[1;33m**\u001b[0m\u001b[0mkwargs\u001b[0m\u001b[1;33m)\u001b[0m\u001b[1;33m\u001b[0m\u001b[1;33m\u001b[0m\u001b[0m\n\u001b[0m\u001b[0;32m     74\u001b[0m \u001b[1;33m\u001b[0m\u001b[0m\n\u001b[0;32m     75\u001b[0m \u001b[1;33m\u001b[0m\u001b[0m\n",
      "\u001b[1;32m~\\AppData\\Roaming\\Python\\Python39\\site-packages\\requests\\api.py\u001b[0m in \u001b[0;36mrequest\u001b[1;34m(method, url, **kwargs)\u001b[0m\n\u001b[0;32m     57\u001b[0m     \u001b[1;31m# cases, and look like a memory leak in others.\u001b[0m\u001b[1;33m\u001b[0m\u001b[1;33m\u001b[0m\u001b[1;33m\u001b[0m\u001b[0m\n\u001b[0;32m     58\u001b[0m     \u001b[1;32mwith\u001b[0m \u001b[0msessions\u001b[0m\u001b[1;33m.\u001b[0m\u001b[0mSession\u001b[0m\u001b[1;33m(\u001b[0m\u001b[1;33m)\u001b[0m \u001b[1;32mas\u001b[0m \u001b[0msession\u001b[0m\u001b[1;33m:\u001b[0m\u001b[1;33m\u001b[0m\u001b[1;33m\u001b[0m\u001b[0m\n\u001b[1;32m---> 59\u001b[1;33m         \u001b[1;32mreturn\u001b[0m \u001b[0msession\u001b[0m\u001b[1;33m.\u001b[0m\u001b[0mrequest\u001b[0m\u001b[1;33m(\u001b[0m\u001b[0mmethod\u001b[0m\u001b[1;33m=\u001b[0m\u001b[0mmethod\u001b[0m\u001b[1;33m,\u001b[0m \u001b[0murl\u001b[0m\u001b[1;33m=\u001b[0m\u001b[0murl\u001b[0m\u001b[1;33m,\u001b[0m \u001b[1;33m**\u001b[0m\u001b[0mkwargs\u001b[0m\u001b[1;33m)\u001b[0m\u001b[1;33m\u001b[0m\u001b[1;33m\u001b[0m\u001b[0m\n\u001b[0m\u001b[0;32m     60\u001b[0m \u001b[1;33m\u001b[0m\u001b[0m\n\u001b[0;32m     61\u001b[0m \u001b[1;33m\u001b[0m\u001b[0m\n",
      "\u001b[1;32m~\\AppData\\Roaming\\Python\\Python39\\site-packages\\requests\\sessions.py\u001b[0m in \u001b[0;36mrequest\u001b[1;34m(self, method, url, params, data, headers, cookies, files, auth, timeout, allow_redirects, proxies, hooks, stream, verify, cert, json)\u001b[0m\n\u001b[0;32m    585\u001b[0m         }\n\u001b[0;32m    586\u001b[0m         \u001b[0msend_kwargs\u001b[0m\u001b[1;33m.\u001b[0m\u001b[0mupdate\u001b[0m\u001b[1;33m(\u001b[0m\u001b[0msettings\u001b[0m\u001b[1;33m)\u001b[0m\u001b[1;33m\u001b[0m\u001b[1;33m\u001b[0m\u001b[0m\n\u001b[1;32m--> 587\u001b[1;33m         \u001b[0mresp\u001b[0m \u001b[1;33m=\u001b[0m \u001b[0mself\u001b[0m\u001b[1;33m.\u001b[0m\u001b[0msend\u001b[0m\u001b[1;33m(\u001b[0m\u001b[0mprep\u001b[0m\u001b[1;33m,\u001b[0m \u001b[1;33m**\u001b[0m\u001b[0msend_kwargs\u001b[0m\u001b[1;33m)\u001b[0m\u001b[1;33m\u001b[0m\u001b[1;33m\u001b[0m\u001b[0m\n\u001b[0m\u001b[0;32m    588\u001b[0m \u001b[1;33m\u001b[0m\u001b[0m\n\u001b[0;32m    589\u001b[0m         \u001b[1;32mreturn\u001b[0m \u001b[0mresp\u001b[0m\u001b[1;33m\u001b[0m\u001b[1;33m\u001b[0m\u001b[0m\n",
      "\u001b[1;32m~\\AppData\\Roaming\\Python\\Python39\\site-packages\\requests\\sessions.py\u001b[0m in \u001b[0;36msend\u001b[1;34m(self, request, **kwargs)\u001b[0m\n\u001b[0;32m    699\u001b[0m \u001b[1;33m\u001b[0m\u001b[0m\n\u001b[0;32m    700\u001b[0m         \u001b[1;31m# Send the request\u001b[0m\u001b[1;33m\u001b[0m\u001b[1;33m\u001b[0m\u001b[1;33m\u001b[0m\u001b[0m\n\u001b[1;32m--> 701\u001b[1;33m         \u001b[0mr\u001b[0m \u001b[1;33m=\u001b[0m \u001b[0madapter\u001b[0m\u001b[1;33m.\u001b[0m\u001b[0msend\u001b[0m\u001b[1;33m(\u001b[0m\u001b[0mrequest\u001b[0m\u001b[1;33m,\u001b[0m \u001b[1;33m**\u001b[0m\u001b[0mkwargs\u001b[0m\u001b[1;33m)\u001b[0m\u001b[1;33m\u001b[0m\u001b[1;33m\u001b[0m\u001b[0m\n\u001b[0m\u001b[0;32m    702\u001b[0m \u001b[1;33m\u001b[0m\u001b[0m\n\u001b[0;32m    703\u001b[0m         \u001b[1;31m# Total elapsed time of the request (approximately)\u001b[0m\u001b[1;33m\u001b[0m\u001b[1;33m\u001b[0m\u001b[1;33m\u001b[0m\u001b[0m\n",
      "\u001b[1;32m~\\AppData\\Roaming\\Python\\Python39\\site-packages\\requests\\adapters.py\u001b[0m in \u001b[0;36msend\u001b[1;34m(self, request, stream, timeout, verify, cert, proxies)\u001b[0m\n\u001b[0;32m    561\u001b[0m             \u001b[1;32mif\u001b[0m \u001b[0misinstance\u001b[0m\u001b[1;33m(\u001b[0m\u001b[0me\u001b[0m\u001b[1;33m.\u001b[0m\u001b[0mreason\u001b[0m\u001b[1;33m,\u001b[0m \u001b[0m_SSLError\u001b[0m\u001b[1;33m)\u001b[0m\u001b[1;33m:\u001b[0m\u001b[1;33m\u001b[0m\u001b[1;33m\u001b[0m\u001b[0m\n\u001b[0;32m    562\u001b[0m                 \u001b[1;31m# This branch is for urllib3 v1.22 and later.\u001b[0m\u001b[1;33m\u001b[0m\u001b[1;33m\u001b[0m\u001b[1;33m\u001b[0m\u001b[0m\n\u001b[1;32m--> 563\u001b[1;33m                 \u001b[1;32mraise\u001b[0m \u001b[0mSSLError\u001b[0m\u001b[1;33m(\u001b[0m\u001b[0me\u001b[0m\u001b[1;33m,\u001b[0m \u001b[0mrequest\u001b[0m\u001b[1;33m=\u001b[0m\u001b[0mrequest\u001b[0m\u001b[1;33m)\u001b[0m\u001b[1;33m\u001b[0m\u001b[1;33m\u001b[0m\u001b[0m\n\u001b[0m\u001b[0;32m    564\u001b[0m \u001b[1;33m\u001b[0m\u001b[0m\n\u001b[0;32m    565\u001b[0m             \u001b[1;32mraise\u001b[0m \u001b[0mConnectionError\u001b[0m\u001b[1;33m(\u001b[0m\u001b[0me\u001b[0m\u001b[1;33m,\u001b[0m \u001b[0mrequest\u001b[0m\u001b[1;33m=\u001b[0m\u001b[0mrequest\u001b[0m\u001b[1;33m)\u001b[0m\u001b[1;33m\u001b[0m\u001b[1;33m\u001b[0m\u001b[0m\n",
      "\u001b[1;31mSSLError\u001b[0m: HTTPSConnectionPool(host='www.familyeducation.com', port=443): Max retries exceeded with url: /baby-names/browse-origin/surname/german (Caused by SSLError(SSLCertVerificationError(1, '[SSL: CERTIFICATE_VERIFY_FAILED] certificate verify failed: unable to get local issuer certificate (_ssl.c:1123)')))"
     ]
    }
   ],
   "source": [
    "\n",
    "# import module\n",
    "import requests \n",
    "import bs4 \n",
    "  \n",
    "# Taking thecity name as an input from the user\n",
    "city = \"Imphal\"\n",
    "  \n",
    "# Generating the url  \n",
    "  \n",
    "# Sending HTTP request \n",
    "html = requests.get(\"https://www.familyeducation.com/baby-names/browse-origin/surname/german\")\n",
    "\n",
    "soup = BeautifulSoup(html.text, \"html.parser\")\n",
    "\n",
    "metadata = soup.find_all('meta')"
   ]
  },
  {
   "cell_type": "code",
   "execution_count": 2,
   "id": "862a058a-b553-4a0a-bf13-9d42448c7f7c",
   "metadata": {},
   "outputs": [],
   "source": [
    "import pandas as pd"
   ]
  },
  {
   "cell_type": "code",
   "execution_count": 3,
   "id": "964aebd0-9eab-4b3a-aabb-628e0ab58831",
   "metadata": {},
   "outputs": [],
   "source": [
    "data = pd.read_excel('Haversine.xlsx', 'Sheet3', header=0, usecols = ('Branch','Lat', 'Long'))\n",
    "Branch = pd.read_excel('Haversine.xlsx', 'Sheet3', header=0, usecols = ('Branch', 'Lat' ))"
   ]
  },
  {
   "cell_type": "code",
   "execution_count": 4,
   "id": "61bd15d8-91eb-44c6-b45b-34f7829a600d",
   "metadata": {},
   "outputs": [],
   "source": [
    "data1 = pd.read_excel('Haversine1.xlsx', 'Sheet7', header=0, usecols = ('Customer','Lat1', 'Long1'))\n",
    "Customer = pd.read_excel('Haversine1.xlsx', 'Sheet7', header=0, usecols = ('Customer', 'Long1'))"
   ]
  },
  {
   "cell_type": "code",
   "execution_count": 3,
   "id": "483d59c1-3ed1-4ba2-a20f-170d02852bde",
   "metadata": {},
   "outputs": [],
   "source": [
    "data1 = pd.read_excel('Haversine1.xlsx', 'Sheet7')"
   ]
  },
  {
   "cell_type": "code",
   "execution_count": 4,
   "id": "a026c5b7-0724-477e-93be-bc6fcba4741c",
   "metadata": {},
   "outputs": [],
   "source": [
    "data = pd.read_excel('Haversine.xlsx', 'Sheet3')"
   ]
  },
  {
   "cell_type": "code",
   "execution_count": 5,
   "id": "2082f5a5-85b9-4ce0-9807-fe9d48953993",
   "metadata": {},
   "outputs": [],
   "source": [
    "d1 = data.iloc[:,1:3].to_numpy()\n",
    "d2 = data1.iloc[:,1:3].to_numpy()\n",
    "result1 = tuple(map(tuple, d1))\n",
    "result2 = tuple(map(tuple, d2))\n",
    "# print result\n",
    "#Customer = pd.read_excel('Haversine.xlsx', 'Sheet1', header=0, usecols = ('Customer'))"
   ]
  },
  {
   "cell_type": "code",
   "execution_count": 25,
   "id": "8343bdad-d8ad-4e26-b1bc-3eedf6893ead",
   "metadata": {},
   "outputs": [
    {
     "data": {
      "text/html": [
       "<div>\n",
       "<style scoped>\n",
       "    .dataframe tbody tr th:only-of-type {\n",
       "        vertical-align: middle;\n",
       "    }\n",
       "\n",
       "    .dataframe tbody tr th {\n",
       "        vertical-align: top;\n",
       "    }\n",
       "\n",
       "    .dataframe thead th {\n",
       "        text-align: right;\n",
       "    }\n",
       "</style>\n",
       "<table border=\"1\" class=\"dataframe\">\n",
       "  <thead>\n",
       "    <tr style=\"text-align: right;\">\n",
       "      <th></th>\n",
       "      <th>Lat</th>\n",
       "      <th>Long</th>\n",
       "    </tr>\n",
       "  </thead>\n",
       "  <tbody>\n",
       "    <tr>\n",
       "      <th>0</th>\n",
       "      <td>9.496266</td>\n",
       "      <td>76.347425</td>\n",
       "    </tr>\n",
       "    <tr>\n",
       "      <th>1</th>\n",
       "      <td>11.931042</td>\n",
       "      <td>79.787693</td>\n",
       "    </tr>\n",
       "    <tr>\n",
       "      <th>2</th>\n",
       "      <td>11.655788</td>\n",
       "      <td>78.163823</td>\n",
       "    </tr>\n",
       "    <tr>\n",
       "      <th>3</th>\n",
       "      <td>9.365692</td>\n",
       "      <td>78.829259</td>\n",
       "    </tr>\n",
       "    <tr>\n",
       "      <th>4</th>\n",
       "      <td>13.116139</td>\n",
       "      <td>80.289177</td>\n",
       "    </tr>\n",
       "    <tr>\n",
       "      <th>...</th>\n",
       "      <td>...</td>\n",
       "      <td>...</td>\n",
       "    </tr>\n",
       "    <tr>\n",
       "      <th>714</th>\n",
       "      <td>28.900660</td>\n",
       "      <td>76.586360</td>\n",
       "    </tr>\n",
       "    <tr>\n",
       "      <th>715</th>\n",
       "      <td>13.010883</td>\n",
       "      <td>80.141986</td>\n",
       "    </tr>\n",
       "    <tr>\n",
       "      <th>716</th>\n",
       "      <td>28.983690</td>\n",
       "      <td>77.021070</td>\n",
       "    </tr>\n",
       "    <tr>\n",
       "      <th>717</th>\n",
       "      <td>13.037090</td>\n",
       "      <td>80.228970</td>\n",
       "    </tr>\n",
       "    <tr>\n",
       "      <th>718</th>\n",
       "      <td>16.351630</td>\n",
       "      <td>78.057670</td>\n",
       "    </tr>\n",
       "  </tbody>\n",
       "</table>\n",
       "<p>719 rows × 2 columns</p>\n",
       "</div>"
      ],
      "text/plain": [
       "           Lat       Long\n",
       "0     9.496266  76.347425\n",
       "1    11.931042  79.787693\n",
       "2    11.655788  78.163823\n",
       "3     9.365692  78.829259\n",
       "4    13.116139  80.289177\n",
       "..         ...        ...\n",
       "714  28.900660  76.586360\n",
       "715  13.010883  80.141986\n",
       "716  28.983690  77.021070\n",
       "717  13.037090  80.228970\n",
       "718  16.351630  78.057670\n",
       "\n",
       "[719 rows x 2 columns]"
      ]
     },
     "execution_count": 25,
     "metadata": {},
     "output_type": "execute_result"
    }
   ],
   "source": [
    "data.iloc[:,1:3]"
   ]
  },
  {
   "cell_type": "code",
   "execution_count": 6,
   "id": "886cf87c-cd55-4b8b-89be-1af36e96b9b5",
   "metadata": {},
   "outputs": [],
   "source": [
    "def minimum(a, n):\n",
    "  \n",
    "    # inbuilt function to find the position of minimum \n",
    "    minpos = a.index(min(a))\n",
    "      \n",
    "    # inbuilt function to find the position of maximum \n",
    "    maxpos = a.index(max(a)) \n",
    "      \n",
    "    # printing the position \n",
    "    #print (\"The maximum is at position\", maxpos + 1)  \n",
    "    #print(\"The minimum is at position\", minpos + 1)\n",
    "    return minpos"
   ]
  },
  {
   "cell_type": "code",
   "execution_count": 13,
   "id": "57184c2f-d48f-4176-b2ee-e522679fdf00",
   "metadata": {},
   "outputs": [],
   "source": [
    "Matrix = np.asmatrix(Matrix)"
   ]
  },
  {
   "cell_type": "code",
   "execution_count": 17,
   "id": "86c7de42-7741-4cfd-b58a-2624cae752cc",
   "metadata": {},
   "outputs": [
    {
     "ename": "TypeError",
     "evalue": "'tuple' object is not callable",
     "output_type": "error",
     "traceback": [
      "\u001b[1;31m---------------------------------------------------------------------------\u001b[0m",
      "\u001b[1;31mTypeError\u001b[0m                                 Traceback (most recent call last)",
      "\u001b[1;32m<ipython-input-17-7f1d59735b5a>\u001b[0m in \u001b[0;36m<module>\u001b[1;34m\u001b[0m\n\u001b[1;32m----> 1\u001b[1;33m \u001b[0mMatrix\u001b[0m\u001b[1;33m.\u001b[0m\u001b[0mshape\u001b[0m\u001b[1;33m(\u001b[0m\u001b[1;33m)\u001b[0m\u001b[1;33m\u001b[0m\u001b[1;33m\u001b[0m\u001b[0m\n\u001b[0m",
      "\u001b[1;31mTypeError\u001b[0m: 'tuple' object is not callable"
     ]
    }
   ],
   "source": [
    "Matrix.shape()"
   ]
  },
  {
   "cell_type": "code",
   "execution_count": 8,
   "id": "f6e55853-07e7-4e69-b1b5-caafe83b9fa6",
   "metadata": {},
   "outputs": [],
   "source": [
    "import numpy as np\n",
    "w, h = len(data['Branch']), len(data1['Customer']);\n",
    "#w, h =100,100;\n",
    "listvals = []\n",
    "distance = []\n",
    "Matrix = [[0 for x in range(w)] for y in range(h)]\n",
    "from haversine import haversine, Unit\n",
    "for i in range (0,len(Customer['Customer'])):\n",
    "    for j in range (0, len(Branch['Branch'])):\n",
    "        Matrix[i][j] = haversine(result2[i],result1[j])\n",
    "        if j == (len(Branch['Branch']) - 1):\n",
    "            listvals.append((Customer['Customer'][i], Branch['Branch'][minimum(Matrix[i], len(Matrix[i]))]))\n",
    "            #distance.append((Customer['Customer'][i],Matrix[i][minimum(Matrix[i], len(Matrix[i]))]))"
   ]
  },
  {
   "cell_type": "code",
   "execution_count": 5,
   "id": "903ff632-46f2-4422-b5d7-4b4ccd3d0414",
   "metadata": {},
   "outputs": [],
   "source": [
    "result2 = (9.1794, 79.4183)\n",
    "result1 = (9.087340729151904, 79.71022652722986)"
   ]
  },
  {
   "cell_type": "code",
   "execution_count": 6,
   "id": "d8b69348-1f2f-425b-9c87-cab2db38381c",
   "metadata": {},
   "outputs": [
    {
     "data": {
      "text/plain": [
       "33.64431922589518"
      ]
     },
     "execution_count": 6,
     "metadata": {},
     "output_type": "execute_result"
    }
   ],
   "source": [
    "from haversine import haversine\n",
    "haversine(result2,result1)"
   ]
  },
  {
   "cell_type": "code",
   "execution_count": 64,
   "id": "aaa81acf-3309-4299-a944-ee7b6dc1177f",
   "metadata": {},
   "outputs": [
    {
     "data": {
      "text/plain": [
       "723"
      ]
     },
     "execution_count": 64,
     "metadata": {},
     "output_type": "execute_result"
    }
   ],
   "source": [
    "minimum(Matrix[0], len(Matrix[0]))"
   ]
  },
  {
   "cell_type": "code",
   "execution_count": 9,
   "id": "f6299a1c-d6dc-44aa-a033-c0eb8eb44349",
   "metadata": {},
   "outputs": [],
   "source": [
    "t = pd.DataFrame(listvals, columns =[\"Customer\", \"Branch\"])\n",
    "t = t.dropna()\n",
    "#t.to_excel(\"Bran_7.xlsx\", index = False)"
   ]
  },
  {
   "cell_type": "code",
   "execution_count": 30,
   "id": "36e7a48f-f0a0-4636-b76b-e68a84dff913",
   "metadata": {},
   "outputs": [],
   "source": [
    "import modin.pandas as pd\n",
    "import ray\n",
    "import os\n",
    "os.environ[\"MODIN_ENGINE\"] = \"ray\""
   ]
  },
  {
   "cell_type": "code",
   "execution_count": 33,
   "id": "8884313b-24da-4c26-a9ef-ec457f2f9512",
   "metadata": {},
   "outputs": [
    {
     "data": {
      "text/html": [
       "<div>\n",
       "<style scoped>\n",
       "    .dataframe tbody tr th:only-of-type {\n",
       "        vertical-align: middle;\n",
       "    }\n",
       "\n",
       "    .dataframe tbody tr th {\n",
       "        vertical-align: top;\n",
       "    }\n",
       "\n",
       "    .dataframe thead th {\n",
       "        text-align: right;\n",
       "    }\n",
       "</style>\n",
       "<table border=\"1\" class=\"dataframe\">\n",
       "  <thead>\n",
       "    <tr style=\"text-align: right;\">\n",
       "      <th></th>\n",
       "      <th>Customer</th>\n",
       "      <th>Distance</th>\n",
       "    </tr>\n",
       "  </thead>\n",
       "  <tbody>\n",
       "    <tr>\n",
       "      <th>0</th>\n",
       "      <td>M/S MAHA LAKSHMI CONVENTION CENTRE</td>\n",
       "      <td>24.629959</td>\n",
       "    </tr>\n",
       "    <tr>\n",
       "      <th>1</th>\n",
       "      <td>ANDHRA BOOK STALL</td>\n",
       "      <td>24.629959</td>\n",
       "    </tr>\n",
       "    <tr>\n",
       "      <th>2</th>\n",
       "      <td>AV QUALITY MANAGEMENT CONSULTANCY</td>\n",
       "      <td>24.629959</td>\n",
       "    </tr>\n",
       "    <tr>\n",
       "      <th>3</th>\n",
       "      <td>M/S SHRAVAN RAJ CONSTRUCTIONS PRIVATE LIMITED</td>\n",
       "      <td>24.629959</td>\n",
       "    </tr>\n",
       "    <tr>\n",
       "      <th>4</th>\n",
       "      <td>SRI BALAJI CANTEEN</td>\n",
       "      <td>24.629959</td>\n",
       "    </tr>\n",
       "  </tbody>\n",
       "</table>\n",
       "</div>"
      ],
      "text/plain": [
       "                                        Customer   Distance\n",
       "0             M/S MAHA LAKSHMI CONVENTION CENTRE  24.629959\n",
       "1                              ANDHRA BOOK STALL  24.629959\n",
       "2              AV QUALITY MANAGEMENT CONSULTANCY  24.629959\n",
       "3  M/S SHRAVAN RAJ CONSTRUCTIONS PRIVATE LIMITED  24.629959\n",
       "4                             SRI BALAJI CANTEEN  24.629959"
      ]
     },
     "execution_count": 33,
     "metadata": {},
     "output_type": "execute_result"
    }
   ],
   "source": [
    "u.head()"
   ]
  },
  {
   "cell_type": "code",
   "execution_count": 10,
   "id": "de05bec3-ea01-4fdc-bb31-eb0b8737790d",
   "metadata": {},
   "outputs": [],
   "source": [
    "t.to_excel('sBrNmAP.xlsx')"
   ]
  },
  {
   "cell_type": "code",
   "execution_count": null,
   "id": "239db694-4e5a-41a2-bb9f-982416c3edff",
   "metadata": {},
   "outputs": [],
   "source": [
    "#import modin.pandas as pd\n",
    "writer = pd.ExcelWriter('dist12.xlsx', engine='xlsxwriter')\n",
    "\n",
    "# Convert the dataframe to an XlsxWriter Excel object.\n",
    "u.to_excel(writer, sheet_name='Sheet1')\n",
    "\n",
    "# Close the Pandas Excel writer and output the Excel file.\n",
    "writer.save()"
   ]
  },
  {
   "cell_type": "code",
   "execution_count": 8,
   "id": "c7af98de-c807-4f73-ae41-42f4fd01a5a6",
   "metadata": {},
   "outputs": [],
   "source": [
    "u = pd.DataFrame(distance, columns =[\"Customer\", \"Distance\"])\n",
    "u = u.dropna()"
   ]
  },
  {
   "cell_type": "code",
   "execution_count": 17,
   "id": "939c5bb1-4fc0-4f06-bee0-4195771d0b1b",
   "metadata": {},
   "outputs": [],
   "source": [
    "df1 = pd.read_excel('Haversine.xlsx', 'Sheet3', header=0, usecols = ('Branch', 'Br_code'))"
   ]
  },
  {
   "cell_type": "code",
   "execution_count": 18,
   "id": "e22f4d52-89f9-448f-955c-d39b2b60d492",
   "metadata": {},
   "outputs": [],
   "source": [
    "in1 = pd.merge(t,df1,on ='Branch',how ='inner')"
   ]
  },
  {
   "cell_type": "code",
   "execution_count": 19,
   "id": "2886fb16-5950-47ee-b8af-ee0c25d975b0",
   "metadata": {},
   "outputs": [],
   "source": [
    "df2 = pd.read_excel(\"BBU.xlsx\", 'Division', usecols = ('Division', 'Br_code'))"
   ]
  },
  {
   "cell_type": "code",
   "execution_count": 20,
   "id": "df30adec-9af2-44ea-8717-65ec5f577c43",
   "metadata": {},
   "outputs": [],
   "source": [
    "in2 = pd.merge(in1,df2,on ='Br_code',how ='inner')"
   ]
  },
  {
   "cell_type": "code",
   "execution_count": 21,
   "id": "f4a34cd8-403e-4e60-83e6-789345a0c011",
   "metadata": {},
   "outputs": [],
   "source": [
    "df3 = pd.read_excel(\"BBU.xlsx\", 'BBU', usecols = ('Division', 'Div', 'Br_code'))\n",
    "df4 = pd.read_excel(\"BBU.xlsx\", 'CBU', usecols = ('Division', 'Div', 'Br_code'))"
   ]
  },
  {
   "cell_type": "code",
   "execution_count": 22,
   "id": "1ff86bf0-15e0-44a1-8b76-cd77b9aa4b67",
   "metadata": {},
   "outputs": [],
   "source": [
    "in3 = pd.merge(in2,df3,on ='Division',how ='left')"
   ]
  },
  {
   "cell_type": "code",
   "execution_count": 23,
   "id": "f3f832e5-48fa-4087-bab5-b67d97632553",
   "metadata": {},
   "outputs": [],
   "source": [
    "in4 = pd.merge(in3,df4,on ='Division',how ='left')"
   ]
  },
  {
   "cell_type": "code",
   "execution_count": 27,
   "id": "7eceffc5-0045-4b2f-9db9-1384cc4f9670",
   "metadata": {},
   "outputs": [
    {
     "name": "stdout",
     "output_type": "stream",
     "text": [
      "<class 'pandas.core.frame.DataFrame'>\n",
      "Int64Index: 546317 entries, 0 to 546316\n",
      "Data columns (total 9 columns):\n",
      " #   Column     Non-Null Count   Dtype  \n",
      "---  ------     --------------   -----  \n",
      " 0   Customer   546317 non-null  object \n",
      " 1   Branch     546317 non-null  object \n",
      " 2   Br_code_x  546317 non-null  int64  \n",
      " 3   Division   546317 non-null  object \n",
      " 4   Div_x      423370 non-null  object \n",
      " 5   Br_code_y  423370 non-null  float64\n",
      " 6   Div_y      397699 non-null  object \n",
      " 7   Br_code    397699 non-null  float64\n",
      " 8   Owner      0 non-null       object \n",
      "dtypes: float64(2), int64(1), object(6)\n",
      "memory usage: 41.7+ MB\n"
     ]
    }
   ],
   "source": [
    "in5.info()"
   ]
  },
  {
   "cell_type": "code",
   "execution_count": 25,
   "id": "7224f974-b7d4-4cc4-8065-35335ee4957a",
   "metadata": {},
   "outputs": [],
   "source": [
    "df5 = pd.read_excel(\"EMP_Bran.xlsx\", 'Owner', usecols = ('Br_code', 'Owner'))"
   ]
  },
  {
   "cell_type": "code",
   "execution_count": 26,
   "id": "7d809952-5707-4af7-a3f7-3e288005fe61",
   "metadata": {},
   "outputs": [],
   "source": [
    "in5 = pd.merge(in4,df5,on ='Br_code',how ='left')"
   ]
  },
  {
   "cell_type": "code",
   "execution_count": 132,
   "id": "73bbd34f-7e5e-43f3-9f83-f2e969e4e8c0",
   "metadata": {},
   "outputs": [],
   "source": [
    "df6 = pd.read_excel('emp_det_KVB.xlsx', 'BBH', header=0, usecols = ('emp_code', 'Br_code_y'))\n",
    "df7 = pd.read_excel('emp_det_KVB.xlsx', 'CBH', header=0, usecols = ('emp_code', 'Br_code'))"
   ]
  },
  {
   "cell_type": "code",
   "execution_count": 138,
   "id": "0c61e757-8a73-4ca5-9e0d-b79d55a43f18",
   "metadata": {},
   "outputs": [],
   "source": [
    "in6 = pd.merge(in5,df6,on ='Br_code_y', how ='left')\n",
    "in7 = pd.merge(in6,df7,on ='Br_code', how ='left')"
   ]
  },
  {
   "cell_type": "code",
   "execution_count": null,
   "id": "ecd2c4d5-b390-41e3-9fa8-33f51223b821",
   "metadata": {},
   "outputs": [
    {
     "name": "stderr",
     "output_type": "stream",
     "text": [
      "Exception ignored in: <function ZipFile.__del__ at 0x00000223FF8CA8B0>\n",
      "Traceback (most recent call last):\n",
      "  File \"d:\\lib\\zipfile.py\", line 1807, in __del__\n",
      "    self.close()\n",
      "  File \"d:\\lib\\zipfile.py\", line 1815, in close\n",
      "    if self._writing:\n",
      "AttributeError: 'ZipFile' object has no attribute '_writing'\n"
     ]
    }
   ],
   "source": [
    "in5.to_excel(\"bii.xlsx\", index = False)"
   ]
  },
  {
   "cell_type": "code",
   "execution_count": 31,
   "id": "5391a69a-401f-44d9-91a1-17ba544f7542",
   "metadata": {},
   "outputs": [],
   "source": [
    "in4 = pd.merge(in3,df4,on ='Division',how ='inner')"
   ]
  },
  {
   "cell_type": "code",
   "execution_count": 7,
   "id": "86ae00ca-3a7b-427d-bb3e-3ea044b49b48",
   "metadata": {},
   "outputs": [],
   "source": [
    "u = pd.DataFrame(distance, columns =[\"A\", \"B\"])\n",
    "u.to_excel(\"dist_7.xlsx\", index = False)"
   ]
  },
  {
   "cell_type": "code",
   "execution_count": 60,
   "id": "3b2df011-511e-49ec-9106-fbcda466d8dd",
   "metadata": {},
   "outputs": [
    {
     "ename": "AttributeError",
     "evalue": "'numpy.float64' object has no attribute 'isalpha'",
     "output_type": "error",
     "traceback": [
      "\u001b[1;31m---------------------------------------------------------------------------\u001b[0m",
      "\u001b[1;31mAttributeError\u001b[0m                            Traceback (most recent call last)",
      "\u001b[1;32m<ipython-input-60-ae07e0ca61f6>\u001b[0m in \u001b[0;36m<module>\u001b[1;34m\u001b[0m\n\u001b[0;32m      5\u001b[0m \u001b[1;33m\u001b[0m\u001b[0m\n\u001b[0;32m      6\u001b[0m         \u001b[1;31m# check for string\u001b[0m\u001b[1;33m\u001b[0m\u001b[1;33m\u001b[0m\u001b[1;33m\u001b[0m\u001b[0m\n\u001b[1;32m----> 7\u001b[1;33m         \u001b[1;32mif\u001b[0m \u001b[0mele\u001b[0m\u001b[1;33m.\u001b[0m\u001b[0misalpha\u001b[0m\u001b[1;33m(\u001b[0m\u001b[1;33m)\u001b[0m\u001b[1;33m:\u001b[0m\u001b[1;33m\u001b[0m\u001b[1;33m\u001b[0m\u001b[0m\n\u001b[0m\u001b[0;32m      8\u001b[0m             \u001b[0mtemp\u001b[0m\u001b[1;33m.\u001b[0m\u001b[0mappend\u001b[0m\u001b[1;33m(\u001b[0m\u001b[0mele\u001b[0m\u001b[1;33m)\u001b[0m\u001b[1;33m\u001b[0m\u001b[1;33m\u001b[0m\u001b[0m\n\u001b[0;32m      9\u001b[0m         \u001b[1;32melse\u001b[0m\u001b[1;33m:\u001b[0m\u001b[1;33m\u001b[0m\u001b[1;33m\u001b[0m\u001b[0m\n",
      "\u001b[1;31mAttributeError\u001b[0m: 'numpy.float64' object has no attribute 'isalpha'"
     ]
    }
   ],
   "source": [
    "res = []\n",
    "for tup in result1:\n",
    "    temp = []\n",
    "    for ele in tup:\n",
    "          \n",
    "        # check for string\n",
    "        if ele.isalpha():\n",
    "            temp.append(ele)\n",
    "        else:\n",
    "              \n",
    "            # convert to float\n",
    "            temp.append(float(ele))\n",
    "    res.append((temp[0],temp[1]))\n",
    "  "
   ]
  },
  {
   "cell_type": "code",
   "execution_count": 42,
   "id": "08e1d063-4ace-4649-a2b7-35a9388a30c6",
   "metadata": {},
   "outputs": [],
   "source": [
    "import vaex\n",
    "import pandas as pd\n",
    "import numpy as np\n",
    "n_rows = 1000000\n",
    "n_cols = 1000\n",
    "df = pd.DataFrame(np.random.randint(0, 100, size=(n_rows, n_cols)), columns=['col%d' % i for i in range(n_cols)])"
   ]
  },
  {
   "cell_type": "code",
   "execution_count": 15,
   "id": "53e48358-7965-45ac-a2ad-142c124a21df",
   "metadata": {},
   "outputs": [
    {
     "data": {
      "text/plain": [
       "202"
      ]
     },
     "execution_count": 15,
     "metadata": {},
     "output_type": "execute_result"
    }
   ],
   "source": [
    "minimum(Matrix[0], len(Matrix[0]))"
   ]
  },
  {
   "cell_type": "code",
   "execution_count": 73,
   "id": "87e6e064-c481-4f0d-9534-8dd95909108f",
   "metadata": {},
   "outputs": [],
   "source": [
    "t = pd.DataFrame(listvals, columns =[\"A\", \"B\"])\n",
    "t.to_excel(\"Bran3.xlsx\", index = False)"
   ]
  },
  {
   "cell_type": "code",
   "execution_count": 125,
   "id": "9bfa1106-ec76-4262-bc9d-cf89794b160c",
   "metadata": {},
   "outputs": [
    {
     "data": {
      "text/html": [
       "<div>\n",
       "<style scoped>\n",
       "    .dataframe tbody tr th:only-of-type {\n",
       "        vertical-align: middle;\n",
       "    }\n",
       "\n",
       "    .dataframe tbody tr th {\n",
       "        vertical-align: top;\n",
       "    }\n",
       "\n",
       "    .dataframe thead th {\n",
       "        text-align: right;\n",
       "    }\n",
       "</style>\n",
       "<table border=\"1\" class=\"dataframe\">\n",
       "  <thead>\n",
       "    <tr style=\"text-align: right;\">\n",
       "      <th></th>\n",
       "      <th>A</th>\n",
       "      <th>B</th>\n",
       "    </tr>\n",
       "  </thead>\n",
       "  <tbody>\n",
       "    <tr>\n",
       "      <th>0</th>\n",
       "      <td>YOGENDER SINGH</td>\n",
       "      <td>GHAZIABAD</td>\n",
       "    </tr>\n",
       "    <tr>\n",
       "      <th>1</th>\n",
       "      <td>TALOR MASTER</td>\n",
       "      <td>GURGAON</td>\n",
       "    </tr>\n",
       "    <tr>\n",
       "      <th>2</th>\n",
       "      <td>APS FURNITURE</td>\n",
       "      <td>KARIMNAGAR</td>\n",
       "    </tr>\n",
       "    <tr>\n",
       "      <th>3</th>\n",
       "      <td>Dinesh Embroidery</td>\n",
       "      <td>DELHI - KAROL BAGH</td>\n",
       "    </tr>\n",
       "    <tr>\n",
       "      <th>4</th>\n",
       "      <td>M/S ORIENTAL FERRO ALLOYS PVTLTD</td>\n",
       "      <td>DELHI - KAROL BAGH</td>\n",
       "    </tr>\n",
       "  </tbody>\n",
       "</table>\n",
       "</div>"
      ],
      "text/plain": [
       "                                  A                   B\n",
       "0                    YOGENDER SINGH           GHAZIABAD\n",
       "1                      TALOR MASTER             GURGAON\n",
       "2                     APS FURNITURE          KARIMNAGAR\n",
       "3                 Dinesh Embroidery  DELHI - KAROL BAGH\n",
       "4  M/S ORIENTAL FERRO ALLOYS PVTLTD  DELHI - KAROL BAGH"
      ]
     },
     "execution_count": 125,
     "metadata": {},
     "output_type": "execute_result"
    }
   ],
   "source": [
    "t.head()"
   ]
  },
  {
   "cell_type": "code",
   "execution_count": 4,
   "id": "ac97e6a0-21f5-4b48-9f19-93227afba77c",
   "metadata": {},
   "outputs": [],
   "source": [
    "import numpy as np\n",
    "listvals = []\n",
    "for i in range(10):\n",
    "    listvals.append((1, 2))\n",
    "mat_vls = np.vstack(mat_vals)"
   ]
  },
  {
   "cell_type": "code",
   "execution_count": 5,
   "id": "aec52838-3345-48f0-a998-f0dbcab67441",
   "metadata": {},
   "outputs": [
    {
     "data": {
      "text/plain": [
       "array([[1, 2],\n",
       "       [1, 2],\n",
       "       [1, 2],\n",
       "       [1, 2],\n",
       "       [1, 2],\n",
       "       [1, 2],\n",
       "       [1, 2],\n",
       "       [1, 2],\n",
       "       [1, 2],\n",
       "       [1, 2]])"
      ]
     },
     "execution_count": 5,
     "metadata": {},
     "output_type": "execute_result"
    }
   ],
   "source": [
    "mat_vls"
   ]
  },
  {
   "cell_type": "code",
   "execution_count": 93,
   "id": "4cbe9342-402c-4ade-8526-8a4576ca2f53",
   "metadata": {},
   "outputs": [],
   "source": [
    "t = pd.DataFrame(listvals, columns =[\"A\", \"B\"])"
   ]
  },
  {
   "cell_type": "code",
   "execution_count": 66,
   "id": "cb53a896-9c00-48da-b2ee-3f2c0c0fe373",
   "metadata": {},
   "outputs": [],
   "source": [
    "t.to_excel(\"Bran1.xlsx\", index = False)"
   ]
  },
  {
   "cell_type": "code",
   "execution_count": 56,
   "id": "8db20cb1-b556-4bed-a100-3a131fb7c06c",
   "metadata": {},
   "outputs": [
    {
     "data": {
      "text/plain": [
       "(27.1205, 79.3574)"
      ]
     },
     "execution_count": 56,
     "metadata": {},
     "output_type": "execute_result"
    }
   ],
   "source": [
    "result2[1]"
   ]
  },
  {
   "cell_type": "code",
   "execution_count": 54,
   "id": "916b8390-c4bd-47d3-9060-118d88b76fcc",
   "metadata": {},
   "outputs": [
    {
     "data": {
      "text/html": [
       "<div>\n",
       "<style scoped>\n",
       "    .dataframe tbody tr th:only-of-type {\n",
       "        vertical-align: middle;\n",
       "    }\n",
       "\n",
       "    .dataframe tbody tr th {\n",
       "        vertical-align: top;\n",
       "    }\n",
       "\n",
       "    .dataframe thead th {\n",
       "        text-align: right;\n",
       "    }\n",
       "</style>\n",
       "<table border=\"1\" class=\"dataframe\">\n",
       "  <thead>\n",
       "    <tr style=\"text-align: right;\">\n",
       "      <th></th>\n",
       "      <th>Lat</th>\n",
       "      <th>Long</th>\n",
       "    </tr>\n",
       "  </thead>\n",
       "  <tbody>\n",
       "    <tr>\n",
       "      <th>0</th>\n",
       "      <td>16.1548</td>\n",
       "      <td>80.1028</td>\n",
       "    </tr>\n",
       "    <tr>\n",
       "      <th>1</th>\n",
       "      <td>17.9065</td>\n",
       "      <td>78.2970</td>\n",
       "    </tr>\n",
       "    <tr>\n",
       "      <th>2</th>\n",
       "      <td>13.3718</td>\n",
       "      <td>79.9360</td>\n",
       "    </tr>\n",
       "    <tr>\n",
       "      <th>3</th>\n",
       "      <td>17.6673</td>\n",
       "      <td>82.6104</td>\n",
       "    </tr>\n",
       "    <tr>\n",
       "      <th>4</th>\n",
       "      <td>18.3538</td>\n",
       "      <td>78.5573</td>\n",
       "    </tr>\n",
       "  </tbody>\n",
       "</table>\n",
       "</div>"
      ],
      "text/plain": [
       "       Lat     Long\n",
       "0  16.1548  80.1028\n",
       "1  17.9065  78.2970\n",
       "2  13.3718  79.9360\n",
       "3  17.6673  82.6104\n",
       "4  18.3538  78.5573"
      ]
     },
     "execution_count": 54,
     "metadata": {},
     "output_type": "execute_result"
    }
   ],
   "source": [
    "data.head()"
   ]
  },
  {
   "cell_type": "code",
   "execution_count": 55,
   "id": "56191922-183d-4c42-a285-d87f6463d36c",
   "metadata": {},
   "outputs": [
    {
     "data": {
      "text/html": [
       "<div>\n",
       "<style scoped>\n",
       "    .dataframe tbody tr th:only-of-type {\n",
       "        vertical-align: middle;\n",
       "    }\n",
       "\n",
       "    .dataframe tbody tr th {\n",
       "        vertical-align: top;\n",
       "    }\n",
       "\n",
       "    .dataframe thead th {\n",
       "        text-align: right;\n",
       "    }\n",
       "</style>\n",
       "<table border=\"1\" class=\"dataframe\">\n",
       "  <thead>\n",
       "    <tr style=\"text-align: right;\">\n",
       "      <th></th>\n",
       "      <th>Lat1</th>\n",
       "      <th>Long1</th>\n",
       "    </tr>\n",
       "  </thead>\n",
       "  <tbody>\n",
       "    <tr>\n",
       "      <th>0</th>\n",
       "      <td>27.9204</td>\n",
       "      <td>78.1458</td>\n",
       "    </tr>\n",
       "    <tr>\n",
       "      <th>1</th>\n",
       "      <td>27.1205</td>\n",
       "      <td>79.3574</td>\n",
       "    </tr>\n",
       "    <tr>\n",
       "      <th>2</th>\n",
       "      <td>27.7372</td>\n",
       "      <td>79.1863</td>\n",
       "    </tr>\n",
       "    <tr>\n",
       "      <th>3</th>\n",
       "      <td>28.6516</td>\n",
       "      <td>77.1886</td>\n",
       "    </tr>\n",
       "    <tr>\n",
       "      <th>4</th>\n",
       "      <td>28.6094</td>\n",
       "      <td>76.9439</td>\n",
       "    </tr>\n",
       "  </tbody>\n",
       "</table>\n",
       "</div>"
      ],
      "text/plain": [
       "      Lat1    Long1\n",
       "0  27.9204  78.1458\n",
       "1  27.1205  79.3574\n",
       "2  27.7372  79.1863\n",
       "3  28.6516  77.1886\n",
       "4  28.6094  76.9439"
      ]
     },
     "execution_count": 55,
     "metadata": {},
     "output_type": "execute_result"
    }
   ],
   "source": [
    "data1.head()"
   ]
  },
  {
   "cell_type": "code",
   "execution_count": 7,
   "id": "80ebaeb9-34f7-4e03-bc39-be5c030980b1",
   "metadata": {},
   "outputs": [
    {
     "name": "stdout",
     "output_type": "stream",
     "text": [
      "2D arr1 : \n",
      " [[0 1 2 3]\n",
      " [4 5 6 7]]\n",
      "Shape :  (2, 4)\n"
     ]
    }
   ],
   "source": [
    "arr1 = numpy.arange(8).reshape(2, 4)\n",
    "print(\"2D arr1 : \\n\", arr1)\n",
    "print(\"Shape : \", arr1.shape)"
   ]
  },
  {
   "cell_type": "code",
   "execution_count": 19,
   "id": "9322c71f-1f6e-4d94-a1af-55f2e3a3a371",
   "metadata": {},
   "outputs": [
    {
     "data": {
      "text/plain": [
       "array([[0, 1, 2, 3],\n",
       "       [4, 4, 4, 4],\n",
       "       [4, 5, 6, 7]])"
      ]
     },
     "execution_count": 19,
     "metadata": {},
     "output_type": "execute_result"
    }
   ],
   "source": [
    "a = numpy.insert(arr1, [1],[4], axis = 0)\n",
    "a"
   ]
  },
  {
   "cell_type": "code",
   "execution_count": 26,
   "id": "22712941-3cda-4452-8faa-6342415a0265",
   "metadata": {},
   "outputs": [
    {
     "name": "stdout",
     "output_type": "stream",
     "text": [
      "2\n"
     ]
    }
   ],
   "source": [
    "import numpy as np\n",
    "arr = np.array([[1, 2, 3, 4, 5], [6, 7, 8, 9, 10]])\n",
    "print(arr[0, 1])"
   ]
  },
  {
   "cell_type": "code",
   "execution_count": 34,
   "id": "b0f0d9b6-32c0-44c1-bd58-f80fa454a247",
   "metadata": {},
   "outputs": [],
   "source": [
    "w, h = 8, 5;\n",
    "Matrix = [[0 for x in range(w)] for y in range(h)] "
   ]
  },
  {
   "cell_type": "code",
   "execution_count": 35,
   "id": "f8c5f45c-c752-4356-8a74-c2500d222749",
   "metadata": {},
   "outputs": [],
   "source": [
    "Matrix[0][0] = 1"
   ]
  },
  {
   "cell_type": "code",
   "execution_count": 37,
   "id": "fe03400e-b04e-47d8-9f60-915011205fdf",
   "metadata": {},
   "outputs": [
    {
     "data": {
      "text/plain": [
       "[1, 0, 0, 0, 0, 0, 0, 0]"
      ]
     },
     "execution_count": 37,
     "metadata": {},
     "output_type": "execute_result"
    }
   ],
   "source": [
    "Matrix[0]"
   ]
  },
  {
   "cell_type": "code",
   "execution_count": 150,
   "id": "87fe8e30-c16a-4cec-b10e-9e22881c3cd4",
   "metadata": {},
   "outputs": [
    {
     "data": {
      "text/plain": [
       "float"
      ]
     },
     "execution_count": 150,
     "metadata": {},
     "output_type": "execute_result"
    }
   ],
   "source": [
    "type(haversine(result1[1],result2[1]))"
   ]
  },
  {
   "cell_type": "code",
   "execution_count": 132,
   "id": "5a1e0fcc-ad82-4bc6-b8da-003d88dff688",
   "metadata": {},
   "outputs": [
    {
     "name": "stdout",
     "output_type": "stream",
     "text": [
      "Column Name :  Branch\n",
      "Column Name :  India_Dist\n",
      "Column Name :  Lat\n",
      "Column Name :  Long\n",
      "Column Name :  Customer\n",
      "Column Name :  Lat1\n",
      "Column Name :  Long1\n"
     ]
    }
   ],
   "source": [
    "for (i, j) in data.iteritems():\n",
    "    print('Column Name : ', i)\n",
    "    #print('Column Value : ', type(j[0]))\n",
    "    x = tuple(map(tuple, i[0]))"
   ]
  },
  {
   "cell_type": "code",
   "execution_count": 131,
   "id": "71714fb6-0b64-434d-b05d-58a72c856bcc",
   "metadata": {},
   "outputs": [
    {
     "data": {
      "text/plain": [
       "(('L',),)"
      ]
     },
     "execution_count": 131,
     "metadata": {},
     "output_type": "execute_result"
    }
   ],
   "source": [
    "x"
   ]
  },
  {
   "cell_type": "code",
   "execution_count": null,
   "id": "f83c649a-caf0-42b7-ac76-dcaa12a04180",
   "metadata": {},
   "outputs": [],
   "source": [
    "for (columnName, columnData) in stu_df.iteritems():\n",
    "    print('Column Name : ', columnName)\n",
    "    print('Column Contents : ', columnData.values)"
   ]
  },
  {
   "cell_type": "code",
   "execution_count": null,
   "id": "35b5ffdb-d097-4722-a76b-6847d202a7e9",
   "metadata": {},
   "outputs": [],
   "source": [
    "haversine(lyon, paris)"
   ]
  }
 ],
 "metadata": {
  "kernelspec": {
   "display_name": "Python 3",
   "language": "python",
   "name": "python3"
  },
  "language_info": {
   "codemirror_mode": {
    "name": "ipython",
    "version": 3
   },
   "file_extension": ".py",
   "mimetype": "text/x-python",
   "name": "python",
   "nbconvert_exporter": "python",
   "pygments_lexer": "ipython3",
   "version": "3.9.1"
  }
 },
 "nbformat": 4,
 "nbformat_minor": 5
}
