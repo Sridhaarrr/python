{
 "cells": [
  {
   "cell_type": "code",
   "execution_count": null,
   "id": "47d7663f-1fe5-4fe5-a385-c3a1c3d64950",
   "metadata": {},
   "outputs": [],
   "source": [
    "import os\n",
    "import nltk\n",
    "import re\n",
    "#os.chdir(r\"C:\\Users\\018598\\Desktop\\KK\")\n",
    "listvals = []\n",
    "for i in os.listdir(\"C:/Users/018598/Desktop/KK\"):\n",
    "    if (('docx' in i) and ('Article' in i)):"
   ]
  },
  {
   "cell_type": "code",
   "execution_count": null,
   "id": "5ffbc6c5-8d3e-4867-b427-43a176731cd5",
   "metadata": {},
   "outputs": [],
   "source": [
    "lis = ' '.join(listvals)\n",
    "key = set(lis.split())\n",
    "from english_words import english_words_set\n",
    "ki = [w for w in key if w.lower() in english_words_set or not w.isalpha()]\n",
    "ne = [w for w in key if w.lower() in nltk.corpus.stopwords.words('tajik') or not w.isalpha()]"
   ]
  },
  {
   "cell_type": "code",
   "execution_count": 5,
   "id": "1157569a-01dc-4db6-be06-f3135d58edb3",
   "metadata": {},
   "outputs": [],
   "source": [
    "import spacy\n",
    "import pyinflect\n",
    "import nltk\n",
    "from pyinflect import getAllInflections, getInflection\n",
    "ty=[]\n",
    "for j in nltk.corpus.stopwords.words('tajik'):\n",
    "    gt = [getAllInflections(j)[i][0] for i in getAllInflections(j).keys()]\n",
    "    ty+=gt\n",
    "ty = set(ty)"
   ]
  },
  {
   "cell_type": "code",
   "execution_count": null,
   "id": "35367c87-7a03-4755-8063-67f869ac9ada",
   "metadata": {},
   "outputs": [],
   "source": [
    "import spacy\n",
    "import pyinflect\n",
    "import nltk\n",
    "from pyinflect import getAllInflections, getInflection\n",
    "ty=[]\n",
    "for j in nltk.corpus.stopwords.words('tajik'):\n",
    "    print(j)"
   ]
  },
  {
   "cell_type": "code",
   "execution_count": null,
   "id": "9a5a71a5-1592-44ba-a83a-cae72da457f8",
   "metadata": {},
   "outputs": [],
   "source": [
    "import spacy\n",
    "import pyinflect\n",
    "from pyinflect import getAllInflections, getInflection\n",
    "import nltk\n",
    "for j in nltk.corpus.stopwords.words('tajik'):\n",
    "    for i in getAllInflections(j).keys():\n",
    "        print(getAllInflections(j)[i][0]) "
   ]
  },
  {
   "cell_type": "code",
   "execution_count": null,
   "id": "45b396f0-4cfa-4d1b-9adf-f5887e21e0ec",
   "metadata": {},
   "outputs": [],
   "source": [
    "import pandas as pd\n",
    "(pd.DataFrame(ty)).to_excel('circul.xlsx')"
   ]
  },
  {
   "cell_type": "code",
   "execution_count": null,
   "id": "d4d8dfc5-eb8e-41cc-81b6-c0b1b998907e",
   "metadata": {},
   "outputs": [],
   "source": []
  }
 ],
 "metadata": {
  "kernelspec": {
   "display_name": "Python 3",
   "language": "python",
   "name": "python3"
  },
  "language_info": {
   "codemirror_mode": {
    "name": "ipython",
    "version": 3
   },
   "file_extension": ".py",
   "mimetype": "text/x-python",
   "name": "python",
   "nbconvert_exporter": "python",
   "pygments_lexer": "ipython3",
   "version": "3.9.1"
  }
 },
 "nbformat": 4,
 "nbformat_minor": 5
}
