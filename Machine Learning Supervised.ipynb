{
 "cells": [
  {
   "cell_type": "code",
   "execution_count": 1,
   "id": "54530b76-3bad-4cc3-a013-02c3ad295f07",
   "metadata": {},
   "outputs": [
    {
     "name": "stdout",
     "output_type": "stream",
     "text": [
      "TRAIN: [0 1] TEST: [2 3]\n",
      "TRAIN: [2 3] TEST: [0 1]\n",
      "TRAIN: [1 2] TEST: [0 3]\n",
      "TRAIN: [0 3] TEST: [1 2]\n"
     ]
    }
   ],
   "source": [
    "import numpy as np\n",
    "from sklearn.model_selection import RepeatedKFold\n",
    "X = np.array([[1, 2], [3, 4], [1, 2], [3, 4]])\n",
    "y = np.array([0, 0, 1, 1])\n",
    "rkf = RepeatedKFold(n_splits=2, n_repeats=2, random_state=2652124)\n",
    "for train_index, test_index in rkf.split(X):\n",
    "    print(\"TRAIN:\", train_index, \"TEST:\", test_index)\n",
    "    X_train, X_test = X[train_index], X[test_index]\n",
    "    y_train, y_test = y[train_index], y[test_index]"
   ]
  },
  {
   "cell_type": "code",
   "execution_count": 12,
   "id": "1abedd2f-bb77-442f-8bc6-00c097164a75",
   "metadata": {},
   "outputs": [
    {
     "name": "stdout",
     "output_type": "stream",
     "text": [
      "TRAIN: [1 2] TEST: [0 3]\n",
      "TRAIN: [0 1 3] TEST: [2]\n",
      "TRAIN: [0 2 3] TEST: [1]\n"
     ]
    }
   ],
   "source": [
    "import numpy as np\n",
    "from sklearn.model_selection import RepeatedKFold\n",
    "X = np.array([[1, 2], [3, 4], [1, 2], [3, 4]])\n",
    "y = np.array([0, 0, 1, 1])\n",
    "rkf = RepeatedKFold(n_splits=3, n_repeats=1, random_state=26521)\n",
    "for train_index, test_index in rkf.split(X):\n",
    "    print(\"TRAIN:\", train_index, \"TEST:\", test_index)\n",
    "    X_train, X_test = X[train_index], X[test_index]\n",
    "    y_train, y_test = y[train_index], y[test_index]"
   ]
  },
  {
   "cell_type": "code",
   "execution_count": 13,
   "id": "5b36c667-d10f-42c3-9293-37249e7b845b",
   "metadata": {},
   "outputs": [
    {
     "name": "stderr",
     "output_type": "stream",
     "text": [
      "D:\\lib\\site-packages\\sklearn\\linear_model\\_stochastic_gradient.py:574: ConvergenceWarning: Maximum number of iteration reached before convergence. Consider increasing max_iter to improve the fit.\n",
      "  warnings.warn(\"Maximum number of iteration reached before \"\n"
     ]
    },
    {
     "data": {
      "text/plain": [
       "SGDClassifier(max_iter=5)"
      ]
     },
     "execution_count": 13,
     "metadata": {},
     "output_type": "execute_result"
    }
   ],
   "source": [
    "from sklearn.linear_model import SGDClassifier\n",
    "X = [[0., 0.], [1., 1.]]\n",
    "y = [0, 1]\n",
    "clf = SGDClassifier(loss=\"hinge\", penalty=\"l2\", max_iter=5)\n",
    "clf.fit(X, y)\n",
    "SGDClassifier(max_iter=5)"
   ]
  },
  {
   "cell_type": "code",
   "execution_count": 1,
   "id": "c1acdecb-1a82-45f2-aced-4b0c101d2bd2",
   "metadata": {},
   "outputs": [],
   "source": [
    "import pandas as pd\n",
    "import numpy as np\n",
    "import matplotlib.pyplot as plt"
   ]
  },
  {
   "cell_type": "code",
   "execution_count": 77,
   "id": "4e5bd3d6-f9b2-4f9c-b29f-38c5838d215c",
   "metadata": {},
   "outputs": [
    {
     "data": {
      "text/html": [
       "<div>\n",
       "<style scoped>\n",
       "    .dataframe tbody tr th:only-of-type {\n",
       "        vertical-align: middle;\n",
       "    }\n",
       "\n",
       "    .dataframe tbody tr th {\n",
       "        vertical-align: top;\n",
       "    }\n",
       "\n",
       "    .dataframe thead th {\n",
       "        text-align: right;\n",
       "    }\n",
       "</style>\n",
       "<table border=\"1\" class=\"dataframe\">\n",
       "  <thead>\n",
       "    <tr style=\"text-align: right;\">\n",
       "      <th></th>\n",
       "      <th>CA_STAT</th>\n",
       "      <th>RD_STAT</th>\n",
       "      <th>TD_STAT</th>\n",
       "      <th>VEHICLELN_STAT</th>\n",
       "      <th>OTHER_STAT</th>\n",
       "      <th>NONFUND_STAT</th>\n",
       "      <th>HL_STAT</th>\n",
       "      <th>DEPOSITLN_STAT</th>\n",
       "      <th>EDULN_STAT</th>\n",
       "      <th>AGRITERMLN_STAT</th>\n",
       "      <th>...</th>\n",
       "      <th>HEALTHINSUR_FLG</th>\n",
       "      <th>LOCKER_FLG</th>\n",
       "      <th>POS_FLG</th>\n",
       "      <th>BIJLI_FLG</th>\n",
       "      <th>BHARATQR_FLG</th>\n",
       "      <th>PMJJBY_FLG</th>\n",
       "      <th>PMSBY_FLG</th>\n",
       "      <th>SGB_FLG</th>\n",
       "      <th>CORP_CC_FLG</th>\n",
       "      <th>RET_CC_FLG</th>\n",
       "    </tr>\n",
       "    <tr>\n",
       "      <th>SA_STAT</th>\n",
       "      <th></th>\n",
       "      <th></th>\n",
       "      <th></th>\n",
       "      <th></th>\n",
       "      <th></th>\n",
       "      <th></th>\n",
       "      <th></th>\n",
       "      <th></th>\n",
       "      <th></th>\n",
       "      <th></th>\n",
       "      <th></th>\n",
       "      <th></th>\n",
       "      <th></th>\n",
       "      <th></th>\n",
       "      <th></th>\n",
       "      <th></th>\n",
       "      <th></th>\n",
       "      <th></th>\n",
       "      <th></th>\n",
       "      <th></th>\n",
       "      <th></th>\n",
       "    </tr>\n",
       "  </thead>\n",
       "  <tbody>\n",
       "    <tr>\n",
       "      <th>0</th>\n",
       "      <td>22349</td>\n",
       "      <td>2191</td>\n",
       "      <td>15097</td>\n",
       "      <td>2637</td>\n",
       "      <td>0</td>\n",
       "      <td>4888</td>\n",
       "      <td>558</td>\n",
       "      <td>6747</td>\n",
       "      <td>2</td>\n",
       "      <td>138</td>\n",
       "      <td>...</td>\n",
       "      <td>365</td>\n",
       "      <td>1517</td>\n",
       "      <td>8826</td>\n",
       "      <td>3212</td>\n",
       "      <td>4891</td>\n",
       "      <td>1040</td>\n",
       "      <td>1331</td>\n",
       "      <td>24</td>\n",
       "      <td>142</td>\n",
       "      <td>128</td>\n",
       "    </tr>\n",
       "    <tr>\n",
       "      <th>1</th>\n",
       "      <td>25523</td>\n",
       "      <td>63568</td>\n",
       "      <td>140836</td>\n",
       "      <td>12320</td>\n",
       "      <td>0</td>\n",
       "      <td>621</td>\n",
       "      <td>13909</td>\n",
       "      <td>9400</td>\n",
       "      <td>738</td>\n",
       "      <td>2321</td>\n",
       "      <td>...</td>\n",
       "      <td>5704</td>\n",
       "      <td>70162</td>\n",
       "      <td>1034</td>\n",
       "      <td>329</td>\n",
       "      <td>1306</td>\n",
       "      <td>111695</td>\n",
       "      <td>132963</td>\n",
       "      <td>950</td>\n",
       "      <td>2307</td>\n",
       "      <td>6290</td>\n",
       "    </tr>\n",
       "  </tbody>\n",
       "</table>\n",
       "<p>2 rows × 40 columns</p>\n",
       "</div>"
      ],
      "text/plain": [
       "         CA_STAT  RD_STAT  TD_STAT  VEHICLELN_STAT  OTHER_STAT  NONFUND_STAT  \\\n",
       "SA_STAT                                                                        \n",
       "0          22349     2191    15097            2637           0          4888   \n",
       "1          25523    63568   140836           12320           0           621   \n",
       "\n",
       "         HL_STAT  DEPOSITLN_STAT  EDULN_STAT  AGRITERMLN_STAT  ...  \\\n",
       "SA_STAT                                                        ...   \n",
       "0            558            6747           2              138  ...   \n",
       "1          13909            9400         738             2321  ...   \n",
       "\n",
       "         HEALTHINSUR_FLG  LOCKER_FLG  POS_FLG  BIJLI_FLG  BHARATQR_FLG  \\\n",
       "SA_STAT                                                                  \n",
       "0                    365        1517     8826       3212          4891   \n",
       "1                   5704       70162     1034        329          1306   \n",
       "\n",
       "         PMJJBY_FLG  PMSBY_FLG  SGB_FLG  CORP_CC_FLG  RET_CC_FLG  \n",
       "SA_STAT                                                           \n",
       "0              1040       1331       24          142         128  \n",
       "1            111695     132963      950         2307        6290  \n",
       "\n",
       "[2 rows x 40 columns]"
      ]
     },
     "execution_count": 77,
     "metadata": {},
     "output_type": "execute_result"
    }
   ],
   "source": [
    "dataset.groupby('SA_STAT').sum()"
   ]
  },
  {
   "cell_type": "code",
   "execution_count": 4,
   "id": "6682ca3c-089f-44dc-a0c0-88bb0bd94fb6",
   "metadata": {},
   "outputs": [
    {
     "data": {
      "text/plain": [
       "41"
      ]
     },
     "execution_count": 4,
     "metadata": {},
     "output_type": "execute_result"
    }
   ],
   "source": [
    "len(dataset.columns)"
   ]
  },
  {
   "cell_type": "code",
   "execution_count": 9,
   "id": "3afd2043-4f9f-4ea3-85d3-e3ca2e8f9724",
   "metadata": {},
   "outputs": [],
   "source": [
    "import pandas as pd\n",
    "import numpy as np\n",
    "dataset = pd.read_csv('PPC_New1.csv', index_col = \"V_CUST_CODE\")\n",
    "# input\n",
    "x = dataset.iloc[:, np.arange(39)].values\n",
    "# output\n",
    "y = dataset.iloc[:, 40].values"
   ]
  },
  {
   "cell_type": "code",
   "execution_count": null,
   "id": "7ee24eed-68b6-445d-a1e3-e2c6d7ea5b5f",
   "metadata": {},
   "outputs": [],
   "source": [
    "from sklearn.linear_model import LogisticRegression\n",
    "classifier = LogisticRegression(random_state = 0)\n",
    "classifier.fit(x, y)\n",
    "y_pred = classifier.predict(x)"
   ]
  },
  {
   "cell_type": "code",
   "execution_count": 11,
   "id": "ab8d6827-2347-40bd-8bde-58ff504f2706",
   "metadata": {},
   "outputs": [
    {
     "name": "stdout",
     "output_type": "stream",
     "text": [
      "Confusion Matrix : \n",
      " [[485498    250]\n",
      " [  6167    251]]\n"
     ]
    }
   ],
   "source": [
    "from sklearn.metrics import confusion_matrix\n",
    "cm = confusion_matrix(y, y_pred)\n",
    "print (\"Confusion Matrix : \\n\", cm)"
   ]
  },
  {
   "cell_type": "code",
   "execution_count": 39,
   "id": "f937eac5-2ccb-4b3d-9670-570b563c2b7e",
   "metadata": {},
   "outputs": [
    {
     "name": "stdout",
     "output_type": "stream",
     "text": [
      "<class 'pandas.core.frame.DataFrame'>\n",
      "Int64Index: 492166 entries, 37413 to 26468147\n",
      "Data columns (total 3 columns):\n",
      " #   Column          Non-Null Count   Dtype\n",
      "---  ------          --------------   -----\n",
      " 0   RD_STAT         492166 non-null  int64\n",
      " 1   TD_STAT         492166 non-null  int64\n",
      " 2   VEHICLELN_STAT  492166 non-null  int64\n",
      "dtypes: int64(3)\n",
      "memory usage: 31.1 MB\n"
     ]
    }
   ],
   "source": [
    "d = dataset[[dataset.columns[2], dataset.columns[3], dataset.columns[4]]]\n",
    "d.info()"
   ]
  },
  {
   "cell_type": "code",
   "execution_count": null,
   "id": "3cb40779-66fb-45ab-817d-3eebad255a9a",
   "metadata": {},
   "outputs": [],
   "source": [
    "d['y_pred'] = y_pred"
   ]
  },
  {
   "cell_type": "code",
   "execution_count": null,
   "id": "4a2c5e9e-b141-42c2-a098-565d8fb94e21",
   "metadata": {},
   "outputs": [],
   "source": [
    "import xgboost as xgb\n",
    "xgb = xgb.XGBClassifier(objective = 'binary:logitraw') \n",
    "xgb.fit(x, y)\n",
    "xgb_pred = xgb.predict(x) "
   ]
  },
  {
   "cell_type": "code",
   "execution_count": 56,
   "id": "4f55f43d-6740-4d4e-bb4e-0d8bcf9fc5a7",
   "metadata": {},
   "outputs": [
    {
     "name": "stdout",
     "output_type": "stream",
     "text": [
      "Confusion Matrix : \n",
      " [[477209      0]\n",
      " [ 14957      0]]\n"
     ]
    }
   ],
   "source": [
    "from sklearn.metrics import confusion_matrix\n",
    "cm = confusion_matrix(y, xgb_pred)\n",
    "print (\"Confusion Matrix : \\n\", cm)"
   ]
  },
  {
   "cell_type": "code",
   "execution_count": 78,
   "id": "ad856930-921b-45ce-8d33-5e7c966b46bc",
   "metadata": {},
   "outputs": [
    {
     "data": {
      "text/plain": [
       "(477209, 0, 14957, 0)"
      ]
     },
     "execution_count": 78,
     "metadata": {},
     "output_type": "execute_result"
    }
   ],
   "source": [
    "tn, fp, fn, tp = confusion_matrix(y, xgb_pred).ravel()\n",
    "(tn, fp, fn, tp)"
   ]
  },
  {
   "cell_type": "code",
   "execution_count": 12,
   "id": "9d4bfaa8-97bf-448a-82b4-262dc0185f5c",
   "metadata": {},
   "outputs": [],
   "source": [
    "from sklearn.ensemble import RandomForestClassifier\n",
    " # create regressor object\n",
    "regressor = RandomForestClassifier(n_estimators = 100, random_state = 0)\n",
    "# fit the regressor with x and y data\n",
    "regressor.fit(x, y)\n",
    "Y_pre = regressor.predict(x)"
   ]
  },
  {
   "cell_type": "code",
   "execution_count": 68,
   "id": "04e59cbe-d12f-4109-b9df-5639f142d280",
   "metadata": {},
   "outputs": [
    {
     "name": "stdout",
     "output_type": "stream",
     "text": [
      "Confusion Matrix : \n",
      " [[477209      0]\n",
      " [ 14957      0]]\n"
     ]
    }
   ],
   "source": [
    "from sklearn.metrics import confusion_matrix\n",
    "cm = confusion_matrix(y, Y_pre)\n",
    "print (\"Confusion Matrix : \\n\", cm)"
   ]
  },
  {
   "cell_type": "code",
   "execution_count": null,
   "id": "0bc921e2-25f8-4a0c-869e-cf745c6e0ca5",
   "metadata": {},
   "outputs": [],
   "source": [
    "np.array([[6.5, 7.6],\n",
    "       [6.5, 7.6]]).reshape(3,2)"
   ]
  },
  {
   "cell_type": "code",
   "execution_count": null,
   "id": "220504fc-ad9e-4e00-bc52-513b81c94ef4",
   "metadata": {},
   "outputs": [],
   "source": []
  }
 ],
 "metadata": {
  "kernelspec": {
   "display_name": "Python 3",
   "language": "python",
   "name": "python3"
  },
  "language_info": {
   "codemirror_mode": {
    "name": "ipython",
    "version": 3
   },
   "file_extension": ".py",
   "mimetype": "text/x-python",
   "name": "python",
   "nbconvert_exporter": "python",
   "pygments_lexer": "ipython3",
   "version": "3.9.1"
  }
 },
 "nbformat": 4,
 "nbformat_minor": 5
}
