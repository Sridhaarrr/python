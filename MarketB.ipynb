{
 "cells": [
  {
   "cell_type": "code",
   "execution_count": null,
   "id": "7402c081-d052-475c-b413-6087a4cb98f4",
   "metadata": {},
   "outputs": [],
   "source": [
    "pip install --trusted-host=pypi.org --trusted-host=files.pythonhosted.org --user mlxtend"
   ]
  },
  {
   "cell_type": "code",
   "execution_count": 1,
   "id": "4b25b907-4a87-4579-af5e-4d4bd67d4fa5",
   "metadata": {},
   "outputs": [],
   "source": [
    "import pandas as pd\n",
    "import numpy as np\n",
    "from mlxtend.frequent_patterns import apriori\n",
    "from mlxtend.frequent_patterns import association_rules\n",
    "basket_sets = pd.read_csv('PPC_New1.csv', index_col = \"V_CUST_CODE\")"
   ]
  },
  {
   "cell_type": "code",
   "execution_count": 9,
   "id": "b9a95491-d3e4-4d3b-901c-7bb0083e7449",
   "metadata": {},
   "outputs": [
    {
     "name": "stderr",
     "output_type": "stream",
     "text": [
      "D:\\lib\\site-packages\\ipykernel\\ipkernel.py:283: DeprecationWarning: `should_run_async` will not call `transform_cell` automatically in the future. Please pass the result to `transformed_cell` argument and any exception that happen during thetransform in `preprocessing_exc_tuple` in IPython 7.17 and above.\n",
      "  and should_run_async(code)\n"
     ]
    }
   ],
   "source": [
    "b = set(basket_sets.columns)"
   ]
  },
  {
   "cell_type": "code",
   "execution_count": 2,
   "id": "4cf43de2-8c29-43c0-957f-c214089f0c84",
   "metadata": {},
   "outputs": [
    {
     "name": "stderr",
     "output_type": "stream",
     "text": [
      "D:\\lib\\site-packages\\ipykernel\\ipkernel.py:283: DeprecationWarning: `should_run_async` will not call `transform_cell` automatically in the future. Please pass the result to `transformed_cell` argument and any exception that happen during thetransform in `preprocessing_exc_tuple` in IPython 7.17 and above.\n",
      "  and should_run_async(code)\n",
      "C:\\Users\\018598\\AppData\\Roaming\\Python\\Python39\\site-packages\\mlxtend\\frequent_patterns\\fpcommon.py:111: DeprecationWarning: DataFrames with non-bool types result in worse computationalperformance and their support might be discontinued in the future.Please use a DataFrame with bool type\n",
      "  warnings.warn(\n"
     ]
    }
   ],
   "source": [
    "frequent_itemsets = apriori(basket_sets, min_support=0.05, use_colnames=True)\n",
    "rules = association_rules(frequent_itemsets, metric=\"lift\")\n",
    "rules = rules[(rules['lift'] >= 1) & (rules['confidence'] >= 0.5) ]\n",
    "rules = rules.sort_values(by=['lift'], ascending=False)\n",
    "rules = rules.reset_index()\n",
    "#rules.to_excel('MB-Py.xlsx')"
   ]
  },
  {
   "cell_type": "code",
   "execution_count": 3,
   "id": "7678d9a9-5813-42c7-90de-e4a3a956402f",
   "metadata": {},
   "outputs": [
    {
     "name": "stderr",
     "output_type": "stream",
     "text": [
      "D:\\lib\\site-packages\\ipykernel\\ipkernel.py:283: DeprecationWarning: `should_run_async` will not call `transform_cell` automatically in the future. Please pass the result to `transformed_cell` argument and any exception that happen during thetransform in `preprocessing_exc_tuple` in IPython 7.17 and above.\n",
      "  and should_run_async(code)\n"
     ]
    }
   ],
   "source": [
    "MB1 = pd.read_excel(\"PPC_data_ext.xlsx\")\n",
    "p = []\n",
    "for i in MB1['EXISTING PRODUCTS']:\n",
    "    l= list(i.split(\",\"))\n",
    "    p.append(l)\n",
    "\n",
    "j=[]\n",
    "for i in range(len(p)):    \n",
    "    o = [k.strip(\" \") for k in p[i]]\n",
    "    j.append(set(o))"
   ]
  },
  {
   "cell_type": "code",
   "execution_count": 4,
   "id": "6dc19e0b-16fa-426d-b90e-4eb5b7d55a96",
   "metadata": {},
   "outputs": [
    {
     "name": "stderr",
     "output_type": "stream",
     "text": [
      "D:\\lib\\site-packages\\ipykernel\\ipkernel.py:283: DeprecationWarning: `should_run_async` will not call `transform_cell` automatically in the future. Please pass the result to `transformed_cell` argument and any exception that happen during thetransform in `preprocessing_exc_tuple` in IPython 7.17 and above.\n",
      "  and should_run_async(code)\n"
     ]
    }
   ],
   "source": [
    "final = []\n",
    "for ii in range(len(j)):\n",
    "    zz = []\n",
    "    for jj in range(len(rules['antecedents'])):\n",
    "        x = rules['antecedents'][jj]\n",
    "        xx = rules['consequents'][jj]\n",
    "        x = x.union(xx)\n",
    "        y = j[ii]\n",
    "        #z = x.intersection(y)\n",
    "        z = x & y\n",
    "        if z==x:\n",
    "            z={}\n",
    "            zz.append(z)\n",
    "        else:\n",
    "            z = x - z\n",
    "            zz.append(z)\n",
    "        \n",
    "        #zz = xx.intersection(y)\n",
    "    final.append(zz)"
   ]
  },
  {
   "cell_type": "code",
   "execution_count": 5,
   "id": "2fbe9ab3-7eac-463f-a89d-5331835a28f0",
   "metadata": {},
   "outputs": [
    {
     "name": "stderr",
     "output_type": "stream",
     "text": [
      "D:\\lib\\site-packages\\ipykernel\\ipkernel.py:283: DeprecationWarning: `should_run_async` will not call `transform_cell` automatically in the future. Please pass the result to `transformed_cell` argument and any exception that happen during thetransform in `preprocessing_exc_tuple` in IPython 7.17 and above.\n",
      "  and should_run_async(code)\n",
      "<ipython-input-5-f70c7ca302bb>:5: VisibleDeprecationWarning: Creating an ndarray from ragged nested sequences (which is a list-or-tuple of lists-or-tuples-or ndarrays with different lengths or shapes) is deprecated. If you meant to do this, you must specify 'dtype=object' when creating the ndarray\n",
      "  j = [x for x in np.array(u).flatten()]\n"
     ]
    }
   ],
   "source": [
    "u = []\n",
    "for i in range(len(final)):\n",
    "    t = [list(x) for x in final[i]]\n",
    "    u.append(t)\n",
    "j = [x for x in np.array(u).flatten()]\n",
    "op=[]\n",
    "for i in j:\n",
    "    l = ','.join(i)\n",
    "    op.append(l)\n",
    "colums = set(op)"
   ]
  },
  {
   "cell_type": "code",
   "execution_count": 6,
   "id": "29d6ad19-f12b-470d-aa85-0f8c8b473b89",
   "metadata": {},
   "outputs": [
    {
     "name": "stderr",
     "output_type": "stream",
     "text": [
      "D:\\lib\\site-packages\\ipykernel\\ipkernel.py:283: DeprecationWarning: `should_run_async` will not call `transform_cell` automatically in the future. Please pass the result to `transformed_cell` argument and any exception that happen during thetransform in `preprocessing_exc_tuple` in IPython 7.17 and above.\n",
      "  and should_run_async(code)\n"
     ]
    }
   ],
   "source": [
    "colv = []\n",
    "for i in range(len(MB1)):\n",
    "    t = [(','.join(x)).replace(r'_', '') for x in u[i]]\n",
    "    colv.append(t)\n",
    "columns = []\n",
    "for x in colums:\n",
    "    if  x!='':\n",
    "        MB1[x.replace(r'_', '')] = np.nan*len(MB1)\n",
    "        columns.append(x.replace(r'_', ''))"
   ]
  },
  {
   "cell_type": "code",
   "execution_count": 7,
   "id": "6633e057-74d9-4eeb-a112-103fedc670c3",
   "metadata": {},
   "outputs": [
    {
     "name": "stderr",
     "output_type": "stream",
     "text": [
      "D:\\lib\\site-packages\\ipykernel\\ipkernel.py:283: DeprecationWarning: `should_run_async` will not call `transform_cell` automatically in the future. Please pass the result to `transformed_cell` argument and any exception that happen during thetransform in `preprocessing_exc_tuple` in IPython 7.17 and above.\n",
      "  and should_run_async(code)\n"
     ]
    }
   ],
   "source": [
    "for i in range(len(colv)):\n",
    "    for j in range(len(colv[i])):\n",
    "        if colv[i][j] in columns:\n",
    "            for idx, row in MB1.iterrows():\n",
    "                if idx==i and colv[i][j] != '':\n",
    "                    MB1.at[idx,colv[i][j]] = 1"
   ]
  },
  {
   "cell_type": "code",
   "execution_count": 11,
   "id": "8fc6721f-dfe3-4ff1-ae82-894d91713fb2",
   "metadata": {},
   "outputs": [
    {
     "name": "stderr",
     "output_type": "stream",
     "text": [
      "D:\\lib\\site-packages\\ipykernel\\ipkernel.py:283: DeprecationWarning: `should_run_async` will not call `transform_cell` automatically in the future. Please pass the result to `transformed_cell` argument and any exception that happen during thetransform in `preprocessing_exc_tuple` in IPython 7.17 and above.\n",
      "  and should_run_async(code)\n"
     ]
    }
   ],
   "source": [
    "MB2 = MB1[['NONLIFEINSURFLG,SASTAT,AGRIJEWELLNSTAT', 'TDSTAT,SASTAT', 'TDSTAT',\n",
    "       'FASTAGFLG', 'PMSBYFLG,SASTAT', 'TDSTAT,LOCKERFLG', 'JEWELLNSTAT',\n",
    "       'SASTAT,FASTAGFLG,AGRIJEWELLNSTAT', 'PMJJBYFLG', 'SASTAT,RDSTAT',\n",
    "       'LOCKERFLG', 'FASTAGFLG,AGRIJEWELLNSTAT', 'SASTAT,AGRIJEWELLNSTAT',\n",
    "       'NONLIFEINSURFLG', 'PMJJBYFLG,SASTAT', 'TDSTAT,RDSTAT',\n",
    "       'NONLIFEINSURFLG,SASTAT', 'TDSTAT,SASTAT,LOCKERFLG',\n",
    "       'JEWELLNSTAT,AGRIJEWELLNSTAT', 'TDSTAT,SASTAT,RDSTAT', 'PMSBYFLG',\n",
    "       'PMSBYFLG,PMJJBYFLG,SASTAT', 'SASTAT,LOCKERFLG',\n",
    "       'NONLIFEINSURFLG,AGRIJEWELLNSTAT', 'SASTAT', 'SASTAT,FASTAGFLG',\n",
    "       'PMSBYFLG,PMJJBYFLG', 'AGRIJEWELLNSTAT', 'JEWELLNSTAT,SASTAT',\n",
    "       'JEWELLNSTAT,SASTAT,AGRIJEWELLNSTAT', 'RDSTAT']]"
   ]
  },
  {
   "cell_type": "code",
   "execution_count": 26,
   "id": "673510d2-690e-4be4-bbee-0334bc80f411",
   "metadata": {},
   "outputs": [
    {
     "name": "stderr",
     "output_type": "stream",
     "text": [
      "D:\\lib\\site-packages\\ipykernel\\ipkernel.py:283: DeprecationWarning: `should_run_async` will not call `transform_cell` automatically in the future. Please pass the result to `transformed_cell` argument and any exception that happen during thetransform in `preprocessing_exc_tuple` in IPython 7.17 and above.\n",
      "  and should_run_async(code)\n",
      "D:\\lib\\site-packages\\pandas\\core\\indexing.py:1817: SettingWithCopyWarning: \n",
      "A value is trying to be set on a copy of a slice from a DataFrame.\n",
      "Try using .loc[row_indexer,col_indexer] = value instead\n",
      "\n",
      "See the caveats in the documentation: https://pandas.pydata.org/pandas-docs/stable/user_guide/indexing.html#returning-a-view-versus-a-copy\n",
      "  self._setitem_single_column(loc, value, pi)\n"
     ]
    }
   ],
   "source": [
    "k = 0\n",
    "for j in MB2.columns:\n",
    "    MB2.loc[MB2[j]==1,j] = MB2.columns[k]\n",
    "    k=k+1"
   ]
  },
  {
   "cell_type": "code",
   "execution_count": 29,
   "id": "6c363b6c-b697-4f12-884b-24be4deebcdf",
   "metadata": {},
   "outputs": [
    {
     "name": "stderr",
     "output_type": "stream",
     "text": [
      "D:\\lib\\site-packages\\ipykernel\\ipkernel.py:283: DeprecationWarning: `should_run_async` will not call `transform_cell` automatically in the future. Please pass the result to `transformed_cell` argument and any exception that happen during thetransform in `preprocessing_exc_tuple` in IPython 7.17 and above.\n",
      "  and should_run_async(code)\n"
     ]
    },
    {
     "data": {
      "text/plain": [
       "Index(['NONLIFEINSURFLG,SASTAT,AGRIJEWELLNSTAT', 'TDSTAT,SASTAT', 'TDSTAT',\n",
       "       'FASTAGFLG', 'PMSBYFLG,SASTAT', 'TDSTAT,LOCKERFLG', 'JEWELLNSTAT',\n",
       "       'SASTAT,FASTAGFLG,AGRIJEWELLNSTAT', 'PMJJBYFLG', 'SASTAT,RDSTAT',\n",
       "       'LOCKERFLG', 'FASTAGFLG,AGRIJEWELLNSTAT', 'SASTAT,AGRIJEWELLNSTAT',\n",
       "       'NONLIFEINSURFLG', 'PMJJBYFLG,SASTAT', 'TDSTAT,RDSTAT',\n",
       "       'NONLIFEINSURFLG,SASTAT', 'TDSTAT,SASTAT,LOCKERFLG',\n",
       "       'JEWELLNSTAT,AGRIJEWELLNSTAT', 'TDSTAT,SASTAT,RDSTAT', 'PMSBYFLG',\n",
       "       'PMSBYFLG,PMJJBYFLG,SASTAT', 'SASTAT,LOCKERFLG',\n",
       "       'NONLIFEINSURFLG,AGRIJEWELLNSTAT', 'SASTAT', 'SASTAT,FASTAGFLG',\n",
       "       'PMSBYFLG,PMJJBYFLG', 'AGRIJEWELLNSTAT', 'JEWELLNSTAT,SASTAT',\n",
       "       'JEWELLNSTAT,SASTAT,AGRIJEWELLNSTAT', 'RDSTAT'],\n",
       "      dtype='object')"
      ]
     },
     "execution_count": 29,
     "metadata": {},
     "output_type": "execute_result"
    }
   ],
   "source": [
    "MB2.columns"
   ]
  },
  {
   "cell_type": "code",
   "execution_count": null,
   "id": "75446714-a1b2-475d-bc9a-1b008e2c48cf",
   "metadata": {},
   "outputs": [],
   "source": [
    "df['V'].str.split('-',expand=True)"
   ]
  },
  {
   "cell_type": "code",
   "execution_count": 36,
   "id": "23c7ed08-2cf2-4bfa-bd09-27ffeee3cdce",
   "metadata": {},
   "outputs": [
    {
     "name": "stderr",
     "output_type": "stream",
     "text": [
      "D:\\lib\\site-packages\\ipykernel\\ipkernel.py:283: DeprecationWarning: `should_run_async` will not call `transform_cell` automatically in the future. Please pass the result to `transformed_cell` argument and any exception that happen during thetransform in `preprocessing_exc_tuple` in IPython 7.17 and above.\n",
      "  and should_run_async(code)\n"
     ]
    }
   ],
   "source": [
    "f = MB2['NONLIFEINSURFLG,SASTAT,AGRIJEWELLNSTAT'].str.split(',',expand=True)"
   ]
  },
  {
   "cell_type": "code",
   "execution_count": 47,
   "id": "32bbdf1b-b601-42f8-bce1-e98fa0c0d03e",
   "metadata": {},
   "outputs": [
    {
     "name": "stderr",
     "output_type": "stream",
     "text": [
      "D:\\lib\\site-packages\\ipykernel\\ipkernel.py:283: DeprecationWarning: `should_run_async` will not call `transform_cell` automatically in the future. Please pass the result to `transformed_cell` argument and any exception that happen during thetransform in `preprocessing_exc_tuple` in IPython 7.17 and above.\n",
      "  and should_run_async(code)\n"
     ]
    }
   ],
   "source": [
    "g = []\n",
    "for c in f.columns:\n",
    "    g.append(f[c].unique())\n",
    "#f.columns=g"
   ]
  },
  {
   "cell_type": "code",
   "execution_count": 48,
   "id": "44a917ef-47d2-47ff-9d71-0f1b547b302e",
   "metadata": {},
   "outputs": [
    {
     "name": "stderr",
     "output_type": "stream",
     "text": [
      "D:\\lib\\site-packages\\ipykernel\\ipkernel.py:283: DeprecationWarning: `should_run_async` will not call `transform_cell` automatically in the future. Please pass the result to `transformed_cell` argument and any exception that happen during thetransform in `preprocessing_exc_tuple` in IPython 7.17 and above.\n",
      "  and should_run_async(code)\n"
     ]
    },
    {
     "data": {
      "text/plain": [
       "[array([nan, 'NONLIFEINSURFLG'], dtype=object),\n",
       " array([None, 'SASTAT'], dtype=object),\n",
       " array([None, 'AGRIJEWELLNSTAT'], dtype=object)]"
      ]
     },
     "execution_count": 48,
     "metadata": {},
     "output_type": "execute_result"
    }
   ],
   "source": [
    "g"
   ]
  },
  {
   "cell_type": "code",
   "execution_count": 49,
   "id": "3d1d6fa0-209d-44ed-a373-9ca5e7b40e37",
   "metadata": {},
   "outputs": [
    {
     "name": "stderr",
     "output_type": "stream",
     "text": [
      "D:\\lib\\site-packages\\ipykernel\\ipkernel.py:283: DeprecationWarning: `should_run_async` will not call `transform_cell` automatically in the future. Please pass the result to `transformed_cell` argument and any exception that happen during thetransform in `preprocessing_exc_tuple` in IPython 7.17 and above.\n",
      "  and should_run_async(code)\n"
     ]
    }
   ],
   "source": [
    "df1 = pd.DataFrame({'A': [None, 0], 'B': [None, 4]})\n",
    "df2 = pd.DataFrame({'A': [1, 1], 'B': [3, 3]})"
   ]
  },
  {
   "cell_type": "code",
   "execution_count": 56,
   "id": "77e3a724-3f22-41bf-a409-5c10853490a6",
   "metadata": {},
   "outputs": [
    {
     "name": "stderr",
     "output_type": "stream",
     "text": [
      "D:\\lib\\site-packages\\ipykernel\\ipkernel.py:283: DeprecationWarning: `should_run_async` will not call `transform_cell` automatically in the future. Please pass the result to `transformed_cell` argument and any exception that happen during thetransform in `preprocessing_exc_tuple` in IPython 7.17 and above.\n",
      "  and should_run_async(code)\n"
     ]
    },
    {
     "data": {
      "text/html": [
       "<div>\n",
       "<style scoped>\n",
       "    .dataframe tbody tr th:only-of-type {\n",
       "        vertical-align: middle;\n",
       "    }\n",
       "\n",
       "    .dataframe tbody tr th {\n",
       "        vertical-align: top;\n",
       "    }\n",
       "\n",
       "    .dataframe thead th {\n",
       "        text-align: right;\n",
       "    }\n",
       "</style>\n",
       "<table border=\"1\" class=\"dataframe\">\n",
       "  <thead>\n",
       "    <tr style=\"text-align: right;\">\n",
       "      <th></th>\n",
       "      <th>NONLIFEINSURFLG</th>\n",
       "      <th>SASTAT</th>\n",
       "      <th>AGRIJEWELLNSTAT</th>\n",
       "    </tr>\n",
       "  </thead>\n",
       "  <tbody>\n",
       "    <tr>\n",
       "      <th>0</th>\n",
       "      <td>NaN</td>\n",
       "      <td>None</td>\n",
       "      <td>None</td>\n",
       "    </tr>\n",
       "    <tr>\n",
       "      <th>1</th>\n",
       "      <td>NaN</td>\n",
       "      <td>None</td>\n",
       "      <td>None</td>\n",
       "    </tr>\n",
       "    <tr>\n",
       "      <th>2</th>\n",
       "      <td>NaN</td>\n",
       "      <td>None</td>\n",
       "      <td>None</td>\n",
       "    </tr>\n",
       "    <tr>\n",
       "      <th>3</th>\n",
       "      <td>NONLIFEINSURFLG</td>\n",
       "      <td>SASTAT</td>\n",
       "      <td>AGRIJEWELLNSTAT</td>\n",
       "    </tr>\n",
       "    <tr>\n",
       "      <th>4</th>\n",
       "      <td>NaN</td>\n",
       "      <td>None</td>\n",
       "      <td>None</td>\n",
       "    </tr>\n",
       "    <tr>\n",
       "      <th>...</th>\n",
       "      <td>...</td>\n",
       "      <td>...</td>\n",
       "      <td>...</td>\n",
       "    </tr>\n",
       "    <tr>\n",
       "      <th>557</th>\n",
       "      <td>NaN</td>\n",
       "      <td>NaN</td>\n",
       "      <td>NaN</td>\n",
       "    </tr>\n",
       "    <tr>\n",
       "      <th>558</th>\n",
       "      <td>NaN</td>\n",
       "      <td>NaN</td>\n",
       "      <td>NaN</td>\n",
       "    </tr>\n",
       "    <tr>\n",
       "      <th>559</th>\n",
       "      <td>NaN</td>\n",
       "      <td>NaN</td>\n",
       "      <td>NaN</td>\n",
       "    </tr>\n",
       "    <tr>\n",
       "      <th>560</th>\n",
       "      <td>NaN</td>\n",
       "      <td>NaN</td>\n",
       "      <td>NaN</td>\n",
       "    </tr>\n",
       "    <tr>\n",
       "      <th>561</th>\n",
       "      <td>NaN</td>\n",
       "      <td>NaN</td>\n",
       "      <td>NaN</td>\n",
       "    </tr>\n",
       "  </tbody>\n",
       "</table>\n",
       "<p>562 rows × 3 columns</p>\n",
       "</div>"
      ],
      "text/plain": [
       "     NONLIFEINSURFLG  SASTAT  AGRIJEWELLNSTAT\n",
       "0                NaN    None             None\n",
       "1                NaN    None             None\n",
       "2                NaN    None             None\n",
       "3    NONLIFEINSURFLG  SASTAT  AGRIJEWELLNSTAT\n",
       "4                NaN    None             None\n",
       "..               ...     ...              ...\n",
       "557              NaN     NaN              NaN\n",
       "558              NaN     NaN              NaN\n",
       "559              NaN     NaN              NaN\n",
       "560              NaN     NaN              NaN\n",
       "561              NaN     NaN              NaN\n",
       "\n",
       "[562 rows x 3 columns]"
      ]
     },
     "execution_count": 56,
     "metadata": {},
     "output_type": "execute_result"
    }
   ],
   "source": [
    "f"
   ]
  },
  {
   "cell_type": "code",
   "execution_count": 55,
   "id": "fe513117-f55f-47dd-be8a-2b8b95eb36aa",
   "metadata": {},
   "outputs": [
    {
     "name": "stderr",
     "output_type": "stream",
     "text": [
      "D:\\lib\\site-packages\\ipykernel\\ipkernel.py:283: DeprecationWarning: `should_run_async` will not call `transform_cell` automatically in the future. Please pass the result to `transformed_cell` argument and any exception that happen during thetransform in `preprocessing_exc_tuple` in IPython 7.17 and above.\n",
      "  and should_run_async(code)\n"
     ]
    },
    {
     "data": {
      "text/html": [
       "<div>\n",
       "<style scoped>\n",
       "    .dataframe tbody tr th:only-of-type {\n",
       "        vertical-align: middle;\n",
       "    }\n",
       "\n",
       "    .dataframe tbody tr th {\n",
       "        vertical-align: top;\n",
       "    }\n",
       "\n",
       "    .dataframe thead th {\n",
       "        text-align: right;\n",
       "    }\n",
       "</style>\n",
       "<table border=\"1\" class=\"dataframe\">\n",
       "  <thead>\n",
       "    <tr style=\"text-align: right;\">\n",
       "      <th></th>\n",
       "      <th>A</th>\n",
       "      <th>B</th>\n",
       "    </tr>\n",
       "  </thead>\n",
       "  <tbody>\n",
       "    <tr>\n",
       "      <th>0</th>\n",
       "      <td>1</td>\n",
       "      <td>3</td>\n",
       "    </tr>\n",
       "    <tr>\n",
       "      <th>1</th>\n",
       "      <td>1</td>\n",
       "      <td>3</td>\n",
       "    </tr>\n",
       "  </tbody>\n",
       "</table>\n",
       "</div>"
      ],
      "text/plain": [
       "   A  B\n",
       "0  1  3\n",
       "1  1  3"
      ]
     },
     "execution_count": 55,
     "metadata": {},
     "output_type": "execute_result"
    }
   ],
   "source": [
    "df2"
   ]
  },
  {
   "cell_type": "code",
   "execution_count": 53,
   "id": "1f132dc5-5633-438e-85cd-d9fb4dbce469",
   "metadata": {},
   "outputs": [
    {
     "name": "stderr",
     "output_type": "stream",
     "text": [
      "D:\\lib\\site-packages\\ipykernel\\ipkernel.py:283: DeprecationWarning: `should_run_async` will not call `transform_cell` automatically in the future. Please pass the result to `transformed_cell` argument and any exception that happen during thetransform in `preprocessing_exc_tuple` in IPython 7.17 and above.\n",
      "  and should_run_async(code)\n"
     ]
    },
    {
     "data": {
      "text/html": [
       "<div>\n",
       "<style scoped>\n",
       "    .dataframe tbody tr th:only-of-type {\n",
       "        vertical-align: middle;\n",
       "    }\n",
       "\n",
       "    .dataframe tbody tr th {\n",
       "        vertical-align: top;\n",
       "    }\n",
       "\n",
       "    .dataframe thead th {\n",
       "        text-align: right;\n",
       "    }\n",
       "</style>\n",
       "<table border=\"1\" class=\"dataframe\">\n",
       "  <thead>\n",
       "    <tr style=\"text-align: right;\">\n",
       "      <th></th>\n",
       "      <th>A</th>\n",
       "      <th>B</th>\n",
       "    </tr>\n",
       "  </thead>\n",
       "  <tbody>\n",
       "    <tr>\n",
       "      <th>0</th>\n",
       "      <td>NaN</td>\n",
       "      <td>NaN</td>\n",
       "    </tr>\n",
       "    <tr>\n",
       "      <th>1</th>\n",
       "      <td>0.0</td>\n",
       "      <td>4.0</td>\n",
       "    </tr>\n",
       "  </tbody>\n",
       "</table>\n",
       "</div>"
      ],
      "text/plain": [
       "     A    B\n",
       "0  NaN  NaN\n",
       "1  0.0  4.0"
      ]
     },
     "execution_count": 53,
     "metadata": {},
     "output_type": "execute_result"
    }
   ],
   "source": [
    "df1"
   ]
  },
  {
   "cell_type": "code",
   "execution_count": null,
   "id": "2de4e4fa-650b-4e37-81ad-95113271a232",
   "metadata": {},
   "outputs": [],
   "source": [
    "h.replace('None', np.nan)"
   ]
  },
  {
   "cell_type": "code",
   "execution_count": null,
   "id": "6553d176-0d74-4dcf-8717-2c0e8cea080b",
   "metadata": {},
   "outputs": [],
   "source": [
    "h.replace(0, np.nan)"
   ]
  },
  {
   "cell_type": "code",
   "execution_count": null,
   "id": "2b78f145-21e5-4ce1-8054-98dfedd7df93",
   "metadata": {},
   "outputs": [],
   "source": [
    "h['SASTAT'].combine_first(f['SASTAT'])"
   ]
  },
  {
   "cell_type": "code",
   "execution_count": 46,
   "id": "30351f53-01dd-4f57-903b-3803e2105e08",
   "metadata": {},
   "outputs": [
    {
     "name": "stderr",
     "output_type": "stream",
     "text": [
      "D:\\lib\\site-packages\\ipykernel\\ipkernel.py:283: DeprecationWarning: `should_run_async` will not call `transform_cell` automatically in the future. Please pass the result to `transformed_cell` argument and any exception that happen during thetransform in `preprocessing_exc_tuple` in IPython 7.17 and above.\n",
      "  and should_run_async(code)\n"
     ]
    }
   ],
   "source": [
    "h = f"
   ]
  },
  {
   "cell_type": "code",
   "execution_count": null,
   "id": "a25a996e-3598-457a-b44c-35af86998091",
   "metadata": {},
   "outputs": [],
   "source": [
    "MB1[['LOCKERFLG,SASTAT','SASTAT,TDSTAT', 'SASTAT,NONLIFEINSURFLG', 'LOCKERFLG',\n",
    "       'SASTAT,JEWELLNSTAT', 'PMJJBYFLG,SASTAT,PMSBYFLG',\n",
    "       'AGRIJEWELLNSTAT,SASTAT,JEWELLNSTAT', 'PMSBYFLG',\n",
    "       'AGRIJEWELLNSTAT,JEWELLNSTAT', 'RDSTAT', 'AGRIJEWELLNSTAT', 'PMJJBYFLG',\n",
    "       'AGRIJEWELLNSTAT,SASTAT,FASTAGFLG', 'SASTAT', 'JEWELLNSTAT',\n",
    "       'PMJJBYFLG,SASTAT', 'RDSTAT,SASTAT', 'AGRIJEWELLNSTAT,FASTAGFLG',\n",
    "       'AGRIJEWELLNSTAT,SASTAT,NONLIFEINSURFLG', 'SASTAT,FASTAGFLG',\n",
    "       'AGRIJEWELLNSTAT,NONLIFEINSURFLG', 'RDSTAT,TDSTAT',\n",
    "       'LOCKERFLG,SASTAT,TDSTAT', 'RDSTAT,SASTAT,TDSTAT', 'NONLIFEINSURFLG',\n",
    "       'SASTAT,PMSBYFLG', 'LOCKERFLG,TDSTAT', 'TDSTAT', 'FASTAGFLG',\n",
    "       'AGRIJEWELLNSTAT,SASTAT', 'PMJJBYFLG,PMSBYFLG']] = MB1[['LOCKERFLG,SASTAT',\n",
    "       'SASTAT,TDSTAT', 'SASTAT,NONLIFEINSURFLG', 'LOCKERFLG',\n",
    "       'SASTAT,JEWELLNSTAT', 'PMJJBYFLG,SASTAT,PMSBYFLG',\n",
    "       'AGRIJEWELLNSTAT,SASTAT,JEWELLNSTAT', 'PMSBYFLG',\n",
    "       'AGRIJEWELLNSTAT,JEWELLNSTAT', 'RDSTAT', 'AGRIJEWELLNSTAT', 'PMJJBYFLG',\n",
    "       'AGRIJEWELLNSTAT,SASTAT,FASTAGFLG', 'SASTAT', 'JEWELLNSTAT',\n",
    "       'PMJJBYFLG,SASTAT', 'RDSTAT,SASTAT', 'AGRIJEWELLNSTAT,FASTAGFLG',\n",
    "       'AGRIJEWELLNSTAT,SASTAT,NONLIFEINSURFLG', 'SASTAT,FASTAGFLG',\n",
    "       'AGRIJEWELLNSTAT,NONLIFEINSURFLG', 'RDSTAT,TDSTAT',\n",
    "       'LOCKERFLG,SASTAT,TDSTAT', 'RDSTAT,SASTAT,TDSTAT', 'NONLIFEINSURFLG',\n",
    "       'SASTAT,PMSBYFLG', 'LOCKERFLG,TDSTAT', 'TDSTAT', 'FASTAGFLG',\n",
    "       'AGRIJEWELLNSTAT,SASTAT', 'PMJJBYFLG,PMSBYFLG']].apply(pd.to_string)"
   ]
  },
  {
   "cell_type": "code",
   "execution_count": null,
   "id": "079a1790-1084-40ef-9168-cfd5e8e25c22",
   "metadata": {},
   "outputs": [],
   "source": []
  },
  {
   "cell_type": "code",
   "execution_count": null,
   "id": "447a98a0-55f4-40a0-8735-a3a5936d5602",
   "metadata": {},
   "outputs": [],
   "source": [
    "for i in MB1.columns:\n",
    "    df[['V','allele']] = df['V'].str.split('-',expand=True)\n",
    "#MB1[['V']] = pd.DataFrame([ x.split('-') for x in MB1['V'].tolist() ])"
   ]
  },
  {
   "cell_type": "code",
   "execution_count": null,
   "id": "61ad799e-ae54-414d-ad5b-688ab3fab811",
   "metadata": {},
   "outputs": [],
   "source": [
    "pd.concat(MB1, MB1['SASTAT,JEWELLNSTAT'].str.split(',',expand=True))"
   ]
  },
  {
   "cell_type": "code",
   "execution_count": null,
   "id": "a1581739-ba77-4cfc-8920-a8350d39f0d6",
   "metadata": {},
   "outputs": [],
   "source": [
    "pd.concat([MB1, MB1['SASTAT,JEWELLNSTAT'].str.split(',',expand=True)], axis=1)"
   ]
  },
  {
   "cell_type": "code",
   "execution_count": null,
   "id": "a2614865-256e-4ece-aaa2-b56b2362eb15",
   "metadata": {},
   "outputs": [],
   "source": [
    "np.array(MB1['TDSTAT'].str.split(',',expand=True).dropna()).values()"
   ]
  },
  {
   "cell_type": "code",
   "execution_count": 23,
   "id": "9f173bf0-1f8a-4b16-ab01-b64f2310a799",
   "metadata": {},
   "outputs": [
    {
     "name": "stderr",
     "output_type": "stream",
     "text": [
      "D:\\lib\\site-packages\\ipykernel\\ipkernel.py:283: DeprecationWarning: `should_run_async` will not call `transform_cell` automatically in the future. Please pass the result to `transformed_cell` argument and any exception that happen during thetransform in `preprocessing_exc_tuple` in IPython 7.17 and above.\n",
      "  and should_run_async(code)\n"
     ]
    },
    {
     "data": {
      "text/plain": [
       "array(['0', 'FASTAGFLG,AGRIJEWELLNSTAT,SASTAT'], dtype=object)"
      ]
     },
     "execution_count": 23,
     "metadata": {},
     "output_type": "execute_result"
    }
   ],
   "source": [
    "MB1['FASTAGFLG,AGRIJEWELLNSTAT,SASTAT'].unique()"
   ]
  },
  {
   "cell_type": "code",
   "execution_count": 31,
   "id": "8b7cc303-1847-400f-9f37-f5610507aa70",
   "metadata": {},
   "outputs": [
    {
     "name": "stderr",
     "output_type": "stream",
     "text": [
      "D:\\lib\\site-packages\\ipykernel\\ipkernel.py:283: DeprecationWarning: `should_run_async` will not call `transform_cell` automatically in the future. Please pass the result to `transformed_cell` argument and any exception that happen during thetransform in `preprocessing_exc_tuple` in IPython 7.17 and above.\n",
      "  and should_run_async(code)\n"
     ]
    },
    {
     "data": {
      "text/html": [
       "<div>\n",
       "<style scoped>\n",
       "    .dataframe tbody tr th:only-of-type {\n",
       "        vertical-align: middle;\n",
       "    }\n",
       "\n",
       "    .dataframe tbody tr th {\n",
       "        vertical-align: top;\n",
       "    }\n",
       "\n",
       "    .dataframe thead th {\n",
       "        text-align: right;\n",
       "    }\n",
       "</style>\n",
       "<table border=\"1\" class=\"dataframe\">\n",
       "  <thead>\n",
       "    <tr style=\"text-align: right;\">\n",
       "      <th></th>\n",
       "      <th>A</th>\n",
       "      <th>B</th>\n",
       "    </tr>\n",
       "  </thead>\n",
       "  <tbody>\n",
       "    <tr>\n",
       "      <th>0</th>\n",
       "      <td>1</td>\n",
       "      <td>1</td>\n",
       "    </tr>\n",
       "    <tr>\n",
       "      <th>1</th>\n",
       "      <td>0</td>\n",
       "      <td>3</td>\n",
       "    </tr>\n",
       "  </tbody>\n",
       "</table>\n",
       "</div>"
      ],
      "text/plain": [
       "   A  B\n",
       "0  1  1\n",
       "1  0  3"
      ]
     },
     "execution_count": 31,
     "metadata": {},
     "output_type": "execute_result"
    }
   ],
   "source": [
    "df1 = pd.DataFrame({'A': [5, 0], 'B': [2, 4]})\n",
    "df2 = pd.DataFrame({'A': [1, 1], 'B': [1, 3]})\n",
    "df1.combine(df2, np.minimum)"
   ]
  },
  {
   "cell_type": "code",
   "execution_count": null,
   "id": "e21c4879-0b02-482f-89f7-a16e9b8d232b",
   "metadata": {},
   "outputs": [],
   "source": []
  },
  {
   "cell_type": "code",
   "execution_count": null,
   "id": "0699171a-191a-4d5c-b21b-f79d82ff535d",
   "metadata": {},
   "outputs": [],
   "source": []
  },
  {
   "cell_type": "code",
   "execution_count": null,
   "id": "be023843-ba4e-4236-9242-ee6154aa9f80",
   "metadata": {},
   "outputs": [],
   "source": [
    "df[['V','allele']] = df['V'].str.split('-',expand=True)"
   ]
  },
  {
   "cell_type": "code",
   "execution_count": null,
   "id": "392f6fbf-f9e4-4e41-93d1-df8ee9483891",
   "metadata": {},
   "outputs": [],
   "source": [
    "for i in range(len(final)):\n",
    "    t = [list(x) for x in final[i]]\n",
    "    MB1.iloc[1]"
   ]
  },
  {
   "cell_type": "code",
   "execution_count": 43,
   "id": "0a55652c-17ed-4665-8639-e5a84698eb32",
   "metadata": {},
   "outputs": [
    {
     "name": "stderr",
     "output_type": "stream",
     "text": [
      "D:\\lib\\site-packages\\ipykernel\\ipkernel.py:283: DeprecationWarning: `should_run_async` will not call `transform_cell` automatically in the future. Please pass the result to `transformed_cell` argument and any exception that happen during thetransform in `preprocessing_exc_tuple` in IPython 7.17 and above.\n",
      "  and should_run_async(code)\n"
     ]
    }
   ],
   "source": [
    "element = []\n",
    "for i in final:\n",
    "    for j in range(len(i)):\n",
    "        element.append(set(i[j]))"
   ]
  },
  {
   "cell_type": "code",
   "execution_count": null,
   "id": "3421115f-b04c-480b-87d9-4af7cc51bc6a",
   "metadata": {},
   "outputs": [],
   "source": [
    "MB1['New'] = final\n",
    "MB1.to_excel('MB_test.xlsx')"
   ]
  },
  {
   "cell_type": "code",
   "execution_count": null,
   "id": "3a206ebe-8446-4f5d-ac2d-7e1e8c72b178",
   "metadata": {},
   "outputs": [],
   "source": [
    "MB = pd.read_excel(\"MB-Py.xlsx\")"
   ]
  },
  {
   "cell_type": "code",
   "execution_count": null,
   "id": "ae628d58-aa1c-43f3-9575-8761089d3112",
   "metadata": {},
   "outputs": [],
   "source": [
    "t = pd.merge(MB1, basket_sets, how = 'left', on = 'V_CUST_CODE')\n",
    "t = t.drop(['EXISTING PRODUCTS'], axis=1)"
   ]
  },
  {
   "cell_type": "code",
   "execution_count": null,
   "id": "89d56326-2c9a-4150-ae0d-0e9618abd964",
   "metadata": {},
   "outputs": [],
   "source": [
    "b=[]\n",
    "for i in a:\n",
    "    b.append(next(i))"
   ]
  },
  {
   "cell_type": "code",
   "execution_count": 70,
   "id": "6fdceeac-a73b-4f99-9a71-76b7b42ec022",
   "metadata": {},
   "outputs": [
    {
     "name": "stderr",
     "output_type": "stream",
     "text": [
      "D:\\lib\\site-packages\\ipykernel\\ipkernel.py:283: DeprecationWarning: `should_run_async` will not call `transform_cell` automatically in the future. Please pass the result to `transformed_cell` argument and any exception that happen during thetransform in `preprocessing_exc_tuple` in IPython 7.17 and above.\n",
      "  and should_run_async(code)\n"
     ]
    }
   ],
   "source": [
    "s = frozenset(\"kapow\")\n",
    "j = [next(iter(s)) for _ in range(10)]"
   ]
  },
  {
   "cell_type": "code",
   "execution_count": null,
   "id": "ec4ef3f4-007d-421b-ae28-090641cf1298",
   "metadata": {},
   "outputs": [],
   "source": [
    "import nltk\n",
    "import re\n",
    "b = []\n",
    "for i in range(len(rules)):\n",
    "    processed_text = re.sub(r'(','', rules['antecedents'][i])\n",
    "    processed_text = re.sub(r'(','', processed_text)\n",
    "    proc = re.sub(r'(','', rules['consequents'][i])\n",
    "    proc = re.sub(r'(','', proc)\n",
    "    b.append((processed_text,proc))"
   ]
  },
  {
   "cell_type": "code",
   "execution_count": null,
   "id": "7664206a-5298-4fd2-b6b7-af140ee56b5a",
   "metadata": {},
   "outputs": [],
   "source": [
    "import pandas as pd\n",
    "branch = pd.read_excel(\"C:/Users/018598/Desktop/PPC-crossselling/List_PPC.xlsx\", sheet_name=4)\n",
    "branch"
   ]
  },
  {
   "cell_type": "code",
   "execution_count": null,
   "id": "b5e802ca-e02d-4dfd-84ba-e4f0e46a08b3",
   "metadata": {},
   "outputs": [],
   "source": [
    "import pandas as pd\n",
    "mb = pd.read_excel(\"C:/Users/018598/Desktop/PPC-crossselling/MarketBasketPy.xlsx\")\n",
    "mb"
   ]
  },
  {
   "cell_type": "code",
   "execution_count": null,
   "id": "0649be93-206b-41c3-81af-277734fad234",
   "metadata": {},
   "outputs": [],
   "source": [
    "from fuzzywuzzy import fuzz\n",
    "import pandas as pd\n",
    "f1 = []\n",
    "for j in branch['Products']:\n",
    "    if 'nan' not in j:\n",
    "        a=[]\n",
    "    for i in mb['antecedent']:\n",
    "        if 'nan' not in j:\n",
    "            d = fuzz.partial_ratio(j,i)\n",
    "            a.append((j,i,d))\n",
    "    f1.append(pd.DataFrame(a, columns=['a', 'b', 'c']).sort_values(by =['c'],ascending = False).iloc[1,:])"
   ]
  },
  {
   "cell_type": "code",
   "execution_count": 27,
   "id": "5cb6b31a-e59b-4884-82cc-be6e5bae0170",
   "metadata": {},
   "outputs": [],
   "source": [
    "f2 = []\n",
    "for i in range(len(f1)):\n",
    "    f2.append(pd.DataFrame(f1[i]).T)\n",
    "f3 = pd.concat(f2)\n",
    "f3"
   ]
  },
  {
   "cell_type": "code",
   "execution_count": 32,
   "id": "4ecd9c6e-943f-4324-96b9-d6c2826d6f94",
   "metadata": {},
   "outputs": [],
   "source": [
    "f3.to_excel('mbmap.xlsx')"
   ]
  }
 ],
 "metadata": {
  "kernelspec": {
   "display_name": "Python 3",
   "language": "python",
   "name": "python3"
  },
  "language_info": {
   "codemirror_mode": {
    "name": "ipython",
    "version": 3
   },
   "file_extension": ".py",
   "mimetype": "text/x-python",
   "name": "python",
   "nbconvert_exporter": "python",
   "pygments_lexer": "ipython3",
   "version": "3.9.1"
  }
 },
 "nbformat": 4,
 "nbformat_minor": 5
}
