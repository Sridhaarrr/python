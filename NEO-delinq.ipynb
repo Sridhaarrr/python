{
 "cells": [
  {
   "cell_type": "code",
   "execution_count": 3,
   "id": "a07ab11d-932a-4b89-b99f-ab833348b4d4",
   "metadata": {},
   "outputs": [],
   "source": [
    "import pandas as pd\n",
    "dat = pd.read_csv('neos1.tsv', delimiter = '\\t')\n",
    "dat1 = pd.read_csv('neos2.tsv', delimiter = '\\t')"
   ]
  },
  {
   "cell_type": "code",
   "execution_count": 4,
   "id": "4c4b90d6-9274-4a88-8f4a-a5d59b732bef",
   "metadata": {},
   "outputs": [
    {
     "data": {
      "text/plain": [
       "Index(['FIC_MIS_DATE', 'V_CUST_ID', 'V_ACCT_NO', 'SUBCLASS', 'V_BRANCH_CODE',\n",
       "       'V_PROD_CODE', 'V_PROD_DESC', 'BAL_INR', 'STATUS', 'SI'],\n",
       "      dtype='object')"
      ]
     },
     "execution_count": 4,
     "metadata": {},
     "output_type": "execute_result"
    }
   ],
   "source": [
    "dat.columns"
   ]
  },
  {
   "cell_type": "code",
   "execution_count": 5,
   "id": "c43c0c09-5082-45a9-998c-7abfd9401808",
   "metadata": {},
   "outputs": [
    {
     "data": {
      "text/plain": [
       "Index(['FIC_MIS_DATE', 'V_CUST_CODE', 'ACCT_NO', 'BR_CODE', 'BAL_OS', 'STATUS',\n",
       "       'SI'],\n",
       "      dtype='object')"
      ]
     },
     "execution_count": 5,
     "metadata": {},
     "output_type": "execute_result"
    }
   ],
   "source": [
    "dat1.columns"
   ]
  },
  {
   "cell_type": "code",
   "execution_count": 7,
   "id": "dad8eeed-3544-49b1-8c5c-b0ff3ba02cb9",
   "metadata": {},
   "outputs": [],
   "source": [
    "dat1.columns = ['FIC_MIS_DATE', 'V_CUST_ID', 'V_ACCT_NO', 'V_BRANCH_CODE', 'BAL_INR', 'STATUS','SI']"
   ]
  },
  {
   "cell_type": "code",
   "execution_count": 8,
   "id": "354a0cfa-7af7-4198-bb24-f68a3da5f98b",
   "metadata": {},
   "outputs": [],
   "source": [
    "df = []\n",
    "df.append(dat)\n",
    "df.append(dat1)"
   ]
  },
  {
   "cell_type": "code",
   "execution_count": 10,
   "id": "0cc53b54-cf4b-42e6-b884-2aa59284a1d8",
   "metadata": {},
   "outputs": [],
   "source": [
    "pd.concat(df).to_excel('Ne.xlsx')"
   ]
  },
  {
   "cell_type": "code",
   "execution_count": 29,
   "id": "faf94e8b-ff0f-4caf-91c8-f2d3fa07a827",
   "metadata": {},
   "outputs": [],
   "source": [
    "import pandas as pd\n",
    "dat = pd.read_excel('Consumer-22.xlsx')\n",
    "dat_f = dat[dat['SUBCLASS'] == 'Home loan']\n",
    "dat1 = pd.read_excel('SMA-hl.xlsx')\n",
    "dat1.columns = ['FIC_MIS_DATE', 'V_CUST_ID', 'V_ACCT_NO', 'V_BRANCH_CODE', 'BAL_INR', 'STATUS','SI']"
   ]
  },
  {
   "cell_type": "code",
   "execution_count": 22,
   "id": "95f44086-b6f6-4535-be25-7871a73352e0",
   "metadata": {},
   "outputs": [
    {
     "data": {
      "text/plain": [
       "array(['Personal Loan', 'Vehicle loan', 'Home loan', 'Education loan',\n",
       "       'Mortgage Loan', 'Jewel loan', 'Personal Loan staff',\n",
       "       'Home loan staff', 'Vehicle loan staff', 'Education loan staff',\n",
       "       'Deposit loan', 'TOD', 'LAP POOL BUYOUT-FIHFCL ACCOUNT',\n",
       "       'HL POOL BUYOUT BHFL', 'Gold loan Assign IIFL Account',\n",
       "       'PL Pool Buyout FICCL', 'KVB MAGMA AUTO LOAN POOL ACCOUNT',\n",
       "       'HL LOAN POOL BUYOUT FIHFCL AC', 'LAP Assign PHFL Account',\n",
       "       'Suit Filed/non suit filed'], dtype=object)"
      ]
     },
     "execution_count": 22,
     "metadata": {},
     "output_type": "execute_result"
    }
   ],
   "source": [
    "dat['SUBCLASS'].unique()"
   ]
  },
  {
   "cell_type": "code",
   "execution_count": 50,
   "id": "24994f16-c947-44ba-be33-89342e770e47",
   "metadata": {},
   "outputs": [],
   "source": [
    "df = []\n",
    "df.append(dat)\n",
    "df.append(dat1)\n",
    "df1 = pd.concat(df)#"
   ]
  },
  {
   "cell_type": "code",
   "execution_count": 57,
   "id": "d61b94c0-5a8e-46e8-af16-0d17e2c1ed9b",
   "metadata": {},
   "outputs": [],
   "source": [
    "convert_dict = {'Row Labels': str}\n",
    "da = da.astype(convert_dict)"
   ]
  },
  {
   "cell_type": "code",
   "execution_count": 42,
   "id": "216d5b84-55a6-47bc-ae53-2b191326a90d",
   "metadata": {},
   "outputs": [
    {
     "data": {
      "text/plain": [
       "<pandas.core.groupby.generic.DataFrameGroupBy object at 0x0000025F7EC694F0>"
      ]
     },
     "execution_count": 42,
     "metadata": {},
     "output_type": "execute_result"
    }
   ],
   "source": [
    "df1.groupby(['V_ACCT_NO'], sort = True)"
   ]
  },
  {
   "cell_type": "code",
   "execution_count": 45,
   "id": "f45e8cb8-e7c3-409c-8f81-4333036d0f54",
   "metadata": {},
   "outputs": [],
   "source": [
    "df1['Vacc'] =df1['V_ACCT_NO']"
   ]
  },
  {
   "cell_type": "code",
   "execution_count": null,
   "id": "8a817190-50af-4367-8a22-703a6fa5998d",
   "metadata": {},
   "outputs": [],
   "source": [
    "convert_dict = {'Vacc': float}\n",
    "df1 = df1.astype(convert_dict)"
   ]
  },
  {
   "cell_type": "code",
   "execution_count": 32,
   "id": "4f817ed4-cd30-4cca-b0d0-3a30f9342f5d",
   "metadata": {},
   "outputs": [
    {
     "name": "stdout",
     "output_type": "stream",
     "text": [
      "<class 'pandas.core.frame.DataFrame'>\n",
      "Int64Index: 892806 entries, 0 to 216742\n",
      "Data columns (total 10 columns):\n",
      " #   Column         Non-Null Count   Dtype  \n",
      "---  ------         --------------   -----  \n",
      " 0   FIC_MIS_DATE   892806 non-null  object \n",
      " 1   V_CUST_ID      892785 non-null  float64\n",
      " 2   V_ACCT_NO      892785 non-null  object \n",
      " 3   SUBCLASS       676063 non-null  object \n",
      " 4   V_BRANCH_CODE  892806 non-null  int64  \n",
      " 5   V_PROD_CODE    676042 non-null  object \n",
      " 6   V_PROD_DESC    676063 non-null  object \n",
      " 7   BAL_INR        892806 non-null  float64\n",
      " 8   STATUS         892806 non-null  object \n",
      " 9   SI             785469 non-null  object \n",
      "dtypes: float64(2), int64(1), object(7)\n",
      "memory usage: 74.9+ MB\n"
     ]
    }
   ],
   "source": [
    "df1.info()"
   ]
  },
  {
   "cell_type": "code",
   "execution_count": null,
   "id": "66c8b2dc-cb98-48bd-80f3-3645d387993d",
   "metadata": {},
   "outputs": [],
   "source": [
    "df1.sort_values('V_ACCT_NO')\n",
    "df1.tail(40)"
   ]
  },
  {
   "cell_type": "code",
   "execution_count": 40,
   "id": "9d7e7b22-3b92-410b-894b-d0864fd130c7",
   "metadata": {},
   "outputs": [],
   "source": [
    "df1.loc[(df1[\"STATUS\"]=='SMA<30')] = 'SMA-0'"
   ]
  },
  {
   "cell_type": "code",
   "execution_count": 41,
   "id": "d7c9f545-048e-4418-8c41-57cdc4c97f62",
   "metadata": {},
   "outputs": [
    {
     "data": {
      "text/plain": [
       "array(['NPA', 'REG', 'SMA-0', 'SMA-2', 'SMA-1'], dtype=object)"
      ]
     },
     "execution_count": 41,
     "metadata": {},
     "output_type": "execute_result"
    }
   ],
   "source": [
    "df1['STATUS'].unique()"
   ]
  },
  {
   "cell_type": "code",
   "execution_count": 5,
   "id": "33e44737-74d0-4edd-bc6b-5f86e1ea8417",
   "metadata": {},
   "outputs": [
    {
     "data": {
      "text/plain": [
       "Index(['FIC_MIS_DATE', 'V_CUST_CODE', 'ACCT_NO', 'BR_CODE', 'BAL_OS', 'STATUS',\n",
       "       'SI'],\n",
       "      dtype='object')"
      ]
     },
     "execution_count": 5,
     "metadata": {},
     "output_type": "execute_result"
    }
   ],
   "source": [
    "dat1.columns"
   ]
  },
  {
   "cell_type": "code",
   "execution_count": 10,
   "id": "7a4d00ce-8aae-4d95-a998-c3787257b3c1",
   "metadata": {},
   "outputs": [],
   "source": [
    "df1.fillna(method='ffill')"
   ]
  },
  {
   "cell_type": "code",
   "execution_count": 107,
   "id": "a51d89b0-465c-4581-8092-66d057f8ca9c",
   "metadata": {},
   "outputs": [],
   "source": [
    "# u = dat[['V_ACCT_NO','FIC_MIS_DATE_1','SI', 'V_BRANCH_CODE','V_CUST_ID', 'SUBCLASS', 'V_PROD_DESC', 'STATUS_1','DAT_VALUE', 'TXT_TXN_DESC', 'BAL_OS', 'AMT_TXN_ACY']]\n",
    "# u = u.drop_duplicates()\n",
    "# n = dat.columns\n",
    "# l = u.columns\n",
    "# j = ['V_ACCT_NO','SI','V_BRANCH_CODE','V_CUST_ID', 'SUBCLASS', 'V_PROD_DESC',]+list(set(n)-set(l))\n",
    "# dat1 = dat[j].drop_duplicates()"
   ]
  },
  {
   "cell_type": "code",
   "execution_count": 108,
   "id": "ebe3f5bd-41e3-492d-b212-aec2828eecdf",
   "metadata": {},
   "outputs": [],
   "source": [
    "u.columns = ['V_ACCT_NO','FIC_MIS_DATE','SI','V_BRANCH_CODE','V_CUST_ID', 'SUBCLASS', 'V_PROD_DESC', 'STATUS','DAT_VALUE', 'TXT_TXN_DESC', 'BAL_INR', 'AMT_TXN_ACY']"
   ]
  },
  {
   "cell_type": "code",
   "execution_count": 109,
   "id": "67f0cf05-ed07-460a-a629-8ed7dae99c5c",
   "metadata": {},
   "outputs": [],
   "source": []
  },
  {
   "cell_type": "code",
   "execution_count": null,
   "id": "eeb493f8-a1d9-48ea-8508-18e858493265",
   "metadata": {},
   "outputs": [],
   "source": []
  },
  {
   "cell_type": "code",
   "execution_count": null,
   "id": "f621d881-030e-4f34-8aa6-84f5cdc77456",
   "metadata": {},
   "outputs": [],
   "source": []
  },
  {
   "cell_type": "code",
   "execution_count": 110,
   "id": "875afef0-f6e0-467c-9b49-f755350fa547",
   "metadata": {},
   "outputs": [],
   "source": []
  },
  {
   "cell_type": "code",
   "execution_count": null,
   "id": "ced8be99-72d1-4201-a50f-53dac335639c",
   "metadata": {},
   "outputs": [],
   "source": [
    "df1.info()"
   ]
  },
  {
   "cell_type": "code",
   "execution_count": 112,
   "id": "05d9149b-d9c3-449a-a8d9-abb667b5edcd",
   "metadata": {},
   "outputs": [],
   "source": [
    "df1.to_excel('Comnsimer-New.xlsx')"
   ]
  },
  {
   "cell_type": "code",
   "execution_count": null,
   "id": "61dfeaae-ed6d-4e66-996c-3e5f0540233f",
   "metadata": {},
   "outputs": [],
   "source": [
    "pd.merge(dat1, y, how = 'left', on = 'V_ACCT_NO')"
   ]
  },
  {
   "cell_type": "code",
   "execution_count": 56,
   "id": "d166c5b7-567f-462b-8420-04c290d5a613",
   "metadata": {},
   "outputs": [],
   "source": [
    "y=dat[['V_ACCT_NO','FIC_MIS_DATE_1', 'STATUS_1']] \n",
    "y.columns = ['V_ACCT_NO','FIC_MIS_DATE', 'STATUS']"
   ]
  },
  {
   "cell_type": "code",
   "execution_count": 22,
   "id": "d902815a-d72a-491b-beff-e081272bf9ef",
   "metadata": {},
   "outputs": [
    {
     "data": {
      "text/plain": [
       "2"
      ]
     },
     "execution_count": 22,
     "metadata": {},
     "output_type": "execute_result"
    }
   ],
   "source": [
    "#nums = [5,6,7,8,9,11]\n",
    "nums = [3,4,-1,1]\n",
    "fpo = Solution()\n",
    "fpo.firstMissingPositive(nums)"
   ]
  }
 ],
 "metadata": {
  "kernelspec": {
   "display_name": "Python 3",
   "language": "python",
   "name": "python3"
  },
  "language_info": {
   "codemirror_mode": {
    "name": "ipython",
    "version": 3
   },
   "file_extension": ".py",
   "mimetype": "text/x-python",
   "name": "python",
   "nbconvert_exporter": "python",
   "pygments_lexer": "ipython3",
   "version": "3.9.1"
  }
 },
 "nbformat": 4,
 "nbformat_minor": 5
}
