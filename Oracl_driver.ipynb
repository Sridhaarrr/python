{
 "cells": [
  {
   "cell_type": "code",
   "execution_count": 1,
   "id": "7dec7d82-f424-4f0d-9ca0-83be8323858f",
   "metadata": {},
   "outputs": [],
   "source": [
    "from selenium import webdriver\n",
    "from selenium.webdriver.support import expected_conditions as ec\n",
    "from selenium.webdriver.support.wait import WebDriverWait\n",
    "from selenium.webdriver.common.by import By\n",
    "from selenium.webdriver.support.select import Select\n",
    "from selenium.common.exceptions import *\n",
    "from selenium.webdriver.common.keys import Keys\n",
    "import re\n",
    "import pandas as pd\n",
    "import numpy as np\n",
    "chrome_options = webdriver.ChromeOptions()\n",
    "chrome_options.add_argument('--headless')\n",
    "chrome_options.add_argument('--no-sandbox')\n",
    "chrome_options.add_argument('--disable-dev-shm-usage')"
   ]
  },
  {
   "cell_type": "code",
   "execution_count": null,
   "id": "fc7a2d0a-fba4-4ccd-90e1-b1a24bcf03db",
   "metadata": {},
   "outputs": [],
   "source": [
    "wd1 = webdriver.Chrome('D:\\libs\\chromedriver.exe',chrome_options=chrome_options)"
   ]
  },
  {
   "cell_type": "code",
   "execution_count": null,
   "id": "0a85da0a-6107-45f5-aaae-d3b13bf5d7cd",
   "metadata": {},
   "outputs": [],
   "source": [
    "wd1.get(\"https://www.google.com/search?safe=active&rlz=1C1GCEU_enIN937IN937&tbs=lf:1,lf_ui:10&tbm=lcl&q=dairy+near+me&rflfq=1&num=10&sa=X&ved=2ahUKEwjJrsvckJf8AhVgAjQIHfL0D60QjGp6BAgREAE&biw=1366&bih=695&dpr=1#rlfi=hd:;si:;mv:[[13.0065581,80.2644617],[12.975325199999999,80.2228927]];tbs:lrf:!1m4!1u3!2m2!3m1!1e1!1m4!1u2!2m2!2m1!1e1!2m1!1e2!2m1!1e3!3sIAE,lf:1,lf_ui:10\")"
   ]
  },
  {
   "cell_type": "code",
   "execution_count": 8,
   "id": "a6a72733-50b7-4334-8bc2-229a7a069a81",
   "metadata": {},
   "outputs": [],
   "source": [
    "import sqlalchemy as sqla\n",
    "import pandas as pd\n",
    "import cx_Oracle\n",
    "import sys"
   ]
  },
  {
   "cell_type": "code",
   "execution_count": null,
   "id": "e973adcb-8e79-4400-bd3b-966cc2938765",
   "metadata": {},
   "outputs": [],
   "source": [
    "# Test to see if it will print the version of sqlalchemy\n",
    "print(sqla.__version__)    # this returns 1.2.15 for me\n",
    "# Test to see if the cx_Oracle is recognized\n",
    "print(cx_Oracle.version)   # this returns 8.0.1 for me\n",
    "# This fails for me at this point but will succeed after the solution described below\n",
    "cx_Oracle.clientversion() "
   ]
  },
  {
   "cell_type": "code",
   "execution_count": null,
   "id": "484112d8-53e3-4f85-ac2e-e076512a2d6f",
   "metadata": {},
   "outputs": [],
   "source": [
    "#cx_Oracle.init_oracle_client(lib_dir= r\"c:\\path_to_libraries\"). Here is an example:\n",
    "lib_dir = r\"E:\\REST\"\n",
    "try:\n",
    "    cx_Oracle.init_oracle_client(lib_dir=lib_dir)\n",
    "except Exception as err:\n",
    "    print(\"Error connecting: cx_Oracle.init_oracle_client()\")\n",
    "    print(err);\n",
    "    sys.exit(1);"
   ]
  }
 ],
 "metadata": {
  "kernelspec": {
   "display_name": "Python 3",
   "language": "python",
   "name": "python3"
  },
  "language_info": {
   "codemirror_mode": {
    "name": "ipython",
    "version": 3
   },
   "file_extension": ".py",
   "mimetype": "text/x-python",
   "name": "python",
   "nbconvert_exporter": "python",
   "pygments_lexer": "ipython3",
   "version": "3.9.1"
  }
 },
 "nbformat": 4,
 "nbformat_minor": 5
}
