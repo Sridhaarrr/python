{
 "cells": [
  {
   "cell_type": "code",
   "execution_count": 2,
   "id": "b053f17e-6521-4c86-89fd-26b25d9dfa8a",
   "metadata": {},
   "outputs": [],
   "source": [
    "import pandas as pd\n",
    "import numpy as np \n",
    "data = pd.read_excel('sb_final.xlsx', 'Sheet1')"
   ]
  },
  {
   "cell_type": "code",
   "execution_count": 16,
   "id": "2541d8b4-9d4b-4061-b2d0-6ab4c9fe8828",
   "metadata": {},
   "outputs": [
    {
     "data": {
      "text/plain": [
       "array(['CUST_VINTAGE_YRS', 'AVG_BAL', 'DEBIT_CNT_20_21',\n",
       "       'CREDIT_CNT_20_21', 'AVG_AMT_D_20_21', 'AVG_AMT_C_20_21', 'AGE',\n",
       "       'VEHICLE_LOAN', 'SUIT_FILED_NON_SUIT_FILED', 'HOME_LOAN',\n",
       "       'NON_FUND', 'DEPOSIT_LOAN', 'EDU_LAON_GOVT_SCHEMES',\n",
       "       'AGRI_TERM_LOAN', 'WC_LOAN', 'WAREHOUSE_LOAN', 'AGRI_JEWEL_LOAN',\n",
       "       'MORTGAGE_LOAN', 'EXPORT_CREDIT', 'PERSONAL_LOAN_STAFF',\n",
       "       'HOME_LOAN_STAFF', 'EDU_LOAN_STAFF', 'BILLS_DISCOUNTED',\n",
       "       'TERM_LOAN', 'AGRI_WC', 'PERSONAL_LOAN', 'VEHICLE_LOAN_STAFF',\n",
       "       'TOD_PROFESSIONAL_LOAN', 'OTHER_LOAN', 'JEWEL_LOAN'], dtype=object)"
      ]
     },
     "execution_count": 16,
     "metadata": {},
     "output_type": "execute_result"
    }
   ],
   "source": [
    "idx[np.r_[3:9,10,12:35]]\n",
    "idx[np.r_[9,11]]"
   ]
  },
  {
   "cell_type": "code",
   "execution_count": 35,
   "id": "2c482e1c-3eca-41aa-af96-2640b280a117",
   "metadata": {},
   "outputs": [],
   "source": [
    "data = data.dropna(how='any',axis=0)\n",
    "d = data.columns\n",
    "idx=np.array(d)"
   ]
  },
  {
   "cell_type": "code",
   "execution_count": 25,
   "id": "2ce4faf3-ab62-4a8c-b42c-acb9454e71a2",
   "metadata": {},
   "outputs": [],
   "source": [
    "bank_cust = data.copy()\n",
    "from sklearn import preprocessing\n",
    "le = preprocessing.LabelEncoder()\n",
    "numeric_subset = data[idx[np.r_[3:9,10,12:35]]]#.apply(pd.to_numeric)\n",
    "#numeric_subset = numeric_subset.apply(le.fit_transform)\n",
    "categorical_subset = data[idx[np.r_[9,11]]]\n",
    "\n",
    "    # One hot encoding\n",
    "categorical_subset = pd.get_dummies(categorical_subset)\n",
    "    # Join the two dataframes using concat\n",
    "bank_cust = pd.concat([numeric_subset, categorical_subset], axis = 1)\n",
    "#X = bank_cust.drop(['HL'], axis = 1)\n",
    "X = bank_cust\n",
    "y = data[idx[np.r_[2]]]"
   ]
  },
  {
   "cell_type": "code",
   "execution_count": 27,
   "id": "d050e791-42ce-4458-b8a3-e5a7aef2081d",
   "metadata": {},
   "outputs": [],
   "source": [
    "from sklearn import metrics\n",
    "from sklearn.model_selection import train_test_split\n",
    "X_train, X_test, y_train, y_test = train_test_split(X, y, test_size=0.3, random_state=2)"
   ]
  },
  {
   "cell_type": "code",
   "execution_count": 28,
   "id": "7f1ab2f9-d8ef-4527-812c-3e02f4a2f9e7",
   "metadata": {},
   "outputs": [
    {
     "name": "stdout",
     "output_type": "stream",
     "text": [
      "[16:25:15] WARNING: C:/Users/Administrator/workspace/xgboost-win64_release_1.5.1/src/learner.cc:1115: Starting in XGBoost 1.3.0, the default evaluation metric used with the objective 'binary:logistic' was changed from 'error' to 'logloss'. Explicitly set eval_metric if you'd like to restore the old behavior.\n"
     ]
    },
    {
     "data": {
      "text/plain": [
       "XGBClassifier(base_score=0.5, booster='gbtree', colsample_bylevel=1,\n",
       "              colsample_bynode=1, colsample_bytree=1, enable_categorical=False,\n",
       "              gamma=0, gpu_id=-1, importance_type=None,\n",
       "              interaction_constraints='', learning_rate=0.1, max_delta_step=0,\n",
       "              max_depth=7, min_child_weight=1, missing=nan,\n",
       "              monotone_constraints='()', n_estimators=100, n_jobs=8,\n",
       "              num_parallel_tree=1, predictor='auto', random_state=0,\n",
       "              reg_alpha=0, reg_lambda=1, scale_pos_weight=1, subsample=1,\n",
       "              tree_method='exact', use_label_encoder=False,\n",
       "              validate_parameters=1, verbosity=None)"
      ]
     },
     "execution_count": 28,
     "metadata": {},
     "output_type": "execute_result"
    }
   ],
   "source": [
    "from xgboost import XGBClassifier\n",
    "model = XGBClassifier( learning_rate=0.1,objective='binary:logistic',n_estimators=100\n",
    "              , max_depth=7,use_label_encoder=False)\n",
    "model.fit(X_train,y_train)"
   ]
  },
  {
   "cell_type": "code",
   "execution_count": 1,
   "id": "d868742d-231d-4159-bc76-655fc2bc54bd",
   "metadata": {},
   "outputs": [
    {
     "ename": "NameError",
     "evalue": "name 'X_train' is not defined",
     "output_type": "error",
     "traceback": [
      "\u001b[1;31m---------------------------------------------------------------------------\u001b[0m",
      "\u001b[1;31mNameError\u001b[0m                                 Traceback (most recent call last)",
      "\u001b[1;32m<ipython-input-1-098ce60fcced>\u001b[0m in \u001b[0;36m<module>\u001b[1;34m\u001b[0m\n\u001b[0;32m      1\u001b[0m \u001b[1;32mfrom\u001b[0m \u001b[0msklearn\u001b[0m\u001b[1;33m.\u001b[0m\u001b[0mlinear_model\u001b[0m \u001b[1;32mimport\u001b[0m \u001b[0mLogisticRegression\u001b[0m\u001b[1;33m\u001b[0m\u001b[1;33m\u001b[0m\u001b[0m\n\u001b[1;32m----> 2\u001b[1;33m \u001b[0mclf\u001b[0m \u001b[1;33m=\u001b[0m \u001b[0mLogisticRegression\u001b[0m\u001b[1;33m(\u001b[0m\u001b[0msolver\u001b[0m\u001b[1;33m=\u001b[0m\u001b[1;34m\"liblinear\"\u001b[0m\u001b[1;33m,\u001b[0m \u001b[0mrandom_state\u001b[0m\u001b[1;33m=\u001b[0m\u001b[1;36m0\u001b[0m\u001b[1;33m)\u001b[0m\u001b[1;33m.\u001b[0m\u001b[0mfit\u001b[0m\u001b[1;33m(\u001b[0m\u001b[0mX_train\u001b[0m\u001b[1;33m,\u001b[0m \u001b[0my_train\u001b[0m\u001b[1;33m)\u001b[0m\u001b[1;33m\u001b[0m\u001b[1;33m\u001b[0m\u001b[0m\n\u001b[0m\u001b[0;32m      3\u001b[0m \u001b[0mprediction\u001b[0m \u001b[1;33m=\u001b[0m \u001b[0mclf\u001b[0m\u001b[1;33m.\u001b[0m\u001b[0mpredict\u001b[0m\u001b[1;33m(\u001b[0m\u001b[0mX_test\u001b[0m\u001b[1;33m)\u001b[0m\u001b[1;33m\u001b[0m\u001b[1;33m\u001b[0m\u001b[0m\n\u001b[0;32m      4\u001b[0m from sklearn.metrics import (confusion_matrix,\n\u001b[0;32m      5\u001b[0m                            accuracy_score)\n",
      "\u001b[1;31mNameError\u001b[0m: name 'X_train' is not defined"
     ]
    }
   ],
   "source": [
    "from sklearn.linear_model import LogisticRegression\n",
    "clf = LogisticRegression(solver=\"liblinear\", random_state=0).fit(X_train, y_train)\n",
    "prediction = clf.predict(X_test)\n",
    "from sklearn.metrics import (confusion_matrix,\n",
    "                           accuracy_score)\n",
    "# confusion matrix\n",
    "cm = confusion_matrix(y_test, prediction)\n",
    "print (\"Confusion Matrix : \\n\", cm)\n",
    "# accuracy score of the model\n",
    "print('Test accuracy = ', accuracy_score(y_test, prediction))"
   ]
  },
  {
   "cell_type": "code",
   "execution_count": 29,
   "id": "4e6fc499-368f-4b9d-924f-7ec01356ec14",
   "metadata": {},
   "outputs": [
    {
     "name": "stdout",
     "output_type": "stream",
     "text": [
      "Confusion Matrix : \n",
      " [[157058    168]\n",
      " [  6301   3540]]\n",
      "Test accuracy =  0.9612790078232086\n"
     ]
    }
   ],
   "source": [
    "prediction = model.predict(X_test)\n",
    "from sklearn.metrics import (confusion_matrix,\n",
    "                           accuracy_score)\n",
    "# confusion matrix\n",
    "cm = confusion_matrix(y_test, prediction)\n",
    "print (\"Confusion Matrix : \\n\", cm)\n",
    "# accuracy score of the model\n",
    "print('Test accuracy = ', accuracy_score(y_test, prediction))"
   ]
  },
  {
   "cell_type": "code",
   "execution_count": 32,
   "id": "8d15cda1-a7c0-413d-a8e7-d562561f467d",
   "metadata": {},
   "outputs": [],
   "source": [
    "pred_train = model.predict_proba(X_train)[:,1]\n",
    "pred_test = model.predict_proba(X_test)[:,1]\n",
    "pred_test_class = np.where(pred_test >0.8,1,0)"
   ]
  },
  {
   "cell_type": "code",
   "execution_count": 33,
   "id": "d308b551-ace6-4fe6-b4fb-d18340b82356",
   "metadata": {},
   "outputs": [
    {
     "name": "stdout",
     "output_type": "stream",
     "text": [
      "0.8881482298734351\n",
      "0.8706307362095803\n"
     ]
    }
   ],
   "source": [
    "from sklearn.metrics import roc_auc_score\n",
    "print(roc_auc_score(y_train,pred_train))\n",
    "print(roc_auc_score(y_test,pred_test))"
   ]
  },
  {
   "cell_type": "code",
   "execution_count": 8,
   "id": "0dc4e0b3-979b-40a1-9c05-eb2469143b97",
   "metadata": {},
   "outputs": [
    {
     "name": "stderr",
     "output_type": "stream",
     "text": [
      "ntree_limit is deprecated, use `iteration_range` or model slicing instead.\n"
     ]
    },
    {
     "data": {
      "image/png": "[encoded data removed]",
      "text/plain": [
       "<Figure size 576x684 with 1 Axes>"
      ]
     },
     "metadata": {
      "needs_background": "light"
     },
     "output_type": "display_data"
    }
   ],
   "source": [
    "import shap\n",
    "shap_values = shap.TreeExplainer(model).shap_values(X_train)\n",
    "shap.summary_plot(shap_values, X_train, plot_type=\"bar\")"
   ]
  },
  {
   "cell_type": "code",
   "execution_count": 11,
   "id": "2a1c15ff-4591-431f-af7a-abfda537dc3a",
   "metadata": {},
   "outputs": [
    {
     "name": "stdout",
     "output_type": "stream",
     "text": [
      "Confusion Matrix : \n",
      " [[9678   13]\n",
      " [ 477  836]]\n",
      "Test accuracy =  0.955470737913486\n"
     ]
    }
   ],
   "source": [
    "from sklearn.metrics import (confusion_matrix,\n",
    "                           accuracy_score)\n",
    "# confusion matrix\n",
    "cm = confusion_matrix(y_test, pred_test_class)\n",
    "print (\"Confusion Matrix : \\n\", cm)\n",
    "# accuracy score of the model\n",
    "print('Test accuracy = ', accuracy_score(pred_test_class,y_test))"
   ]
  },
  {
   "cell_type": "code",
   "execution_count": 35,
   "id": "dd996ae0-e830-470d-8564-445547084241",
   "metadata": {},
   "outputs": [],
   "source": [
    "import pandas as pd\n",
    "import numpy as np \n",
    "data1 = pd.read_excel('Ctest.xlsx', 'Sheet1')"
   ]
  },
  {
   "cell_type": "code",
   "execution_count": 36,
   "id": "d56a847f-4b1c-446a-b1a8-8f599f884b4d",
   "metadata": {},
   "outputs": [
    {
     "name": "stderr",
     "output_type": "stream",
     "text": [
      "<ipython-input-36-676d4461d1dd>:15: PerformanceWarning: DataFrame is highly fragmented.  This is usually the result of calling `frame.insert` many times, which has poor performance.  Consider using pd.concat instead.  To get a de-fragmented frame, use `newframe = frame.copy()`\n",
      "  bank_cust1[y] = [0]*len(bank_cust1)\n"
     ]
    }
   ],
   "source": [
    "bank_cust = data1.copy()\n",
    "from sklearn import preprocessing\n",
    "le = preprocessing.LabelEncoder()\n",
    "numeric_subset = data1[['TOTDR','TOTCR','CTDR','CTCR', 'AGE', 'COD_KYC_RISK_CATEGORY']]#.apply(pd.to_numeric)\n",
    "numeric_subset = numeric_subset.apply(le.fit_transform)\n",
    "categorical_subset = data1[['CUST_PROFESSION', 'TXT_CUST_SEX']]\n",
    "    # One hot encoding\n",
    "categorical_subset = pd.get_dummies(categorical_subset)\n",
    "    # Join the two dataframes using concat\n",
    "bank_cust = pd.concat([numeric_subset, categorical_subset], axis = 1)\n",
    "#X = bank_cust.drop(['HL'], axis = 1)\n",
    "bank_cust1 = bank_cust.copy()\n",
    "for y in X_train.columns:\n",
    "    if (y not in bank_cust.columns):\n",
    "        bank_cust1[y] = [0]*len(bank_cust1)\n",
    "X = bank_cust1[X_train.columns]                       \n",
    "y = data1['HL']"
   ]
  },
  {
   "cell_type": "code",
   "execution_count": 37,
   "id": "ee85c1f9-c9b3-40c8-a1b1-49ea780800d7",
   "metadata": {},
   "outputs": [
    {
     "name": "stdout",
     "output_type": "stream",
     "text": [
      "0.4962117359335833\n"
     ]
    }
   ],
   "source": [
    "pred_oot = model.predict_proba(X)[:,1]\n",
    "print(roc_auc_score(y,pred_oot))\n",
    "max(pred_oot)\n",
    "pred_oot_class=np.where(pred_oot > 0.2,1,0)\n",
    "#prediction = list(map(round, yhat))"
   ]
  },
  {
   "cell_type": "code",
   "execution_count": 38,
   "id": "33e35caa-c7b8-4a9d-af3a-03a5d317d012",
   "metadata": {},
   "outputs": [
    {
     "name": "stdout",
     "output_type": "stream",
     "text": [
      "Confusion Matrix : \n",
      " [[     0 109362]\n",
      " [     0    178]]\n",
      "Test accuracy =  0.001624977177286836\n"
     ]
    }
   ],
   "source": [
    "from sklearn.metrics import (confusion_matrix,\n",
    "                           accuracy_score)\n",
    "# confusion matrix\n",
    "cm = confusion_matrix(y, pred_oot_class)\n",
    "print (\"Confusion Matrix : \\n\", cm)\n",
    "# accuracy score of the model\n",
    "print('Test accuracy = ', accuracy_score(y, pred_oot_class))"
   ]
  },
  {
   "cell_type": "code",
   "execution_count": 62,
   "id": "5e8dfcd4-80c6-4614-8bb2-0846bd52be3e",
   "metadata": {},
   "outputs": [
    {
     "ename": "NameError",
     "evalue": "name 'prediction' is not defined",
     "output_type": "error",
     "traceback": [
      "\u001b[1;31m---------------------------------------------------------------------------\u001b[0m",
      "\u001b[1;31mNameError\u001b[0m                                 Traceback (most recent call last)",
      "\u001b[1;32m<ipython-input-62-8a7e2435bd9b>\u001b[0m in \u001b[0;36m<module>\u001b[1;34m\u001b[0m\n\u001b[1;32m----> 1\u001b[1;33m \u001b[0mbank\u001b[0m \u001b[1;33m=\u001b[0m \u001b[0mpd\u001b[0m\u001b[1;33m.\u001b[0m\u001b[0mconcat\u001b[0m\u001b[1;33m(\u001b[0m\u001b[1;33m[\u001b[0m\u001b[0mdata1\u001b[0m\u001b[1;33m,\u001b[0m \u001b[0mpd\u001b[0m\u001b[1;33m.\u001b[0m\u001b[0mDataFrame\u001b[0m\u001b[1;33m(\u001b[0m\u001b[0mprediction\u001b[0m\u001b[1;33m)\u001b[0m\u001b[1;33m]\u001b[0m\u001b[1;33m,\u001b[0m \u001b[0maxis\u001b[0m \u001b[1;33m=\u001b[0m \u001b[1;36m1\u001b[0m\u001b[1;33m)\u001b[0m\u001b[1;33m\u001b[0m\u001b[1;33m\u001b[0m\u001b[0m\n\u001b[0m\u001b[0;32m      2\u001b[0m \u001b[0mban\u001b[0m \u001b[1;33m=\u001b[0m \u001b[0mbank\u001b[0m\u001b[1;33m[\u001b[0m\u001b[0mbank\u001b[0m\u001b[1;33m[\u001b[0m\u001b[1;36m0\u001b[0m\u001b[1;33m]\u001b[0m \u001b[1;33m==\u001b[0m \u001b[1;36m1\u001b[0m\u001b[1;33m]\u001b[0m\u001b[1;33m\u001b[0m\u001b[1;33m\u001b[0m\u001b[0m\n",
      "\u001b[1;31mNameError\u001b[0m: name 'prediction' is not defined"
     ]
    }
   ],
   "source": [
    "bank = pd.concat([data1, pd.DataFrame(prediction)], axis = 1)\n",
    "ban = bank[bank[0] == 1]"
   ]
  },
  {
   "cell_type": "code",
   "execution_count": 72,
   "id": "de50b910-01a6-4a73-a353-3f204b87f815",
   "metadata": {},
   "outputs": [
    {
     "data": {
      "text/html": [
       "<div>\n",
       "<style scoped>\n",
       "    .dataframe tbody tr th:only-of-type {\n",
       "        vertical-align: middle;\n",
       "    }\n",
       "\n",
       "    .dataframe tbody tr th {\n",
       "        vertical-align: top;\n",
       "    }\n",
       "\n",
       "    .dataframe thead th {\n",
       "        text-align: right;\n",
       "    }\n",
       "</style>\n",
       "<table border=\"1\" class=\"dataframe\">\n",
       "  <thead>\n",
       "    <tr style=\"text-align: right;\">\n",
       "      <th></th>\n",
       "      <th>COD_CUST_ID</th>\n",
       "      <th>COD_KYC_RISK_CATEGORY</th>\n",
       "      <th>AGE</th>\n",
       "      <th>TOTDR</th>\n",
       "      <th>TOTCR</th>\n",
       "      <th>CTDR</th>\n",
       "      <th>CTCR</th>\n",
       "      <th>HL</th>\n",
       "      <th>Unnamed: 12</th>\n",
       "    </tr>\n",
       "  </thead>\n",
       "  <tbody>\n",
       "    <tr>\n",
       "      <th>count</th>\n",
       "      <td>1.095400e+05</td>\n",
       "      <td>109540.000000</td>\n",
       "      <td>109539.000000</td>\n",
       "      <td>1.095400e+05</td>\n",
       "      <td>1.095400e+05</td>\n",
       "      <td>109540.000000</td>\n",
       "      <td>109540.000000</td>\n",
       "      <td>109540.000000</td>\n",
       "      <td>1.780000e+02</td>\n",
       "    </tr>\n",
       "    <tr>\n",
       "      <th>mean</th>\n",
       "      <td>9.885899e+06</td>\n",
       "      <td>2.536735</td>\n",
       "      <td>42.452775</td>\n",
       "      <td>6.133928e+04</td>\n",
       "      <td>6.267155e+04</td>\n",
       "      <td>6.636869</td>\n",
       "      <td>3.603723</td>\n",
       "      <td>0.001625</td>\n",
       "      <td>8.188819e+06</td>\n",
       "    </tr>\n",
       "    <tr>\n",
       "      <th>std</th>\n",
       "      <td>4.731786e+06</td>\n",
       "      <td>0.532917</td>\n",
       "      <td>12.177102</td>\n",
       "      <td>2.466533e+05</td>\n",
       "      <td>2.916184e+05</td>\n",
       "      <td>10.750642</td>\n",
       "      <td>12.417251</td>\n",
       "      <td>0.040278</td>\n",
       "      <td>4.583988e+06</td>\n",
       "    </tr>\n",
       "    <tr>\n",
       "      <th>min</th>\n",
       "      <td>1.650100e+04</td>\n",
       "      <td>1.000000</td>\n",
       "      <td>4.000000</td>\n",
       "      <td>0.000000e+00</td>\n",
       "      <td>0.000000e+00</td>\n",
       "      <td>0.000000</td>\n",
       "      <td>0.000000</td>\n",
       "      <td>0.000000</td>\n",
       "      <td>8.887500e+04</td>\n",
       "    </tr>\n",
       "    <tr>\n",
       "      <th>25%</th>\n",
       "      <td>6.387804e+06</td>\n",
       "      <td>2.000000</td>\n",
       "      <td>34.000000</td>\n",
       "      <td>2.345133e+02</td>\n",
       "      <td>8.566667e+01</td>\n",
       "      <td>0.666667</td>\n",
       "      <td>0.333333</td>\n",
       "      <td>0.000000</td>\n",
       "      <td>4.979250e+06</td>\n",
       "    </tr>\n",
       "    <tr>\n",
       "      <th>50%</th>\n",
       "      <td>9.565796e+06</td>\n",
       "      <td>3.000000</td>\n",
       "      <td>41.000000</td>\n",
       "      <td>1.556306e+04</td>\n",
       "      <td>1.553400e+04</td>\n",
       "      <td>2.666667</td>\n",
       "      <td>1.666667</td>\n",
       "      <td>0.000000</td>\n",
       "      <td>7.809540e+06</td>\n",
       "    </tr>\n",
       "    <tr>\n",
       "      <th>75%</th>\n",
       "      <td>1.370929e+07</td>\n",
       "      <td>3.000000</td>\n",
       "      <td>50.000000</td>\n",
       "      <td>5.777485e+04</td>\n",
       "      <td>5.872462e+04</td>\n",
       "      <td>8.333333</td>\n",
       "      <td>4.000000</td>\n",
       "      <td>0.000000</td>\n",
       "      <td>1.010699e+07</td>\n",
       "    </tr>\n",
       "    <tr>\n",
       "      <th>max</th>\n",
       "      <td>2.082041e+07</td>\n",
       "      <td>3.000000</td>\n",
       "      <td>221.000000</td>\n",
       "      <td>2.973350e+07</td>\n",
       "      <td>4.538155e+07</td>\n",
       "      <td>282.333333</td>\n",
       "      <td>1468.000000</td>\n",
       "      <td>1.000000</td>\n",
       "      <td>1.882102e+07</td>\n",
       "    </tr>\n",
       "  </tbody>\n",
       "</table>\n",
       "</div>"
      ],
      "text/plain": [
       "        COD_CUST_ID  COD_KYC_RISK_CATEGORY            AGE         TOTDR  \\\n",
       "count  1.095400e+05          109540.000000  109539.000000  1.095400e+05   \n",
       "mean   9.885899e+06               2.536735      42.452775  6.133928e+04   \n",
       "std    4.731786e+06               0.532917      12.177102  2.466533e+05   \n",
       "min    1.650100e+04               1.000000       4.000000  0.000000e+00   \n",
       "25%    6.387804e+06               2.000000      34.000000  2.345133e+02   \n",
       "50%    9.565796e+06               3.000000      41.000000  1.556306e+04   \n",
       "75%    1.370929e+07               3.000000      50.000000  5.777485e+04   \n",
       "max    2.082041e+07               3.000000     221.000000  2.973350e+07   \n",
       "\n",
       "              TOTCR           CTDR           CTCR             HL   Unnamed: 12  \n",
       "count  1.095400e+05  109540.000000  109540.000000  109540.000000  1.780000e+02  \n",
       "mean   6.267155e+04       6.636869       3.603723       0.001625  8.188819e+06  \n",
       "std    2.916184e+05      10.750642      12.417251       0.040278  4.583988e+06  \n",
       "min    0.000000e+00       0.000000       0.000000       0.000000  8.887500e+04  \n",
       "25%    8.566667e+01       0.666667       0.333333       0.000000  4.979250e+06  \n",
       "50%    1.553400e+04       2.666667       1.666667       0.000000  7.809540e+06  \n",
       "75%    5.872462e+04       8.333333       4.000000       0.000000  1.010699e+07  \n",
       "max    4.538155e+07     282.333333    1468.000000       1.000000  1.882102e+07  "
      ]
     },
     "execution_count": 72,
     "metadata": {},
     "output_type": "execute_result"
    }
   ],
   "source": [
    "data1.describe()"
   ]
  },
  {
   "cell_type": "code",
   "execution_count": 73,
   "id": "daa9fc6d-9783-4811-929b-9382d562eba8",
   "metadata": {},
   "outputs": [
    {
     "data": {
      "text/html": [
       "<div>\n",
       "<style scoped>\n",
       "    .dataframe tbody tr th:only-of-type {\n",
       "        vertical-align: middle;\n",
       "    }\n",
       "\n",
       "    .dataframe tbody tr th {\n",
       "        vertical-align: top;\n",
       "    }\n",
       "\n",
       "    .dataframe thead th {\n",
       "        text-align: right;\n",
       "    }\n",
       "</style>\n",
       "<table border=\"1\" class=\"dataframe\">\n",
       "  <thead>\n",
       "    <tr style=\"text-align: right;\">\n",
       "      <th></th>\n",
       "      <th>COD_CUST_ID</th>\n",
       "      <th>COD_KYC_RISK_CATEGORY</th>\n",
       "      <th>AGE</th>\n",
       "      <th>TOTDR</th>\n",
       "      <th>TOTCR</th>\n",
       "      <th>CTDR</th>\n",
       "      <th>CTCR</th>\n",
       "      <th>HL</th>\n",
       "    </tr>\n",
       "  </thead>\n",
       "  <tbody>\n",
       "    <tr>\n",
       "      <th>count</th>\n",
       "      <td>1.464010e+05</td>\n",
       "      <td>146401.000000</td>\n",
       "      <td>146401.000000</td>\n",
       "      <td>1.464010e+05</td>\n",
       "      <td>1.464010e+05</td>\n",
       "      <td>146401.000000</td>\n",
       "      <td>146401.000000</td>\n",
       "      <td>146401.000000</td>\n",
       "    </tr>\n",
       "    <tr>\n",
       "      <th>mean</th>\n",
       "      <td>1.102953e+07</td>\n",
       "      <td>2.559279</td>\n",
       "      <td>40.397401</td>\n",
       "      <td>8.885351e+04</td>\n",
       "      <td>9.018023e+04</td>\n",
       "      <td>9.832159</td>\n",
       "      <td>6.134386</td>\n",
       "      <td>0.123531</td>\n",
       "    </tr>\n",
       "    <tr>\n",
       "      <th>std</th>\n",
       "      <td>5.112206e+06</td>\n",
       "      <td>0.515562</td>\n",
       "      <td>9.220515</td>\n",
       "      <td>2.172281e+05</td>\n",
       "      <td>2.202894e+05</td>\n",
       "      <td>13.682241</td>\n",
       "      <td>16.391808</td>\n",
       "      <td>0.329046</td>\n",
       "    </tr>\n",
       "    <tr>\n",
       "      <th>min</th>\n",
       "      <td>1.752200e+04</td>\n",
       "      <td>1.000000</td>\n",
       "      <td>5.000000</td>\n",
       "      <td>0.000000e+00</td>\n",
       "      <td>0.000000e+00</td>\n",
       "      <td>0.000000</td>\n",
       "      <td>0.000000</td>\n",
       "      <td>0.000000</td>\n",
       "    </tr>\n",
       "    <tr>\n",
       "      <th>25%</th>\n",
       "      <td>7.190828e+06</td>\n",
       "      <td>2.000000</td>\n",
       "      <td>33.000000</td>\n",
       "      <td>1.367548e+04</td>\n",
       "      <td>1.385260e+04</td>\n",
       "      <td>1.578947</td>\n",
       "      <td>1.000000</td>\n",
       "      <td>0.000000</td>\n",
       "    </tr>\n",
       "    <tr>\n",
       "      <th>50%</th>\n",
       "      <td>1.080901e+07</td>\n",
       "      <td>3.000000</td>\n",
       "      <td>40.000000</td>\n",
       "      <td>4.129817e+04</td>\n",
       "      <td>4.179307e+04</td>\n",
       "      <td>4.666667</td>\n",
       "      <td>2.500000</td>\n",
       "      <td>0.000000</td>\n",
       "    </tr>\n",
       "    <tr>\n",
       "      <th>75%</th>\n",
       "      <td>1.508768e+07</td>\n",
       "      <td>3.000000</td>\n",
       "      <td>47.000000</td>\n",
       "      <td>9.850182e+04</td>\n",
       "      <td>9.955633e+04</td>\n",
       "      <td>12.933333</td>\n",
       "      <td>6.529412</td>\n",
       "      <td>0.000000</td>\n",
       "    </tr>\n",
       "    <tr>\n",
       "      <th>max</th>\n",
       "      <td>2.347495e+07</td>\n",
       "      <td>3.000000</td>\n",
       "      <td>222.000000</td>\n",
       "      <td>2.578529e+07</td>\n",
       "      <td>2.580768e+07</td>\n",
       "      <td>431.650000</td>\n",
       "      <td>1054.500000</td>\n",
       "      <td>1.000000</td>\n",
       "    </tr>\n",
       "  </tbody>\n",
       "</table>\n",
       "</div>"
      ],
      "text/plain": [
       "        COD_CUST_ID  COD_KYC_RISK_CATEGORY            AGE         TOTDR  \\\n",
       "count  1.464010e+05          146401.000000  146401.000000  1.464010e+05   \n",
       "mean   1.102953e+07               2.559279      40.397401  8.885351e+04   \n",
       "std    5.112206e+06               0.515562       9.220515  2.172281e+05   \n",
       "min    1.752200e+04               1.000000       5.000000  0.000000e+00   \n",
       "25%    7.190828e+06               2.000000      33.000000  1.367548e+04   \n",
       "50%    1.080901e+07               3.000000      40.000000  4.129817e+04   \n",
       "75%    1.508768e+07               3.000000      47.000000  9.850182e+04   \n",
       "max    2.347495e+07               3.000000     222.000000  2.578529e+07   \n",
       "\n",
       "              TOTCR           CTDR           CTCR             HL  \n",
       "count  1.464010e+05  146401.000000  146401.000000  146401.000000  \n",
       "mean   9.018023e+04       9.832159       6.134386       0.123531  \n",
       "std    2.202894e+05      13.682241      16.391808       0.329046  \n",
       "min    0.000000e+00       0.000000       0.000000       0.000000  \n",
       "25%    1.385260e+04       1.578947       1.000000       0.000000  \n",
       "50%    4.179307e+04       4.666667       2.500000       0.000000  \n",
       "75%    9.955633e+04      12.933333       6.529412       0.000000  \n",
       "max    2.580768e+07     431.650000    1054.500000       1.000000  "
      ]
     },
     "execution_count": 73,
     "metadata": {},
     "output_type": "execute_result"
    }
   ],
   "source": [
    "data.describe()"
   ]
  },
  {
   "cell_type": "code",
   "execution_count": null,
   "id": "c417afbd-af1a-4946-be49-87f927f16500",
   "metadata": {},
   "outputs": [],
   "source": [
    "ban.to_excel('valC.xlsx')"
   ]
  }
 ],
 "metadata": {
  "kernelspec": {
   "display_name": "Python 3",
   "language": "python",
   "name": "python3"
  },
  "language_info": {
   "codemirror_mode": {
    "name": "ipython",
    "version": 3
   },
   "file_extension": ".py",
   "mimetype": "text/x-python",
   "name": "python",
   "nbconvert_exporter": "python",
   "pygments_lexer": "ipython3",
   "version": "3.9.1"
  }
 },
 "nbformat": 4,
 "nbformat_minor": 5
}
