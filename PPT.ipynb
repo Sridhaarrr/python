{
 "cells": [
  {
   "cell_type": "code",
   "execution_count": null,
   "id": "dfd7802e-320e-48fc-8a7c-01597d3bd062",
   "metadata": {},
   "outputs": [],
   "source": [
    "import aspose.slides as slides\n",
    "with slides.Presentation() as pres:\n",
    "    pres.slides.remove_at(0)\n",
    "    pres.slides.add_from_pdf(\"REs.pdf\")\n",
    "    pres.save(\"OutputPres.pptx\", slides.export.SaveFormat.PPTX)"
   ]
  },
  {
   "cell_type": "code",
   "execution_count": null,
   "id": "81eff25a-9155-4d29-bedf-d28987124578",
   "metadata": {},
   "outputs": [],
   "source": [
    "import aspose.slides as slides\n",
    "with slides.Presentation(\"Presentation1.pptx\") as pres1:\n",
    "    with slides.Presentation(\"Presentation2.pptx\") as pres2:\n",
    "        for slide in pres2.slides:\n",
    "            pres1.slides.add_clone(slide)\n",
    "        pres1.save(\"combined.pptx\", slides.export.SaveFormat.PPTX)"
   ]
  },
  {
   "cell_type": "code",
   "execution_count": 1,
   "id": "0eb9397e-1dfa-4be0-a217-295a66029249",
   "metadata": {},
   "outputs": [],
   "source": [
    "from pptx import Presentation\n",
    "from pptx.util import Inches\n",
    "import win32com.client\n",
    "import os"
   ]
  },
  {
   "cell_type": "code",
   "execution_count": 2,
   "id": "69679eab-79ac-45fb-8401-12f855d47fe1",
   "metadata": {},
   "outputs": [],
   "source": [
    "currencies_ppt = Presentation('OutputPres.pptx')"
   ]
  },
  {
   "cell_type": "code",
   "execution_count": 3,
   "id": "5cbcb9be-1f1e-4e63-af4b-527ac20b1f5b",
   "metadata": {},
   "outputs": [
    {
     "data": {
      "text/plain": [
       "<pptx.shapes.shapetree.SlideShapes at 0x210cd746880>"
      ]
     },
     "execution_count": 3,
     "metadata": {},
     "output_type": "execute_result"
    }
   ],
   "source": [
    "slide = currencies_ppt.slides[0]\n",
    "shapes = slide.shapes\n",
    "shapes"
   ]
  },
  {
   "cell_type": "code",
   "execution_count": null,
   "id": "ed0b822f-9748-4c70-8217-287a0f7917e1",
   "metadata": {},
   "outputs": [],
   "source": [
    "for shape in shapes:\n",
    "    print(shape.shape_type)"
   ]
  }
 ],
 "metadata": {
  "kernelspec": {
   "display_name": "Python 3",
   "language": "python",
   "name": "python3"
  },
  "language_info": {
   "codemirror_mode": {
    "name": "ipython",
    "version": 3
   },
   "file_extension": ".py",
   "mimetype": "text/x-python",
   "name": "python",
   "nbconvert_exporter": "python",
   "pygments_lexer": "ipython3",
   "version": "3.9.1"
  }
 },
 "nbformat": 4,
 "nbformat_minor": 5
}
