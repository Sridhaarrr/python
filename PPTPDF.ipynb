{
 "cells": [
  {
   "cell_type": "code",
   "execution_count": null,
   "id": "67042ad9-b95d-4ac2-afbb-f1d937bbe44b",
   "metadata": {},
   "outputs": [],
   "source": [
    "from selenium import webdriver\n",
    "from selenium.webdriver.support import expected_conditions as ec\n",
    "from selenium.webdriver.support.wait import WebDriverWait\n",
    "from selenium.webdriver.common.by import By\n",
    "from selenium.webdriver.support.select import Select\n",
    "from selenium.common.exceptions import *\n",
    "from selenium.webdriver.common.keys import Keys\n",
    "import re\n",
    "import pandas as pd\n",
    "import numpy as np\n",
    "chrome_options = webdriver.ChromeOptions()\n",
    "chrome_options.add_argument('--headless')\n",
    "chrome_options.add_argument('--no-sandbox')\n",
    "chrome_options.add_argument('--disable-dev-shm-usage')"
   ]
  },
  {
   "cell_type": "code",
   "execution_count": null,
   "id": "f0053d68-e97b-4338-8d47-6a3ea1f89a76",
   "metadata": {},
   "outputs": [],
   "source": [
    "dic = {'South': 'INE683A01023',\n",
    " 'Fed': 'INE171A01029',\n",
    " 'CUB': 'INE491A01021',\n",
    " 'karur': 'INE036D01028',\n",
    " 'CSB': 'INE679A01013',\n",
    " 'RBL': 'INE976G01028'}"
   ]
  },
  {
   "cell_type": "code",
   "execution_count": null,
   "id": "96868478-977b-44cf-9cca-60d6d0727d78",
   "metadata": {},
   "outputs": [],
   "source": [
    "for value in dic:\n",
    "    wd1 = webdriver.Chrome('D:\\libs\\chromedriver.exe',chrome_options=chrome_options)\n",
    "    wd1.get(\"https://www.bseindia.com/markets.html\")\n",
    "    que = wd1.find_element_by_xpath(\"//input[@id='getquotesearch']\")\n",
    "    que.clear()\n",
    "    que.send_keys(dic[value])\n",
    "    que.send_keys(Keys.RETURN)\n",
    "    wd1.save_screenshot('screensh.png')\n",
    "    #t= WebDriverWait(wd1,20).until(ec.presence_of_element_located((By.XPATH, \"//th//strong[@class='ng-binding']\")))\n",
    "    t = wd1.find_element_by_xpath(\"//th//strong[@class='ng-binding']\")\n",
    "    if t.text == 'Jun-22':\n",
    "        print(value)"
   ]
  },
  {
   "cell_type": "code",
   "execution_count": null,
   "id": "3048bd7e-ccfa-4261-abb6-ad1f7956126a",
   "metadata": {},
   "outputs": [],
   "source": [
    "from yahooquery import Ticker\n",
    "stocklist =['DIS','GM','HD','BABA','AAPL','APPS','PLTR','EXPR','MARA','BABA','SPCE','GME','RIOT','BB','RKT','HD','NIO']\n",
    "t = Ticker(stocklist, asynchronous=True)\n",
    "df = t.option_chain"
   ]
  },
  {
   "cell_type": "code",
   "execution_count": null,
   "id": "2f272fba-5031-4e71-bc4c-9befed813629",
   "metadata": {},
   "outputs": [],
   "source": [
    "t = wd1.find_element_by_xpath(\"//th//strong[@class='ng-binding']\")\n",
    "t.text"
   ]
  },
  {
   "cell_type": "code",
   "execution_count": null,
   "id": "762a4b66-39b7-4d8f-86bf-078904fcb981",
   "metadata": {},
   "outputs": [],
   "source": [
    "pip install aspose.slides"
   ]
  },
  {
   "cell_type": "code",
   "execution_count": null,
   "id": "4651d39b-9e4a-443b-93e1-2dda91013dfd",
   "metadata": {},
   "outputs": [],
   "source": [
    "import aspose.slides as slides\n",
    "with slides.Presentation() as pres:\n",
    "    pres.slides.remove_at(0)\n",
    "    pres.slides.add_from_pdf(\"Fed1.pdf\")\n",
    "    pres.save(\"OutputPresentation.xlsx\", slides.export.SaveFormat.XLSX)"
   ]
  },
  {
   "cell_type": "code",
   "execution_count": null,
   "id": "2fdc42b6-797f-4152-9508-d84ee135a210",
   "metadata": {},
   "outputs": [],
   "source": [
    "pip inst"
   ]
  },
  {
   "cell_type": "code",
   "execution_count": null,
   "id": "0f22f94d-39c7-4f1f-ab7d-fef793c4b17b",
   "metadata": {},
   "outputs": [],
   "source": [
    "def convert_PDF_to_XLSX(self, infile, outfile):\n",
    "\n",
    "        path_infile = self.dataDir + infile\n",
    "        path_outfile = self.dataDir + outfile\n",
    "\n",
    "        # Open PDF document\n",
    "\n",
    "        document = Document(path_infile)\n",
    "\n",
    "        save_option = ExcelSaveOptions()\n",
    "\n",
    "        # Save the file into MS Excel format\n",
    "        document.Save(path_outfile, save_option)\n",
    "        print(infile + \" converted into \" + outfile)"
   ]
  },
  {
   "cell_type": "code",
   "execution_count": null,
   "id": "5025fb5f-35c2-4b6a-9d60-5ae548e79cbb",
   "metadata": {},
   "outputs": [],
   "source": [
    "import glob\n",
    "import tabula\n",
    "\n",
    "# transform the pdfs into excel files\n",
    "for filepath in glob.iglob('C:/Users/myfolderwithpdfs/*.pdf'):\n",
    "    tabula.convert_into(filepath, output_format=\"xlsx\")"
   ]
  },
  {
   "cell_type": "code",
   "execution_count": null,
   "id": "c545926e-df63-4485-9e75-3ffb644371c2",
   "metadata": {},
   "outputs": [],
   "source": [
    "import tabula\n",
    "# Read a PDF File\n",
    "df = tabula.read_pdf(\"MGT.pdf\", pages='all')[0]\n",
    "# convert PDF into CSV\n",
    "tabula.convert_into(\"IPLmatch.pdf\", \"iplmatch.csv\", output_format=\"csv\", pages='all')\n",
    "print(df)"
   ]
  },
  {
   "cell_type": "code",
   "execution_count": null,
   "id": "b2deab12-5190-45d6-824c-8f9f5f095f5a",
   "metadata": {},
   "outputs": [],
   "source": [
    "import PyPDF2\n",
    " \n",
    "# creating a pdf file object\n",
    "pdfFileObj = open('C:/Users/018598/MGT.pdf', 'rb')\n",
    " \n",
    "# creating a pdf reader object\n",
    "pdfReader = PyPDF2.PdfFileReader(pdfFileObj)\n",
    " \n",
    "# printing number of pages in pdf file\n",
    "print(pdfReader.numPages)\n",
    " \n",
    "# creating a page object\n",
    "pageObj = pdfReader.getPage(8)\n",
    "# extracting text from page\n",
    "#print(pageObj.extractText())\n",
    "#type(pageObj.extractText())\n",
    "# closing the pdf file object\n",
    "#pdfFileObj.close()\n",
    "bis = pageObj.extractText()\n",
    "bis"
   ]
  },
  {
   "cell_type": "code",
   "execution_count": 7,
   "id": "98d1df7f-1645-42df-87a7-7757188367ac",
   "metadata": {},
   "outputs": [],
   "source": [
    "import os\n",
    "os.chdir(r\"C:/Users/018598/Circulars/2022/\")"
   ]
  },
  {
   "cell_type": "code",
   "execution_count": null,
   "id": "351e3303-f56c-46e7-9abf-0f7c94993d14",
   "metadata": {},
   "outputs": [],
   "source": [
    "import camelot\n",
    "# extract all the tables in the PDF file\n",
    "abc = camelot.read_pdf(\"2022038ABGCR.pdf\")   #address of file location\n",
    "# print the first table as Pandas DataFrame\n",
    "print(abc[0].df)"
   ]
  },
  {
   "cell_type": "code",
   "execution_count": 10,
   "id": "0c44fa30-0d59-48b0-b360-85093fe0b0f4",
   "metadata": {},
   "outputs": [],
   "source": [
    "import ctypes\n",
    "from ctypes.util import find_library\n",
    "find_library(\"\".join((\"gsdll\", str(ctypes.sizeof(ctypes.c_voidp) * 8), \".dll\")))"
   ]
  },
  {
   "cell_type": "code",
   "execution_count": null,
   "id": "9f42b3bd-d4a5-4d01-8642-3e37ab457b08",
   "metadata": {},
   "outputs": [],
   "source": [
    "from tabula import *\n",
    "from tabulate import *\n",
    "#reads table from pdf file\n",
    "df = read_pdf(\"2022038ABGCR.pdf\",pages=\"all\") #address of pdf file\n",
    "print(tabulate(df))"
   ]
  },
  {
   "cell_type": "code",
   "execution_count": 1,
   "id": "d8cb1cfb-bf06-46ea-a91e-df6f4cbabbb8",
   "metadata": {},
   "outputs": [
    {
     "name": "stdout",
     "output_type": "stream",
     "text": [
      "Requirement already satisfied: PyPDF2 in d:\\lib\\site-packages (1.27.11)\n",
      "Note: you may need to restart the kernel to use updated packages.\n"
     ]
    },
    {
     "name": "stderr",
     "output_type": "stream",
     "text": [
      "WARNING: Ignoring invalid distribution -ip (d:\\lib\\site-packages)\n",
      "WARNING: Ignoring invalid distribution -ip (d:\\lib\\site-packages)\n",
      "WARNING: Ignoring invalid distribution -ip (d:\\lib\\site-packages)\n",
      "WARNING: Ignoring invalid distribution -ip (d:\\lib\\site-packages)\n",
      "WARNING: Ignoring invalid distribution -ip (d:\\lib\\site-packages)\n",
      "WARNING: Ignoring invalid distribution -ip (d:\\lib\\site-packages)\n",
      "WARNING: You are using pip version 22.0.4; however, version 22.3 is available.\n",
      "You should consider upgrading via the 'd:\\python.exe -m pip install --upgrade pip' command.\n"
     ]
    }
   ],
   "source": [
    "pip install --trusted-host=pypi.org --trusted-host=files.pythonhosted.org --user PyPDF2"
   ]
  }
 ],
 "metadata": {
  "kernelspec": {
   "display_name": "Python 3",
   "language": "python",
   "name": "python3"
  },
  "language_info": {
   "codemirror_mode": {
    "name": "ipython",
    "version": 3
   },
   "file_extension": ".py",
   "mimetype": "text/x-python",
   "name": "python",
   "nbconvert_exporter": "python",
   "pygments_lexer": "ipython3",
   "version": "3.9.1"
  }
 },
 "nbformat": 4,
 "nbformat_minor": 5
}
