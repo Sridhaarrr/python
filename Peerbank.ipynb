{
 "cells": [
  {
   "cell_type": "code",
   "execution_count": 7,
   "id": "d59e6432-a245-4699-b0ca-a0170416ab61",
   "metadata": {},
   "outputs": [],
   "source": [
    "from PyPDF2 import PdfFileWriter, PdfFileReader\n",
    "import re\n",
    "import aspose.words as aw\n",
    "import os\n",
    "import pandas as pd\n",
    "for file in os.listdir(\"C:/Users/018598/Peerbank/\"):\n",
    "    if '.pdf' in file:\n",
    "        path = os.path.join(\"C:/Users/018598/Peerbank/\", re.sub('.pdf', '', str(file)))\n",
    "        os.mkdir(path)\n",
    "        inputpdf = PdfFileReader(open(\"C:/Users/018598/Peerbank/%s\" % file, \"rb\"))\n",
    "        for i in range(inputpdf.numPages):\n",
    "            output = PdfFileWriter()\n",
    "            output.addPage(inputpdf.getPage(i))\n",
    "            with open(\"C:/Users/018598/Peerbank/{0}/{1}{0}.pdf\".format(re.sub('.pdf', '', str(file)),i), \"wb\") as outputStream:\n",
    "                output.write(outputStream)\n",
    "            doc = aw.Document(\"C:/Users/018598/Peerbank/{0}/{1}{0}.pdf\".format(re.sub('.pdf', '', str(file)),i))\n",
    "            doc.save(\"C:/Users/018598/Peerbank/{0}/{1}{0}.html\".format(re.sub('.pdf', '', str(file)),i))\n",
    "#     for file in os.listdir(\"C:/Users/018598/Peerbank/Federal/\"):\n",
    "#         doc = aw.Document(\"C:/Users/018598/Peerbank/Federal/%s\" % file)\n",
    "#         doc.save(\"C:/Users/018598/Peerbank/Federal/%s.html\" % file)"
   ]
  },
  {
   "cell_type": "code",
   "execution_count": null,
   "id": "532bb3d9-745c-43bf-99b7-3e2760ff47c7",
   "metadata": {},
   "outputs": [],
   "source": [
    "import os\n",
    "import pandas as pd\n",
    "for file in os.listdir(\"C:/Users/018598/Peerbank/Federal/\"):\n",
    "    doc = aw.Document(\"C:\\Users\\018598\\Peerbank\\kvb\\3kvb.pdf\" % file)\n",
    "# Save the document as HTML\n",
    "    doc.save(\"C:/Users/018598/Peerbank/Federal/%s.html\" % file)\n",
    "    #data1 = pd.read_html(\"C:/Users/018598/Document.html\")"
   ]
  },
  {
   "cell_type": "code",
   "execution_count": null,
   "id": "a1fac93b-2ca1-429c-a99e-de35e33fd11c",
   "metadata": {},
   "outputs": [],
   "source": [
    "doc = aw.Document(\"C:\\Users\\018598\\Peerbank\\kvb\\3kvb.pdf\")\n",
    "# Save the document as HTML\n",
    "doc.save(\"C:/Users/018598/Peerbank/Federal/%s.html\" % file)"
   ]
  },
  {
   "cell_type": "code",
   "execution_count": 2,
   "id": "54b4c9d7-256c-4bac-aa78-c1841db8ec8d",
   "metadata": {},
   "outputs": [
    {
     "data": {
      "text/plain": [
       "<aspose.words.saving.SaveOutputParameters object at 0x000001F3B9138710>"
      ]
     },
     "execution_count": 2,
     "metadata": {},
     "output_type": "execute_result"
    }
   ],
   "source": [
    "import aspose.words as aw\n",
    "import os\n",
    "doc = aw.Document(\"C:/Users/018598/PeerB/kvb/3kvb.pdf\")\n",
    "# Save the document as HTML\n",
    "doc.save(\"C:/Users/018598/PeerB/kvb/3kvb.html\")"
   ]
  },
  {
   "cell_type": "code",
   "execution_count": null,
   "id": "25f37c1b-7245-45ef-a891-d0cc8b940dc0",
   "metadata": {},
   "outputs": [],
   "source": [
    "import pandas as pd\n",
    "d = pd.read_html(\"C:/Users/018598/PeerB/kvb/3kvb.html\")\n",
    "d"
   ]
  },
  {
   "cell_type": "code",
   "execution_count": 15,
   "id": "6f4dc0af-badf-40c4-a3a7-cf8f8e27ce54",
   "metadata": {},
   "outputs": [
    {
     "name": "stdout",
     "output_type": "stream",
     "text": [
      "Federal\n",
      "Kotak\n",
      "Q1FY\n"
     ]
    }
   ],
   "source": [
    "import os\n",
    "import re\n",
    "for file in os.listdir(\"C:/Users/018598/Peerbank/\"):\n",
    "    "
   ]
  },
  {
   "cell_type": "code",
   "execution_count": null,
   "id": "f2d78022-125d-458f-90dd-5cb997bb3c89",
   "metadata": {},
   "outputs": [],
   "source": [
    "import os\n",
    "import pandas as pd\n",
    "for file in os.listdir(\"C:/Users/018598/Peerbank/Federal/\"):\n",
    "    doc = aw.Document(\"C:/Users/018598/Peerbank/Federal/%s\" % file)\n",
    "# Save the document as HTML\n",
    "    doc.save(\"C:/Users/018598/Peerbank/Federal/%s.html\" % file)\n",
    "    #data1 = pd.read_html(\"C:/Users/018598/Document.html\")"
   ]
  },
  {
   "cell_type": "code",
   "execution_count": 8,
   "id": "c20cec90-ee10-4128-a8d8-af15ca49db0c",
   "metadata": {},
   "outputs": [
    {
     "name": "stdout",
     "output_type": "stream",
     "text": [
      "20 0 Dairy\n"
     ]
    }
   ],
   "source": [
    "import os\n",
    "import pandas as pd\n",
    "for file in os.listdir(\"C:/Users/018598/Peerbank/\"):\n",
    "    if '.pdf' not in file:\n",
    "        c=0\n",
    "        w=0\n",
    "        for f in os.listdir(\"C:/Users/018598/Peerbank/%s\" %file):\n",
    "            if '.html' in f:\n",
    "                try:\n",
    "                    \n",
    "                    d = pd.read_html(\"C:/Users/018598/Peerbank/{0}/{1}\".format(file,f))\n",
    "                    c+=1\n",
    "                except:\n",
    "                    w+=1\n",
    "                    #print('ignore',f)\n",
    "                    #d = pd.read_html(\"C:/Users/018598/Peerbank/{0}/{1}\".format(file,f))\n",
    "        print(c,w,file)                  "
   ]
  },
  {
   "cell_type": "code",
   "execution_count": null,
   "id": "764e60d0-f0a2-48ea-b769-438fcbdd782c",
   "metadata": {},
   "outputs": [],
   "source": [
    "d = pd.read_html(\"C:/Users/018598/Peerbank/Dairy/1Dairy.html\")\n",
    "d"
   ]
  },
  {
   "cell_type": "code",
   "execution_count": 41,
   "id": "177f60f8-91a6-4d22-9932-a6a174d3a449",
   "metadata": {},
   "outputs": [
    {
     "data": {
      "text/html": [
       "<div>\n",
       "<style scoped>\n",
       "    .dataframe tbody tr th:only-of-type {\n",
       "        vertical-align: middle;\n",
       "    }\n",
       "\n",
       "    .dataframe tbody tr th {\n",
       "        vertical-align: top;\n",
       "    }\n",
       "\n",
       "    .dataframe thead th {\n",
       "        text-align: right;\n",
       "    }\n",
       "</style>\n",
       "<table border=\"1\" class=\"dataframe\">\n",
       "  <thead>\n",
       "    <tr style=\"text-align: right;\">\n",
       "      <th></th>\n",
       "      <th>0</th>\n",
       "      <th>1</th>\n",
       "    </tr>\n",
       "  </thead>\n",
       "  <tbody>\n",
       "    <tr>\n",
       "      <th>0</th>\n",
       "      <td>22</td>\n",
       "      <td>Nirma Milk Products (P) Ltd.</td>\n",
       "    </tr>\n",
       "    <tr>\n",
       "      <th>1</th>\n",
       "      <td>23</td>\n",
       "      <td>Nutrine Confectionery Co Ltd.</td>\n",
       "    </tr>\n",
       "    <tr>\n",
       "      <th>2</th>\n",
       "      <td>24</td>\n",
       "      <td>Pratap Dairy Pvt. Ltd.</td>\n",
       "    </tr>\n",
       "    <tr>\n",
       "      <th>3</th>\n",
       "      <td>25</td>\n",
       "      <td>Ravi Dairy Products (P) Ltd.</td>\n",
       "    </tr>\n",
       "    <tr>\n",
       "      <th>4</th>\n",
       "      <td>26</td>\n",
       "      <td>Sri Godavari Food Products (P) Ltd.</td>\n",
       "    </tr>\n",
       "    <tr>\n",
       "      <th>5</th>\n",
       "      <td>27</td>\n",
       "      <td>Sri Vijaya Visakha Milk Producers Company Ltd.</td>\n",
       "    </tr>\n",
       "    <tr>\n",
       "      <th>6</th>\n",
       "      <td>28</td>\n",
       "      <td>Sri Vyshnavi Foods Pvt. Ltd.</td>\n",
       "    </tr>\n",
       "    <tr>\n",
       "      <th>7</th>\n",
       "      <td>29</td>\n",
       "      <td>Steel City Foods Pvt. Ltd.</td>\n",
       "    </tr>\n",
       "    <tr>\n",
       "      <th>8</th>\n",
       "      <td>30</td>\n",
       "      <td>Tirumala Milk Pvt. Ltd.</td>\n",
       "    </tr>\n",
       "    <tr>\n",
       "      <th>9</th>\n",
       "      <td>31</td>\n",
       "      <td>Tirumala Milk Products Pvt. Ltd.</td>\n",
       "    </tr>\n",
       "    <tr>\n",
       "      <th>10</th>\n",
       "      <td>32</td>\n",
       "      <td>Upadrasta Dairy Specialities (P) Ltd.</td>\n",
       "    </tr>\n",
       "    <tr>\n",
       "      <th>11</th>\n",
       "      <td>33</td>\n",
       "      <td>Velugu Dairy Project</td>\n",
       "    </tr>\n",
       "  </tbody>\n",
       "</table>\n",
       "</div>"
      ],
      "text/plain": [
       "     0                                               1\n",
       "0   22                    Nirma Milk Products (P) Ltd.\n",
       "1   23                   Nutrine Confectionery Co Ltd.\n",
       "2   24                          Pratap Dairy Pvt. Ltd.\n",
       "3   25                    Ravi Dairy Products (P) Ltd.\n",
       "4   26             Sri Godavari Food Products (P) Ltd.\n",
       "5   27  Sri Vijaya Visakha Milk Producers Company Ltd.\n",
       "6   28                    Sri Vyshnavi Foods Pvt. Ltd.\n",
       "7   29                      Steel City Foods Pvt. Ltd.\n",
       "8   30                         Tirumala Milk Pvt. Ltd.\n",
       "9   31                Tirumala Milk Products Pvt. Ltd.\n",
       "10  32           Upadrasta Dairy Specialities (P) Ltd.\n",
       "11  33                            Velugu Dairy Project"
      ]
     },
     "execution_count": 41,
     "metadata": {},
     "output_type": "execute_result"
    }
   ],
   "source": [
    "h = d[0]\n",
    "h"
   ]
  },
  {
   "cell_type": "code",
   "execution_count": 42,
   "id": "fddf957c-d7cd-4919-8646-37779c80b939",
   "metadata": {},
   "outputs": [
    {
     "data": {
      "text/html": [
       "<div>\n",
       "<style scoped>\n",
       "    .dataframe tbody tr th:only-of-type {\n",
       "        vertical-align: middle;\n",
       "    }\n",
       "\n",
       "    .dataframe tbody tr th {\n",
       "        vertical-align: top;\n",
       "    }\n",
       "\n",
       "    .dataframe thead th {\n",
       "        text-align: right;\n",
       "    }\n",
       "</style>\n",
       "<table border=\"1\" class=\"dataframe\">\n",
       "  <thead>\n",
       "    <tr style=\"text-align: right;\">\n",
       "      <th></th>\n",
       "      <th>0</th>\n",
       "      <th>1</th>\n",
       "      <th>State</th>\n",
       "    </tr>\n",
       "  </thead>\n",
       "  <tbody>\n",
       "    <tr>\n",
       "      <th>0</th>\n",
       "      <td>22</td>\n",
       "      <td>Nirma Milk Products (P) Ltd.</td>\n",
       "      <td>Andhrapradesh</td>\n",
       "    </tr>\n",
       "    <tr>\n",
       "      <th>1</th>\n",
       "      <td>23</td>\n",
       "      <td>Nutrine Confectionery Co Ltd.</td>\n",
       "      <td>Andhrapradesh</td>\n",
       "    </tr>\n",
       "    <tr>\n",
       "      <th>2</th>\n",
       "      <td>24</td>\n",
       "      <td>Pratap Dairy Pvt. Ltd.</td>\n",
       "      <td>Andhrapradesh</td>\n",
       "    </tr>\n",
       "    <tr>\n",
       "      <th>3</th>\n",
       "      <td>25</td>\n",
       "      <td>Ravi Dairy Products (P) Ltd.</td>\n",
       "      <td>Andhrapradesh</td>\n",
       "    </tr>\n",
       "    <tr>\n",
       "      <th>4</th>\n",
       "      <td>26</td>\n",
       "      <td>Sri Godavari Food Products (P) Ltd.</td>\n",
       "      <td>Andhrapradesh</td>\n",
       "    </tr>\n",
       "    <tr>\n",
       "      <th>5</th>\n",
       "      <td>27</td>\n",
       "      <td>Sri Vijaya Visakha Milk Producers Company Ltd.</td>\n",
       "      <td>Andhrapradesh</td>\n",
       "    </tr>\n",
       "    <tr>\n",
       "      <th>6</th>\n",
       "      <td>28</td>\n",
       "      <td>Sri Vyshnavi Foods Pvt. Ltd.</td>\n",
       "      <td>Andhrapradesh</td>\n",
       "    </tr>\n",
       "    <tr>\n",
       "      <th>7</th>\n",
       "      <td>29</td>\n",
       "      <td>Steel City Foods Pvt. Ltd.</td>\n",
       "      <td>Andhrapradesh</td>\n",
       "    </tr>\n",
       "    <tr>\n",
       "      <th>8</th>\n",
       "      <td>30</td>\n",
       "      <td>Tirumala Milk Pvt. Ltd.</td>\n",
       "      <td>Andhrapradesh</td>\n",
       "    </tr>\n",
       "    <tr>\n",
       "      <th>9</th>\n",
       "      <td>31</td>\n",
       "      <td>Tirumala Milk Products Pvt. Ltd.</td>\n",
       "      <td>Andhrapradesh</td>\n",
       "    </tr>\n",
       "    <tr>\n",
       "      <th>10</th>\n",
       "      <td>32</td>\n",
       "      <td>Upadrasta Dairy Specialities (P) Ltd.</td>\n",
       "      <td>Andhrapradesh</td>\n",
       "    </tr>\n",
       "    <tr>\n",
       "      <th>11</th>\n",
       "      <td>33</td>\n",
       "      <td>Velugu Dairy Project</td>\n",
       "      <td>Andhrapradesh</td>\n",
       "    </tr>\n",
       "  </tbody>\n",
       "</table>\n",
       "</div>"
      ],
      "text/plain": [
       "     0                                               1          State\n",
       "0   22                    Nirma Milk Products (P) Ltd.  Andhrapradesh\n",
       "1   23                   Nutrine Confectionery Co Ltd.  Andhrapradesh\n",
       "2   24                          Pratap Dairy Pvt. Ltd.  Andhrapradesh\n",
       "3   25                    Ravi Dairy Products (P) Ltd.  Andhrapradesh\n",
       "4   26             Sri Godavari Food Products (P) Ltd.  Andhrapradesh\n",
       "5   27  Sri Vijaya Visakha Milk Producers Company Ltd.  Andhrapradesh\n",
       "6   28                    Sri Vyshnavi Foods Pvt. Ltd.  Andhrapradesh\n",
       "7   29                      Steel City Foods Pvt. Ltd.  Andhrapradesh\n",
       "8   30                         Tirumala Milk Pvt. Ltd.  Andhrapradesh\n",
       "9   31                Tirumala Milk Products Pvt. Ltd.  Andhrapradesh\n",
       "10  32           Upadrasta Dairy Specialities (P) Ltd.  Andhrapradesh\n",
       "11  33                            Velugu Dairy Project  Andhrapradesh"
      ]
     },
     "execution_count": 42,
     "metadata": {},
     "output_type": "execute_result"
    }
   ],
   "source": [
    "h['State']='Andhrapradesh'\n",
    "h"
   ]
  },
  {
   "cell_type": "code",
   "execution_count": 43,
   "id": "5267a4a5-86d9-44c9-8f01-318efee880e2",
   "metadata": {},
   "outputs": [],
   "source": [
    "f1.append(h)"
   ]
  },
  {
   "cell_type": "code",
   "execution_count": 44,
   "id": "c8f9440a-abef-4c18-8a8d-9afe7963005a",
   "metadata": {},
   "outputs": [],
   "source": [
    "f2 = pd.concat(f1)"
   ]
  },
  {
   "cell_type": "code",
   "execution_count": 45,
   "id": "32d9eb04-cbf0-4691-bdaa-1a54b3a5df5c",
   "metadata": {},
   "outputs": [],
   "source": [
    "f2.to_excel(\"Leads_Dairy.xlsx\")"
   ]
  },
  {
   "cell_type": "code",
   "execution_count": 18,
   "id": "bb644053-a183-4f31-9120-cd322178c949",
   "metadata": {},
   "outputs": [],
   "source": [
    "f1=[]"
   ]
  },
  {
   "cell_type": "code",
   "execution_count": null,
   "id": "ab52c2d9-ee5c-4552-bfeb-93e417fab151",
   "metadata": {},
   "outputs": [],
   "source": [
    "pip install --trusted-host=pypi.org --trusted-host=files.pythonhosted.org --user ecommercetools"
   ]
  },
  {
   "cell_type": "code",
   "execution_count": 59,
   "id": "9e20792e-0f92-4b45-8003-655fb8fd3540",
   "metadata": {},
   "outputs": [
    {
     "name": "stdout",
     "output_type": "stream",
     "text": [
      "HTTPSConnectionPool(host='www.google.com', port=443): Max retries exceeded with url: /search?q=scrape+google+results&num=100&hl=en (Caused by SSLError(SSLCertVerificationError(1, '[SSL: CERTIFICATE_VERIFY_FAILED] certificate verify failed: unable to get local issuer certificate (_ssl.c:1123)')))\n"
     ]
    },
    {
     "ename": "AttributeError",
     "evalue": "'NoneType' object has no attribute 'html'",
     "output_type": "error",
     "traceback": [
      "\u001b[1;31m---------------------------------------------------------------------------\u001b[0m",
      "\u001b[1;31mAttributeError\u001b[0m                            Traceback (most recent call last)",
      "\u001b[1;32m<ipython-input-59-06ace5acc7bd>\u001b[0m in \u001b[0;36m<module>\u001b[1;34m\u001b[0m\n\u001b[0;32m      1\u001b[0m \u001b[1;32mfrom\u001b[0m \u001b[0mecommercetools\u001b[0m \u001b[1;32mimport\u001b[0m \u001b[0mseo\u001b[0m\u001b[1;33m\u001b[0m\u001b[1;33m\u001b[0m\u001b[0m\n\u001b[1;32m----> 2\u001b[1;33m \u001b[0mresults\u001b[0m \u001b[1;33m=\u001b[0m \u001b[0mseo\u001b[0m\u001b[1;33m.\u001b[0m\u001b[0mget_serps\u001b[0m\u001b[1;33m(\u001b[0m\u001b[1;34m\"scrape google results\"\u001b[0m\u001b[1;33m,\u001b[0m \u001b[0mdomain\u001b[0m \u001b[1;33m=\u001b[0m\u001b[1;34m'google.com'\u001b[0m\u001b[1;33m)\u001b[0m\u001b[1;33m\u001b[0m\u001b[1;33m\u001b[0m\u001b[0m\n\u001b[0m\u001b[0;32m      3\u001b[0m \u001b[0mresults\u001b[0m\u001b[1;33m\u001b[0m\u001b[1;33m\u001b[0m\u001b[0m\n",
      "\u001b[1;32m~\\AppData\\Roaming\\Python\\Python39\\site-packages\\ecommercetools\\seo\\google_search.py\u001b[0m in \u001b[0;36mget_serps\u001b[1;34m(query, output, pages, domain, host_language)\u001b[0m\n\u001b[0;32m    249\u001b[0m \u001b[1;33m\u001b[0m\u001b[0m\n\u001b[0;32m    250\u001b[0m     \u001b[0mresponse\u001b[0m \u001b[1;33m=\u001b[0m \u001b[0m_get_results\u001b[0m\u001b[1;33m(\u001b[0m\u001b[0mquery\u001b[0m\u001b[1;33m,\u001b[0m \u001b[0mdomain\u001b[0m\u001b[1;33m=\u001b[0m\u001b[0mdomain\u001b[0m\u001b[1;33m,\u001b[0m \u001b[0mhl\u001b[0m\u001b[1;33m=\u001b[0m\u001b[0mhost_language\u001b[0m\u001b[1;33m)\u001b[0m\u001b[1;33m\u001b[0m\u001b[1;33m\u001b[0m\u001b[0m\n\u001b[1;32m--> 251\u001b[1;33m     \u001b[0mresults\u001b[0m \u001b[1;33m=\u001b[0m \u001b[0m_parse_search_results\u001b[0m\u001b[1;33m(\u001b[0m\u001b[0mresponse\u001b[0m\u001b[1;33m)\u001b[0m\u001b[1;33m\u001b[0m\u001b[1;33m\u001b[0m\u001b[0m\n\u001b[0m\u001b[0;32m    252\u001b[0m     \u001b[0mnext_page\u001b[0m \u001b[1;33m=\u001b[0m \u001b[0m_get_next_page\u001b[0m\u001b[1;33m(\u001b[0m\u001b[0mresponse\u001b[0m\u001b[1;33m,\u001b[0m \u001b[0mdomain\u001b[0m\u001b[1;33m=\u001b[0m\u001b[0mdomain\u001b[0m\u001b[1;33m,\u001b[0m \u001b[0mhl\u001b[0m\u001b[1;33m=\u001b[0m\u001b[0mhost_language\u001b[0m\u001b[1;33m)\u001b[0m\u001b[1;33m\u001b[0m\u001b[1;33m\u001b[0m\u001b[0m\n\u001b[0;32m    253\u001b[0m \u001b[1;33m\u001b[0m\u001b[0m\n",
      "\u001b[1;32m~\\AppData\\Roaming\\Python\\Python39\\site-packages\\ecommercetools\\seo\\google_search.py\u001b[0m in \u001b[0;36m_parse_search_results\u001b[1;34m(response)\u001b[0m\n\u001b[0;32m    181\u001b[0m \u001b[1;33m\u001b[0m\u001b[0m\n\u001b[0;32m    182\u001b[0m     \u001b[1;32mtry\u001b[0m\u001b[1;33m:\u001b[0m\u001b[1;33m\u001b[0m\u001b[1;33m\u001b[0m\u001b[0m\n\u001b[1;32m--> 183\u001b[1;33m         \u001b[0mresults\u001b[0m \u001b[1;33m=\u001b[0m \u001b[0mresponse\u001b[0m\u001b[1;33m.\u001b[0m\u001b[0mhtml\u001b[0m\u001b[1;33m.\u001b[0m\u001b[0mfind\u001b[0m\u001b[1;33m(\u001b[0m\u001b[0mcss_identifier_result\u001b[0m\u001b[1;33m)\u001b[0m\u001b[1;33m\u001b[0m\u001b[1;33m\u001b[0m\u001b[0m\n\u001b[0m\u001b[0;32m    184\u001b[0m \u001b[1;33m\u001b[0m\u001b[0m\n\u001b[0;32m    185\u001b[0m         \u001b[0moutput\u001b[0m \u001b[1;33m=\u001b[0m \u001b[1;33m[\u001b[0m\u001b[1;33m]\u001b[0m\u001b[1;33m\u001b[0m\u001b[1;33m\u001b[0m\u001b[0m\n",
      "\u001b[1;31mAttributeError\u001b[0m: 'NoneType' object has no attribute 'html'"
     ]
    }
   ],
   "source": [
    "from ecommercetools import seo\n",
    "results = seo.get_serps(\"scrape google results\", domain ='google.com')\n",
    "results"
   ]
  },
  {
   "cell_type": "code",
   "execution_count": null,
   "id": "4160df08-8e98-4fa2-9d0d-ee5a19858e1c",
   "metadata": {},
   "outputs": [],
   "source": [
    "import pandas as pd\n",
    "d = pd.read_html(\"C:/Users/018598/Peerbank/Federal/document-page0.pdf.html\")\n",
    "d[0]"
   ]
  },
  {
   "cell_type": "code",
   "execution_count": null,
   "id": "dcb31bb8-17c6-4560-8749-3545b6f2954a",
   "metadata": {},
   "outputs": [],
   "source": [
    "from tabula import read_pdf\n",
    "df = read_pdf('data.pdf')"
   ]
  },
  {
   "cell_type": "code",
   "execution_count": null,
   "id": "0ebb79a9-f836-4d2b-a42f-a74294784653",
   "metadata": {},
   "outputs": [],
   "source": []
  }
 ],
 "metadata": {
  "kernelspec": {
   "display_name": "Python 3",
   "language": "python",
   "name": "python3"
  },
  "language_info": {
   "codemirror_mode": {
    "name": "ipython",
    "version": 3
   },
   "file_extension": ".py",
   "mimetype": "text/x-python",
   "name": "python",
   "nbconvert_exporter": "python",
   "pygments_lexer": "ipython3",
   "version": "3.9.1"
  }
 },
 "nbformat": 4,
 "nbformat_minor": 5
}
