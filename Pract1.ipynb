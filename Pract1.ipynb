{
 "cells": [
  {
   "cell_type": "code",
   "execution_count": null,
   "id": "968a1857-7ddb-4227-a8d2-6cef4e3e652f",
   "metadata": {},
   "outputs": [],
   "source": [
    "s='enter here'\n",
    "arrr = list(map(int,input('{0}'.format(s)).split()))"
   ]
  },
  {
   "cell_type": "code",
   "execution_count": null,
   "id": "22a037fa-a6ff-429a-b9b3-65d0196e40d9",
   "metadata": {},
   "outputs": [],
   "source": [
    "class Solution:\n",
    "    from itertools import permutations\n",
    "    import numpy as np\n",
    "    def getPermutation(self, n: int, k: int) -> str:\n",
    "            perm = permutations(np.arange(n+1)[1:n+1]) \n",
    "    # Print the obtained permutations \n",
    "            for o,p in enumerate(list(perm)):\n",
    "                kk,l,n=p\n",
    "                if o==k-1:\n",
    "                    return (str(kk)+str(l)+str(n))"
   ]
  },
  {
   "cell_type": "code",
   "execution_count": null,
   "id": "1a5fcb9a-f96d-4579-8923-d276e8ef9b8d",
   "metadata": {},
   "outputs": [],
   "source": [
    "from typing import List\n",
    "class Solution:\n",
    "    def firstMissingPositive(self, nums: List[int]) -> int:\n",
    "        nums.sort()\n",
    "        f = [0]+nums\n",
    "        f.sort()\n",
    "        for i in range(len(nums)):\n",
    "            t = nums[i] - f[i]\n",
    "            if t!=1 and i!=0 and t>0:\n",
    "                return (nums[i]-1)"
   ]
  },
  {
   "cell_type": "code",
   "execution_count": null,
   "id": "1e0f8ad4-d643-48e0-866e-0ab3e0ae9ac4",
   "metadata": {},
   "outputs": [],
   "source": [
    "sol = Solution()\n",
    "sol.getPermutation(3,4)"
   ]
  },
  {
   "cell_type": "code",
   "execution_count": 11,
   "id": "e8a25452-5d79-4b71-820e-49cb06f70d29",
   "metadata": {},
   "outputs": [
    {
     "data": {
      "text/plain": [
       "array([0, 1, 0, 2, 1, 0, 1, 3, 2, 1, 2, 1])"
      ]
     },
     "execution_count": 11,
     "metadata": {},
     "output_type": "execute_result"
    }
   ],
   "source": [
    "height = [0,1,0,2,1,0,1,3,2,1,2,1]\n",
    "import numpy as np\n",
    "h = np.array(height)\n",
    "h"
   ]
  },
  {
   "cell_type": "code",
   "execution_count": 12,
   "id": "6b28d859-0d28-456c-8189-71ba5206004d",
   "metadata": {},
   "outputs": [
    {
     "data": {
      "text/plain": [
       "[-1, 1, -2, 1, 1, -1, -2, 1, 1, -1, 1]"
      ]
     },
     "execution_count": 12,
     "metadata": {},
     "output_type": "execute_result"
    }
   ],
   "source": [
    "a =[]\n",
    "for i in range(len(height)):\n",
    "    if i+1<len(height):\n",
    "        a.append(h[i]-h[i+1])\n",
    "a"
   ]
  },
  {
   "cell_type": "code",
   "execution_count": null,
   "id": "dc767bc5-7853-4f48-9651-6d39be2b847d",
   "metadata": {},
   "outputs": [],
   "source": []
  },
  {
   "cell_type": "code",
   "execution_count": 13,
   "id": "81eade5f-c85c-44c5-8b34-39d09a1280cc",
   "metadata": {},
   "outputs": [
    {
     "name": "stdout",
     "output_type": "stream",
     "text": [
      "False\n",
      "True\n",
      "False\n",
      "False\n",
      "True\n",
      "False\n",
      "False\n",
      "False\n",
      "True\n",
      "False\n"
     ]
    },
    {
     "ename": "IndexError",
     "evalue": "list index out of range",
     "output_type": "error",
     "traceback": [
      "\u001b[1;31m---------------------------------------------------------------------------\u001b[0m",
      "\u001b[1;31mIndexError\u001b[0m                                Traceback (most recent call last)",
      "\u001b[1;32m<ipython-input-13-cc5f73e69e93>\u001b[0m in \u001b[0;36m<module>\u001b[1;34m\u001b[0m\n\u001b[0;32m      1\u001b[0m \u001b[0mb\u001b[0m\u001b[1;33m=\u001b[0m\u001b[1;33m[\u001b[0m\u001b[1;33m]\u001b[0m\u001b[1;33m\u001b[0m\u001b[1;33m\u001b[0m\u001b[0m\n\u001b[0;32m      2\u001b[0m \u001b[1;32mfor\u001b[0m \u001b[0mi\u001b[0m \u001b[1;32min\u001b[0m \u001b[0mrange\u001b[0m\u001b[1;33m(\u001b[0m\u001b[0mlen\u001b[0m\u001b[1;33m(\u001b[0m\u001b[0ma\u001b[0m\u001b[1;33m)\u001b[0m\u001b[1;33m)\u001b[0m\u001b[1;33m:\u001b[0m\u001b[1;33m\u001b[0m\u001b[1;33m\u001b[0m\u001b[0m\n\u001b[1;32m----> 3\u001b[1;33m     \u001b[1;32mif\u001b[0m \u001b[0ma\u001b[0m\u001b[1;33m[\u001b[0m\u001b[0mi\u001b[0m\u001b[1;33m]\u001b[0m\u001b[1;33m>\u001b[0m\u001b[1;36m0\u001b[0m \u001b[1;32mand\u001b[0m \u001b[0ma\u001b[0m\u001b[1;33m[\u001b[0m\u001b[0mi\u001b[0m\u001b[1;33m+\u001b[0m\u001b[1;36m1\u001b[0m\u001b[1;33m]\u001b[0m\u001b[1;33m<\u001b[0m\u001b[1;36m0\u001b[0m \u001b[1;32mand\u001b[0m \u001b[0mi\u001b[0m\u001b[1;33m+\u001b[0m\u001b[1;36m1\u001b[0m\u001b[1;33m<\u001b[0m\u001b[0mlen\u001b[0m\u001b[1;33m(\u001b[0m\u001b[0mheight\u001b[0m\u001b[1;33m)\u001b[0m\u001b[1;33m:\u001b[0m\u001b[1;33m\u001b[0m\u001b[1;33m\u001b[0m\u001b[0m\n\u001b[0m\u001b[0;32m      4\u001b[0m         \u001b[0mprint\u001b[0m\u001b[1;33m(\u001b[0m\u001b[1;34m'True'\u001b[0m\u001b[1;33m)\u001b[0m\u001b[1;33m\u001b[0m\u001b[1;33m\u001b[0m\u001b[0m\n\u001b[0;32m      5\u001b[0m     \u001b[1;32melse\u001b[0m\u001b[1;33m:\u001b[0m\u001b[1;33m\u001b[0m\u001b[1;33m\u001b[0m\u001b[0m\n",
      "\u001b[1;31mIndexError\u001b[0m: list index out of range"
     ]
    }
   ],
   "source": [
    "b=[]\n",
    "for i in range(len(a)):\n",
    "    if a[i]>0 and a[i+1]<0 and i+1<len(height):\n",
    "        print('True')\n",
    "    else:\n",
    "        print('False')\n",
    "b                "
   ]
  },
  {
   "cell_type": "code",
   "execution_count": 8,
   "id": "48b98735-44a2-4e92-bb90-66058e41f50d",
   "metadata": {},
   "outputs": [
    {
     "data": {
      "text/plain": [
       "[-1, 1, -2, 1, 1, -1, -2, 1, 1, -1, 1]"
      ]
     },
     "execution_count": 8,
     "metadata": {},
     "output_type": "execute_result"
    }
   ],
   "source": [
    "a"
   ]
  },
  {
   "cell_type": "code",
   "execution_count": null,
   "id": "cc285dcb-44d1-4e69-a313-15201975bd3a",
   "metadata": {},
   "outputs": [],
   "source": []
  },
  {
   "cell_type": "code",
   "execution_count": 10,
   "id": "26b70a0e-b52f-4838-a15a-2a382d47fe7c",
   "metadata": {},
   "outputs": [],
   "source": [
    "b =[]\n",
    "for i in range(len(height)):\n",
    "    if i+1<len(height):\n",
    "        b.append(h[::-1][i]-h[::-1][i+1])"
   ]
  },
  {
   "cell_type": "code",
   "execution_count": 18,
   "id": "0092bdb1-1335-4001-a399-8cb0f246ed33",
   "metadata": {},
   "outputs": [],
   "source": [
    "j = [i for i in enumerate(b[::-1])]"
   ]
  },
  {
   "cell_type": "code",
   "execution_count": 19,
   "id": "c46bb7d8-653d-4199-9416-51aeacbe8b96",
   "metadata": {},
   "outputs": [
    {
     "data": {
      "text/plain": [
       "[(0, 1),\n",
       " (1, -1),\n",
       " (2, 2),\n",
       " (3, -1),\n",
       " (4, -1),\n",
       " (5, 1),\n",
       " (6, 2),\n",
       " (7, -1),\n",
       " (8, -1),\n",
       " (9, 1),\n",
       " (10, -1)]"
      ]
     },
     "execution_count": 19,
     "metadata": {},
     "output_type": "execute_result"
    }
   ],
   "source": [
    "j"
   ]
  },
  {
   "cell_type": "code",
   "execution_count": 20,
   "id": "6461ffa5-f5de-4cda-8280-e4f7df0ce10e",
   "metadata": {},
   "outputs": [],
   "source": [
    "k = [i for i in enumerate(a)]"
   ]
  },
  {
   "cell_type": "code",
   "execution_count": 21,
   "id": "581e3cb7-5073-48d2-9bf5-da96b2d9fecf",
   "metadata": {},
   "outputs": [
    {
     "data": {
      "text/plain": [
       "[(0, -1),\n",
       " (1, 1),\n",
       " (2, -2),\n",
       " (3, 1),\n",
       " (4, 1),\n",
       " (5, -1),\n",
       " (6, -2),\n",
       " (7, 1),\n",
       " (8, 1),\n",
       " (9, -1),\n",
       " (10, 1)]"
      ]
     },
     "execution_count": 21,
     "metadata": {},
     "output_type": "execute_result"
    }
   ],
   "source": [
    "k"
   ]
  },
  {
   "cell_type": "code",
   "execution_count": 21,
   "id": "c7dea425-1c0d-496c-9d89-fda2eecb4770",
   "metadata": {},
   "outputs": [
    {
     "data": {
      "text/plain": [
       "[1, 3, 4, 7, 8, 10]"
      ]
     },
     "execution_count": 21,
     "metadata": {},
     "output_type": "execute_result"
    }
   ],
   "source": [
    "b=[]\n",
    "for i in range(len(a)):\n",
    "    while a[i]>0:\n",
    "        b.append(i)\n",
    "        break\n",
    "#    height[]\n",
    "b"
   ]
  },
  {
   "cell_type": "code",
   "execution_count": 25,
   "id": "6224da1b-6228-4c71-9dfa-2bd483743c7f",
   "metadata": {},
   "outputs": [
    {
     "data": {
      "text/plain": [
       "[1, 0, 2]"
      ]
     },
     "execution_count": 25,
     "metadata": {},
     "output_type": "execute_result"
    }
   ],
   "source": [
    "height[b[0]:b[1]+1]"
   ]
  },
  {
   "cell_type": "code",
   "execution_count": null,
   "id": "08c776b5-ccda-4015-b88b-5acb84fbbaa6",
   "metadata": {},
   "outputs": [],
   "source": [
    "head = [1,3,4,5,7,8]\n",
    "k=2\n",
    "def reverseKGroup(self, head: Optional[ListNode], k: int) -> Optional[ListNode]:\n",
    "    q = [l[i:i+2] for i in range(0,len(l),k)]\n",
    "    import numpy as np\n",
    "    return np.array(j).flatten()"
   ]
  },
  {
   "cell_type": "code",
   "execution_count": null,
   "id": "cd9354d3-be75-4f25-bebd-1541c683a96e",
   "metadata": {},
   "outputs": [],
   "source": [
    "words = [\"foo\",\"bar\"]"
   ]
  },
  {
   "cell_type": "code",
   "execution_count": null,
   "id": "0cacc280-7fc9-4486-9b0c-c88fa1907c27",
   "metadata": {},
   "outputs": [],
   "source": [
    "fullstring = \"StackAbuse\"\n",
    "substring = \"tack\"\n",
    "\n",
    "if substring in fullstring:\n",
    "    print(\"Found!\")\n",
    "else:\n",
    "    print(\"Not found!\")"
   ]
  },
  {
   "cell_type": "code",
   "execution_count": null,
   "id": "d6776e3b-7b9e-49ba-b9ea-d9699eca1fff",
   "metadata": {},
   "outputs": [],
   "source": [
    "from itertools import permutations \n"
   ]
  },
  {
   "cell_type": "code",
   "execution_count": null,
   "id": "0efeaf13-5db6-4b82-a0a2-0050d701a338",
   "metadata": {},
   "outputs": [],
   "source": [
    "fullstring.index(substring)"
   ]
  },
  {
   "cell_type": "code",
   "execution_count": null,
   "id": "82b9ed6c-1956-4823-94a1-0d568fa0ecc4",
   "metadata": {},
   "outputs": [],
   "source": [
    "def add(x: float, y: float) -> float:\n",
    "    return x+y"
   ]
  },
  {
   "cell_type": "code",
   "execution_count": null,
   "id": "09c0af0c-0fd1-4f97-b5be-11139200e394",
   "metadata": {},
   "outputs": [],
   "source": [
    "x = [3.0, 1.0, 0.2]\n",
    "import numpy as np\n",
    "e_x = np.exp(x)\n",
    "e_x\n",
    "e_x / e_x.sum(axis=0)"
   ]
  },
  {
   "cell_type": "code",
   "execution_count": null,
   "id": "ba03a8ef-6d2d-479f-a1be-9f313be41fe4",
   "metadata": {},
   "outputs": [],
   "source": [
    "np.exp(x)/np.exp(x).sum(axis=0)"
   ]
  },
  {
   "cell_type": "code",
   "execution_count": null,
   "id": "87d4c9b8-4bd2-4ee6-b54c-06c92fa7401a",
   "metadata": {},
   "outputs": [],
   "source": [
    "np.exp(x - np.max(x))"
   ]
  },
  {
   "cell_type": "code",
   "execution_count": null,
   "id": "75c018a6-a3d5-4272-b32b-3782e67c39c7",
   "metadata": {},
   "outputs": [],
   "source": [
    "df['Yr_qcut'] = pd.qcut(df.Year, q=5,\n",
    "                        labels=['oldest',\n",
    "                                'not so old',\n",
    "                                'medium',\n",
    "                                'newer',\n",
    "                                'latest'])\n",
    "df.head()\n",
    " \n",
    "df['Yr_qcut'].value_counts().plot(kind='barh')\n",
    "plt.show()\n",
    " \n",
    "qcut_series, qcut_intervals = pd.qcut(df.Year, q=5,\n",
    "                                      labels=['oldest',\n",
    "                                              'not so old',\n",
    "                                              'medium',\n",
    "                                              'newer',\n",
    "                                              'latest'],\n",
    "                                      retbins=True)\n",
    " \n",
    "qcut_series.value_counts()"
   ]
  },
  {
   "cell_type": "code",
   "execution_count": null,
   "id": "71fc5c4f-e825-4176-8d08-4f763284da73",
   "metadata": {},
   "outputs": [],
   "source": [
    "from xgboost import *\n",
    "exec(\"print(dir())\")"
   ]
  },
  {
   "cell_type": "code",
   "execution_count": null,
   "id": "34a9f1ab-250d-44ba-9d02-a44fec444bae",
   "metadata": {},
   "outputs": [],
   "source": [
    "predictors.extend(['x_%d'%i for i in range(2,power+1)])"
   ]
  },
  {
   "cell_type": "code",
   "execution_count": null,
   "id": "c2f2f0ed-88b1-4129-b1ad-aef72e111e6f",
   "metadata": {},
   "outputs": [],
   "source": [
    "def maxProfit(prices, n, k):\n",
    "     \n",
    "    # Bottom-up DP approach\n",
    "    profit = [[0 for i in range(k + 1)]\n",
    "                 for j in range(n)]\n",
    "     \n",
    "    # Profit is zero for the first\n",
    "    # day and for zero transactions\n",
    "    for i in range(1, n):\n",
    "         \n",
    "        for j in range(1, k + 1):\n",
    "            max_so_far = 0\n",
    "             \n",
    "            for l in range(i):\n",
    "                max_so_far = max(max_so_far, prices[i] -\n",
    "                            prices[l] + profit[l][j - 1])\n",
    "                             \n",
    "            profit[i][j] = max(profit[i - 1][j], max_so_far)\n",
    "     \n",
    "    return profit[n - 1][k]\n",
    " \n",
    "# Driver code\n",
    "k = 2\n",
    "prices = [10, 22, 5, 75, 65, 80]\n",
    "n = len(prices)\n",
    " \n",
    "print(\"Maximum profit is:\",\n",
    "       maxProfit(prices, n, k))"
   ]
  },
  {
   "cell_type": "code",
   "execution_count": null,
   "id": "29281005-0fb0-4f46-aa00-1b8262d37157",
   "metadata": {},
   "outputs": [],
   "source": [
    "arrr = [8,7, 9, 6, 5, 8, 9, 10, 11,12]"
   ]
  },
  {
   "cell_type": "code",
   "execution_count": null,
   "id": "9ac5a48d-19d5-4896-a630-5da911916368",
   "metadata": {},
   "outputs": [],
   "source": [
    "Matrix = [[0 for x in range(20//(20//4))] for y in range(20//4)]"
   ]
  },
  {
   "cell_type": "code",
   "execution_count": null,
   "id": "bd95d5a6-78aa-4f83-be99-b0f5218c17ce",
   "metadata": {},
   "outputs": [],
   "source": [
    "for i in range(len(arrr)):\n",
    "    Matrix[i//3][i%3] = arrr[i]"
   ]
  },
  {
   "cell_type": "code",
   "execution_count": null,
   "id": "2f62c685-3e1b-47e4-b0b1-6a1ecff00806",
   "metadata": {},
   "outputs": [],
   "source": [
    "arrr=list('13244467589')"
   ]
  },
  {
   "cell_type": "code",
   "execution_count": null,
   "id": "8010a5dc-c584-471a-95dd-7d6eb0fc1cf2",
   "metadata": {},
   "outputs": [],
   "source": [
    "blocks = [arrr[i:i + 3] for i in range(0, 10, 3)]\n",
    "digits = [sorted(set(i)) for i in blocks]\n",
    "freq = [len(x) for x in digits]\n",
    "freq"
   ]
  },
  {
   "cell_type": "code",
   "execution_count": null,
   "id": "ba49e21d-58ff-4daa-a19e-c08ad0e85743",
   "metadata": {},
   "outputs": [],
   "source": [
    "digits"
   ]
  },
  {
   "cell_type": "code",
   "execution_count": null,
   "id": "910fc3a3-57a8-4ee3-a920-08d58458c699",
   "metadata": {},
   "outputs": [],
   "source": [
    "for i in range(len(freq) - 2, -1, -1):\n",
    "    print(freq[i] , freq[i + 1])\n",
    "    freq[i] = freq[i] * freq[i + 1]\n",
    "    print(freq[i] , freq[i + 1])"
   ]
  },
  {
   "cell_type": "code",
   "execution_count": null,
   "id": "7f32e8d5-71ed-4c0e-bd67-c998cf60d815",
   "metadata": {},
   "outputs": [],
   "source": [
    "arrr = [1,3,4,5,6,8]\n",
    "S = list(arrr)\n",
    "blocks = [S[i:i + 3] for i in range(0, 6, 3)]"
   ]
  },
  {
   "cell_type": "code",
   "execution_count": null,
   "id": "a99d4668-6d92-4c60-8266-0725d9609e9e",
   "metadata": {},
   "outputs": [],
   "source": [
    "blocks"
   ]
  },
  {
   "cell_type": "code",
   "execution_count": null,
   "id": "89a203c9-28e1-4765-b058-854d23b84c0e",
   "metadata": {},
   "outputs": [],
   "source": [
    "S = list(arrr)\n",
    "blocks = [S[i:i + X] for i in range(0, N, X)]\n",
    "digits = [sorted(set(i)) for i in blocks]\n",
    "freq = [len(x) for x in digits]\n",
    "for i in range(len(freq) - 2, -1, -1):\n",
    "    freq[i] = freq[i] * freq[i + 1]\n",
    "if K > freq[0]:\n",
    "    return -1\n",
    "freq.append(1)\n",
    "ans = []\n",
    "K = K - 1\n",
    "for i in range(1, len(freq)):\n",
    "    div = K // freq[i]\n",
    "    ans.append(digits[i - 1][div])\n",
    "    K = K % freq[i]\n",
    "print(''.join(ans))"
   ]
  },
  {
   "cell_type": "code",
   "execution_count": null,
   "id": "ce9f56d0-9475-4c65-b4eb-eaf981904e86",
   "metadata": {},
   "outputs": [],
   "source": [
    "def Find_It(N, X, K, S):\n",
    "    S = list(S)\n",
    "    blocks = [S[i:i + X] for i in range(0, N, X)]\n",
    "    digits = [sorted(set(i)) for i in blocks]\n",
    "    freq = [len(x) for x in digits]\n",
    "    for i in range(len(freq) - 2, -1, -1):\n",
    "        freq[i] = freq[i] * freq[i + 1]\n",
    "    if K > freq[0]:\n",
    "        return -1\n",
    "    freq.append(1)\n",
    "    ans = []\n",
    "    K = K - 1\n",
    "    for i in range(1, len(freq)):\n",
    "        div = K // freq[i]\n",
    "        ans.append(digits[i - 1][div])\n",
    "        K = K % freq[i]\n",
    "    print(''.join(ans))\n",
    "Find_It(11, 3, 9, '13246467589') #123 46 567 89"
   ]
  },
  {
   "cell_type": "code",
   "execution_count": null,
   "id": "8942002b-9df5-4387-beeb-e21470773672",
   "metadata": {},
   "outputs": [],
   "source": [
    "def Find_It(N, X, K, S):\n",
    "    S = list(S)\n",
    "    blocks = [S[i:i + X] for i in range(0, N, X)]\n",
    "    digits = [sorted(set(i)) for i in blocks]\n",
    "    freq = [len(x) for x in digits]\n",
    "    for i in range(len(freq) - 2, -1, -1):\n",
    "        freq[i] = freq[i] * freq[i + 1]\n",
    "    if K > freq[0]:\n",
    "        return -1\n",
    "    freq.append(1)\n",
    "    return freq\n",
    "Find_It(11, 3, 9, '13246467589')"
   ]
  },
  {
   "cell_type": "code",
   "execution_count": null,
   "id": "4cce72da-0594-460a-b57e-fc89b7202683",
   "metadata": {},
   "outputs": [],
   "source": [
    "S = '13246467589'\n",
    "S = list(S)\n",
    "blocks = [S[i:i + 3] for i in range(11)]\n",
    "for i in blocks:\n",
    "    if len(i)==3:\n",
    "        print(max(i)) "
   ]
  },
  {
   "cell_type": "code",
   "execution_count": null,
   "id": "ca559602-85be-4a1b-814c-40cc1b5db7b0",
   "metadata": {},
   "outputs": [],
   "source": [
    "blocks"
   ]
  },
  {
   "cell_type": "code",
   "execution_count": null,
   "id": "a8bec9a8-265b-436a-8423-2fa18b16e6d8",
   "metadata": {},
   "outputs": [],
   "source": [
    "for k in range(0,1):\n",
    "    print(k)"
   ]
  },
  {
   "cell_type": "code",
   "execution_count": null,
   "id": "edf1aa14-5258-418e-8e7c-478eb8b82ace",
   "metadata": {},
   "outputs": [],
   "source": [
    "for j in range(len(arrr),0,-1):\n",
    "    print(j)"
   ]
  },
  {
   "cell_type": "code",
   "execution_count": null,
   "id": "77e5b42c-0b4c-4689-a17c-7fad8e689671",
   "metadata": {},
   "outputs": [],
   "source": [
    "from sys import maxint\n",
    "max_so_far = -maxint - 1"
   ]
  },
  {
   "cell_type": "code",
   "execution_count": null,
   "id": "f9ff8adf-70d2-4ae6-b5bd-952ce970eae0",
   "metadata": {},
   "outputs": [],
   "source": [
    "def ss(ar):    \n",
    "    for i in range(len(arrr)):\n",
    "        if arrr[i]+i == len(arrr)-1:\n",
    "            return ('YES')\n",
    "    #else: return 0"
   ]
  },
  {
   "cell_type": "code",
   "execution_count": null,
   "id": "637938af-f40c-45f1-bafb-88ed84698b1a",
   "metadata": {},
   "outputs": [],
   "source": [
    "j = [i for i in list(str(123))]"
   ]
  },
  {
   "cell_type": "code",
   "execution_count": null,
   "id": "8acc3582-376f-4089-8179-734a8a64a2ab",
   "metadata": {},
   "outputs": [],
   "source": [
    "if str('3') not in j:\n",
    "    print('t')"
   ]
  },
  {
   "cell_type": "code",
   "execution_count": null,
   "id": "c7953ae3-0170-451d-b343-25d80e52891a",
   "metadata": {},
   "outputs": [],
   "source": [
    "def isPalindrome(x):\n",
    "    j = [i for i in list(str(x))]\n",
    "    l = j[::-1]\n",
    "    if j==l:\n",
    "        return x\n",
    "    "
   ]
  },
  {
   "cell_type": "code",
   "execution_count": null,
   "id": "d8662364-f441-49a2-b7fd-0abd489a4b54",
   "metadata": {},
   "outputs": [],
   "source": [
    "isPalindrome(121)"
   ]
  },
  {
   "cell_type": "code",
   "execution_count": null,
   "id": "5e2f24d4-1ed7-49e8-938c-dd8fdc0c0528",
   "metadata": {},
   "outputs": [],
   "source": [
    "for i in range(2,101):\n",
    "    k=[]\n",
    "    for j in range(2,i):\n",
    "        k.append(i%j)\n",
    "        if j==i-1:\n",
    "            if 0 not in k:\n",
    "                print(2)\n",
    "                print(i)    "
   ]
  },
  {
   "cell_type": "code",
   "execution_count": null,
   "id": "aefc2742-275a-44b9-b0cb-6367e6e6bb9a",
   "metadata": {},
   "outputs": [],
   "source": [
    "class Solution(object):\n",
    "    def isValidSudoku(self, board):\n",
    "        for i in range(9):\n",
    "            row = {}\n",
    "            column = {}\n",
    "            block = {}\n",
    "            row_cube = 3 * (i//3)\n",
    "            column_cube = 3 * (i%3)\n",
    "            for j in range(9):\n",
    "                if board[i][j]!='.' and board[i][j] in row:\n",
    "                    return False\n",
    "                row[board[i][j]] = 1\n",
    "                if board[j][i]!='.' and board[j][i] in column:\n",
    "                    return False\n",
    "                column[board[j][i]] = 1\n",
    "                rc= row_cube+j//3\n",
    "                cc = column_cube + j%3\n",
    "                if board[rc][cc] in block and board[rc][cc]!='.':\n",
    "                    return False\n",
    "                block[board[rc][cc]]=1\n",
    "        return True\n",
    "ob1 = Solution()"
   ]
  },
  {
   "cell_type": "code",
   "execution_count": null,
   "id": "ac5b17c8-edb8-480e-8ebc-e2cc66051632",
   "metadata": {},
   "outputs": [],
   "source": [
    "if ob1.isValidSudoku(board):\n",
    "    print(board)"
   ]
  },
  {
   "cell_type": "code",
   "execution_count": null,
   "id": "7efde922-45f1-40a2-86cc-05db31cb440e",
   "metadata": {},
   "outputs": [],
   "source": [
    "board = [\n",
    "   [\"5\",\"3\",\".\",\".\",\"7\",\".\",\".\",\".\",\".\"],\n",
    "   [\"6\",\".\",\".\",\"1\",\"9\",\"5\",\".\",\".\",\".\"],\n",
    "   [\".\",\"9\",\"8\",\".\",\".\",\".\",\".\",\"6\",\".\"],\n",
    "   [\"8\",\".\",\".\",\".\",\"6\",\".\",\".\",\".\",\"3\"],\n",
    "   [\"4\",\".\",\".\",\"8\",\".\",\"3\",\".\",\".\",\"1\"],\n",
    "   [\"7\",\".\",\".\",\".\",\"2\",\".\",\".\",\".\",\"6\"],\n",
    "   [\".\",\"6\",\".\",\".\",\".\",\".\",\"2\",\"8\",\".\"],\n",
    "   [\".\",\".\",\".\",\"4\",\"1\",\"9\",\".\",\".\",\"5\"],\n",
    "   [\".\",\".\",\".\",\".\",\"8\",\".\",\".\",\"7\",\"9\"]]"
   ]
  },
  {
   "cell_type": "code",
   "execution_count": null,
   "id": "9e8cf5f0-422c-4653-b203-5b694b32ea40",
   "metadata": {
    "tags": []
   },
   "outputs": [],
   "source": [
    "import numpy as np\n",
    "a=[]\n",
    "b = np.arange(1,10)\n",
    "d=[]\n",
    "for i in range(9):\n",
    "    row = {}\n",
    "    column = {}\n",
    "    block = {}\n",
    "    row_cube = 3 * (i//3)\n",
    "    column_cube = 3 * (i%3)\n",
    "    g=[k for k in b if str(k) not in board[i]]\n",
    "    d.append(g)\n",
    "    for j in range(9):\n",
    "        if board[i][j]!='.' and board[i][j] in row:\n",
    "            print('F')\n",
    "        if board[i][j]=='.':\n",
    "            a.append((i,j))  \n",
    "        row[board[i][j]] = 1\n",
    "        if board[j][i]!='.' and board[j][i] in column:\n",
    "            print('F')\n",
    "        column[board[j][i]] = 1\n",
    "        rc= row_cube+j//3\n",
    "        cc = column_cube + j%3\n",
    "        if board[rc][cc] in block and board[rc][cc]!='.':\n",
    "            print('F')\n",
    "        block[board[rc][cc]]=1\n",
    "print('T')"
   ]
  },
  {
   "cell_type": "code",
   "execution_count": null,
   "id": "e35fd672-e722-4582-b4c7-ee0b00efe6d3",
   "metadata": {},
   "outputs": [],
   "source": [
    "from itertools import permutations\n",
    "h=[permutations(i, len(i)) for i in d]\n",
    "import pandas as pd\n",
    "dd = {}\n",
    "for i in range(len(h)):\n",
    "    print(i)\n",
    "    dd[i]=[j for j in list(h[i])]\n",
    "dd[0]=[j for j in list(h[0])]"
   ]
  },
  {
   "cell_type": "code",
   "execution_count": null,
   "id": "5ff776b4-adbb-482a-9aa9-168c906b9d06",
   "metadata": {},
   "outputs": [],
   "source": [
    "finan=[]\n",
    "opo=[]\n",
    "op=[]\n",
    "finan.append([dd[0][0],dd[1][0]])\n",
    "for ib in finan:\n",
    "    for jb in ib:\n",
    "        op+=[j for j in jb]\n"
   ]
  },
  {
   "cell_type": "code",
   "execution_count": null,
   "id": "f347040f-c678-4427-82fa-18121c787672",
   "metadata": {},
   "outputs": [],
   "source": [
    "from tqdm import tqdm\n",
    "for i in tqdm(range(len(dd[0]))):\n",
    "    for j in tqdm(range(len(dd[1]))):\n",
    "        for k in tqdm(range(len(dd[2]))):\n",
    "            for l in tqdm(range(len(dd[3]))):\n",
    "                for m in tqdm(range(len(dd[4]))):\n",
    "                    for n in tqdm(range(len(dd[5]))):\n",
    "                        for o in tqdm(range(len(dd[6]))):\n",
    "                            for p in tqdm(range(len(dd[7]))):\n",
    "                                for q in tqdm(range(len(dd[8]))):\n",
    "                                    finan=[]\n",
    "                                    finan.append([dd[0][i],dd[1][j],dd[2][k],dd[3][l],dd[4][m],dd[5][n],dd[6][o],dd[7][p],dd[8][q]])\n",
    "                                    op=[]\n",
    "                                    for ib in finan:\n",
    "                                        for jb in ib:\n",
    "                                            op+=[j for j in jb]\n",
    "                                    c=0\n",
    "                                    for ik,jk in a:\n",
    "                                        board[ik][jk] = op[c]\n",
    "                                        c+=1\n",
    "                                    if ob1.isValidSudoku(board):\n",
    "                                        print(board)\n",
    "                                        break\n",
    "                                    \n",
    "                                    "
   ]
  },
  {
   "cell_type": "code",
   "execution_count": null,
   "id": "75214951-b83e-4fae-868b-7df89784b21d",
   "metadata": {},
   "outputs": [],
   "source": [
    "import numpy as np\n",
    "%timeit np.array(np.meshgrid([[1,6], [2,8], [3,9]], [[4,9], [5,9]], [[6,9], [7,9]])).T.reshape(-1,3)"
   ]
  },
  {
   "cell_type": "code",
   "execution_count": null,
   "id": "3338880e-419f-49ad-8cdb-5898bde3d42a",
   "metadata": {},
   "outputs": [],
   "source": [
    "np.array(np.meshgrid([1, 2, 3], [4, 5], [6, 7])).T.reshape(-1,3)"
   ]
  },
  {
   "cell_type": "code",
   "execution_count": null,
   "id": "2a46d6c2-a3c3-4efb-b36e-2305c93b3fef",
   "metadata": {},
   "outputs": [],
   "source": [
    "cartesian(([1, 2, 3], [4, 5], [6, 7]))"
   ]
  },
  {
   "cell_type": "code",
   "execution_count": null,
   "id": "97802da7-66f2-47d5-9c2d-f011d8e8adc0",
   "metadata": {
    "tags": []
   },
   "outputs": [],
   "source": [
    "for i in range(9):\n",
    "    for j in range(9):\n",
    "        if board[i][j] ='.'"
   ]
  },
  {
   "cell_type": "code",
   "execution_count": 43,
   "id": "48e80599-694e-4733-8984-a024962de1e5",
   "metadata": {},
   "outputs": [
    {
     "name": "stdout",
     "output_type": "stream",
     "text": [
      "Hacking key #0: GIEWIVrGMTLIVrHIQS\n",
      "Hacking key #1: GIEWIVrGMTLIVrHIQS\n",
      "Hacking key #2: GIEWIVrGMTLIVrHIQS\n",
      "Hacking key #3: GIEWIVrGMTLIVrHIQS\n",
      "Hacking key #4: GIEWIVrGMTLIVrHIQS\n",
      "Hacking key #5: GIZWIVrGMTLIVrHIQS\n"
     ]
    }
   ],
   "source": [
    "message = 'GIEWIVrGMTLIVrHIQS' #encrypted message\n",
    "LETTERS = 'ABCDEFGHIJKLMNOPQRSTUVWXYZ'\n",
    "\n",
    "for key in range(6):\n",
    "    translated = ''\n",
    "    for symbol in message:\n",
    "        if symbol in LETTERS:\n",
    "            num = LETTERS.find(symbol)\n",
    "            num = num - key\n",
    "        if num < 0:\n",
    "            num = num + len(LETTERS)\n",
    "            translated = translated + LETTERS[num]\n",
    "        else:\n",
    "            translated = translated + symbol\n",
    "    print('Hacking key #%s: %s' % (key, translated))"
   ]
  },
  {
   "cell_type": "code",
   "execution_count": 35,
   "id": "e7479294-9690-4b78-8a52-20e1a745d56a",
   "metadata": {},
   "outputs": [
    {
     "data": {
      "text/plain": [
       "12"
      ]
     },
     "execution_count": 35,
     "metadata": {},
     "output_type": "execute_result"
    }
   ],
   "source": [
    "LETTERS.find('M')"
   ]
  },
  {
   "cell_type": "code",
   "execution_count": 42,
   "id": "4dac8282-8457-43d4-80b6-a4619398607f",
   "metadata": {},
   "outputs": [],
   "source": [
    "#     #check the above function\n",
    "# text = \"CEASER CIPHER DEMO\"\n",
    "# s = 4\n",
    "def encrypt(text,s):\n",
    "    result = \"\"\n",
    "    for i in range(len(text)):\n",
    "        char = text[i]\n",
    "      # Encrypt uppercase characters in plain text\n",
    "      \n",
    "        if (char.isupper()):\n",
    "            result += chr((ord(char) + s-65) % 26 + 65)\n",
    "      # Encrypt lowercase characters in plain text\n",
    "        else:\n",
    "            result += chr((ord(char) + s - 97) % 26 + 97)\n",
    "    return result"
   ]
  },
  {
   "cell_type": "code",
   "execution_count": null,
   "id": "90f9c6c2-981c-414b-8ffc-c65751357240",
   "metadata": {},
   "outputs": [],
   "source": []
  },
  {
   "cell_type": "code",
   "execution_count": 18,
   "id": "5db65151-ea07-4dff-831c-2110be2c5120",
   "metadata": {},
   "outputs": [
    {
     "name": "stdout",
     "output_type": "stream",
     "text": [
      "Plain Text : CEASER CIPHER DEMO\n",
      "Shift pattern : 4\n",
      "Cipher: GIEWIVrGMTLIVrHIQS\n"
     ]
    }
   ],
   "source": [
    "print (\"Plain Text : \" + text)\n",
    "print (\"Shift pattern : \" + str(s))\n",
    "print (\"Cipher: \" + encrypt(text,s))"
   ]
  },
  {
   "cell_type": "code",
   "execution_count": null,
   "id": "504e5766-1b66-458f-af2c-bc7765f60b1c",
   "metadata": {},
   "outputs": [],
   "source": []
  }
 ],
 "metadata": {
  "kernelspec": {
   "display_name": "Python 3",
   "language": "python",
   "name": "python3"
  },
  "language_info": {
   "codemirror_mode": {
    "name": "ipython",
    "version": 3
   },
   "file_extension": ".py",
   "mimetype": "text/x-python",
   "name": "python",
   "nbconvert_exporter": "python",
   "pygments_lexer": "ipython3",
   "version": "3.9.1"
  }
 },
 "nbformat": 4,
 "nbformat_minor": 5
}
