{
 "cells": [
  {
   "cell_type": "code",
   "execution_count": null,
   "id": "9eb34493-95d4-43e9-bf9c-57304dbee99c",
   "metadata": {},
   "outputs": [],
   "source": [
    "#ROMAN TO NUMBER"
   ]
  },
  {
   "cell_type": "code",
   "execution_count": 78,
   "id": "1c82110b-c5f7-48b9-a481-39d640d586dc",
   "metadata": {},
   "outputs": [],
   "source": [
    "s='DMIX'\n",
    "sr = [i for i in s]"
   ]
  },
  {
   "cell_type": "code",
   "execution_count": 79,
   "id": "6a4082ea-8744-4198-8af2-f784e705a041",
   "metadata": {},
   "outputs": [
    {
     "data": {
      "text/plain": [
       "509"
      ]
     },
     "execution_count": 79,
     "metadata": {},
     "output_type": "execute_result"
    }
   ],
   "source": [
    "Dic = [('I', 1),('V',5),('X',10),('L',50), ('C',100),('D',500),('M',1000)]\n",
    "l=[]\n",
    "g=[]\n",
    "for r in sr[::-1]:\n",
    "    loc = [i for i, t in enumerate(Dic) if t[0] == r]\n",
    "    l.append(loc)\n",
    "    #g.append(t[1])\n",
    "    if len(l)==1:\n",
    "        g.append(Dic[loc[0]][1])\n",
    "    elif l[len(l)-1]<l[len(l)-2] and len(l)>=2:\n",
    "        g.append(-Dic[loc[0]][1])\n",
    "    else:\n",
    "        g.append(Dic[loc[0]][1])\n",
    "sum(g)"
   ]
  },
  {
   "cell_type": "code",
   "execution_count": 1,
   "id": "aec975b1-2ab1-425a-9ff5-75644d008c19",
   "metadata": {},
   "outputs": [],
   "source": [
    "def romanToInt(s):\n",
    "    sr = [i for i in s]\n",
    "    Dic = [('I', 1),('V',5),('X',10),('L',50), ('C',100),('D',500),('M',1000)]\n",
    "    l=[]\n",
    "    g=[]\n",
    "    for r in sr[::-1]:\n",
    "        loc = [i for i, t in enumerate(Dic) if t[0] == r]\n",
    "        l.append(loc)\n",
    "        #g.append(t[1])\n",
    "        if len(l)==1:\n",
    "            g.append(Dic[loc[0]][1])\n",
    "        elif l[len(l)-1]<l[len(l)-2] and len(l)>=2:\n",
    "            g.append(-Dic[loc[0]][1])\n",
    "        else:\n",
    "            g.append(Dic[loc[0]][1])\n",
    "    return sum(g)"
   ]
  },
  {
   "cell_type": "code",
   "execution_count": 4,
   "id": "3c10529b-c3a3-42ae-8c7d-e6883d5e752a",
   "metadata": {},
   "outputs": [
    {
     "data": {
      "text/plain": [
       "1004"
      ]
     },
     "execution_count": 4,
     "metadata": {},
     "output_type": "execute_result"
    }
   ],
   "source": [
    "romanToInt('MIV')"
   ]
  },
  {
   "cell_type": "code",
   "execution_count": 91,
   "id": "a2ba7328-7699-42e3-9a7f-61bf74ae616c",
   "metadata": {},
   "outputs": [],
   "source": [
    "l1 = [9,9,9,9,9,9,9]\n",
    "l2 = [8,9,9,9,9,7,9]"
   ]
  },
  {
   "cell_type": "code",
   "execution_count": 10,
   "id": "01650170-47f2-48f6-bc24-8203ae8877db",
   "metadata": {},
   "outputs": [
    {
     "data": {
      "text/plain": [
       "1"
      ]
     },
     "execution_count": 10,
     "metadata": {},
     "output_type": "execute_result"
    }
   ],
   "source": [
    "def(l1,l2):\n",
    "    if len(l1)>len(l2):\n",
    "        l2 = [0]*(len(l1)-len(l2)) + l2\n",
    "    else:\n",
    "        l1 = [0]*(len(l2)-len(l1)) + l1   \n",
    "    b = [k+j for k, j in zip(l1[::-1], l2[::-1])]\n",
    "    a=[]\n",
    "    c=[0]\n",
    "    for i in range(len(b)):\n",
    "        a.append(b[i]%10)\n",
    "        if b[i]>9:\n",
    "            c.append(int(str(b[i])[0]))\n",
    "    a = a+[0]\n",
    "    d = [k+j for k, j in zip(a, c)]\n",
    "    return d"
   ]
  },
  {
   "cell_type": "code",
   "execution_count": 64,
   "id": "ee42ba4e-f694-43ca-9311-b3ae5ef5b93c",
   "metadata": {},
   "outputs": [],
   "source": [
    "b = [k+j for k, j in zip(l1[::-1], l2[::-1])]"
   ]
  },
  {
   "cell_type": "code",
   "execution_count": 65,
   "id": "703c1582-873b-4a7c-9fb5-d06cdb280e2d",
   "metadata": {},
   "outputs": [],
   "source": [
    "a=[]\n",
    "c=[0]\n",
    "for i in range(len(b)):\n",
    "    a.append(b[i]%10)\n",
    "    if b[i]>9:\n",
    "        c.append(int(str(b[i])[0]))\n",
    "a = a+[0]\n",
    "d = [k+j for k, j in zip(a, c)]"
   ]
  },
  {
   "cell_type": "code",
   "execution_count": 66,
   "id": "286dd608-6f11-495c-b6d4-ed459c275272",
   "metadata": {},
   "outputs": [
    {
     "data": {
      "text/plain": [
       "[8, 7, 9, 9, 9, 9, 8, 1]"
      ]
     },
     "execution_count": 66,
     "metadata": {},
     "output_type": "execute_result"
    }
   ],
   "source": [
    "d"
   ]
  },
  {
   "cell_type": "code",
   "execution_count": 71,
   "id": "654d75d3-dbc4-4dd7-baff-59630e31c541",
   "metadata": {},
   "outputs": [],
   "source": [
    "for i in (l2):\n",
    "    print(''.join(c))"
   ]
  },
  {
   "cell_type": "code",
   "execution_count": 92,
   "id": "8b339430-b750-41a4-87da-c72712f55cfb",
   "metadata": {},
   "outputs": [
    {
     "data": {
      "text/plain": [
       "[8, 7, 9, 9, 9, 9, 8, 1]"
      ]
     },
     "execution_count": 92,
     "metadata": {},
     "output_type": "execute_result"
    }
   ],
   "source": [
    "c = [str(i) for i in l2]\n",
    "d = [str(i) for i in l1]\n",
    "h=str(int(''.join(c))+int(''.join(d)))\n",
    "j = [int(i) for i in h[::-1]]\n",
    "j"
   ]
  },
  {
   "cell_type": "code",
   "execution_count": 104,
   "id": "f3387f7e-95cc-4d05-8cc5-3cc1918b7c9b",
   "metadata": {},
   "outputs": [],
   "source": [
    "def addTwoNumbers(l1, l2):\n",
    "    c = [str(i) for i in l2]\n",
    "    d = [str(i) for i in l1]\n",
    "    h=str(int(''.join(c))+int(''.join(d)))\n",
    "    j = [int(i) for i in h[::-1]]\n",
    "    return j"
   ]
  },
  {
   "cell_type": "code",
   "execution_count": 109,
   "id": "b2f57854-7fb1-4b26-a18e-8a001619122e",
   "metadata": {},
   "outputs": [
    {
     "data": {
      "text/plain": [
       "[8, 7, 9, 9, 9, 9, 8, 1]"
      ]
     },
     "execution_count": 109,
     "metadata": {},
     "output_type": "execute_result"
    }
   ],
   "source": [
    "addTwoNumbers(l1, l2)"
   ]
  },
  {
   "cell_type": "code",
   "execution_count": 108,
   "id": "f7839e9f-4776-4194-990f-8f127fdec994",
   "metadata": {},
   "outputs": [],
   "source": [
    "def addTwoNumbers(l1, l2):\n",
    "    if len(l1)>len(l2):\n",
    "        l2 = [0]*(len(l1)-len(l2)) + l2\n",
    "    else:\n",
    "        l1 = [0]*(len(l2)-len(l1)) + l1   \n",
    "    b = [k+j for k, j in zip(l1[::-1], l2[::-1])]\n",
    "    a=[]\n",
    "    c=[0]\n",
    "    for i in range(len(b)):\n",
    "        a.append(b[i]%10)\n",
    "        if b[i]>9:\n",
    "            c.append(int(str(b[i])[0]))\n",
    "    a = a+[0]\n",
    "    d = [k+j for k, j in zip(a, c)]\n",
    "    return d"
   ]
  },
  {
   "cell_type": "code",
   "execution_count": 102,
   "id": "cef1dabb-a26f-4fa8-b400-82768d3da6bb",
   "metadata": {},
   "outputs": [
    {
     "data": {
      "text/plain": [
       "3"
      ]
     },
     "execution_count": 102,
     "metadata": {},
     "output_type": "execute_result"
    }
   ],
   "source": [
    "addTwoNumbers"
   ]
  },
  {
   "cell_type": "code",
   "execution_count": null,
   "id": "7fb647fe-8f4d-44bd-9477-c2b350821071",
   "metadata": {},
   "outputs": [],
   "source": [
    "#######Median Array#################\n",
    "from typing import List\n",
    "class Solution:\n",
    "    def findMedianSortedArrays(self, nums1: List[int], nums2: List[int]) -> float:\n",
    "        median = float(0)\n",
    "        a= sorted(nums1 + nums2)\n",
    "        l =len(a)\n",
    "        if(l == 0):\n",
    "            return 0.0\n",
    "        if(l%2==1):\n",
    "            m = int(l/2)\n",
    "            return float(a[m])\n",
    "        else:\n",
    "            m = int(l/2)-1\n",
    "            n = int(l/2)\n",
    "            return float((a[m]+a[n])/2)"
   ]
  },
  {
   "cell_type": "code",
   "execution_count": null,
   "id": "c5f4fe17-77d6-4bbb-b4b1-4bd8fabb8879",
   "metadata": {},
   "outputs": [],
   "source": [
    "audi = show()\n",
    "audi.findMedianSortedArrays(nums1, nums2)"
   ]
  }
 ],
 "metadata": {
  "kernelspec": {
   "display_name": "Python 3",
   "language": "python",
   "name": "python3"
  },
  "language_info": {
   "codemirror_mode": {
    "name": "ipython",
    "version": 3
   },
   "file_extension": ".py",
   "mimetype": "text/x-python",
   "name": "python",
   "nbconvert_exporter": "python",
   "pygments_lexer": "ipython3",
   "version": "3.9.1"
  }
 },
 "nbformat": 4,
 "nbformat_minor": 5
}
