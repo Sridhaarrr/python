{
 "cells": [
  {
   "cell_type": "code",
   "execution_count": 1,
   "id": "3345fcf7-6b53-49c2-841a-519437e460bb",
   "metadata": {},
   "outputs": [],
   "source": [
    "from selenium import webdriver\n",
    "from selenium.webdriver.support import expected_conditions as ec\n",
    "from selenium.webdriver.support.wait import WebDriverWait\n",
    "from selenium.webdriver.common.by import By\n",
    "from selenium.webdriver.support.select import Select\n",
    "from selenium.common.exceptions import *\n",
    "from selenium.webdriver.common.keys import Keys\n",
    "import re\n",
    "import pandas as pd\n",
    "import numpy as np\n",
    "import glob\n",
    "import os\n",
    "from datetime import datetime,date, timedelta\n",
    "import time\n",
    "chrome_options = webdriver.ChromeOptions()\n",
    "chrome_options.add_argument('--headless')\n",
    "chrome_options.add_argument('--no-sandbox')\n",
    "chrome_options.add_argument('--disable-dev-shm-usage')"
   ]
  },
  {
   "cell_type": "code",
   "execution_count": 2,
   "id": "5de435c5-b115-4fa3-bbae-cd2c9f69e4a7",
   "metadata": {},
   "outputs": [],
   "source": [
    "import datetime\n",
    "def last_day_of_month(any_day):\n",
    "    # The day 28 exists in every month. 4 days later, it's always next month\n",
    "    next_month = any_day.replace(day=28) + datetime.timedelta(days=4)\n",
    "    # subtracting the number of the current day brings us back one month\n",
    "    return next_month - datetime.timedelta(days=next_month.day)\n",
    "def find_number(text):\n",
    "    num = re.findall(r'[0-9]+',text)\n",
    "    return \".\".join(num)"
   ]
  },
  {
   "cell_type": "code",
   "execution_count": 14,
   "id": "ffb3c3df-42a9-4aa7-b560-7614c134cdd4",
   "metadata": {},
   "outputs": [
    {
     "data": {
      "text/plain": [
       "'31122022'"
      ]
     },
     "execution_count": 14,
     "metadata": {},
     "output_type": "execute_result"
    }
   ],
   "source": [
    "last_day_of_month((datetime.datetime.today() - timedelta(days = 32*(1+i)))).strftime(\"%d%m%Y\")"
   ]
  },
  {
   "cell_type": "code",
   "execution_count": 20,
   "id": "7e7c3848-7977-4a28-91ca-ce8701d22992",
   "metadata": {},
   "outputs": [
    {
     "data": {
      "text/plain": [
       "datetime.datetime(2022, 12, 3, 15, 51, 17, 730538)"
      ]
     },
     "execution_count": 20,
     "metadata": {},
     "output_type": "execute_result"
    }
   ],
   "source": [
    "datetime.datetime.today() - timedelta(days = 30*(1+i))"
   ]
  },
  {
   "cell_type": "code",
   "execution_count": 22,
   "id": "7ffb303d-48a1-4a8b-92d4-86a325eb2fd7",
   "metadata": {},
   "outputs": [
    {
     "data": {
      "text/plain": [
       "datetime.datetime(2022, 11, 3, 15, 51, 28, 310189)"
      ]
     },
     "execution_count": 22,
     "metadata": {},
     "output_type": "execute_result"
    }
   ],
   "source": [
    "datetime.datetime.today() - timedelta(days = 30*(2+i))"
   ]
  },
  {
   "cell_type": "code",
   "execution_count": 4,
   "id": "28353dec-e5b3-4ce3-97de-34f83d8ae48f",
   "metadata": {},
   "outputs": [],
   "source": [
    "sheet1 = []\n",
    "sheet2 = []"
   ]
  },
  {
   "cell_type": "code",
   "execution_count": 28,
   "id": "83b49ce0-981c-4557-8977-b1351b1e8e2f",
   "metadata": {},
   "outputs": [
    {
     "name": "stdout",
     "output_type": "stream",
     "text": [
      "May 2022 30062022\n",
      "C:/Users/018598/Downloads/30062022.xlsx\n"
     ]
    }
   ],
   "source": [
    "folder_path = 'C:/Users/018598/Downloads/'\n",
    "file_type = r'\\*xlsx'\n",
    "for i in range(6,7):\n",
    "    try:\n",
    "        g = last_day_of_month((datetime.datetime.today() - timedelta(days = 30*(2+i)))).strftime(\"%B %Y\")\n",
    "        f = last_day_of_month((datetime.datetime.today() - timedelta(days = 30*(1+i)))).strftime(\"%d%m%Y\")\n",
    "        print(g,f)\n",
    "        wd1 = webdriver.Chrome('D:\\libs\\chromedriver.exe')\n",
    "        url = \"https://rbi.org.in/Scripts/Data_Sectoral_Deployment.aspx\"\n",
    "        wd1.get(url)\n",
    "        m = wd1.find_element_by_partial_link_text(g)\n",
    "        m.click()\n",
    "        l = wd1.find_element_by_partial_link_text('Statements')\n",
    "        l.click()\n",
    "        time.sleep(15)\n",
    "        files = glob.glob(folder_path + file_type)\n",
    "        key=os.path.getmtime\n",
    "        max_file = max(files, key=key).replace(r'/', '\\\\')\n",
    "        for fi in os.listdir(folder_path):\n",
    "            os.rename(max_file,folder_path+f+'.xlsx')\n",
    "    except:\n",
    "        print(folder_path+f+'.xlsx')\n",
    "    finally:   \n",
    "        data = pd.read_excel(folder_path+f+\".xlsx\", sheet_name=0, skiprows=3, usecols=np.arange(6))\n",
    "        data = data.dropna()\n",
    "        d = list(data.columns)\n",
    "        d[0] = 'Sector'\n",
    "        data.columns = d\n",
    "        data.head()\n",
    "        data = data.melt(id_vars=[\"Sector\"], var_name=\"Date\", value_name=\"Value\")\n",
    "        data['Date'] = pd.to_datetime(data.Date)\n",
    "        da1=data['Sector'].apply(lambda x: find_number(x))\n",
    "        k=[]\n",
    "        for j in range(len(data['Sector'])):\n",
    "            k.append(((list(data['Sector'])[j]).replace(da1[j]+'.','')).strip())\n",
    "        data['S.No'] = da1\n",
    "        data['Sector'] = k\n",
    "        sheet1.append(data[['S.No','Sector', 'Date', 'Value']])\n",
    "\n",
    "        data1 = pd.read_excel(folder_path+f+\".xlsx\", sheet_name=1, skiprows=3, usecols=np.arange(6))\n",
    "        data1 = data1.dropna()\n",
    "        d = list(data1.columns)\n",
    "        d[0] = 'Sector'\n",
    "        data1.columns = d\n",
    "        data1.head()\n",
    "        data1 = data1.melt(id_vars=[\"Sector\"], var_name=\"Date\", value_name=\"Value\")\n",
    "        data1['Date'] = pd.to_datetime(data1.Date)\n",
    "        da1=data1['Sector'].apply(lambda x: find_number(x))\n",
    "        k=[]\n",
    "        for j in range(len(data1['Sector'])):\n",
    "            k.append(((list(data1['Sector'])[j]).replace(da1[j]+'.','')).strip())\n",
    "        data1['S.No'] = da1\n",
    "        data1['Sector'] = k\n",
    "        sheet2.append(data1[['S.No','Sector', 'Date', 'Value']])"
   ]
  },
  {
   "cell_type": "code",
   "execution_count": 11,
   "id": "f8059976-ba55-44b5-a191-f041ed562fb8",
   "metadata": {},
   "outputs": [],
   "source": [
    "folder_path = 'C:/Users/018598/Downloads/Dem/'\n",
    "import os\n",
    "for f in os.listdir(folder_path):\n",
    "    data = pd.read_excel(folder_path+f, sheet_name=0, skiprows=3, usecols=np.arange(6))\n",
    "    data = data.dropna()\n",
    "    d = list(data.columns)\n",
    "    d[0] = 'Sector'\n",
    "    data.columns = d\n",
    "    data.head()\n",
    "    data = data.melt(id_vars=[\"Sector\"], var_name=\"Date\", value_name=\"Value\")\n",
    "    data['Date'] = pd.to_datetime(data.Date)\n",
    "    da1=data['Sector'].apply(lambda x: find_number(x))\n",
    "    k=[]\n",
    "    for j in range(len(data['Sector'])):\n",
    "        k.append(((list(data['Sector'])[j]).replace(da1[j]+'.','')).strip())\n",
    "    data['S.No'] = da1\n",
    "    data['Sector'] = k\n",
    "    sheet1.append(data[['S.No','Sector', 'Date', 'Value']])\n",
    "\n",
    "#     data1 = pd.read_excel(folder_path+f, sheet_name=1, skiprows=3, usecols=np.arange(6))\n",
    "#     data1 = data1.dropna()\n",
    "#     d = list(data1.columns)\n",
    "#     d[0] = 'Sector'\n",
    "#     data1.columns = d\n",
    "#     data1.head()\n",
    "#     data1 = data1.melt(id_vars=[\"Sector\"], var_name=\"Date\", value_name=\"Value\")\n",
    "#     data1['Date'] = pd.to_datetime(data1.Date)\n",
    "#     da1=data1['Sector'].apply(lambda x: find_number(x))\n",
    "#     k=[]\n",
    "#     for j in range(len(data1['Sector'])):\n",
    "#         k.append(((list(data1['Sector'])[j]).replace(da1[j]+'.','')).strip())\n",
    "#     data1['S.No'] = da1\n",
    "#     data1['Sector'] = k\n",
    "#     sheet2.append(data1[['S.No','Sector', 'Date', 'Value']])"
   ]
  },
  {
   "cell_type": "code",
   "execution_count": 16,
   "id": "46466597-5947-4fba-8f60-3fd18787d9a9",
   "metadata": {},
   "outputs": [
    {
     "data": {
      "text/plain": [
       "array(['', '', '', '1', '2', '2.1', '2.2', '2.3', '3', '3.1', '3.2',\n",
       "       '3.3', '3.4', '3.5', '3.6', '3.7', '3.7.1', '3.7.2', '3.8',\n",
       "       '3.9.1', '3.9.1', '3.9.2', '3.10.2', '4', '4.1', '4.2', '4.3',\n",
       "       '4.4', '4.5', '4.6', '4.7', '4.8', '4.9', '3', '4', '5', '', '',\n",
       "       '', '', '', '', '', '', '', '', '1', '2', '2.1', '2.2', '2.3', '3',\n",
       "       '3.1', '3.2', '3.3', '3.4', '3.5', '3.6', '3.7', '3.7.1', '3.7.2',\n",
       "       '3.8', '3.9.1', '3.9.1', '3.9.2', '3.10.2', '4', '4.1', '4.2',\n",
       "       '4.3', '4.4', '4.5', '4.6', '4.7', '4.8', '4.9', '3', '4', '5', '',\n",
       "       '', '', '', '', '', '', '', '', '', '1', '2', '2.1', '2.2', '2.3',\n",
       "       '3', '3.1', '3.2', '3.3', '3.4', '3.5', '3.6', '3.7', '3.7.1',\n",
       "       '3.7.2', '3.8', '3.9.1', '3.9.1', '3.9.2', '3.10.2', '4', '4.1',\n",
       "       '4.2', '4.3', '4.4', '4.5', '4.6', '4.7', '4.8', '4.9', '3', '4',\n",
       "       '5', '', '', '', '', '', '', '', '', '', '', '1', '2', '2.1',\n",
       "       '2.2', '2.3', '3', '3.1', '3.2', '3.3', '3.4', '3.5', '3.6', '3.7',\n",
       "       '3.7.1', '3.7.2', '3.8', '3.9.1', '3.9.1', '3.9.2', '3.10.2', '4',\n",
       "       '4.1', '4.2', '4.3', '4.4', '4.5', '4.6', '4.7', '4.8', '4.9', '3',\n",
       "       '4', '5', '', '', '', '', '', '', '', '', '', '', '1', '2', '2.1',\n",
       "       '2.2', '2.3', '3', '3.1', '3.2', '3.3', '3.4', '3.5', '3.6', '3.7',\n",
       "       '3.7.1', '3.7.2', '3.8', '3.9.1', '3.9.1', '3.9.2', '3.10.2', '4',\n",
       "       '4.1', '4.2', '4.3', '4.4', '4.5', '4.6', '4.7', '4.8', '4.9', '3',\n",
       "       '4', '5', '', '', '', '', '', '', ''], dtype=object)"
      ]
     },
     "execution_count": 16,
     "metadata": {},
     "output_type": "execute_result"
    }
   ],
   "source": [
    "da1.values"
   ]
  },
  {
   "cell_type": "code",
   "execution_count": 13,
   "id": "02ccbed2-3662-407e-8e5b-5e36a17290d9",
   "metadata": {},
   "outputs": [],
   "source": [
    "s1 = pd.concat(sheet1)\n",
    "s2 = pd.concat(sheet2)"
   ]
  },
  {
   "cell_type": "code",
   "execution_count": 14,
   "id": "56d82442-9b98-4215-9641-15c6282f0c83",
   "metadata": {},
   "outputs": [],
   "source": [
    "with pd.ExcelWriter('RBI_Gross_Credit.xlsx') as writer:\n",
    "    s1.to_excel(writer, sheet_name='Sheet_name_1')\n",
    "    s2.to_excel(writer, sheet_name='Sheet_name_2')"
   ]
  },
  {
   "cell_type": "code",
   "execution_count": 211,
   "id": "1ad1db09-8141-43db-a054-5eb8d07dd70c",
   "metadata": {},
   "outputs": [
    {
     "data": {
      "text/plain": [
       "datetime.datetime(2023, 1, 1, 17, 28, 15, 309116)"
      ]
     },
     "execution_count": 211,
     "metadata": {},
     "output_type": "execute_result"
    }
   ],
   "source": [
    "datetime.datetime.today().replace(day=28) + datetime.timedelta(days=4)"
   ]
  },
  {
   "cell_type": "code",
   "execution_count": null,
   "id": "901086c9-41e7-45a7-96e2-a0ed864d0ed5",
   "metadata": {},
   "outputs": [],
   "source": [
    "pd.to_datetime(data1.Date)"
   ]
  },
  {
   "cell_type": "code",
   "execution_count": 83,
   "id": "73c45519-e9bc-4e71-8778-e267b7d9c37b",
   "metadata": {},
   "outputs": [],
   "source": [
    "import pyodbc\n",
    "\n",
    "driver= 'SQL Server'\n",
    "server= 'chdataanalytics'\n",
    "db= 'dataanalytics'\n",
    "user= 'sa'\n",
    "password= 'analytics@123'\n",
    "\n",
    "conn = pyodbc.connect(\"driver={%s};server=%s;database=%s;uid=%s;pwd=%s\" % ( driver, server, db, user, password ) \n",
    ")\n",
    "cursor = conn.cursor()\n",
    "#cursor.execute(\"select top 10 * from Datamart..kvb_tn_ps_2019\").fetchall()"
   ]
  },
  {
   "cell_type": "code",
   "execution_count": 90,
   "id": "a2f29a42-2026-4835-b91d-8a7602b2fc76",
   "metadata": {},
   "outputs": [
    {
     "data": {
      "text/plain": [
       "<pyodbc.Cursor at 0x1c3f7fa0cb0>"
      ]
     },
     "execution_count": 90,
     "metadata": {},
     "output_type": "execute_result"
    }
   ],
   "source": [
    "conn.execute(\"\"\"ALTER TABLE DATAANALYTICS..S018598_new ADD Mail varchar(233);\"\"\")"
   ]
  },
  {
   "cell_type": "code",
   "execution_count": null,
   "id": "9c289f4f-2f28-418c-b26b-8431d4d946ae",
   "metadata": {},
   "outputs": [],
   "source": [
    "from sqlalchemy import create_engine\n",
    "engine = create_engine('sqlite://', echo=False)"
   ]
  },
  {
   "cell_type": "code",
   "execution_count": 84,
   "id": "7c381c30-9f46-4c7c-a3cc-ef690b4bf0c2",
   "metadata": {},
   "outputs": [],
   "source": [
    "import pandas as pd \n",
    "d = pd.read_sql(\"select * from DATAANALYTICS..S018598_new\", conn)"
   ]
  },
  {
   "cell_type": "code",
   "execution_count": null,
   "id": "46c96a92-e9b1-404e-93c4-5f30ebd7c285",
   "metadata": {},
   "outputs": [],
   "source": [
    "data.to_sql('DATAANALYTICS..S018598rrbi', conn)"
   ]
  },
  {
   "cell_type": "code",
   "execution_count": null,
   "id": "dce6aaf0-994f-4376-846a-6b6995469848",
   "metadata": {},
   "outputs": [],
   "source": []
  },
  {
   "cell_type": "code",
   "execution_count": null,
   "id": "6be61bd1-d773-42c3-9ada-32db8dd7b6cf",
   "metadata": {},
   "outputs": [],
   "source": []
  }
 ],
 "metadata": {
  "kernelspec": {
   "display_name": "Python 3",
   "language": "python",
   "name": "python3"
  },
  "language_info": {
   "codemirror_mode": {
    "name": "ipython",
    "version": 3
   },
   "file_extension": ".py",
   "mimetype": "text/x-python",
   "name": "python",
   "nbconvert_exporter": "python",
   "pygments_lexer": "ipython3",
   "version": "3.9.1"
  }
 },
 "nbformat": 4,
 "nbformat_minor": 5
}
