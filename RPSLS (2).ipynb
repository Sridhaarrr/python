{
 "cells": [
  {
   "cell_type": "code",
   "execution_count": null,
   "id": "289d4a8e-a36c-4679-abdf-9cd528030072",
   "metadata": {},
   "outputs": [],
   "source": [
    "import random\n",
    "r1 = random.randint(0, 5)\n",
    "print('Choose--------->''scissors','paper','rock','lizard','spock')\n",
    "string = input()\n",
    "a = ['scissors','paper','rock','lizard','spock']\n",
    "if string.lower() in a:\n",
    "    r2 = a.index(string)+1\n",
    "    if r1==1 and r2==2:\n",
    "        print('Scissors cuts Paper, You Lose')\n",
    "    elif r1==2 and r2==1:\n",
    "        print('Scissors cuts Paper, You win')\n",
    "    elif r1==2 and r2==3:\n",
    "          print('Paper covers Rock, You Lose')\n",
    "    elif r1==3 and r2==2:\n",
    "          print('Paper covers Rock, You win')\n",
    "    elif r1==3 and r2==4:\n",
    "          print('Rock crushes Lizard, You Lose')\n",
    "    elif r1==4 and r2==3:\n",
    "          print('Rock crushes Lizard, You win')\n",
    "    elif r1==4 and r2==5:\n",
    "          print('Lizard poisons Spock, You Lose')\n",
    "    elif r1==5 and r2==4:\n",
    "          print('Lizard poisons Spock, You win')\n",
    "    elif r1==5 and r2==1:\n",
    "          print('Spock smashes Scissors, You Lose')\n",
    "    elif r1==1 and r2==5:\n",
    "          print('Spock smashes Scissors, You win')\n",
    "    elif r1==1 and r2==4:\n",
    "          print('Scissors decapitates Lizard, You Lose')\n",
    "    elif r1==4 and r2==1:\n",
    "          print('Scissors decapitates Lizard, You win')\n",
    "    elif r1==4 and r2==2:\n",
    "          print('Lizard eats Paper, You Lose')\n",
    "    elif r1==2 and r2==4:\n",
    "          print('Lizard eats Paper, You win')\n",
    "    elif r1==2 and r2==5:\n",
    "          print('Paper disproves Spock, You Lose')\n",
    "    elif r1==5 and r2==2:\n",
    "          print('Paper disproves Spock, You win')\n",
    "    elif r1==5 and r2==3:\n",
    "          print('Spock vaporizes Rock, You Lose')\n",
    "    elif r1==3 and r2==5:\n",
    "          print('Spock vaporizes Rock, You win')\n",
    "    elif r1==3 and r2==1:\n",
    "          print('Rock crushes Scissors, You Lose')\n",
    "    elif r1==1 and r2==3:\n",
    "          print('Rock crushes Scissors, You win')\n",
    "else:\n",
    "    print('Type the correct Input')\n",
    "    "
   ]
  },
  {
   "cell_type": "code",
   "execution_count": null,
   "id": "141ec146-3c78-4263-b8e7-f0a8400f546b",
   "metadata": {},
   "outputs": [],
   "source": [
    "Rules:\n",
    "Scissors cuts Paper\n",
    "Paper covers Rock\n",
    "Rock crushes Lizard\n",
    "Lizard poisons Spock\n",
    "Spock smashes Scissors\n",
    "scissors decapitates Lizard\n",
    "Lizard eats Paper\n",
    "Paper disproves Spock\n",
    "Spock vaporizes Rock\n",
    "Rock crushes Scissors"
   ]
  }
 ],
 "metadata": {
  "kernelspec": {
   "display_name": "Python 3",
   "language": "python",
   "name": "python3"
  },
  "language_info": {
   "codemirror_mode": {
    "name": "ipython",
    "version": 3
   },
   "file_extension": ".py",
   "mimetype": "text/x-python",
   "name": "python",
   "nbconvert_exporter": "python",
   "pygments_lexer": "ipython3",
   "version": "3.9.1"
  }
 },
 "nbformat": 4,
 "nbformat_minor": 5
}
