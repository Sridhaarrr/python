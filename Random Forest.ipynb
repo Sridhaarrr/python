{
 "cells": [
  {
   "cell_type": "code",
   "execution_count": null,
   "id": "d2563ffe-befa-4f0d-8d82-9d507830b887",
   "metadata": {},
   "outputs": [],
   "source": [
    "import os\n",
    "os.getcwd()"
   ]
  },
  {
   "cell_type": "code",
   "execution_count": 3,
   "id": "840aa883-45ce-4666-bf80-5756f0c2148f",
   "metadata": {},
   "outputs": [
    {
     "data": {
      "text/plain": [
       "RandomForestClassifier(random_state=0)"
      ]
     },
     "execution_count": 3,
     "metadata": {},
     "output_type": "execute_result"
    }
   ],
   "source": [
    "from sklearn.ensemble import RandomForestClassifier\n",
    "clf = RandomForestClassifier(random_state=0)\n",
    "X = [[ 1,  2,  3, 4],  # 2 samples, 3 features\n",
    "     [11, 12, 13,14]]\n",
    "y = [0, 1]  # classes of each sample\n",
    "clf.fit(X, y)"
   ]
  },
  {
   "cell_type": "code",
   "execution_count": 11,
   "id": "fb3b5e8e-a125-4f0c-bc03-7538e1cec2bf",
   "metadata": {},
   "outputs": [
    {
     "data": {
      "text/plain": [
       "array([[-1.,  1.],\n",
       "       [ 1., -1.]])"
      ]
     },
     "execution_count": 11,
     "metadata": {},
     "output_type": "execute_result"
    }
   ],
   "source": [
    "from sklearn.preprocessing import StandardScaler\n",
    "X = [[0, 15],\n",
    "     [1, -10]]\n",
    "# scale data according to computed scaling values\n",
    "StandardScaler().fit(X).transform(X)"
   ]
  },
  {
   "cell_type": "code",
   "execution_count": 12,
   "id": "4014bfa4-b38a-468e-86cb-5921b0517ca6",
   "metadata": {},
   "outputs": [],
   "source": [
    "import pandas as pd\n",
    "X = pd.DataFrame(\n",
    "    {'city': ['London', 'London', 'Paris', 'Sallisaw'],\n",
    "     'title': [\"His Last Bow\", \"How Watson Learned the Trick\",\n",
    "               \"A Moveable Feast\", \"The Grapes of Wrath\"],\n",
    "     'expert_rating': [5, 3, 4, 5],\n",
    "     'user_rating': [4, 5, 4, 3]})"
   ]
  },
  {
   "cell_type": "code",
   "execution_count": 14,
   "id": "4f0489e7-65dd-42fb-8378-a7aff9ac60e9",
   "metadata": {},
   "outputs": [],
   "source": [
    "from sklearn.compose import ColumnTransformer\n",
    "from sklearn.feature_extraction.text import CountVectorizer\n",
    "from sklearn.preprocessing import OneHotEncoder\n",
    "column_trans = ColumnTransformer(\n",
    "    [('city_category', OneHotEncoder(dtype='int'),['city']),\n",
    "     ('title_bow', CountVectorizer(), 'title')],\n",
    "    remainder='drop')"
   ]
  },
  {
   "cell_type": "code",
   "execution_count": 18,
   "id": "616c9d7d-b3ea-46f7-b0a7-9862ae2b3a0d",
   "metadata": {},
   "outputs": [
    {
     "data": {
      "text/plain": [
       "array([[1, 0, 0, 1, 0, 0, 1, 0, 1, 0, 0, 0, 0, 0, 0, 0],\n",
       "       [1, 0, 0, 0, 0, 0, 0, 1, 0, 1, 0, 0, 1, 1, 1, 0],\n",
       "       [0, 1, 0, 0, 1, 0, 0, 0, 0, 0, 1, 0, 0, 0, 0, 0],\n",
       "       [0, 0, 1, 0, 0, 1, 0, 0, 0, 0, 0, 1, 1, 0, 0, 1]], dtype=int64)"
      ]
     },
     "execution_count": 18,
     "metadata": {},
     "output_type": "execute_result"
    }
   ],
   "source": [
    "column_trans.fit(X)\n",
    "\n",
    "column_trans.get_feature_names()\n",
    "\n",
    "column_trans.transform(X).toarray()"
   ]
  },
  {
   "cell_type": "code",
   "execution_count": 20,
   "id": "2c6c8b60-b3e5-4d41-a36e-87e13d0f75b0",
   "metadata": {},
   "outputs": [
    {
     "data": {
      "text/plain": [
       "array([[ 0.90453403,  0.        ,  1.        ,  0.        ,  0.        ],\n",
       "       [-1.50755672,  1.41421356,  1.        ,  0.        ,  0.        ],\n",
       "       [-0.30151134,  0.        ,  0.        ,  1.        ,  0.        ],\n",
       "       [ 0.90453403, -1.41421356,  0.        ,  0.        ,  1.        ]])"
      ]
     },
     "execution_count": 20,
     "metadata": {},
     "output_type": "execute_result"
    }
   ],
   "source": [
    "from sklearn.preprocessing import StandardScaler\n",
    "from sklearn.compose import make_column_selector\n",
    "import numpy as np\n",
    "ct = ColumnTransformer([\n",
    "      ('scale', StandardScaler(),\n",
    "      make_column_selector(dtype_include=np.number)),\n",
    "      ('onehot',\n",
    "      OneHotEncoder(),\n",
    "      make_column_selector(pattern='city', dtype_include=object))])\n",
    "ct.fit_transform(X)"
   ]
  },
  {
   "cell_type": "code",
   "execution_count": null,
   "id": "56935ef8-2895-49b8-8715-49dc886a0906",
   "metadata": {},
   "outputs": [],
   "source": [
    "import dash\n",
    "import dash_html_components as html\n",
    "import dash_core_components as dcc\n",
    "from dash.dependencies import Input, Output\n",
    "\n",
    "\n",
    "external_stylesheets = ['https://codepen.io/chriddyp/pen/bWLwgP.css']\n",
    "\n",
    "app = dash.Dash(__name__, external_stylesheets=external_stylesheets)\n",
    "app.layout = html.Div([\n",
    "    dcc.Dropdown(\n",
    "        id='dropdown',\n",
    "        options=[\n",
    "            {'label': 'New York City', 'value': 'NYC'},\n",
    "            {'label': 'Montreal', 'value': 'MTL'},\n",
    "            {'label': 'San Francisco', 'value': 'SF'}\n",
    "        ],\n",
    "        value='NYC'\n",
    "    ),\n",
    "    dcc.Store(id='intermediate-value'),\n",
    "    html.Div(id='dd-output-container'),\n",
    "    html.Div(id='container')\n",
    "])\n",
    "\n",
    "\n",
    "@app.callback(\n",
    "    dash.dependencies.Output('dd-output-container', 'children'),\n",
    "    [dash.dependencies.Input('dropdown', 'value')])\n",
    "def update_output(value):\n",
    "    return 'You have selected \"{}\"'.format(value)\n",
    "\n",
    "@app.callback(\n",
    "    dash.dependencies.Output('container', 'children'),\n",
    "    [dash.dependencies.Input('intermediate-value', 'data')])\n",
    "def update_output(value):\n",
    "    return 'You have selected \"{}\"'.format(value)\n",
    "\n",
    "\n",
    "@app.callback(Output('intermediate-value', 'data'), Input('dropdown', 'value'))\n",
    "def clean_data(value):\n",
    "     # some expensive clean data step\n",
    "     cleaned_df = value\n",
    "\n",
    "     # more generally, this line would be\n",
    "     # json.dumps(cleaned_df)\n",
    "     return cleaned_df\n",
    "\n",
    "if __name__ == '__main__':\n",
    "    app.run_server(debug=True, use_reloader=False)"
   ]
  },
  {
   "cell_type": "code",
   "execution_count": 1,
   "id": "2e1990c9-26a2-4174-98cc-db77f7f090d7",
   "metadata": {},
   "outputs": [],
   "source": [
    "import numpy as np\n",
    "import math\n",
    "\n",
    "# Create random input and output data\n",
    "x = np.linspace(-math.pi, math.pi, 2000)\n",
    "y = np.sin(x)"
   ]
  },
  {
   "cell_type": "code",
   "execution_count": 3,
   "id": "4cc3289a-8b25-4ac0-b965-cc1629dcda25",
   "metadata": {},
   "outputs": [],
   "source": [
    "a = np.random.randn()\n",
    "b = np.random.randn()\n",
    "c = np.random.randn()\n",
    "d = np.random.randn()\n",
    "\n",
    "learning_rate = 1e-6"
   ]
  },
  {
   "cell_type": "code",
   "execution_count": 12,
   "id": "3b343e5a-5fc1-4a59-a65d-40f78c12196c",
   "metadata": {},
   "outputs": [
    {
     "data": {
      "text/plain": [
       "-2.2737367544323206e-13"
      ]
     },
     "execution_count": 12,
     "metadata": {},
     "output_type": "execute_result"
    }
   ],
   "source": [
    "x.sum()"
   ]
  },
  {
   "cell_type": "code",
   "execution_count": 14,
   "id": "5f5bcf54-b2ae-4f84-a4b2-9f3de26b6e2f",
   "metadata": {},
   "outputs": [
    {
     "name": "stdout",
     "output_type": "stream",
     "text": [
      "99 91106.65405747878\n",
      "199 91106.65405747878\n",
      "299 91106.65405747878\n",
      "399 91106.65405747878\n",
      "499 91106.65405747878\n",
      "599 91106.65405747878\n",
      "699 91106.65405747878\n",
      "799 91106.65405747878\n",
      "899 91106.65405747878\n",
      "999 91106.65405747878\n",
      "1099 91106.65405747878\n",
      "1199 91106.65405747878\n",
      "1299 91106.65405747878\n",
      "1399 91106.65405747878\n",
      "1499 91106.65405747878\n",
      "1599 91106.65405747878\n",
      "1699 91106.65405747878\n",
      "1799 91106.65405747878\n",
      "1899 91106.65405747878\n",
      "1999 91106.65405747878\n"
     ]
    }
   ],
   "source": [
    "import numpy as np\n",
    "import math\n",
    "\n",
    "# Create random input and output data\n",
    "x = np.linspace(-math.pi, math.pi, 2000)\n",
    "y = np.sin(x)\n",
    "\n",
    "# Randomly initialize weights\n",
    "a = np.random.randn()\n",
    "b = np.random.randn()\n",
    "c = np.random.randn()\n",
    "d = np.random.randn()\n",
    "\n",
    "learning_rate = 1e-6\n",
    "for t in range(2000):\n",
    "    # Forward pass: compute predicted y\n",
    "    # y = a + b x + c x^2 + d x^3\n",
    "    y_pred = a + b * x + c * x ** 2 + d * x ** 3\n",
    "\n",
    "    # Compute and print loss\n",
    "    loss = np.square(y_pred - y).sum()\n",
    "    if t % 100 == 99:\n",
    "        print(t, loss)\n",
    "\n",
    "    # Backprop to compute gradients of a, b, c, d with respect to loss\n",
    "    grad_y_pred = 2.0 * (y_pred - y)\n",
    "    grad_a = grad_y_pred.sum()\n",
    "    grad_b = (grad_y_pred * x).sum()\n",
    "    grad_c = (grad_y_pred * x ** 2).sum()\n",
    "    grad_d = (grad_y_pred * x ** 3).sum()\n",
    "\n",
    "    # Update weights\n",
    "#     a -= learning_rate * grad_a\n",
    "#     b -= learning_rate * grad_b\n",
    "#     c -= learning_rate * grad_c\n",
    "#     d -= learning_rate * grad_d\n",
    "\n",
    "# print(f'Result: y = {a} + {b} x + {c} x^2 + {d} x^3')"
   ]
  },
  {
   "cell_type": "code",
   "execution_count": 19,
   "id": "340134fa-de5e-4bea-997b-7c4c1ffc48cf",
   "metadata": {},
   "outputs": [
    {
     "data": {
      "text/plain": [
       "91106.65405747878"
      ]
     },
     "execution_count": 19,
     "metadata": {},
     "output_type": "execute_result"
    }
   ],
   "source": [
    "loss"
   ]
  },
  {
   "cell_type": "code",
   "execution_count": null,
   "id": "22d0a6c7-739f-4692-a3cd-dde78a689d05",
   "metadata": {},
   "outputs": [],
   "source": [
    "import django\n",
    "print(django.get_version())"
   ]
  },
  {
   "cell_type": "code",
   "execution_count": null,
   "id": "7fb28eb9-ab43-4bfe-a88d-959934a3e770",
   "metadata": {},
   "outputs": [],
   "source": [
    "pip install newspaper3k"
   ]
  },
  {
   "cell_type": "code",
   "execution_count": 35,
   "id": "eb67025b-4d9e-4003-9ee9-e1b64821df7c",
   "metadata": {},
   "outputs": [],
   "source": [
    "from newspaper import Article\n",
    "\n",
    "url = 'https://news.google.com/articles/CBMigwFodHRwczovL2VuZXJneS5lY29ub21pY3RpbWVzLmluZGlhdGltZXMuY29tL25ld3MvcG93ZXIvNTAtcGVyLWNlbnQtb2YtbnBjaWxzLWdlbmVyYXRpb24taW4tc291dGgtc2h1dC1kb3duLWZvci1tYWludGVuYW5jZS84Mzc3NTUxN9IBhwFodHRwczovL2VuZXJneS5lY29ub21pY3RpbWVzLmluZGlhdGltZXMuY29tL2FtcC9uZXdzL3Bvd2VyLzUwLXBlci1jZW50LW9mLW5wY2lscy1nZW5lcmF0aW9uLWluLXNvdXRoLXNodXQtZG93bi1mb3ItbWFpbnRlbmFuY2UvODM3NzU1MTc?hl=en-US&gl=US&ceid=US%3Aen'\n",
    "article = Article(url)\n",
    "article.download()"
   ]
  },
  {
   "cell_type": "code",
   "execution_count": 36,
   "id": "7981cebd-5c93-4ea3-a2d0-4a6028a10892",
   "metadata": {},
   "outputs": [
    {
     "data": {
      "text/plain": [
       "[]"
      ]
     },
     "execution_count": 36,
     "metadata": {},
     "output_type": "execute_result"
    }
   ],
   "source": [
    "article.parse()\n",
    "article.authors\n"
   ]
  },
  {
   "cell_type": "code",
   "execution_count": 37,
   "id": "82471a57-d400-4467-9c14-ae315bbe5574",
   "metadata": {},
   "outputs": [],
   "source": [
    "(article.publish_date)"
   ]
  },
  {
   "cell_type": "code",
   "execution_count": 38,
   "id": "283fdb8b-8e7d-4404-b7b2-32fd47802620",
   "metadata": {},
   "outputs": [
    {
     "data": {
      "text/plain": [
       "\"Accept the updated privacy & cookie policy\\n\\nDear user,\\n\\n\\n\\nET EnergyWorld privacy and cookie policy has been updated to align with the new data regulations in European Union. Please review and accept these changes below to continue using the website.\\n\\n\\n\\nYou can see our privacy policy & our cookie policy. We use cookies to ensure the best experience for you on our website.\\n\\n\\n\\nIf you choose to ignore this message, we'll assume that you are happy to receive all cookies on ET EnergyWorld.\""
      ]
     },
     "execution_count": 38,
     "metadata": {},
     "output_type": "execute_result"
    }
   ],
   "source": [
    "article.text"
   ]
  },
  {
   "cell_type": "code",
   "execution_count": 12,
   "id": "edb07333-2f98-49e5-a3a4-02b592dd8a53",
   "metadata": {},
   "outputs": [],
   "source": [
    "import newspaper"
   ]
  },
  {
   "cell_type": "code",
   "execution_count": 13,
   "id": "08a2ac3b-d7a9-47e6-881d-e7464dc8b049",
   "metadata": {},
   "outputs": [],
   "source": [
    "cnn_paper = newspaper.build('https://news.google.com/articles/CAIiEDl-uKIl-uk2TPJ_Xw4PVJIqGQgEKhAIACoHCAow55veCjDzvdUBMOLc5gU?uo=CAUiwAFodHRwczovL3d3dy5maW5hbmNpYWxleHByZXNzLmNvbS9tYXJrZXQvc2hhcmUtbWFya2V0LXRvZGF5LWxpdmUtdXBkYXRlcy1zZW5zZXgtbmlmdHktcnVwZWUtdnMtZG9sbGFyLXNneC1uaWZ0eS1pcG9zLXNoeWFtLW1ldGFsaWNzLWRvZGxhLWRhaXJ5LWtpbXMtdXMtZmVkZXJhbC1yZXNlcnZlLTE3LWp1bmUtdGh1cnNkYXkvMjI3Mjg2Mi_SAQA&hl=en-US&gl=US&ceid=US%3Aen')"
   ]
  },
  {
   "cell_type": "code",
   "execution_count": 14,
   "id": "542aa1d4-c3c2-4ab4-9fbb-53c42485191e",
   "metadata": {},
   "outputs": [
    {
     "name": "stdout",
     "output_type": "stream",
     "text": [
      "https://www.financialexpress.com/market/stock-market/state-bank-of-india-stock-price/\n",
      "https://www.financialexpress.com/market/stock-market/housing-development-finance-corporation-ltd-stock-price/\n",
      "https://www.financialexpress.com/market/stock-market/tata-consultancy-services-ltd-stock-price/\n",
      "https://www.financialexpress.com/market/commodities/gold-price-today-17-june-2021-tanks-to-one-month-low-post-us-fomc-outcome-mcx-silver-below-rs-71000/2272921/\n",
      "https://www.financialexpress.com/market/stock-market/global-vectra-helicorp-ltd-stock-price/\n",
      "https://www.financialexpress.com/market/stock-market/healthcare-global-enterprises-ltd-stock-price/\n",
      "https://www.financialexpress.com/market/stock-market/hindustan-media-ventures-ltd-stock-price/\n",
      "https://www.financialexpress.com/market/stock-market/ifb-agro-industries-ltd-stock-price/\n",
      "https://www.financialexpress.com/market/stock-market/indostar-capital-finance-ltd-stock-price/\n",
      "https://www.financialexpress.com/market/stock-market/nava-bharat-ventures-ltd-stock-price/\n",
      "https://www.financialexpress.com/market/stock-market/power-mech-projects-ltd-stock-price/\n",
      "https://www.financialexpress.com/market/stock-market/royal-orchid-hotels-ltd-stock-price/\n",
      "https://www.financialexpress.com/market/stock-market/siel-financial-services-ltd-stock-price/\n",
      "https://www.financialexpress.com/market/stock-market/tube-investments-of-india-ltd-stock-price/\n",
      "https://www.financialexpress.com/market/stock-market/bharat-petroleum-corporation-ltd-stock-price/\n",
      "https://www.financialexpress.com/market/stock-market/indian-oil-corporation-ltd-stock-price/\n",
      "https://www.financialexpress.com/market/stock-market/hindustan-petroleum-corporation-ltd-stock-price/\n",
      "https://www.financialexpress.com/market/commodities/petrol-and-diesel-price-today-17-june-2021-rates-at-record-highs-check-prices-in-delhi-mumbai-here/2272887/\n",
      "https://www.financialexpress.com/what-is/gross-domestic-product-gdp-meaning/1619044/\n",
      "https://www.financialexpress.com/market/stock-market/tata-power-company-ltd-stock-price/\n",
      "https://www.financialexpress.com/market/stock-market/maruti-suzuki-india-ltd-stock-price/\n",
      "https://www.financialexpress.com/market/stock-market/sun-pharmaceutical-industries-ltd-stock-price/\n",
      "https://indianexpress.com/article/india/code-of-ethics-for-digital-news-websites-6758543/\n",
      "https://play.google.com/store/movies/details/Demon_Slayer_Kimetsu_no_Yaiba_The_Movie_Mugen_Trai?id=xZqajfsze7s.P\n",
      "https://play.google.com/store/movies/details/Demon_Slayer_Kimetsu_no_Yaiba_The_Movie_Mugen_Trai?id=LiX6FUjcLvE.P\n",
      "https://play.google.com/store/movies/details/Spiral_From_The_Book_of_Saw?id=CRwU0_-TzT0.P\n",
      "https://play.google.com/store/audiobooks/details/James_Patterson_The_President_s_Daughter?id=AQAAAEDsJgxm8M\n",
      "https://play.google.com/store/audiobooks/details/Laura_Dave_The_Last_Thing_He_Told_Me?id=AQAAAECcZSglpM\n",
      "https://play.google.com/store/audiobooks/details/J_K_Rowling_Harry_Potter_and_the_Sorcerer_s_Stone?id=AQAAAIDu1R1V4M\n",
      "https://play.google.com/store/audiobooks/details/J_R_R_Tolkien_The_Fellowship_of_the_Ring?id=AQAAAAAHB1YHQM\n",
      "https://play.google.com/store/audiobooks/details/Robert_Greene_The_48_Laws_of_Power?id=AQAAAADDU0tTmM\n",
      "https://play.google.com/store/audiobooks/details/Jordan_B_Peterson_12_Rules_for_Life?id=AQAAAIB9RibGSM\n",
      "https://play.google.com/store/books/details/Bessel_van_der_Kolk_M_D_The_Body_Keeps_the_Score?id=3Q3UAgAAQBAJ\n",
      "https://play.google.com/store/books/details/J_K_Rowling_Harry_Potter_and_the_Sorcerer_s_Stone?id=wrOQLV6xB-wC\n",
      "https://play.google.com/store/books/details/Alice_Hunter_The_Serial_Killer_s_Wife?id=_R4IEAAAQBAJ\n",
      "https://play.google.com/store/tv/show/What_We_Do_in_the_Shadows?id=phQEC15d8ud114ggQVIQCA\n",
      "https://play.google.com/store/movies/details/Spider_Man_Into_The_Spider_Verse?id=-NHHc4nIhxk\n",
      "https://play.google.com/store/movies/details/Alvin_And_The_Chipmunks_The_Road_Chip?id=M-S8FkkBi1k\n",
      "https://play.google.com/store/books/details/Nathan_Harris_The_Sweetness_of_Water_Oprah_s_Book?id=H_70DwAAQBAJ\n",
      "https://play.google.com/store/movies/details/The_Lord_of_the_Rings_The_Motion_Picture_Trilogy?id=I2yPQZOTb28.P\n",
      "https://play.google.com/store/movies/details/Fast_Furious_The_Ultimate_Ride_Collection?id=egL6eBiUb2E\n",
      "https://play.google.com/store/movies/details/The_Lord_of_the_Rings_3_Film_Collection_Extended_E?id=o8WClgEvnCA\n",
      "https://play.google.com/store/movies/details/Middle_earth_Extended_Editions_6_Film_Collection_6?id=p8OfO-nB7rc.P\n",
      "https://play.google.com/store/movies/details/The_Hunger_Games_Complete_4_Film_Collection?id=1Wjs1jhEbeE\n",
      "https://play.google.com/store/books/details/Sarah_J_Maas_House_of_Earth_and_Blood?id=LUmQDwAAQBAJ\n",
      "https://play.google.com/store/books/details/Rudy_De_Reyna_How_to_Draw_What_You_See?id=4HqJnf_fZokC\n",
      "https://play.google.com/store/books/details/John_Purkiss_The_Power_of_Letting_Go?id=kvqvDwAAQBAJ\n"
     ]
    }
   ],
   "source": [
    "for article in cnn_paper.articles:\n",
    "    print(article.url)"
   ]
  },
  {
   "cell_type": "code",
   "execution_count": 15,
   "id": "30f79c44-d829-4b68-9a39-4034b64b6b66",
   "metadata": {},
   "outputs": [
    {
     "name": "stdout",
     "output_type": "stream",
     "text": [
      "https://news.google.com/articles/CAIiEDl-uKIl-uk2TPJ_Xw4PVJIqGQgEKhAIACoHCAow55veCjDzvdUBMOLc5gU?uo=CAUiwAFodHRwczovL3d3dy5maW5hbmNpYWxleHByZXNzLmNvbS9tYXJrZXQvc2hhcmUtbWFya2V0LXRvZGF5LWxpdmUtdXBkYXRlcy1zZW5zZXgtbmlmdHktcnVwZWUtdnMtZG9sbGFyLXNneC1uaWZ0eS1pcG9zLXNoeWFtLW1ldGFsaWNzLWRvZGxhLWRhaXJ5LWtpbXMtdXMtZmVkZXJhbC1yZXNlcnZlLTE3LWp1bmUtdGh1cnNkYXkvMjI3Mjg2Mi_SAQA&hl=en-US&gl=US&ceid=US%3Aen\n",
      "https://play.google.com\n"
     ]
    }
   ],
   "source": [
    "for category in cnn_paper.category_urls():\n",
    "    print(category)"
   ]
  },
  {
   "cell_type": "code",
   "execution_count": 16,
   "id": "bee47647-a26f-4709-af29-863fb3895b25",
   "metadata": {},
   "outputs": [],
   "source": [
    "cnn_article = cnn_paper.articles[0]"
   ]
  },
  {
   "cell_type": "code",
   "execution_count": 19,
   "id": "143e0e4d-9c15-4027-a829-5e792c207a08",
   "metadata": {},
   "outputs": [
    {
     "data": {
      "text/plain": [
       "'https://www.financialexpress.com/market/stock-market/state-bank-of-india-stock-price/'"
      ]
     },
     "execution_count": 19,
     "metadata": {},
     "output_type": "execute_result"
    }
   ],
   "source": [
    "cnn_article.url"
   ]
  },
  {
   "cell_type": "code",
   "execution_count": null,
   "id": "1332568c-f281-4424-a4a1-6f51f4b47626",
   "metadata": {},
   "outputs": [],
   "source": [
    "\n",
    "datetime.datetime(2013, 12, 30, 0, 0)\n",
    "\n",
    ">>> article.text\n",
    "'Washington (CNN) -- Not everyone subscribes to a New Year's resolution...'\n",
    "\n",
    ">>> article.top_image\n",
    "'http://someCDN.com/blah/blah/blah/file.png'\n",
    "\n",
    ">>> article.movies\n",
    "['http://youtube.com/path/to/link.com', ...]"
   ]
  },
  {
   "cell_type": "code",
   "execution_count": 24,
   "id": "b416d7c2-1691-4f31-a2a2-b130469d4105",
   "metadata": {},
   "outputs": [],
   "source": [
    "cnn_article = cnn_paper.articles[0]\n",
    "cnn_article.download()\n",
    "cnn_article.parse()\n",
    "cnn_article.nlp()"
   ]
  },
  {
   "cell_type": "code",
   "execution_count": 23,
   "id": "350c68a4-0505-464b-a762-da74893165fa",
   "metadata": {},
   "outputs": [
    {
     "data": {
      "text/plain": [
       "''"
      ]
     },
     "execution_count": 23,
     "metadata": {},
     "output_type": "execute_result"
    }
   ],
   "source": [
    "cnn_article.text"
   ]
  }
 ],
 "metadata": {
  "kernelspec": {
   "display_name": "Python 3",
   "language": "python",
   "name": "python3"
  },
  "language_info": {
   "codemirror_mode": {
    "name": "ipython",
    "version": 3
   },
   "file_extension": ".py",
   "mimetype": "text/x-python",
   "name": "python",
   "nbconvert_exporter": "python",
   "pygments_lexer": "ipython3",
   "version": "3.9.1"
  }
 },
 "nbformat": 4,
 "nbformat_minor": 5
}
