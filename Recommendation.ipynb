{
 "cells": [
  {
   "cell_type": "code",
   "execution_count": 8,
   "id": "3750d84a-94f9-4c94-a9b0-ce93d20d0370",
   "metadata": {},
   "outputs": [],
   "source": [
    "import pandas as pd\n",
    "data = pd.read_csv('PPC_New1.csv', index_col = \"V_CUST_CODE\")"
   ]
  },
  {
   "cell_type": "code",
   "execution_count": null,
   "id": "091a6600-8435-45c2-a4de-da74cb553a92",
   "metadata": {},
   "outputs": [],
   "source": [
    "df.groupby('Description').agg(\n",
    "    orders=('InvoiceNo', 'nunique'),\n",
    "    quantity=('Quantity', 'sum')).sort_values(by='orders', ascending=False).head(10)"
   ]
  },
  {
   "cell_type": "code",
   "execution_count": 10,
   "id": "3d09bfa1-c030-4a81-9438-65f4d9448c1b",
   "metadata": {},
   "outputs": [],
   "source": [
    "def get_recommendations(df, item):\n",
    "    \"\"\"Generate a set of product recommendations using item-based collaborative filtering.\n",
    "    \n",
    "    Args:\n",
    "        df (dataframe): Pandas dataframe containing matrix of items purchased.\n",
    "        item (string): Column name for target item. \n",
    "        \n",
    "    Returns: \n",
    "        recommendations (dataframe): Pandas dataframe containing product recommendations. \n",
    "    \"\"\"\n",
    "    \n",
    "    recommendations = df.corrwith(df[item])\n",
    "    recommendations.dropna(inplace=True)\n",
    "    recommendations = pd.DataFrame(recommendations, columns=['correlation']).reset_index()\n",
    "    recommendations = recommendations.sort_values(by='correlation', ascending=False)\n",
    "    recommendations['correlation'] = recommendations['correlation'].apply(lambda x: round(x, 3))\n",
    "    return recommendations"
   ]
  },
  {
   "cell_type": "code",
   "execution_count": 3,
   "id": "09eb2f86-bbf2-4f5f-9db5-2b0b1c222c5d",
   "metadata": {},
   "outputs": [
    {
     "ename": "NameError",
     "evalue": "name 'a' is not defined",
     "output_type": "error",
     "traceback": [
      "\u001b[1;31m---------------------------------------------------------------------------\u001b[0m",
      "\u001b[1;31mNameError\u001b[0m                                 Traceback (most recent call last)",
      "\u001b[1;32m<ipython-input-3-30f21565a44f>\u001b[0m in \u001b[0;36m<module>\u001b[1;34m\u001b[0m\n\u001b[1;32m----> 1\u001b[1;33m \u001b[0md\u001b[0m \u001b[1;33m=\u001b[0m \u001b[0mdata\u001b[0m\u001b[1;33m[\u001b[0m\u001b[1;33m(\u001b[0m\u001b[1;33m(\u001b[0m\u001b[0mdata\u001b[0m\u001b[1;33m[\u001b[0m\u001b[0ma\u001b[0m\u001b[1;33m[\u001b[0m\u001b[1;36m0\u001b[0m\u001b[1;33m]\u001b[0m\u001b[1;33m[\u001b[0m\u001b[1;36m1\u001b[0m\u001b[1;33m]\u001b[0m\u001b[1;33m]\u001b[0m\u001b[1;33m==\u001b[0m\u001b[1;36m1\u001b[0m\u001b[1;33m)\u001b[0m \u001b[1;33m&\u001b[0m \u001b[1;33m(\u001b[0m\u001b[0mdata\u001b[0m\u001b[1;33m[\u001b[0m\u001b[0ma\u001b[0m\u001b[1;33m[\u001b[0m\u001b[1;36m0\u001b[0m\u001b[1;33m]\u001b[0m\u001b[1;33m[\u001b[0m\u001b[1;36m0\u001b[0m\u001b[1;33m]\u001b[0m\u001b[1;33m]\u001b[0m\u001b[1;33m==\u001b[0m\u001b[1;36m1\u001b[0m\u001b[1;33m)\u001b[0m\u001b[1;33m)\u001b[0m\u001b[1;33m]\u001b[0m\u001b[1;33m\u001b[0m\u001b[1;33m\u001b[0m\u001b[0m\n\u001b[0m\u001b[0;32m      2\u001b[0m \u001b[0ms\u001b[0m \u001b[1;33m=\u001b[0m \u001b[0ma\u001b[0m\u001b[1;33m[\u001b[0m\u001b[1;36m0\u001b[0m\u001b[1;33m]\u001b[0m\u001b[1;33m[\u001b[0m\u001b[1;36m1\u001b[0m\u001b[1;33m]\u001b[0m\u001b[1;33m+\u001b[0m\u001b[1;34m','\u001b[0m\u001b[1;33m+\u001b[0m\u001b[0ma\u001b[0m\u001b[1;33m[\u001b[0m\u001b[1;36m0\u001b[0m\u001b[1;33m]\u001b[0m\u001b[1;33m[\u001b[0m\u001b[1;36m0\u001b[0m\u001b[1;33m]\u001b[0m\u001b[1;33m\u001b[0m\u001b[1;33m\u001b[0m\u001b[0m\n\u001b[0;32m      3\u001b[0m \u001b[0md\u001b[0m\u001b[1;33m[\u001b[0m\u001b[0ms\u001b[0m\u001b[1;33m]\u001b[0m\u001b[1;33m=\u001b[0m\u001b[1;36m1\u001b[0m\u001b[1;33m\u001b[0m\u001b[1;33m\u001b[0m\u001b[0m\n\u001b[0;32m      4\u001b[0m \u001b[0me\u001b[0m \u001b[1;33m=\u001b[0m \u001b[0mdata\u001b[0m\u001b[1;33m[\u001b[0m\u001b[1;33m(\u001b[0m\u001b[1;33m(\u001b[0m\u001b[0mdata\u001b[0m\u001b[1;33m[\u001b[0m\u001b[0ma\u001b[0m\u001b[1;33m[\u001b[0m\u001b[1;36m0\u001b[0m\u001b[1;33m]\u001b[0m\u001b[1;33m[\u001b[0m\u001b[1;36m1\u001b[0m\u001b[1;33m]\u001b[0m\u001b[1;33m]\u001b[0m\u001b[1;33m==\u001b[0m\u001b[1;36m0\u001b[0m\u001b[1;33m)\u001b[0m \u001b[1;33m&\u001b[0m \u001b[1;33m(\u001b[0m\u001b[0mdata\u001b[0m\u001b[1;33m[\u001b[0m\u001b[0ma\u001b[0m\u001b[1;33m[\u001b[0m\u001b[1;36m0\u001b[0m\u001b[1;33m]\u001b[0m\u001b[1;33m[\u001b[0m\u001b[1;36m0\u001b[0m\u001b[1;33m]\u001b[0m\u001b[1;33m]\u001b[0m\u001b[1;33m==\u001b[0m\u001b[1;36m0\u001b[0m\u001b[1;33m)\u001b[0m\u001b[1;33m)\u001b[0m\u001b[1;33m]\u001b[0m\u001b[1;33m\u001b[0m\u001b[1;33m\u001b[0m\u001b[0m\n\u001b[0;32m      5\u001b[0m \u001b[0ms\u001b[0m \u001b[1;33m=\u001b[0m \u001b[0ma\u001b[0m\u001b[1;33m[\u001b[0m\u001b[1;36m0\u001b[0m\u001b[1;33m]\u001b[0m\u001b[1;33m[\u001b[0m\u001b[1;36m1\u001b[0m\u001b[1;33m]\u001b[0m\u001b[1;33m+\u001b[0m\u001b[1;34m','\u001b[0m\u001b[1;33m+\u001b[0m\u001b[0ma\u001b[0m\u001b[1;33m[\u001b[0m\u001b[1;36m0\u001b[0m\u001b[1;33m]\u001b[0m\u001b[1;33m[\u001b[0m\u001b[1;36m0\u001b[0m\u001b[1;33m]\u001b[0m\u001b[1;33m\u001b[0m\u001b[1;33m\u001b[0m\u001b[0m\n",
      "\u001b[1;31mNameError\u001b[0m: name 'a' is not defined"
     ]
    }
   ],
   "source": [
    "d = data[((data[a[0][1]]==1) & (data[a[0][0]]==1))]\n",
    "s = a[0][1]+','+a[0][0]\n",
    "d[s]=1\n",
    "e = data[((data[a[0][1]]==0) & (data[a[0][0]]==0))]\n",
    "s = a[0][1]+','+a[0][0]\n",
    "e[s]=0\n",
    "d = pd.concat([d,e])"
   ]
  },
  {
   "cell_type": "code",
   "execution_count": 95,
   "id": "132e990a-ed9b-42f9-8bf2-4ff20d99a4d2",
   "metadata": {},
   "outputs": [
    {
     "data": {
      "text/plain": [
       "'CA_STAT'"
      ]
     },
     "execution_count": 95,
     "metadata": {},
     "output_type": "execute_result"
    }
   ],
   "source": [
    "data.columns[0]"
   ]
  },
  {
   "cell_type": "code",
   "execution_count": null,
   "id": "181aed0f-f622-4a73-9134-ab69c4d08ed7",
   "metadata": {},
   "outputs": [],
   "source": [
    "get_recommendations(data, data.columns[0])[get_recommendations(data, data.columns[0])['correlation']!=1.000]\n",
    "#get_recommendations[get_recommendations(data, data.columns[1])['correlation']!=1.00]"
   ]
  },
  {
   "cell_type": "code",
   "execution_count": 77,
   "id": "764c6a78-5191-479a-b546-d5c385f0cef3",
   "metadata": {},
   "outputs": [],
   "source": [
    "gr = get_recommendations(data, data.columns[1])\n",
    "#[get_recommendations(data, data.columns[1])['correlation']!=float(1.000000)]"
   ]
  },
  {
   "cell_type": "code",
   "execution_count": null,
   "id": "596a061b-ac97-4cbd-a2a8-0a27bc2b2417",
   "metadata": {},
   "outputs": [],
   "source": [
    "get_recommendations(data, data.columns[1])"
   ]
  },
  {
   "cell_type": "code",
   "execution_count": null,
   "id": "a25603f8-921c-4f5b-a91d-63871e6352f7",
   "metadata": {},
   "outputs": [],
   "source": [
    "get_recommendations(d, d.columns[i])[get_recommendations(d, d.columns[i])['correlation']!=1.000]"
   ]
  },
  {
   "cell_type": "code",
   "execution_count": 11,
   "id": "d3e71a3c-6749-4178-b62f-7958ba1af72f",
   "metadata": {},
   "outputs": [
    {
     "name": "stdout",
     "output_type": "stream",
     "text": [
      "5\n"
     ]
    }
   ],
   "source": [
    "a = []\n",
    "aa=[]\n",
    "for i in range(len(data.columns)):\n",
    "    try:\n",
    "        a.append((data.columns[i],get_recommendations(data, data.columns[i])[get_recommendations(data, data.columns[i])['correlation']!=1.000].iloc[0,0], get_recommendations(data, data.columns[i])[get_recommendations(data, data.columns[i])['correlation']!=1.000].iloc[0,1]))\n",
    "        aa.append(i)\n",
    "    except:\n",
    "  #a.append((data.columns[i+1],get_recommendations(data, data.columns[i+1]).iloc[1,0], get_recommendations(data, data.columns[i+1]).iloc[1,1]))\n",
    "          print(i)\n",
    "a=[]        \n",
    "for i in aa:\n",
    "    a.append((data.columns[i],get_recommendations(data, data.columns[i])[get_recommendations(data, data.columns[i])['correlation']!=1.000].iloc[0,0], get_recommendations(data, data.columns[i])[get_recommendations(data, data.columns[i])['correlation']!=1.000].iloc[0,1]))"
   ]
  },
  {
   "cell_type": "code",
   "execution_count": null,
   "id": "10388b77-d08c-432b-a4e6-1d41c1431dbe",
   "metadata": {},
   "outputs": [],
   "source": [
    "for i in range(len(a)):\n",
    "    d = data[((data[a[i][1]]==1) & (data[a[i][0]]==1))]\n",
    "    s = a[i][1]+','+a[i][0]\n",
    "    d[s]=1\n",
    "    e = data[((data[a[i][1]]==0) & (data[a[i][0]]==0))]\n",
    "    s = a[i][1]+','+a[i][0]\n",
    "    e[s]=0\n",
    "    d = pd.concat([d,e])\n",
    "    d = d.drop([a[i][1]], axis=1)\n",
    "    d = d.drop([a[i][0]], axis=1)\n",
    "    b = []\n",
    "    bb=[]\n",
    "    for i in range(len(a)):\n",
    "        try:\n",
    "            b.append((s,get_recommendations(d, s)[get_recommendations(d, s)['correlation']!=1.000].iloc[0,0], get_recommendations(d, s)[get_recommendations(d, s)['correlation']!=1.000].iloc[0,1]))\n",
    "            bb.append(i)\n",
    "        except:\n",
    "              print(i)\n",
    "#a.append((d.columns[i+1],get_recommendations(d, d.columns[i+1]).iloc[1,0], get_recommendations(d, d.columns[i+1]).iloc[1,1])) \n",
    "    b=[]        \n",
    "    for i in bb:\n",
    "          b.append((s,get_recommendations(d, s)[get_recommendations(d, s)['correlation']!=1.000].iloc[0,0], get_recommendations(d, s)[get_recommendations(d, s)['correlation']!=1.000].iloc[0,1]))"
   ]
  },
  {
   "cell_type": "code",
   "execution_count": 22,
   "id": "c32ee683-ddcb-4cc9-bb71-e4ff359c368a",
   "metadata": {},
   "outputs": [],
   "source": [
    "i=22\n",
    "d = data[((data[a[i][1]]==1) & (data[a[i][0]]==1))]\n",
    "s = a[i][1]+','+a[i][0]\n",
    "d[s]=1\n",
    "e = data[((data[a[i][1]]==0) & (data[a[i][0]]==0))]\n",
    "s = a[i][1]+','+a[i][0]\n",
    "e[s]=0\n",
    "d = pd.concat([d,e])\n",
    "d = d.drop([a[i][1]], axis=1)\n",
    "d = d.drop([a[i][0]], axis=1)"
   ]
  },
  {
   "cell_type": "code",
   "execution_count": null,
   "id": "4c8ad288-e910-47e2-a7cf-004acb2ae143",
   "metadata": {},
   "outputs": [],
   "source": [
    "c=[]\n",
    "for i in range(len(a)):\n",
    "    d = data[((data[a[i][1]]==1) & (data[a[i][0]]==1))]\n",
    "    s = a[i][1]+','+a[i][0]\n",
    "    d[s]=1\n",
    "    e = data[((data[a[i][1]]==0) & (data[a[i][0]]==0))]\n",
    "    s = a[i][1]+','+a[i][0]\n",
    "    e[s]=0\n",
    "    d = pd.concat([d,e])\n",
    "    d = d.drop([a[i][1]], axis=1)\n",
    "    d = d.drop([a[i][0]], axis=1)\n",
    "    c.append((s,get_recommendations(d, s)[get_recommendations(d, s)['correlation']!=1.000].iloc[0,0], get_recommendations(d, s)[get_recommendations(d, s)['correlation']!=1.000].iloc[0,1]))\n",
    "#     b = []\n",
    "#     bb=[]\n",
    "#     try:\n",
    "#         b.append((s,get_recommendations(d, s)[get_recommendations(d, s)['correlation']!=1.000].iloc[0,0], get_recommendations(d, s)[get_recommendations(d, s)['correlation']!=1.000].iloc[0,1]))\n",
    "#         bb.append(i)\n",
    "#     except:\n",
    "#           print(i)\n",
    "# #a.append((d.columns[i+1],get_recommendations(d, d.columns[i+1]).iloc[1,0], get_recommendations(d, d.columns[i+1]).iloc[1,1])) \n",
    "       \n",
    "#     for i in bb:\n",
    "#           c.append((s,get_recommendations(d, s)[get_recommendations(d, s)['correlation']!=1.000].iloc[0,0], get_recommendations(d, s)[get_recommendations(d, s)['correlation']!=1.000].iloc[0,1]))"
   ]
  },
  {
   "cell_type": "code",
   "execution_count": 58,
   "id": "a4f0c0b4-30ae-49d5-b1a7-79432ef86a30",
   "metadata": {},
   "outputs": [
    {
     "name": "stdout",
     "output_type": "stream",
     "text": [
      "5\n"
     ]
    }
   ],
   "source": [
    "b = []\n",
    "bb=[]\n",
    "for i in range(len(d.columns)):\n",
    "    try:\n",
    "        b.append((d.columns[i],get_recommendations(d, d.columns[i]).iloc[1,0], get_recommendations(d, d.columns[i]).iloc[1,1]))\n",
    "        bb.append(i)\n",
    "    except:\n",
    "        print(i)\n",
    "  #a.append((d.columns[i+1],get_recommendations(d, d.columns[i+1]).iloc[1,0], get_recommendations(d, d.columns[i+1]).iloc[1,1])) \n",
    "b=[]        \n",
    "for i in bb:\n",
    "    b.append((d.columns[i],get_recommendations(d, d.columns[i]).iloc[1,0], get_recommendations(d, d.columns[i]).iloc[1,1]))"
   ]
  },
  {
   "cell_type": "code",
   "execution_count": 32,
   "id": "ddb4fc4d-7c7f-4e72-9b32-8b8b83b05418",
   "metadata": {},
   "outputs": [
    {
     "data": {
      "text/html": [
       "<div>\n",
       "<style scoped>\n",
       "    .dataframe tbody tr th:only-of-type {\n",
       "        vertical-align: middle;\n",
       "    }\n",
       "\n",
       "    .dataframe tbody tr th {\n",
       "        vertical-align: top;\n",
       "    }\n",
       "\n",
       "    .dataframe thead th {\n",
       "        text-align: right;\n",
       "    }\n",
       "</style>\n",
       "<table border=\"1\" class=\"dataframe\">\n",
       "  <thead>\n",
       "    <tr style=\"text-align: right;\">\n",
       "      <th></th>\n",
       "      <th>CA_STAT</th>\n",
       "      <th>SA_STAT</th>\n",
       "      <th>RD_STAT</th>\n",
       "      <th>TD_STAT</th>\n",
       "      <th>VEHICLELN_STAT</th>\n",
       "      <th>OTHER_STAT</th>\n",
       "      <th>NONFUND_STAT</th>\n",
       "      <th>HL_STAT</th>\n",
       "      <th>DEPOSITLN_STAT</th>\n",
       "      <th>EDULN_STAT</th>\n",
       "      <th>...</th>\n",
       "      <th>HEALTHINSUR_FLG</th>\n",
       "      <th>LOCKER_FLG</th>\n",
       "      <th>POS_FLG</th>\n",
       "      <th>BIJLI_FLG</th>\n",
       "      <th>BHARATQR_FLG</th>\n",
       "      <th>PMJJBY_FLG</th>\n",
       "      <th>PMSBY_FLG</th>\n",
       "      <th>SGB_FLG</th>\n",
       "      <th>CORP_CC_FLG</th>\n",
       "      <th>DEMAT_FLG,RET_CC_FLG</th>\n",
       "    </tr>\n",
       "    <tr>\n",
       "      <th>V_CUST_CODE</th>\n",
       "      <th></th>\n",
       "      <th></th>\n",
       "      <th></th>\n",
       "      <th></th>\n",
       "      <th></th>\n",
       "      <th></th>\n",
       "      <th></th>\n",
       "      <th></th>\n",
       "      <th></th>\n",
       "      <th></th>\n",
       "      <th></th>\n",
       "      <th></th>\n",
       "      <th></th>\n",
       "      <th></th>\n",
       "      <th></th>\n",
       "      <th></th>\n",
       "      <th></th>\n",
       "      <th></th>\n",
       "      <th></th>\n",
       "      <th></th>\n",
       "      <th></th>\n",
       "    </tr>\n",
       "  </thead>\n",
       "  <tbody>\n",
       "    <tr>\n",
       "      <th>1961102</th>\n",
       "      <td>0</td>\n",
       "      <td>1</td>\n",
       "      <td>0</td>\n",
       "      <td>0</td>\n",
       "      <td>0</td>\n",
       "      <td>0</td>\n",
       "      <td>0</td>\n",
       "      <td>0</td>\n",
       "      <td>0</td>\n",
       "      <td>0</td>\n",
       "      <td>...</td>\n",
       "      <td>0</td>\n",
       "      <td>0</td>\n",
       "      <td>0</td>\n",
       "      <td>0</td>\n",
       "      <td>0</td>\n",
       "      <td>1</td>\n",
       "      <td>1</td>\n",
       "      <td>0</td>\n",
       "      <td>0</td>\n",
       "      <td>1</td>\n",
       "    </tr>\n",
       "    <tr>\n",
       "      <th>2193598</th>\n",
       "      <td>0</td>\n",
       "      <td>1</td>\n",
       "      <td>0</td>\n",
       "      <td>0</td>\n",
       "      <td>0</td>\n",
       "      <td>0</td>\n",
       "      <td>0</td>\n",
       "      <td>0</td>\n",
       "      <td>0</td>\n",
       "      <td>0</td>\n",
       "      <td>...</td>\n",
       "      <td>0</td>\n",
       "      <td>0</td>\n",
       "      <td>0</td>\n",
       "      <td>0</td>\n",
       "      <td>0</td>\n",
       "      <td>0</td>\n",
       "      <td>1</td>\n",
       "      <td>0</td>\n",
       "      <td>1</td>\n",
       "      <td>1</td>\n",
       "    </tr>\n",
       "    <tr>\n",
       "      <th>4051526</th>\n",
       "      <td>0</td>\n",
       "      <td>1</td>\n",
       "      <td>1</td>\n",
       "      <td>1</td>\n",
       "      <td>0</td>\n",
       "      <td>0</td>\n",
       "      <td>0</td>\n",
       "      <td>0</td>\n",
       "      <td>0</td>\n",
       "      <td>0</td>\n",
       "      <td>...</td>\n",
       "      <td>0</td>\n",
       "      <td>0</td>\n",
       "      <td>0</td>\n",
       "      <td>0</td>\n",
       "      <td>0</td>\n",
       "      <td>0</td>\n",
       "      <td>0</td>\n",
       "      <td>0</td>\n",
       "      <td>0</td>\n",
       "      <td>1</td>\n",
       "    </tr>\n",
       "    <tr>\n",
       "      <th>4095519</th>\n",
       "      <td>0</td>\n",
       "      <td>1</td>\n",
       "      <td>1</td>\n",
       "      <td>0</td>\n",
       "      <td>0</td>\n",
       "      <td>0</td>\n",
       "      <td>0</td>\n",
       "      <td>0</td>\n",
       "      <td>0</td>\n",
       "      <td>0</td>\n",
       "      <td>...</td>\n",
       "      <td>0</td>\n",
       "      <td>0</td>\n",
       "      <td>0</td>\n",
       "      <td>0</td>\n",
       "      <td>0</td>\n",
       "      <td>0</td>\n",
       "      <td>0</td>\n",
       "      <td>0</td>\n",
       "      <td>0</td>\n",
       "      <td>1</td>\n",
       "    </tr>\n",
       "    <tr>\n",
       "      <th>4776476</th>\n",
       "      <td>0</td>\n",
       "      <td>1</td>\n",
       "      <td>0</td>\n",
       "      <td>0</td>\n",
       "      <td>0</td>\n",
       "      <td>0</td>\n",
       "      <td>0</td>\n",
       "      <td>0</td>\n",
       "      <td>0</td>\n",
       "      <td>0</td>\n",
       "      <td>...</td>\n",
       "      <td>0</td>\n",
       "      <td>0</td>\n",
       "      <td>0</td>\n",
       "      <td>0</td>\n",
       "      <td>0</td>\n",
       "      <td>0</td>\n",
       "      <td>0</td>\n",
       "      <td>0</td>\n",
       "      <td>1</td>\n",
       "      <td>1</td>\n",
       "    </tr>\n",
       "    <tr>\n",
       "      <th>...</th>\n",
       "      <td>...</td>\n",
       "      <td>...</td>\n",
       "      <td>...</td>\n",
       "      <td>...</td>\n",
       "      <td>...</td>\n",
       "      <td>...</td>\n",
       "      <td>...</td>\n",
       "      <td>...</td>\n",
       "      <td>...</td>\n",
       "      <td>...</td>\n",
       "      <td>...</td>\n",
       "      <td>...</td>\n",
       "      <td>...</td>\n",
       "      <td>...</td>\n",
       "      <td>...</td>\n",
       "      <td>...</td>\n",
       "      <td>...</td>\n",
       "      <td>...</td>\n",
       "      <td>...</td>\n",
       "      <td>...</td>\n",
       "      <td>...</td>\n",
       "    </tr>\n",
       "    <tr>\n",
       "      <th>8996234</th>\n",
       "      <td>0</td>\n",
       "      <td>1</td>\n",
       "      <td>0</td>\n",
       "      <td>0</td>\n",
       "      <td>0</td>\n",
       "      <td>0</td>\n",
       "      <td>0</td>\n",
       "      <td>0</td>\n",
       "      <td>0</td>\n",
       "      <td>0</td>\n",
       "      <td>...</td>\n",
       "      <td>0</td>\n",
       "      <td>1</td>\n",
       "      <td>0</td>\n",
       "      <td>0</td>\n",
       "      <td>0</td>\n",
       "      <td>0</td>\n",
       "      <td>1</td>\n",
       "      <td>0</td>\n",
       "      <td>0</td>\n",
       "      <td>1</td>\n",
       "    </tr>\n",
       "    <tr>\n",
       "      <th>9008765</th>\n",
       "      <td>0</td>\n",
       "      <td>1</td>\n",
       "      <td>0</td>\n",
       "      <td>1</td>\n",
       "      <td>0</td>\n",
       "      <td>0</td>\n",
       "      <td>0</td>\n",
       "      <td>0</td>\n",
       "      <td>0</td>\n",
       "      <td>0</td>\n",
       "      <td>...</td>\n",
       "      <td>0</td>\n",
       "      <td>0</td>\n",
       "      <td>0</td>\n",
       "      <td>0</td>\n",
       "      <td>0</td>\n",
       "      <td>1</td>\n",
       "      <td>1</td>\n",
       "      <td>0</td>\n",
       "      <td>0</td>\n",
       "      <td>1</td>\n",
       "    </tr>\n",
       "    <tr>\n",
       "      <th>10143261</th>\n",
       "      <td>0</td>\n",
       "      <td>1</td>\n",
       "      <td>0</td>\n",
       "      <td>0</td>\n",
       "      <td>0</td>\n",
       "      <td>0</td>\n",
       "      <td>0</td>\n",
       "      <td>0</td>\n",
       "      <td>0</td>\n",
       "      <td>0</td>\n",
       "      <td>...</td>\n",
       "      <td>0</td>\n",
       "      <td>0</td>\n",
       "      <td>0</td>\n",
       "      <td>0</td>\n",
       "      <td>0</td>\n",
       "      <td>1</td>\n",
       "      <td>1</td>\n",
       "      <td>0</td>\n",
       "      <td>0</td>\n",
       "      <td>1</td>\n",
       "    </tr>\n",
       "    <tr>\n",
       "      <th>11247290</th>\n",
       "      <td>0</td>\n",
       "      <td>1</td>\n",
       "      <td>0</td>\n",
       "      <td>1</td>\n",
       "      <td>0</td>\n",
       "      <td>0</td>\n",
       "      <td>0</td>\n",
       "      <td>0</td>\n",
       "      <td>0</td>\n",
       "      <td>0</td>\n",
       "      <td>...</td>\n",
       "      <td>0</td>\n",
       "      <td>0</td>\n",
       "      <td>0</td>\n",
       "      <td>0</td>\n",
       "      <td>0</td>\n",
       "      <td>0</td>\n",
       "      <td>0</td>\n",
       "      <td>0</td>\n",
       "      <td>0</td>\n",
       "      <td>1</td>\n",
       "    </tr>\n",
       "    <tr>\n",
       "      <th>11271877</th>\n",
       "      <td>0</td>\n",
       "      <td>1</td>\n",
       "      <td>0</td>\n",
       "      <td>0</td>\n",
       "      <td>0</td>\n",
       "      <td>0</td>\n",
       "      <td>0</td>\n",
       "      <td>0</td>\n",
       "      <td>0</td>\n",
       "      <td>0</td>\n",
       "      <td>...</td>\n",
       "      <td>0</td>\n",
       "      <td>0</td>\n",
       "      <td>0</td>\n",
       "      <td>0</td>\n",
       "      <td>1</td>\n",
       "      <td>0</td>\n",
       "      <td>0</td>\n",
       "      <td>0</td>\n",
       "      <td>0</td>\n",
       "      <td>1</td>\n",
       "    </tr>\n",
       "  </tbody>\n",
       "</table>\n",
       "<p>2839 rows × 40 columns</p>\n",
       "</div>"
      ],
      "text/plain": [
       "             CA_STAT  SA_STAT  RD_STAT  TD_STAT  VEHICLELN_STAT  OTHER_STAT  \\\n",
       "V_CUST_CODE                                                                   \n",
       "1961102            0        1        0        0               0           0   \n",
       "2193598            0        1        0        0               0           0   \n",
       "4051526            0        1        1        1               0           0   \n",
       "4095519            0        1        1        0               0           0   \n",
       "4776476            0        1        0        0               0           0   \n",
       "...              ...      ...      ...      ...             ...         ...   \n",
       "8996234            0        1        0        0               0           0   \n",
       "9008765            0        1        0        1               0           0   \n",
       "10143261           0        1        0        0               0           0   \n",
       "11247290           0        1        0        1               0           0   \n",
       "11271877           0        1        0        0               0           0   \n",
       "\n",
       "             NONFUND_STAT  HL_STAT  DEPOSITLN_STAT  EDULN_STAT  ...  \\\n",
       "V_CUST_CODE                                                     ...   \n",
       "1961102                 0        0               0           0  ...   \n",
       "2193598                 0        0               0           0  ...   \n",
       "4051526                 0        0               0           0  ...   \n",
       "4095519                 0        0               0           0  ...   \n",
       "4776476                 0        0               0           0  ...   \n",
       "...                   ...      ...             ...         ...  ...   \n",
       "8996234                 0        0               0           0  ...   \n",
       "9008765                 0        0               0           0  ...   \n",
       "10143261                0        0               0           0  ...   \n",
       "11247290                0        0               0           0  ...   \n",
       "11271877                0        0               0           0  ...   \n",
       "\n",
       "             HEALTHINSUR_FLG  LOCKER_FLG  POS_FLG  BIJLI_FLG  BHARATQR_FLG  \\\n",
       "V_CUST_CODE                                                                  \n",
       "1961102                    0           0        0          0             0   \n",
       "2193598                    0           0        0          0             0   \n",
       "4051526                    0           0        0          0             0   \n",
       "4095519                    0           0        0          0             0   \n",
       "4776476                    0           0        0          0             0   \n",
       "...                      ...         ...      ...        ...           ...   \n",
       "8996234                    0           1        0          0             0   \n",
       "9008765                    0           0        0          0             0   \n",
       "10143261                   0           0        0          0             0   \n",
       "11247290                   0           0        0          0             0   \n",
       "11271877                   0           0        0          0             1   \n",
       "\n",
       "             PMJJBY_FLG  PMSBY_FLG  SGB_FLG  CORP_CC_FLG  DEMAT_FLG,RET_CC_FLG  \n",
       "V_CUST_CODE                                                                     \n",
       "1961102               1          1        0            0                     1  \n",
       "2193598               0          1        0            1                     1  \n",
       "4051526               0          0        0            0                     1  \n",
       "4095519               0          0        0            0                     1  \n",
       "4776476               0          0        0            1                     1  \n",
       "...                 ...        ...      ...          ...                   ...  \n",
       "8996234               0          1        0            0                     1  \n",
       "9008765               1          1        0            0                     1  \n",
       "10143261              1          1        0            0                     1  \n",
       "11247290              0          0        0            0                     1  \n",
       "11271877              0          0        0            0                     1  \n",
       "\n",
       "[2839 rows x 40 columns]"
      ]
     },
     "execution_count": 32,
     "metadata": {},
     "output_type": "execute_result"
    }
   ],
   "source": [
    "d[d['DEMAT_FLG,RET_CC_FLG']==1]"
   ]
  },
  {
   "cell_type": "code",
   "execution_count": 26,
   "id": "55d2af84-4cbf-4256-9af4-f0f30c5193ac",
   "metadata": {},
   "outputs": [
    {
     "data": {
      "text/html": [
       "<div>\n",
       "<style scoped>\n",
       "    .dataframe tbody tr th:only-of-type {\n",
       "        vertical-align: middle;\n",
       "    }\n",
       "\n",
       "    .dataframe tbody tr th {\n",
       "        vertical-align: top;\n",
       "    }\n",
       "\n",
       "    .dataframe thead th {\n",
       "        text-align: right;\n",
       "    }\n",
       "</style>\n",
       "<table border=\"1\" class=\"dataframe\">\n",
       "  <thead>\n",
       "    <tr style=\"text-align: right;\">\n",
       "      <th></th>\n",
       "      <th>index</th>\n",
       "      <th>correlation</th>\n",
       "    </tr>\n",
       "  </thead>\n",
       "  <tbody>\n",
       "  </tbody>\n",
       "</table>\n",
       "</div>"
      ],
      "text/plain": [
       "Empty DataFrame\n",
       "Columns: [index, correlation]\n",
       "Index: []"
      ]
     },
     "execution_count": 26,
     "metadata": {},
     "output_type": "execute_result"
    }
   ],
   "source": [
    "get_recommendations(d,'OTHER_STAT')"
   ]
  },
  {
   "cell_type": "code",
   "execution_count": null,
   "id": "a1541cab-af38-4cf1-953d-613a2a167839",
   "metadata": {},
   "outputs": [],
   "source": [
    "get_recommendations(d, d.columns[8])"
   ]
  },
  {
   "cell_type": "code",
   "execution_count": null,
   "id": "3b95609b-2639-4083-8f56-3bf4bf709383",
   "metadata": {},
   "outputs": [],
   "source": [
    "b = []\n",
    "for i in range(len(d.columns)):\n",
    "    try:\n",
    "        b.append((d.columns[i],get_recommendations(d, d.columns[i]).iloc[1,0]))\n",
    "    except:\n",
    "        try:\n",
    "            b.append((d.columns[i+1],get_recommendations(d, d.columns[i+1]).iloc[1,0]))\n",
    "        except:\n",
    "            b.append((d.columns[i+1],get_recommendations(d, d.columns[i+1]).iloc[1,0]))\n",
    "            print(i)"
   ]
  },
  {
   "cell_type": "code",
   "execution_count": 104,
   "id": "ac1d24b0-ea87-4ec7-b60d-44c1c7538a9f",
   "metadata": {},
   "outputs": [
    {
     "data": {
      "text/plain": [
       "Index(['CA_STAT', 'SA_STAT', 'RD_STAT', 'TD_STAT', 'VEHICLELN_STAT',\n",
       "       'OTHER_STAT', 'NONFUND_STAT', 'HL_STAT', 'DEPOSITLN_STAT', 'EDULN_STAT',\n",
       "       'AGRITERMLN_STAT', 'GOVTSCH_STAT', 'WC_LN_STAT', 'WAREHOUSELN_STAT',\n",
       "       'AGRIJEWELLN_STAT', 'EXPORTCR_STAT', 'MORTLN_STAT', 'BILLS_DC_STAT',\n",
       "       'TERMLN_STAT', 'AGRI_WC_STAT', 'OTHER_LN_STAT', 'TOD_STAT',\n",
       "       'AGRI_NONJEWEL_STAT', 'PROF_LN_STAT', 'PL_STAT', 'JEWEL_LN_STAT',\n",
       "       'FASTAG_FLG', 'MUTUALFND_FLG', 'LIFEINSUR_FLG', 'NONLIFEINSUR_FLG',\n",
       "       'HEALTHINSUR_FLG', 'LOCKER_FLG', 'POS_FLG', 'BIJLI_FLG', 'BHARATQR_FLG',\n",
       "       'PMJJBY_FLG', 'PMSBY_FLG', 'SGB_FLG', 'CORP_CC_FLG', 'RET_CC_FLG',\n",
       "       'DEMAT_FLG,RET_CC_FLG'],\n",
       "      dtype='object')"
      ]
     },
     "execution_count": 104,
     "metadata": {},
     "output_type": "execute_result"
    }
   ],
   "source": [
    "d.columns"
   ]
  },
  {
   "cell_type": "code",
   "execution_count": 112,
   "id": "e7240b87-e317-4a60-bdfc-41eae47f8ed0",
   "metadata": {},
   "outputs": [
    {
     "data": {
      "text/plain": [
       "'RD_STAT'"
      ]
     },
     "execution_count": 112,
     "metadata": {},
     "output_type": "execute_result"
    }
   ],
   "source": [
    "get_recommendations(d, d.columns[37]).iloc[1,0]"
   ]
  },
  {
   "cell_type": "code",
   "execution_count": null,
   "id": "058450d5-28c5-4add-b83e-5fc8c99dba75",
   "metadata": {},
   "outputs": [],
   "source": [
    "get_recommendations(d, 'EXPORTCR_STAT')"
   ]
  },
  {
   "cell_type": "code",
   "execution_count": 63,
   "id": "f735e90e-0ddd-4cc8-8b9f-1ddfa8ee9129",
   "metadata": {},
   "outputs": [],
   "source": [
    "\n",
    "a = []\n",
    "for i in range(len(data.columns)):\n",
    "    try:\n",
    "        a.append((data.columns[i],get_recommendations(data, data.columns[i]).iloc[1,0]))\n",
    "    except:\n",
    "        a.append((data.columns[i+1],get_recommendations(data, data.columns[i+1]).iloc[1,0]))\n",
    "        print(i)"
   ]
  },
  {
   "cell_type": "code",
   "execution_count": null,
   "id": "1a10cbd7-2612-4a1a-b5aa-7029c3a3fa7c",
   "metadata": {},
   "outputs": [],
   "source": [
    "import pandas as pd\n",
    "data = pd.read_excel('file.xlsx', sheet_name=1)\n",
    "data"
   ]
  },
  {
   "cell_type": "code",
   "execution_count": null,
   "id": "4b07407d-7b18-4c00-9138-64f87a0fb15b",
   "metadata": {},
   "outputs": [],
   "source": []
  },
  {
   "cell_type": "code",
   "execution_count": null,
   "id": "f4ae3e11-09c3-439f-bb19-e5b3821229f1",
   "metadata": {},
   "outputs": [],
   "source": []
  },
  {
   "cell_type": "code",
   "execution_count": null,
   "id": "faae9bd8-be24-4a93-9036-d1bb1c355dcd",
   "metadata": {},
   "outputs": [],
   "source": []
  },
  {
   "cell_type": "code",
   "execution_count": null,
   "id": "cd3746c5-039d-4631-a67f-d52f54f8a34a",
   "metadata": {},
   "outputs": [],
   "source": []
  },
  {
   "cell_type": "code",
   "execution_count": null,
   "id": "7237eeb4-a7a1-4997-8a88-eea2a38f337e",
   "metadata": {},
   "outputs": [],
   "source": []
  },
  {
   "cell_type": "code",
   "execution_count": null,
   "id": "b04709df-cb45-4f2c-87a6-f4b5f7c5de23",
   "metadata": {},
   "outputs": [],
   "source": [
    "data.groupby(by=\"V_PROD_DESC\").count()"
   ]
  },
  {
   "cell_type": "code",
   "execution_count": 94,
   "id": "d52fcd65-46aa-436f-8d4f-a378484d9974",
   "metadata": {},
   "outputs": [
    {
     "name": "stdout",
     "output_type": "stream",
     "text": [
      "[0.45534327 0.45534327 0.06162401 0.02768945]\n"
     ]
    }
   ],
   "source": [
    "import numpy as np\n",
    "\n",
    "def softmax(x):\n",
    "    \"\"\"Compute softmax values for each sets of scores in x.\"\"\"\n",
    "    e_x = np.exp(x - np.max(x))\n",
    "    return e_x / e_x.sum()\n",
    "\n",
    "scores = [3.0, 3.0, 1.0, 0.2]\n",
    "print(softmax(scores))"
   ]
  },
  {
   "cell_type": "code",
   "execution_count": 105,
   "id": "9bde557a-35b3-4146-a5ef-2285f61ed599",
   "metadata": {},
   "outputs": [
    {
     "data": {
      "text/plain": [
       "2799343.2800000003"
      ]
     },
     "execution_count": 105,
     "metadata": {},
     "output_type": "execute_result"
    }
   ],
   "source": [
    "data['AVGBAL'].sum()"
   ]
  },
  {
   "cell_type": "code",
   "execution_count": null,
   "id": "33991fe9-fab7-4c67-99c1-1c9edd1649fe",
   "metadata": {},
   "outputs": [],
   "source": [
    "(data['AVGBAL']/data['AVGBAL'].sum())*5"
   ]
  },
  {
   "cell_type": "code",
   "execution_count": 97,
   "id": "10a3a22d-0f4e-4c91-b25a-265725abf6ac",
   "metadata": {},
   "outputs": [],
   "source": [
    "data['C_AVGBAL'] = softmax(data['AVGBAL'])"
   ]
  },
  {
   "cell_type": "code",
   "execution_count": 98,
   "id": "39917077-b9a2-49e1-831f-b10cd9c4f144",
   "metadata": {},
   "outputs": [],
   "source": [
    "df = data[['V_CUST_CODE','V_PROD_DESC','C_AVGBAL']]"
   ]
  },
  {
   "cell_type": "code",
   "execution_count": null,
   "id": "91f9bcce-4c1a-44a3-8ee3-d22095d7fb33",
   "metadata": {},
   "outputs": [],
   "source": [
    "pd.pivot_table(df, values='C_AVGBAL', index=['V_CUST_CODE'], columns=['V_PROD_DESC'])"
   ]
  },
  {
   "cell_type": "code",
   "execution_count": 5,
   "id": "1c314d9b-dbf0-42b5-ac42-11966694cb20",
   "metadata": {},
   "outputs": [],
   "source": [
    "x = [[3.,1.],\n",
    "       [1., 3.],\n",
    "       [4.,3.],\n",
    "    [5.,3.],\n",
    "    [100.,13.]]"
   ]
  },
  {
   "cell_type": "code",
   "execution_count": 7,
   "id": "69eabb11-2a1f-4ec7-b6cf-c3b51e5a2f78",
   "metadata": {},
   "outputs": [],
   "source": [
    "x = [[3.,1., 1.],\n",
    "       [1., 3., 2.]]"
   ]
  },
  {
   "cell_type": "code",
   "execution_count": 8,
   "id": "dd9a15dc-1671-4f4b-97da-2f75f5a904e2",
   "metadata": {},
   "outputs": [
    {
     "data": {
      "text/plain": [
       "array([[ 1., -1., -1.],\n",
       "       [-1.,  1.,  1.]])"
      ]
     },
     "execution_count": 8,
     "metadata": {},
     "output_type": "execute_result"
    }
   ],
   "source": [
    "from sklearn.preprocessing import StandardScaler\n",
    "scaler = StandardScaler()\n",
    "scaled = scaler.fit_transform(x)\n",
    "scaler.transform(x)"
   ]
  },
  {
   "cell_type": "code",
   "execution_count": 136,
   "id": "1c7851c9-182e-4d0e-ab75-1284cadb569c",
   "metadata": {},
   "outputs": [
    {
     "data": {
      "text/plain": [
       "array([[9.74794302e-15, 7.14405930e-15],\n",
       "       [5.01215612e-15, 1.14109572e-14],\n",
       "       [1.35943103e-14, 1.14109572e-14],\n",
       "       [1.89583866e-14, 1.14109572e-14],\n",
       "       [1.00000000e+00, 1.18633461e-13]])"
      ]
     },
     "execution_count": 136,
     "metadata": {},
     "output_type": "execute_result"
    }
   ],
   "source": [
    "softmax(scaler.transform(x))"
   ]
  },
  {
   "cell_type": "code",
   "execution_count": 4,
   "id": "b234e571-523e-4f24-a12c-6936e7f597bd",
   "metadata": {},
   "outputs": [
    {
     "data": {
      "text/plain": [
       "array([[ 1.28571429, -0.71428571],\n",
       "       [-0.71428571,  1.28571429],\n",
       "       [ 2.28571429,  1.28571429],\n",
       "       [ 3.28571429,  1.28571429],\n",
       "       [98.28571429, 11.28571429]])"
      ]
     },
     "execution_count": 4,
     "metadata": {},
     "output_type": "execute_result"
    }
   ],
   "source": [
    "import numpy as np\n",
    "y = x-np.median(x)/(np.percentile(x, 75)-np.percentile(x, 25))\n",
    "y"
   ]
  },
  {
   "cell_type": "code",
   "execution_count": 127,
   "id": "a1c4b05c-e396-45ff-aee0-09ea16cfb54c",
   "metadata": {},
   "outputs": [],
   "source": [
    "x=[3,1,4,5,100,1,3,3,3,13]"
   ]
  },
  {
   "cell_type": "code",
   "execution_count": 128,
   "id": "94f0fde5-4312-4bcf-a202-a25ac6580e69",
   "metadata": {},
   "outputs": [
    {
     "data": {
      "text/plain": [
       "3.0"
      ]
     },
     "execution_count": 128,
     "metadata": {},
     "output_type": "execute_result"
    }
   ],
   "source": [
    "import numpy as np\n",
    "np.percentile(x, 25)"
   ]
  },
  {
   "cell_type": "code",
   "execution_count": 129,
   "id": "54aa1d2b-abd9-44bc-b3cb-3f803b6767ab",
   "metadata": {},
   "outputs": [
    {
     "data": {
      "text/plain": [
       "4.75"
      ]
     },
     "execution_count": 129,
     "metadata": {},
     "output_type": "execute_result"
    }
   ],
   "source": [
    "np.percentile(x, 75)"
   ]
  },
  {
   "cell_type": "code",
   "execution_count": 114,
   "id": "08beacbf-2ae1-40f7-8875-2a196156319e",
   "metadata": {},
   "outputs": [
    {
     "name": "stdout",
     "output_type": "stream",
     "text": [
      "[[0.06955066 0.00941266]\n",
      " [0.00941266 0.06955066]\n",
      " [0.1890583  0.06955066]\n",
      " [0.51391374 0.06955066]]\n"
     ]
    }
   ],
   "source": [
    "import numpy as np\n",
    "\n",
    "def softmax(x):\n",
    "    \"\"\"Compute softmax values for each sets of scores in x.\"\"\"\n",
    "    e_x = np.exp(x - np.max(x))\n",
    "    return e_x / e_x.sum()\n",
    "\n",
    "scores = [3.0, 1.0, 0.2]\n",
    "scores = np.array(scores).reshape(-1,1)\n",
    "print(softmax(x))"
   ]
  },
  {
   "cell_type": "code",
   "execution_count": null,
   "id": "87f101e5-6f6f-4bb6-bc47-46d5e22f2940",
   "metadata": {},
   "outputs": [],
   "source": [
    "from sklearn.preprocessing import StandardScaler\n",
    "#X = np.array(df['deceduti']).reshape(-1,1)\n",
    "scaler = StandardScaler()\n",
    "scaler.fit(x)\n",
    "X_scaled = scaler.transform(x)\n",
    "X_scaled\n",
    "#df['z score'] = X_scaled.reshape(1,-1)[0]"
   ]
  },
  {
   "cell_type": "code",
   "execution_count": null,
   "id": "4c4e661d-7e11-489a-9b8a-3f27de029700",
   "metadata": {},
   "outputs": [],
   "source": []
  },
  {
   "cell_type": "code",
   "execution_count": 29,
   "id": "c5e56d9f-48bd-4f92-b613-a931ca550f78",
   "metadata": {},
   "outputs": [],
   "source": [
    "import numpy as np\n",
    "from sklearn.preprocessing import MaxAbsScaler\n",
    "#x = np.array(x).reshape(-1,1)\n",
    "scaler = MaxAbsScaler()\n",
    "scaler.fit(x)\n",
    "X_scaled = scaler.transform(x)"
   ]
  },
  {
   "cell_type": "code",
   "execution_count": 20,
   "id": "0ddcad5d-6a25-48fb-8efd-6edd165f21c6",
   "metadata": {},
   "outputs": [
    {
     "data": {
      "text/html": [
       "<div>\n",
       "<style scoped>\n",
       "    .dataframe tbody tr th:only-of-type {\n",
       "        vertical-align: middle;\n",
       "    }\n",
       "\n",
       "    .dataframe tbody tr th {\n",
       "        vertical-align: top;\n",
       "    }\n",
       "\n",
       "    .dataframe thead th {\n",
       "        text-align: right;\n",
       "    }\n",
       "</style>\n",
       "<table border=\"1\" class=\"dataframe\">\n",
       "  <thead>\n",
       "    <tr style=\"text-align: right;\">\n",
       "      <th></th>\n",
       "      <th>Fic</th>\n",
       "      <th>V_ACCT_NO</th>\n",
       "      <th>N_INT_RATE</th>\n",
       "      <th>V_MODULE_ID</th>\n",
       "      <th>STATUS</th>\n",
       "      <th>RATE</th>\n",
       "      <th>AVG_BAL</th>\n",
       "    </tr>\n",
       "  </thead>\n",
       "  <tbody>\n",
       "    <tr>\n",
       "      <th>28</th>\n",
       "      <td>2022-03-31</td>\n",
       "      <td>1104115000018080</td>\n",
       "      <td>17.35</td>\n",
       "      <td>NaN</td>\n",
       "      <td>NaN</td>\n",
       "      <td>NaN</td>\n",
       "      <td>750.37</td>\n",
       "    </tr>\n",
       "    <tr>\n",
       "      <th>29</th>\n",
       "      <td>2022-06-30</td>\n",
       "      <td>1104115000018080</td>\n",
       "      <td>17.75</td>\n",
       "      <td>TOD</td>\n",
       "      <td>STANDARD</td>\n",
       "      <td>MCLR</td>\n",
       "      <td>285.99</td>\n",
       "    </tr>\n",
       "    <tr>\n",
       "      <th>19</th>\n",
       "      <td>2022-03-31</td>\n",
       "      <td>1104115000016790</td>\n",
       "      <td>16.75</td>\n",
       "      <td>TOD</td>\n",
       "      <td>NPA</td>\n",
       "      <td>MCLR</td>\n",
       "      <td>6555.21</td>\n",
       "    </tr>\n",
       "    <tr>\n",
       "      <th>20</th>\n",
       "      <td>2022-04-30</td>\n",
       "      <td>1104115000016790</td>\n",
       "      <td>17.35</td>\n",
       "      <td>TOD</td>\n",
       "      <td>NPA</td>\n",
       "      <td>MCLR</td>\n",
       "      <td>6555.21</td>\n",
       "    </tr>\n",
       "    <tr>\n",
       "      <th>21</th>\n",
       "      <td>2022-05-31</td>\n",
       "      <td>1104115000016790</td>\n",
       "      <td>17.35</td>\n",
       "      <td>TOD</td>\n",
       "      <td>NPA</td>\n",
       "      <td>MCLR</td>\n",
       "      <td>6555.21</td>\n",
       "    </tr>\n",
       "  </tbody>\n",
       "</table>\n",
       "</div>"
      ],
      "text/plain": [
       "          Fic         V_ACCT_NO  N_INT_RATE V_MODULE_ID    STATUS  RATE  \\\n",
       "28 2022-03-31  1104115000018080       17.35         NaN       NaN   NaN   \n",
       "29 2022-06-30  1104115000018080       17.75         TOD  STANDARD  MCLR   \n",
       "19 2022-03-31  1104115000016790       16.75         TOD       NPA  MCLR   \n",
       "20 2022-04-30  1104115000016790       17.35         TOD       NPA  MCLR   \n",
       "21 2022-05-31  1104115000016790       17.35         TOD       NPA  MCLR   \n",
       "\n",
       "    AVG_BAL  \n",
       "28   750.37  \n",
       "29   285.99  \n",
       "19  6555.21  \n",
       "20  6555.21  \n",
       "21  6555.21  "
      ]
     },
     "execution_count": 20,
     "metadata": {},
     "output_type": "execute_result"
    }
   ],
   "source": [
    "d.sort_values(by = ['V_ACCT_NO', 'Fic'], ascending = [False, True], na_position = 'first')"
   ]
  },
  {
   "cell_type": "code",
   "execution_count": null,
   "id": "9c8dc7ae-10ce-4ad8-9a4e-f76e203c3c0d",
   "metadata": {},
   "outputs": [],
   "source": [
    "import numpy as np\n",
    "#inds = pd.isnull(df).any(1).nonzero()[0]\n",
    "index = d['STATUS'].index[d['STATUS'].apply(np.isnan)]\n",
    "index"
   ]
  },
  {
   "cell_type": "code",
   "execution_count": 72,
   "id": "a5276130-156b-468f-b679-cbaece060620",
   "metadata": {},
   "outputs": [
    {
     "data": {
      "text/plain": [
       "18"
      ]
     },
     "execution_count": 72,
     "metadata": {},
     "output_type": "execute_result"
    }
   ],
   "source": [
    "fruits = list(pd.isnull(d['Unnamed: 5']))\n",
    "fruits.index(True)"
   ]
  },
  {
   "cell_type": "code",
   "execution_count": null,
   "id": "61f81f05-07dc-499e-9618-8a734627695b",
   "metadata": {},
   "outputs": [],
   "source": [
    "d.index[d['STATUS'].apply(np.isnan)]"
   ]
  },
  {
   "cell_type": "code",
   "execution_count": null,
   "id": "f5e9ccad-cc09-491f-8591-ee378526001d",
   "metadata": {},
   "outputs": [],
   "source": []
  },
  {
   "cell_type": "code",
   "execution_count": null,
   "id": "0478ffab-1899-4474-888d-14208f2b0904",
   "metadata": {},
   "outputs": [],
   "source": []
  },
  {
   "cell_type": "code",
   "execution_count": null,
   "id": "6e521c73-f3f2-466f-a356-065d0728f2e2",
   "metadata": {},
   "outputs": [],
   "source": []
  },
  {
   "cell_type": "code",
   "execution_count": null,
   "id": "039bf6c3-9b89-4f75-b274-c6e6a6654029",
   "metadata": {},
   "outputs": [],
   "source": []
  },
  {
   "cell_type": "code",
   "execution_count": null,
   "id": "3a81120b-2b85-4369-bf68-a3d93d80e406",
   "metadata": {},
   "outputs": [],
   "source": []
  },
  {
   "cell_type": "code",
   "execution_count": null,
   "id": "492442e4-6c06-4efa-8a2e-feffe3ad8c3f",
   "metadata": {},
   "outputs": [],
   "source": []
  },
  {
   "cell_type": "code",
   "execution_count": null,
   "id": "1fe08d7e-a310-4e4b-a2b4-cae8cb78ce45",
   "metadata": {},
   "outputs": [],
   "source": []
  },
  {
   "cell_type": "code",
   "execution_count": null,
   "id": "f3499030-d4d8-475c-962e-199bf44238f0",
   "metadata": {},
   "outputs": [],
   "source": []
  }
 ],
 "metadata": {
  "kernelspec": {
   "display_name": "Python 3",
   "language": "python",
   "name": "python3"
  },
  "language_info": {
   "codemirror_mode": {
    "name": "ipython",
    "version": 3
   },
   "file_extension": ".py",
   "mimetype": "text/x-python",
   "name": "python",
   "nbconvert_exporter": "python",
   "pygments_lexer": "ipython3",
   "version": "3.9.1"
  }
 },
 "nbformat": 4,
 "nbformat_minor": 5
}
