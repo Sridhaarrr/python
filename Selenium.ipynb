{
 "cells": [
  {
   "cell_type": "code",
   "execution_count": null,
   "id": "7e610550-3fa2-4b01-9d67-c2f059ea1d3d",
   "metadata": {},
   "outputs": [],
   "source": [
    "from selenium import webdriver\n",
    "from selenium.webdriver.support import expected_conditions as ec\n",
    "from selenium.webdriver.support.wait import WebDriverWait\n",
    "from selenium.webdriver.common.by import By\n",
    "from selenium.webdriver.support.select import Select\n",
    "from selenium.common.exceptions import *\n",
    "import re\n",
    "import pandas as pd\n",
    "import numpy as np\n",
    "\n",
    "chrome_options = webdriver.ChromeOptions()\n",
    "chrome_options.add_argument('--headless')\n",
    "chrome_options.add_argument('--no-sandbox')\n",
    "chrome_options.add_argument('--disable-dev-shm-usage')\n",
    "err1=[]"
   ]
  },
  {
   "cell_type": "code",
   "execution_count": null,
   "id": "db55a1b8-7aea-47e0-88e0-431ba565005c",
   "metadata": {},
   "outputs": [],
   "source": [
    "df = pd.read_excel('3mAP.xlsx', 'pin')"
   ]
  },
  {
   "cell_type": "code",
   "execution_count": null,
   "id": "f012201f-65c2-43d3-9796-7849624eadb2",
   "metadata": {},
   "outputs": [],
   "source": [
    "wd1.delete_all_cookies()\n",
    "wd2.delete_all_cookies()\n",
    "wd3.delete_all_cookies()\n",
    "wd4.delete_all_cookies()"
   ]
  },
  {
   "cell_type": "code",
   "execution_count": null,
   "id": "74ff4a68-7570-4eb6-b15f-94879ccc8a02",
   "metadata": {},
   "outputs": [],
   "source": [
    "de = pd.DataFrame(c, columns =[\"A\", \"B\"])\n",
    "de.to_excel(\"Pintn1.xlsx\", index = False)"
   ]
  },
  {
   "cell_type": "code",
   "execution_count": null,
   "id": "df7264a8-9a9d-47d7-ae8d-2324f062fa0a",
   "metadata": {},
   "outputs": [],
   "source": [
    "\n",
    "#df1 = pd.read_excel(\"st1.xlsx\", 'Sheet1')\n",
    "#df = pd.read_excel(\"Msme.xlsx\", 'Sheet7')\n",
    "df = pd.read_excel('3mAP.xlsx', 'pin')\n",
    "arr = df['Pincod'].tolist()\n",
    "c=[]\n",
    "\n",
    "wd1 = webdriver.Chrome('D:\\libs\\chromedriver.exe',chrome_options=chrome_options)\n",
    "wd2 = webdriver.Chrome('D:\\libs\\chromedriver.exe',chrome_options=chrome_options)\n",
    "wd3 = webdriver.Chrome('D:\\libs\\chromedriver.exe',chrome_options=chrome_options)\n",
    "wd4 = webdriver.Chrome('D:\\libs\\chromedriver.exe',chrome_options=chrome_options)\n",
    "\n",
    "#for TERM in err:\n",
    "for TERM in range(0,899):\n",
    "    try:\n",
    "    #print(TERM)\n",
    "        \n",
    "        search_string =  arr[TERM].replace(' ', '+') \n",
    "        for i in range(1):\n",
    "            matched_elements = wd1.get(\"https://www.google.com/search?q=\" +\n",
    "                                         search_string + \"&start=\" + str(i))\n",
    "            x = wd1.find_element_by_xpath('//*[@class=\"Z0LcW XcVN5d\"]').text\n",
    "            c.append((TERM,x))\n",
    "        \n",
    "        search_string = arr[TERM+100].replace(' ', '+') \n",
    "        for i in range(1):\n",
    "            matched_elements = wd2.get(\"https://www.google.com/search?q=\" +\n",
    "                                         search_string + \"&start=\" + str(i))\n",
    "            x = wd2.find_element_by_xpath('//*[@class=\"Z0LcW XcVN5d\"]').text\n",
    "            c.append((arr[TERM+100],x)) \n",
    "        \n",
    "        search_string = arr[TERM+200].replace(' ', '+') \n",
    "        for i in range(1):\n",
    "            matched_elements = wd3.get(\"https://www.google.com/search?q=\" +\n",
    "                                         search_string + \"&start=\" + str(i))\n",
    "            x = wd3.find_element_by_xpath('//*[@class=\"Z0LcW XcVN5d\"]').text\n",
    "            c.append((arr[TERM+200],x)) \n",
    "       \n",
    "        search_string = arr[TERM+300].replace(' ', '+') \n",
    "        for i in range(1):\n",
    "            matched_elements = wd4.get(\"https://www.google.com/search?q=\" +\n",
    "                                         search_string + \"&start=\" + str(i))\n",
    "            x = wd4.find_element_by_xpath('//*[@class=\"Z0LcW XcVN5d\"]').text\n",
    "            c.append((arr[TERM+300],x))         \n",
    "\n",
    "    except (NoSuchElementException,TimeoutException):\n",
    "        err1.append(arr[TERM])\n",
    "        print (\"Exception has been thrown. \"+str(TERM)) \n",
    "    "
   ]
  },
  {
   "cell_type": "code",
   "execution_count": null,
   "id": "33c0569b-f0f3-4b3c-a94a-cc9efa5e57ff",
   "metadata": {},
   "outputs": [],
   "source": [
    "de = pd.DataFrame(c, columns =[\"A\", \"B\"])\n",
    "de.to_excel(\"Pin_N.xlsx\", index = False)"
   ]
  },
  {
   "cell_type": "code",
   "execution_count": null,
   "id": "be712945-e563-4f5b-9664-325949b797dc",
   "metadata": {},
   "outputs": [],
   "source": [
    "x = df['postalCode'].tolist()"
   ]
  },
  {
   "cell_type": "code",
   "execution_count": null,
   "id": "bc16a2ea-9fbc-4a3c-ab05-a0a148d08610",
   "metadata": {},
   "outputs": [],
   "source": [
    "search_string = input(\"Input the URL or string you want to search for:\")\n",
    "  \n",
    "# This is done to structure the string \n",
    "# into search url.(This can be ignored)\n",
    "search_string = search_string.replace(' ', '+') \n",
    "for i in range(1):\n",
    "    matched_elements = wd1.get(\"https://www.google.com/search?q=\" +\n",
    "                                     search_string + \"&start=\" + str(i))\n",
    "    x = wd1.find_element_by_xpath('//*[@class=\"Z0LcW XcVN5d\"]').text"
   ]
  },
  {
   "cell_type": "code",
   "execution_count": null,
   "id": "2c8a05d3-66df-4c9f-8c60-72c919507d97",
   "metadata": {},
   "outputs": [],
   "source": [
    "df1 = pd.read_excel('Haversine.xlsx', 'Sheet3', header=0, usecols = ('Branch', 'Br_code'))\n",
    "df2 = pd.read_excel('Bran_7.xlsx', 'Sheet1', header=0)"
   ]
  },
  {
   "cell_type": "code",
   "execution_count": null,
   "id": "b92d5bca-2f90-4b06-918c-7373401940b0",
   "metadata": {},
   "outputs": [],
   "source": [
    "inner_join = pd.merge(df1,\n",
    "                      df2,\n",
    "                      on ='Branch',\n",
    "                      how ='inner')\n",
    "inner_join"
   ]
  },
  {
   "cell_type": "code",
   "execution_count": null,
   "id": "1b579a07-61d8-423d-9494-d22bd120a77d",
   "metadata": {},
   "outputs": [],
   "source": [
    "inner_join.to_excel(\"NewCoor.xlsx\", index = False)"
   ]
  },
  {
   "cell_type": "code",
   "execution_count": null,
   "id": "36b64618-4f3f-457d-89e6-d8f2d02e9f96",
   "metadata": {},
   "outputs": [],
   "source": [
    "df1 = pd.read_excel(\"BBU.xlsx\", 'BBU', usecols = ('Division', 'Div', 'Br_code'))\n",
    "df2 = pd.read_excel(\"BBU.xlsx\", 'CBU', usecols = ('Division', 'Div', 'Br_code'))"
   ]
  },
  {
   "cell_type": "code",
   "execution_count": null,
   "id": "6a7508c7-067d-4eca-a162-e17eae7d6b90",
   "metadata": {},
   "outputs": [],
   "source": [
    "inner_join3 = pd.merge(df1,\n",
    "                      df2,\n",
    "                      on ='Division',\n",
    "                      how ='inner')"
   ]
  },
  {
   "cell_type": "code",
   "execution_count": null,
   "id": "cb471325-9f3c-467f-9440-6ee9946be695",
   "metadata": {},
   "outputs": [],
   "source": [
    "inner_join1 = pd.merge(df1,\n",
    "                      df2,\n",
    "                      on ='Div',\n",
    "                      how ='inner')"
   ]
  },
  {
   "cell_type": "code",
   "execution_count": null,
   "id": "eac08e12-6d47-4d00-b7ff-b2dba687923f",
   "metadata": {},
   "outputs": [],
   "source": [
    "df1 = pd.read_excel(\"BBU.xlsx\", 'BBU')\n",
    "df2 = pd.read_excel('Haversine.xlsx', 'Sheet3', header=0, usecols = ('Branch', 'Br_code'))"
   ]
  },
  {
   "cell_type": "code",
   "execution_count": null,
   "id": "7f1c9426-1916-428d-a79b-83570713e37e",
   "metadata": {},
   "outputs": [],
   "source": [
    "df3 = pd.read_excel('emp_det_KVB.xlsx', 'CBH', header=0, usecols = ('emp_code', 'Br_code'))\n",
    "df3 = pd.read_excel('emp_det_KVB.xlsx', 'BBH', header=0, usecols = ('emp_code', 'Br_code'))"
   ]
  },
  {
   "cell_type": "code",
   "execution_count": null,
   "id": "def4938d-25a9-413e-9940-3d5850974835",
   "metadata": {},
   "outputs": [],
   "source": [
    "inner_join2 = pd.merge(df1,\n",
    "                      df2,\n",
    "                      on ='Br_code',\n",
    "                      how ='inner')"
   ]
  },
  {
   "cell_type": "code",
   "execution_count": null,
   "id": "d7ca675a-c496-491c-b1ed-c34863de1ba5",
   "metadata": {},
   "outputs": [],
   "source": [
    "inner_join2 = pd.merge(df1,\n",
    "                      df2,\n",
    "                      on ='Br_code',\n",
    "                      how ='inner')"
   ]
  },
  {
   "cell_type": "code",
   "execution_count": null,
   "id": "032b2f9c-5ea6-4a32-9dbe-17415cba91ff",
   "metadata": {},
   "outputs": [],
   "source": [
    "inner_join.to_excel(\"Test1.xlsx\", index = False)"
   ]
  },
  {
   "cell_type": "code",
   "execution_count": null,
   "id": "a604ad88-8685-4876-9b25-9ab40c8603fb",
   "metadata": {},
   "outputs": [],
   "source": [
    "len(inner_join)"
   ]
  },
  {
   "cell_type": "code",
   "execution_count": null,
   "id": "42fee12e-a8b5-488f-b753-cdb3d54fe161",
   "metadata": {},
   "outputs": [],
   "source": [
    "de = pd.DataFrame(c, columns =[\"A\", \"B\"])\n",
    "de.to_excel(\"Pin_Lat2.xlsx\", index = False)"
   ]
  },
  {
   "cell_type": "code",
   "execution_count": null,
   "id": "3b5b06da-94ce-4b88-9779-181511a75996",
   "metadata": {},
   "outputs": [],
   "source": [
    "d = pd.DataFrame(c, columns =[\"A\", \"B\"])\n",
    "d.to_excel(\"Pin_Lat.xlsx\", index = False)"
   ]
  },
  {
   "cell_type": "code",
   "execution_count": null,
   "id": "960263af-841b-4f08-bbe8-ac810c6d8246",
   "metadata": {},
   "outputs": [],
   "source": [
    "wd1.find_element_by_xpath('//*[@class=\"Z0LcW XcVN5d\"]').text\n"
   ]
  },
  {
   "cell_type": "code",
   "execution_count": null,
   "id": "172f7541-b1b1-413b-a7e1-a49ca2aa6a8b",
   "metadata": {},
   "outputs": [],
   "source": [
    "https://maps.google.com/maps?q=19-A,20,+.,+NORTH+CAR+STREET,+19-A,20,+609110&amp;rlz=1C1GCEU_enIN937IN937&amp;um=1&amp;ie=UTF-8&amp;sa=X&amp;ved=2ahUKEwjq0fXX7_DxAhXwILcAHWx4CeQQ_AUoAXoECAEQAw"
   ]
  },
  {
   "cell_type": "code",
   "execution_count": null,
   "id": "3d005d4e-7cf9-4034-8dca-adc0faf7920f",
   "metadata": {},
   "outputs": [],
   "source": [
    "wd1.find_element_by_xpath('//a[contains(@href,\"https://maps.google.com/maps?q=19-A,20,+.,+NORTH+CAR+STREET,+19-A,20,+609110&amp;rlz=1C1GCEU_enIN937IN937&amp;um=1&amp;ie=UTF-8&amp;sa=X&amp;ved=2ahUKEwjq0fXX7_DxAhXwILcAHWx4CeQQ_AUoAXoECAEQAw\")]')\n"
   ]
  },
  {
   "cell_type": "code",
   "execution_count": null,
   "id": "22cff60e-c710-4a93-8731-70165ca8dcc0",
   "metadata": {},
   "outputs": [],
   "source": [
    "element = wd.find_element_by_xpath('//*[@id=\"imgCaptcha\"]')\n",
    "location = element.location    \n",
    "size = element.size    \n",
    "wd.save_screenshot('/content/drive/MyDrive/Colab Notebooks/screenshot.png')"
   ]
  },
  {
   "cell_type": "code",
   "execution_count": null,
   "id": "d0a25357-eaba-4e05-80fe-0efc33ebdf4c",
   "metadata": {},
   "outputs": [],
   "source": [
    "wd1.find_element_by_xpath('//a[@href=\"'https://maps.google.com/maps?q=19-A,20,+.,+NORTH+CAR+STREET,+19-A,20,+609110&amp;rlz=1C1GCEU_enIN937IN937&amp;um=1&amp;ie=UTF-8&amp;sa=X&amp;ved=2ahUKEwjq0fXX7_DxAhXwILcAHWx4CeQQ_AUoAXoECAEQAw'\"]')\n",
    "\n",
    "#<a href=\"https://maps.google.com/maps?q=19-A,20,+.,+NORTH+CAR+STREET,+19-A,20,+609110&amp;rlz=1C1GCEU_enIN937IN937&amp;um=1&amp;ie=UTF-8&amp;sa=X&amp;ved=2ahUKEwjq0fXX7_DxAhXwILcAHWx4CeQQ_AUoAXoECAEQAw\" data-hveid=\"CAEQAw\"><span class=\"bmaJhd iJddsb\" style=\"height:16px;width:16px\"><svg focusable=\"false\" viewBox=\"0 0 16 16\"><path d=\"M7.503 0c3.09 0 5.502 2.487 5.502 5.427 0 2.337-1.13 3.694-2.26 5.05-.454.528-.906 1.13-1.358 1.734-.452.603-.754 1.508-.98 1.96-.226.452-.377.829-.904.829-.528 0-.678-.377-.905-.83-.226-.451-.527-1.356-.98-1.959-.452-.603-.904-1.206-1.356-1.734C3.132 9.121 2 7.764 2 5.427 2 2.487 4.412 0 7.503 0zm0 1.364c-2.283 0-4.14 1.822-4.14 4.063 0 1.843.86 2.873 1.946 4.177.468.547.942 1.178 1.4 1.79.34.452.596.99.794 1.444.198-.455.453-.992.793-1.445.459-.61.931-1.242 1.413-1.803 1.074-1.29 1.933-2.32 1.933-4.163 0-2.24-1.858-4.063-4.139-4.063zm0 2.734a1.33 1.33 0 11-.001 2.658 1.33 1.33 0 010-2.658\"></path></svg></span>Maps</a>"
   ]
  },
  {
   "cell_type": "code",
   "execution_count": null,
   "id": "532f2a65-2383-40a1-9cce-dd3d23f2d7b4",
   "metadata": {},
   "outputs": [],
   "source": [
    "def get_captcha_text(location, size):\n",
    "  pytesseract.pytesseract.tesseract_cmd = (r'/usr/bin/tesseract') \n",
    "  #pytesseract.pytesseract.tesseract_cmd =  r'/usr/local/bin/pytesseract'    \n",
    "  im = Image.open('/content/drive/MyDrive/Colab Notebooks/screenshot.png')  \n",
    "  left = location['x']    \n",
    "  top = location['y']    \n",
    "  right = location['x'] + size['width']    \n",
    "  bottom = location['y'] + size['height']\n",
    "  im = im.crop((left, top, right, bottom)) # defines crop points    \n",
    "  im.save('screenshot1.png')    \n",
    "  captcha_text = image_to_string(Image.open('screenshot.png'))    \n",
    "  return captcha_text"
   ]
  }
 ],
 "metadata": {
  "kernelspec": {
   "display_name": "Python 3",
   "language": "python",
   "name": "python3"
  },
  "language_info": {
   "codemirror_mode": {
    "name": "ipython",
    "version": 3
   },
   "file_extension": ".py",
   "mimetype": "text/x-python",
   "name": "python",
   "nbconvert_exporter": "python",
   "pygments_lexer": "ipython3",
   "version": "3.9.1"
  }
 },
 "nbformat": 4,
 "nbformat_minor": 5
}
