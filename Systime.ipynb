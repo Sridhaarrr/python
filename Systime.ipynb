{
 "cells": [
  {
   "cell_type": "code",
   "execution_count": 31,
   "id": "c421a36d-8a5d-43d0-af03-126c34fffd11",
   "metadata": {},
   "outputs": [
    {
     "name": "stdout",
     "output_type": "stream",
     "text": [
      "C:\\Users\\018598\\Stock_price_14-12-2022.xlsx\n",
      "<class 'pandas.core.frame.DataFrame'>\n",
      "Index: 0 entries\n",
      "Data columns (total 7 columns):\n",
      " #   Column     Non-Null Count  Dtype \n",
      "---  ------     --------------  ----- \n",
      " 0   Date       0 non-null      object\n",
      " 1   Company    0 non-null      object\n",
      " 2   High       0 non-null      object\n",
      " 3   Low        0 non-null      object\n",
      " 4   Open       0 non-null      object\n",
      " 5   Close      0 non-null      object\n",
      " 6   changeClo  0 non-null      object\n",
      "dtypes: object(7)\n",
      "memory usage: 0.0+ bytes\n"
     ]
    }
   ],
   "source": [
    "import glob\n",
    "import os\n",
    "from datetime import datetime,date, timedelta\n",
    "folder_path = os.getcwd()\n",
    "file_type = r'\\*xlsx'\n",
    "files = glob.glob(folder_path + file_type)\n",
    "key=os.path.getmtime\n",
    "max_file = max(files, key=key)\n",
    "print(max_file)\n",
    "import pandas as pd\n",
    "data = pd.read_excel(max_file)\n",
    "data.info()"
   ]
  },
  {
   "cell_type": "code",
   "execution_count": 28,
   "id": "67aa0ce3-59c6-4573-b2d4-db8413a16b0d",
   "metadata": {},
   "outputs": [
    {
     "name": "stdout",
     "output_type": "stream",
     "text": [
      "C:/Users/018598/Downloads\\31122022.xlsx\n"
     ]
    }
   ],
   "source": [
    "import glob\n",
    "import os\n",
    "import re\n",
    "from datetime import datetime,date, timedelta\n",
    "folder_path = 'C:/Users/018598/Downloads\\\\'\n",
    "file_type = r'\\*xlsx'\n",
    "files = glob.glob(folder_path + file_type)\n",
    "key=os.path.getmtime\n",
    "max_file = max(files, key=key)\n",
    "print(max_file)"
   ]
  },
  {
   "cell_type": "code",
   "execution_count": 29,
   "id": "ca4c1abe-688d-4ce6-a03c-c766d112536f",
   "metadata": {},
   "outputs": [
    {
     "data": {
      "text/plain": [
       "'C:\\\\Users\\\\018598\\\\Downloads\\\\31122022.xlsx'"
      ]
     },
     "execution_count": 29,
     "metadata": {},
     "output_type": "execute_result"
    }
   ],
   "source": [
    "max_file.replace(r'/', '\\\\')"
   ]
  }
 ],
 "metadata": {
  "kernelspec": {
   "display_name": "Python 3",
   "language": "python",
   "name": "python3"
  },
  "language_info": {
   "codemirror_mode": {
    "name": "ipython",
    "version": 3
   },
   "file_extension": ".py",
   "mimetype": "text/x-python",
   "name": "python",
   "nbconvert_exporter": "python",
   "pygments_lexer": "ipython3",
   "version": "3.9.1"
  }
 },
 "nbformat": 4,
 "nbformat_minor": 5
}
