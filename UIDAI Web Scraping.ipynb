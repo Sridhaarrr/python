{
 "cells": [
  {
   "cell_type": "code",
   "execution_count": 109,
   "id": "da9b5b48",
   "metadata": {},
   "outputs": [],
   "source": [
    "import pandas as pd\n",
    "from IPython.display import HTML\n",
    "from selenium import webdriver\n",
    "from time import sleep\n",
    "#from webdriver_manager.chrome import ChromeDriverManager\n",
    "from selenium.webdriver.chrome.options import Options\n",
    "from selenium.common.exceptions import TimeoutException\n",
    "import numpy as np\n",
    "chrome_options = webdriver.ChromeOptions()\n",
    "chrome_options.add_argument('--headless')\n",
    "chrome_options.add_argument('--no-sandbox')\n",
    "chrome_options.add_argument('--disable-dev-shm-usage')\n",
    "from selenium.webdriver.support.ui import Select\n",
    "from selenium.webdriver.remote.webelement import WebElement"
   ]
  },
  {
   "cell_type": "code",
   "execution_count": 154,
   "id": "0002dece",
   "metadata": {
    "scrolled": true
   },
   "outputs": [
    {
     "name": "stdout",
     "output_type": "stream",
     "text": [
      "Opened PBG\n"
     ]
    }
   ],
   "source": [
    "#driver = webdriver.Chrome(executable_path=r'chromedriver.exe'),chrome_options=chrome_options\n",
    "driver = webdriver.Chrome('D:\\libs\\chromedriver.exe')\n",
    "driver.get('https://udyamregistration.gov.in/SearchRegistration.aspx')\n",
    "print (\"Opened PBG\")\n",
    "sleep(1)"
   ]
  },
  {
   "cell_type": "code",
   "execution_count": 155,
   "id": "66ec454f",
   "metadata": {
    "scrolled": true
   },
   "outputs": [],
   "source": [
    "driver.find_element_by_id('ctl00_ContentPlaceHolder1_rblType_1').click()  #for aadhar website"
   ]
  },
  {
   "cell_type": "code",
   "execution_count": 156,
   "id": "c5ed7ef8",
   "metadata": {
    "scrolled": true
   },
   "outputs": [],
   "source": [
    "state_box = driver.find_element_by_name('ctl00$ContentPlaceHolder1$ddlPState')"
   ]
  },
  {
   "cell_type": "code",
   "execution_count": 157,
   "id": "81beab8f",
   "metadata": {
    "scrolled": true
   },
   "outputs": [],
   "source": [
    "drop = Select(state_box)\n",
    "drop.select_by_value(\"33\") #TamilNadu\n",
    "#drop.select_by_value(\"28\") #AP\n",
    "#drop.select_by_value(\"32\") #Kerala\n",
    "#drop.select_by_value(\"36\") #Telengana\n",
    "#drop.select_by_value(\"29\") #Karnataka"
   ]
  },
  {
   "cell_type": "code",
   "execution_count": 158,
   "id": "66951d1e",
   "metadata": {},
   "outputs": [],
   "source": [
    "search_box = driver.find_element_by_name('ctl00$ContentPlaceHolder1$txtsearchNic')"
   ]
  },
  {
   "cell_type": "code",
   "execution_count": 159,
   "id": "e23bf039",
   "metadata": {},
   "outputs": [],
   "source": [
    "search_box.send_keys(\"Service\")\n",
    "#search_box.send_keys(\"Manufacturing\")"
   ]
  },
  {
   "cell_type": "code",
   "execution_count": 160,
   "id": "27c33017",
   "metadata": {},
   "outputs": [],
   "source": [
    "search_button = driver.find_element_by_name('ctl00$ContentPlaceHolder1$btnSearch')"
   ]
  },
  {
   "cell_type": "code",
   "execution_count": 161,
   "id": "a3e1cab4",
   "metadata": {},
   "outputs": [],
   "source": [
    "search_button.click()\n",
    "sleep(10)"
   ]
  },
  {
   "cell_type": "code",
   "execution_count": 164,
   "id": "1b8eb88c",
   "metadata": {},
   "outputs": [],
   "source": [
    "html = driver.page_source\n",
    "sleep(2)"
   ]
  },
  {
   "cell_type": "code",
   "execution_count": 165,
   "id": "59701b15",
   "metadata": {},
   "outputs": [
    {
     "data": {
      "text/plain": [
       "['.aspx?cod=09101&amp;ty=1&amp;si=33&amp;di=0',\n",
       " '.aspx?cod=09102&amp;ty=1&amp;si=33&amp;di=0',\n",
       " '.aspx?cod=09103&amp;ty=1&amp;si=33&amp;di=0',\n",
       " '.aspx?cod=09104&amp;ty=1&amp;si=33&amp;di=0',\n",
       " '.aspx?cod=18129&amp;ty=1&amp;si=33&amp;di=0',\n",
       " '.aspx?cod=30202&amp;ty=1&amp;si=33&amp;di=0',\n",
       " '.aspx?cod=39000&amp;ty=1&amp;si=33&amp;di=0',\n",
       " '.aspx?cod=47599&amp;ty=1&amp;si=33&amp;di=0',\n",
       " '.aspx?cod=49221&amp;ty=1&amp;si=33&amp;di=0',\n",
       " '.aspx?cod=49222&amp;ty=1&amp;si=33&amp;di=0',\n",
       " '.aspx?cod=50111&amp;ty=1&amp;si=33&amp;di=0',\n",
       " '.aspx?cod=50211&amp;ty=1&amp;si=33&amp;di=0',\n",
       " '.aspx?cod=50212&amp;ty=1&amp;si=33&amp;di=0',\n",
       " '.aspx?cod=51102&amp;ty=1&amp;si=33&amp;di=0',\n",
       " '.aspx?cod=51201&amp;ty=1&amp;si=33&amp;di=0',\n",
       " '.aspx?cod=52212&amp;ty=1&amp;si=33&amp;di=0',\n",
       " '.aspx?cod=52219&amp;ty=1&amp;si=33&amp;di=0',\n",
       " '.aspx?cod=52220&amp;ty=1&amp;si=33&amp;di=0',\n",
       " '.aspx?cod=52232&amp;ty=1&amp;si=33&amp;di=0',\n",
       " '.aspx?cod=56291&amp;ty=1&amp;si=33&amp;di=0',\n",
       " '.aspx?cod=61101&amp;ty=1&amp;si=33&amp;di=0',\n",
       " '.aspx?cod=62099&amp;ty=1&amp;si=33&amp;di=0',\n",
       " '.aspx?cod=63114&amp;ty=1&amp;si=33&amp;di=0',\n",
       " '.aspx?cod=63991&amp;ty=1&amp;si=33&amp;di=0',\n",
       " '.aspx?cod=63999&amp;ty=1&amp;si=33&amp;di=0',\n",
       " '.aspx?cod=64199&amp;ty=1&amp;si=33&amp;di=0',\n",
       " '.aspx?cod=64990&amp;ty=1&amp;si=33&amp;di=0',\n",
       " '.aspx?cod=66190&amp;ty=1&amp;si=33&amp;di=0',\n",
       " '.aspx?cod=74103&amp;ty=1&amp;si=33&amp;di=0',\n",
       " '.aspx?cod=79900&amp;ty=1&amp;si=33&amp;di=0',\n",
       " '.aspx?cod=80200&amp;ty=1&amp;si=33&amp;di=0',\n",
       " '.aspx?cod=81300&amp;ty=1&amp;si=33&amp;di=0',\n",
       " '.aspx?cod=82110&amp;ty=1&amp;si=33&amp;di=0',\n",
       " '.aspx?cod=82191&amp;ty=1&amp;si=33&amp;di=0',\n",
       " '.aspx?cod=82199&amp;ty=1&amp;si=33&amp;di=0',\n",
       " '.aspx?cod=82990&amp;ty=1&amp;si=33&amp;di=0',\n",
       " '.aspx?cod=84129&amp;ty=1&amp;si=33&amp;di=0',\n",
       " '.aspx?cod=85491&amp;ty=1&amp;si=33&amp;di=0',\n",
       " '.aspx?cod=85499&amp;ty=1&amp;si=33&amp;di=0',\n",
       " '.aspx?cod=85500&amp;ty=1&amp;si=33&amp;di=0',\n",
       " '.aspx?cod=96091&amp;ty=1&amp;si=33&amp;di=0',\n",
       " '.aspx?cod=96092&amp;ty=1&amp;si=33&amp;di=0',\n",
       " '.aspx?cod=96094&amp;ty=1&amp;si=33&amp;di=0']"
      ]
     },
     "execution_count": 165,
     "metadata": {},
     "output_type": "execute_result"
    }
   ],
   "source": [
    "import re\n",
    "d = re.findall(r'href=\"SearchRegDetail(.*?)\"', html)\n",
    "d"
   ]
  },
  {
   "cell_type": "code",
   "execution_count": 166,
   "id": "89d9e771",
   "metadata": {},
   "outputs": [],
   "source": [
    "k = \"https://udyamregistration.gov.in/SearchRegDetail\"\n",
    "d_new = [k+j for j in d]\n",
    "d_new2 = [x.replace('amp;','') for x in d_new]"
   ]
  },
  {
   "cell_type": "code",
   "execution_count": 167,
   "id": "b9526797-7496-4ea7-b027-1a233ee9b9f8",
   "metadata": {},
   "outputs": [],
   "source": [
    "wd1 = webdriver.Chrome('D:\\libs\\chromedriver.exe')\n",
    "wd1.get(d_new2[1])"
   ]
  },
  {
   "cell_type": "code",
   "execution_count": 73,
   "id": "d49dc7fb-1e2a-47c4-86d5-df1f7ec32225",
   "metadata": {},
   "outputs": [
    {
     "data": {
      "text/plain": [
       "'https://udyamregistration.gov.in/SearchRegDetail.aspx?cod=09102&ty=1&si=32&di=0'"
      ]
     },
     "execution_count": 73,
     "metadata": {},
     "output_type": "execute_result"
    }
   ],
   "source": [
    "d_new2[1]"
   ]
  },
  {
   "cell_type": "code",
   "execution_count": 102,
   "id": "eaa1a286",
   "metadata": {},
   "outputs": [
    {
     "ename": "UnexpectedAlertPresentException",
     "evalue": "Alert Text: NetworkError: Failed to execute 'send' on 'XMLHttpRequest': Failed to load 'https://gistlangserver.in/api/leveraging/GetSupportedLocales'.\nMessage: unexpected alert open: {Alert text : NetworkError: Failed to execute 'send' on 'XMLHttpRequest': Failed to load 'https://gistlangserver.in/api/leveraging/GetSupportedLocales'.}\n  (Session info: chrome=107.0.5304.89)\n",
     "output_type": "error",
     "traceback": [
      "\u001b[1;31m---------------------------------------------------------------------------\u001b[0m",
      "\u001b[1;31mUnexpectedAlertPresentException\u001b[0m           Traceback (most recent call last)",
      "\u001b[1;32m<ipython-input-102-78098756e07f>\u001b[0m in \u001b[0;36m<module>\u001b[1;34m\u001b[0m\n\u001b[0;32m     10\u001b[0m \u001b[1;31m#         drop2 = Select(all_box)\u001b[0m\u001b[1;33m\u001b[0m\u001b[1;33m\u001b[0m\u001b[1;33m\u001b[0m\u001b[0m\n\u001b[0;32m     11\u001b[0m \u001b[1;31m#         drop2.select_by_value(\"-1\")\u001b[0m\u001b[1;33m\u001b[0m\u001b[1;33m\u001b[0m\u001b[1;33m\u001b[0m\u001b[0m\n\u001b[1;32m---> 12\u001b[1;33m         \u001b[0mtable\u001b[0m \u001b[1;33m=\u001b[0m \u001b[0mwd1\u001b[0m\u001b[1;33m.\u001b[0m\u001b[0mfind_element_by_xpath\u001b[0m\u001b[1;33m(\u001b[0m\u001b[1;34m\"//table[@id='example1']\"\u001b[0m\u001b[1;33m)\u001b[0m\u001b[1;33m\u001b[0m\u001b[1;33m\u001b[0m\u001b[0m\n\u001b[0m\u001b[0;32m     13\u001b[0m         \u001b[1;31m#table = WebDriverWait(wd1,20).until(ec.presence_of_element_located((By.XPATH, \"//table[@id='example1']\")))\u001b[0m\u001b[1;33m\u001b[0m\u001b[1;33m\u001b[0m\u001b[1;33m\u001b[0m\u001b[0m\n\u001b[0;32m     14\u001b[0m         \u001b[0mt\u001b[0m \u001b[1;33m=\u001b[0m \u001b[0mtable\u001b[0m\u001b[1;33m.\u001b[0m\u001b[0mget_attribute\u001b[0m\u001b[1;33m(\u001b[0m\u001b[1;34m'outerHTML'\u001b[0m\u001b[1;33m)\u001b[0m\u001b[1;33m\u001b[0m\u001b[1;33m\u001b[0m\u001b[0m\n",
      "\u001b[1;32mD:\\lib\\site-packages\\selenium\\webdriver\\remote\\webdriver.py\u001b[0m in \u001b[0;36mfind_element_by_xpath\u001b[1;34m(self, xpath)\u001b[0m\n\u001b[0;32m    392\u001b[0m             \u001b[0melement\u001b[0m \u001b[1;33m=\u001b[0m \u001b[0mdriver\u001b[0m\u001b[1;33m.\u001b[0m\u001b[0mfind_element_by_xpath\u001b[0m\u001b[1;33m(\u001b[0m\u001b[1;34m'//div/td[1]'\u001b[0m\u001b[1;33m)\u001b[0m\u001b[1;33m\u001b[0m\u001b[1;33m\u001b[0m\u001b[0m\n\u001b[0;32m    393\u001b[0m         \"\"\"\n\u001b[1;32m--> 394\u001b[1;33m         \u001b[1;32mreturn\u001b[0m \u001b[0mself\u001b[0m\u001b[1;33m.\u001b[0m\u001b[0mfind_element\u001b[0m\u001b[1;33m(\u001b[0m\u001b[0mby\u001b[0m\u001b[1;33m=\u001b[0m\u001b[0mBy\u001b[0m\u001b[1;33m.\u001b[0m\u001b[0mXPATH\u001b[0m\u001b[1;33m,\u001b[0m \u001b[0mvalue\u001b[0m\u001b[1;33m=\u001b[0m\u001b[0mxpath\u001b[0m\u001b[1;33m)\u001b[0m\u001b[1;33m\u001b[0m\u001b[1;33m\u001b[0m\u001b[0m\n\u001b[0m\u001b[0;32m    395\u001b[0m \u001b[1;33m\u001b[0m\u001b[0m\n\u001b[0;32m    396\u001b[0m     \u001b[1;32mdef\u001b[0m \u001b[0mfind_elements_by_xpath\u001b[0m\u001b[1;33m(\u001b[0m\u001b[0mself\u001b[0m\u001b[1;33m,\u001b[0m \u001b[0mxpath\u001b[0m\u001b[1;33m)\u001b[0m\u001b[1;33m:\u001b[0m\u001b[1;33m\u001b[0m\u001b[1;33m\u001b[0m\u001b[0m\n",
      "\u001b[1;32mD:\\lib\\site-packages\\selenium\\webdriver\\remote\\webdriver.py\u001b[0m in \u001b[0;36mfind_element\u001b[1;34m(self, by, value)\u001b[0m\n\u001b[0;32m    974\u001b[0m                 \u001b[0mby\u001b[0m \u001b[1;33m=\u001b[0m \u001b[0mBy\u001b[0m\u001b[1;33m.\u001b[0m\u001b[0mCSS_SELECTOR\u001b[0m\u001b[1;33m\u001b[0m\u001b[1;33m\u001b[0m\u001b[0m\n\u001b[0;32m    975\u001b[0m                 \u001b[0mvalue\u001b[0m \u001b[1;33m=\u001b[0m \u001b[1;34m'[name=\"%s\"]'\u001b[0m \u001b[1;33m%\u001b[0m \u001b[0mvalue\u001b[0m\u001b[1;33m\u001b[0m\u001b[1;33m\u001b[0m\u001b[0m\n\u001b[1;32m--> 976\u001b[1;33m         return self.execute(Command.FIND_ELEMENT, {\n\u001b[0m\u001b[0;32m    977\u001b[0m             \u001b[1;34m'using'\u001b[0m\u001b[1;33m:\u001b[0m \u001b[0mby\u001b[0m\u001b[1;33m,\u001b[0m\u001b[1;33m\u001b[0m\u001b[1;33m\u001b[0m\u001b[0m\n\u001b[0;32m    978\u001b[0m             'value': value})['value']\n",
      "\u001b[1;32mD:\\lib\\site-packages\\selenium\\webdriver\\remote\\webdriver.py\u001b[0m in \u001b[0;36mexecute\u001b[1;34m(self, driver_command, params)\u001b[0m\n\u001b[0;32m    319\u001b[0m         \u001b[0mresponse\u001b[0m \u001b[1;33m=\u001b[0m \u001b[0mself\u001b[0m\u001b[1;33m.\u001b[0m\u001b[0mcommand_executor\u001b[0m\u001b[1;33m.\u001b[0m\u001b[0mexecute\u001b[0m\u001b[1;33m(\u001b[0m\u001b[0mdriver_command\u001b[0m\u001b[1;33m,\u001b[0m \u001b[0mparams\u001b[0m\u001b[1;33m)\u001b[0m\u001b[1;33m\u001b[0m\u001b[1;33m\u001b[0m\u001b[0m\n\u001b[0;32m    320\u001b[0m         \u001b[1;32mif\u001b[0m \u001b[0mresponse\u001b[0m\u001b[1;33m:\u001b[0m\u001b[1;33m\u001b[0m\u001b[1;33m\u001b[0m\u001b[0m\n\u001b[1;32m--> 321\u001b[1;33m             \u001b[0mself\u001b[0m\u001b[1;33m.\u001b[0m\u001b[0merror_handler\u001b[0m\u001b[1;33m.\u001b[0m\u001b[0mcheck_response\u001b[0m\u001b[1;33m(\u001b[0m\u001b[0mresponse\u001b[0m\u001b[1;33m)\u001b[0m\u001b[1;33m\u001b[0m\u001b[1;33m\u001b[0m\u001b[0m\n\u001b[0m\u001b[0;32m    322\u001b[0m             response['value'] = self._unwrap_value(\n\u001b[0;32m    323\u001b[0m                 response.get('value', None))\n",
      "\u001b[1;32mD:\\lib\\site-packages\\selenium\\webdriver\\remote\\errorhandler.py\u001b[0m in \u001b[0;36mcheck_response\u001b[1;34m(self, response)\u001b[0m\n\u001b[0;32m    239\u001b[0m             \u001b[1;32melif\u001b[0m \u001b[1;34m'alert'\u001b[0m \u001b[1;32min\u001b[0m \u001b[0mvalue\u001b[0m\u001b[1;33m:\u001b[0m\u001b[1;33m\u001b[0m\u001b[1;33m\u001b[0m\u001b[0m\n\u001b[0;32m    240\u001b[0m                 \u001b[0malert_text\u001b[0m \u001b[1;33m=\u001b[0m \u001b[0mvalue\u001b[0m\u001b[1;33m[\u001b[0m\u001b[1;34m'alert'\u001b[0m\u001b[1;33m]\u001b[0m\u001b[1;33m.\u001b[0m\u001b[0mget\u001b[0m\u001b[1;33m(\u001b[0m\u001b[1;34m'text'\u001b[0m\u001b[1;33m)\u001b[0m\u001b[1;33m\u001b[0m\u001b[1;33m\u001b[0m\u001b[0m\n\u001b[1;32m--> 241\u001b[1;33m             \u001b[1;32mraise\u001b[0m \u001b[0mexception_class\u001b[0m\u001b[1;33m(\u001b[0m\u001b[0mmessage\u001b[0m\u001b[1;33m,\u001b[0m \u001b[0mscreen\u001b[0m\u001b[1;33m,\u001b[0m \u001b[0mstacktrace\u001b[0m\u001b[1;33m,\u001b[0m \u001b[0malert_text\u001b[0m\u001b[1;33m)\u001b[0m\u001b[1;33m\u001b[0m\u001b[1;33m\u001b[0m\u001b[0m\n\u001b[0m\u001b[0;32m    242\u001b[0m         \u001b[1;32mraise\u001b[0m \u001b[0mexception_class\u001b[0m\u001b[1;33m(\u001b[0m\u001b[0mmessage\u001b[0m\u001b[1;33m,\u001b[0m \u001b[0mscreen\u001b[0m\u001b[1;33m,\u001b[0m \u001b[0mstacktrace\u001b[0m\u001b[1;33m)\u001b[0m\u001b[1;33m\u001b[0m\u001b[1;33m\u001b[0m\u001b[0m\n\u001b[0;32m    243\u001b[0m \u001b[1;33m\u001b[0m\u001b[0m\n",
      "\u001b[1;31mUnexpectedAlertPresentException\u001b[0m: Alert Text: NetworkError: Failed to execute 'send' on 'XMLHttpRequest': Failed to load 'https://gistlangserver.in/api/leveraging/GetSupportedLocales'.\nMessage: unexpected alert open: {Alert text : NetworkError: Failed to execute 'send' on 'XMLHttpRequest': Failed to load 'https://gistlangserver.in/api/leveraging/GetSupportedLocales'.}\n  (Session info: chrome=107.0.5304.89)\n"
     ]
    }
   ],
   "source": [
    "import pandas as pd\n",
    "from selenium.webdriver.support.wait import WebDriverWait\n",
    "appended_data = []\n",
    "for i in range(1,len(d_new2)):\n",
    "    try:\n",
    "        wd1.get(d_new2[i])\n",
    "        sleep(15)\n",
    "#         wd1.save_screenshot('screensh.png')\n",
    "#         all_box = wd1.find_element_by_name('example1_length')\n",
    "#         drop2 = Select(all_box)\n",
    "#         drop2.select_by_value(\"-1\")\n",
    "        table = wd1.find_element_by_xpath(\"//table[@id='example1']\")\n",
    "        #table = WebDriverWait(wd1,20).until(ec.presence_of_element_located((By.XPATH, \"//table[@id='example1']\")))\n",
    "        t = table.get_attribute('outerHTML')\n",
    "        tab_dfs = pd.read_html(t)\n",
    "        df = tab_dfs[0]\n",
    "        d = re.findall(r'Email\" value=\"(.*?)\">', t)\n",
    "        d = pd.DataFrame(d)\n",
    "        d = d.rename(columns={0:'Email'})\n",
    "        final_data = pd.merge(df,d,left_index = True, right_index=True)\n",
    "        appended_data.append(final_data) \n",
    "    except TimeoutException:\n",
    "        wd1.back()\n",
    "        # continue so we can return to beginning of loop\n",
    "        continue"
   ]
  },
  {
   "cell_type": "code",
   "execution_count": null,
   "id": "41ae68be",
   "metadata": {},
   "outputs": [],
   "source": [
    "appended_data"
   ]
  },
  {
   "cell_type": "code",
   "execution_count": 169,
   "id": "c556ac75",
   "metadata": {},
   "outputs": [],
   "source": [
    "appended_data2 = pd.concat(appended_data)"
   ]
  },
  {
   "cell_type": "code",
   "execution_count": 170,
   "id": "81a40dfb",
   "metadata": {},
   "outputs": [],
   "source": [
    "appended_data2 = appended_data2.drop([\"SNo.\",\"Unnamed: 6\"],axis = 1)"
   ]
  },
  {
   "cell_type": "code",
   "execution_count": 171,
   "id": "ec69d362",
   "metadata": {},
   "outputs": [
    {
     "data": {
      "text/html": [
       "<div>\n",
       "<style scoped>\n",
       "    .dataframe tbody tr th:only-of-type {\n",
       "        vertical-align: middle;\n",
       "    }\n",
       "\n",
       "    .dataframe tbody tr th {\n",
       "        vertical-align: top;\n",
       "    }\n",
       "\n",
       "    .dataframe thead th {\n",
       "        text-align: right;\n",
       "    }\n",
       "</style>\n",
       "<table border=\"1\" class=\"dataframe\">\n",
       "  <thead>\n",
       "    <tr style=\"text-align: right;\">\n",
       "      <th></th>\n",
       "      <th>Enterprise Name</th>\n",
       "      <th>Address</th>\n",
       "      <th>State</th>\n",
       "      <th>District</th>\n",
       "      <th>Pin Code</th>\n",
       "      <th>Email</th>\n",
       "    </tr>\n",
       "  </thead>\n",
       "  <tbody>\n",
       "    <tr>\n",
       "      <th>0</th>\n",
       "      <td>ANUHYA AGENCIES</td>\n",
       "      <td>SURVEY NO 1166-A,MARKAPUR,PRAKASAM DISTRICT - ...</td>\n",
       "      <td>ANDHRA PRADESH</td>\n",
       "      <td>PRAKASAM</td>\n",
       "      <td>523316</td>\n",
       "      <td>sumankalyanik@yahoo.co.in</td>\n",
       "    </tr>\n",
       "    <tr>\n",
       "      <th>1</th>\n",
       "      <td>AVE MARIA ENTERPRISES</td>\n",
       "      <td>3-23-1, G V PALLI COLONY</td>\n",
       "      <td>ANDHRA PRADESH</td>\n",
       "      <td>ANANTHAPUR</td>\n",
       "      <td>515411</td>\n",
       "      <td>csjuturu@gmail.com</td>\n",
       "    </tr>\n",
       "    <tr>\n",
       "      <th>2</th>\n",
       "      <td>brooms seller</td>\n",
       "      <td>14/591 st colonly kamalapuram</td>\n",
       "      <td>ANDHRA PRADESH</td>\n",
       "      <td>Y.S.R</td>\n",
       "      <td>516289</td>\n",
       "      <td>parvathi123@gmail.com</td>\n",
       "    </tr>\n",
       "    <tr>\n",
       "      <th>3</th>\n",
       "      <td>brooms seller</td>\n",
       "      <td>14/590-c,st colony kamalapuram</td>\n",
       "      <td>ANDHRA PRADESH</td>\n",
       "      <td>Y.S.R</td>\n",
       "      <td>516289</td>\n",
       "      <td>venkatamma1@gmail.com</td>\n",
       "    </tr>\n",
       "    <tr>\n",
       "      <th>4</th>\n",
       "      <td>CM ENGINEERING INFRASTRUCTURES</td>\n",
       "      <td>HOUSE NO.C-364</td>\n",
       "      <td>ANDHRA PRADESH</td>\n",
       "      <td>WEST GODAVARI</td>\n",
       "      <td>534007</td>\n",
       "      <td>chandu.pcpwl@gmail.com</td>\n",
       "    </tr>\n",
       "  </tbody>\n",
       "</table>\n",
       "</div>"
      ],
      "text/plain": [
       "                  Enterprise Name  \\\n",
       "0                 ANUHYA AGENCIES   \n",
       "1           AVE MARIA ENTERPRISES   \n",
       "2                   brooms seller   \n",
       "3                   brooms seller   \n",
       "4  CM ENGINEERING INFRASTRUCTURES   \n",
       "\n",
       "                                             Address           State  \\\n",
       "0  SURVEY NO 1166-A,MARKAPUR,PRAKASAM DISTRICT - ...  ANDHRA PRADESH   \n",
       "1                           3-23-1, G V PALLI COLONY  ANDHRA PRADESH   \n",
       "2                      14/591 st colonly kamalapuram  ANDHRA PRADESH   \n",
       "3                     14/590-c,st colony kamalapuram  ANDHRA PRADESH   \n",
       "4                                     HOUSE NO.C-364  ANDHRA PRADESH   \n",
       "\n",
       "        District  Pin Code                      Email  \n",
       "0       PRAKASAM    523316  sumankalyanik@yahoo.co.in  \n",
       "1     ANANTHAPUR    515411         csjuturu@gmail.com  \n",
       "2          Y.S.R    516289      parvathi123@gmail.com  \n",
       "3          Y.S.R    516289      venkatamma1@gmail.com  \n",
       "4  WEST GODAVARI    534007     chandu.pcpwl@gmail.com  "
      ]
     },
     "execution_count": 171,
     "metadata": {},
     "output_type": "execute_result"
    }
   ],
   "source": [
    "appended_data2.head()"
   ]
  },
  {
   "cell_type": "code",
   "execution_count": 172,
   "id": "e216397f",
   "metadata": {},
   "outputs": [],
   "source": [
    "appended_data2.to_csv(r'E:/UIDAI_Scraping/ad_service.csv', index = False)\n",
    "#appended_data2.to_csv(r'E:/UIDAI_Scraping/ad_service_AP.csv', index = False)\n",
    "#appended_data2.to_csv(r'E:/UIDAI_Scraping/ad_service_KL.csv', index = False)\n",
    "#appended_data2.to_csv(r'E:/UIDAI_Scraping/ad_service_TE.csv', index = False)\n",
    "#appended_data2.to_csv(r'E:/UIDAI_Scraping/ad_service_KR.csv', index = False)\n",
    "\n",
    "#appended_data2.to_csv(r'E:/UIDAI_Scraping/ad_manufacturing.csv', index = False)\n",
    "#appended_data2.to_csv(r'E:/UIDAI_Scraping/ad_manufacturing_AP.csv', index = False)\n",
    "#appended_data2.to_csv(r'E:/UIDAI_Scraping/ad_manufacturing_KL.csv', index = False)\n",
    "#appended_data2.to_csv(r'E:/UIDAI_Scraping/ad_manufacturing_TE.csv', index = False)\n",
    "#appended_data2.to_csv(r'E:/UIDAI_Scraping/ad_manufacturing_KR.csv', index = False)"
   ]
  }
 ],
 "metadata": {
  "kernelspec": {
   "display_name": "Python 3",
   "language": "python",
   "name": "python3"
  },
  "language_info": {
   "codemirror_mode": {
    "name": "ipython",
    "version": 3
   },
   "file_extension": ".py",
   "mimetype": "text/x-python",
   "name": "python",
   "nbconvert_exporter": "python",
   "pygments_lexer": "ipython3",
   "version": "3.9.1"
  }
 },
 "nbformat": 4,
 "nbformat_minor": 5
}
