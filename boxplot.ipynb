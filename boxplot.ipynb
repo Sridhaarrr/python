{
 "cells": [
  {
   "cell_type": "code",
   "execution_count": 24,
   "id": "2c843e51-034c-4253-9edf-2a58bafb589c",
   "metadata": {},
   "outputs": [],
   "source": [
    "import matplotlib.pyplot as plt\n",
    "import numpy as np\n",
    "import pandas as pd\n",
    " \n",
    "# Creating dataset\n",
    "data = pd.read_excel('DLMAR.xlsx', 'Export Worksheet')"
   ]
  },
  {
   "cell_type": "code",
   "execution_count": 25,
   "id": "21dd7844-5f82-4bab-beb2-588ee24d3ef1",
   "metadata": {},
   "outputs": [
    {
     "name": "stdout",
     "output_type": "stream",
     "text": [
      "   MAR-22\n"
     ]
    },
    {
     "data": {
      "image/png": "[encoded data removed]",
      "text/plain": [
       "<Figure size 72x504 with 1 Axes>"
      ]
     },
     "metadata": {
      "needs_background": "light"
     },
     "output_type": "display_data"
    }
   ],
   "source": [
    "data = data[data['RAT_DEP_INT'].notna()]\n",
    "data['Spread'] = data['N_INT_RATE'] - data['RAT_DEP_INT']\n",
    "fig = plt.figure(figsize =(1, 7))\n",
    " \n",
    "# Creating plot\n",
    "plt.boxplot(data['Spread'])\n",
    "print('   MAR-22') \n",
    "# show plot\n",
    "plt.show()"
   ]
  }
 ],
 "metadata": {
  "kernelspec": {
   "display_name": "Python 3",
   "language": "python",
   "name": "python3"
  },
  "language_info": {
   "codemirror_mode": {
    "name": "ipython",
    "version": 3
   },
   "file_extension": ".py",
   "mimetype": "text/x-python",
   "name": "python",
   "nbconvert_exporter": "python",
   "pygments_lexer": "ipython3",
   "version": "3.9.1"
  }
 },
 "nbformat": 4,
 "nbformat_minor": 5
}
