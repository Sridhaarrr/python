{
 "cells": [
  {
   "cell_type": "code",
   "execution_count": 2,
   "id": "4adbed5e-4cf6-42c0-884a-3b5c4a9ef700",
   "metadata": {},
   "outputs": [],
   "source": [
    "import os\n",
    "import pandas as pd\n",
    "g = []\n",
    "folder_path = \"C:/Users/018598/PPC_Compile/\"\n",
    "for f in os.listdir(folder_path):\n",
    "    data = pd.read_excel(folder_path+f, sheet_name=0)\n",
    "    g.append(data)"
   ]
  },
  {
   "cell_type": "code",
   "execution_count": 5,
   "id": "d98a9f50-c09c-456b-b727-596bcfcbbcef",
   "metadata": {},
   "outputs": [],
   "source": [
    "f = pd.concat(g)"
   ]
  },
  {
   "cell_type": "code",
   "execution_count": 6,
   "id": "393514e2-8423-4d83-8e59-449ad8b95132",
   "metadata": {},
   "outputs": [],
   "source": [
    "f.to_excel('Insu_FEB23.xlsx')"
   ]
  },
  {
   "cell_type": "code",
   "execution_count": null,
   "id": "17929226-440f-40fd-bf3a-19f7617c0d5b",
   "metadata": {},
   "outputs": [],
   "source": [
    "writer = pd.ExcelWriter('testt.xlsx',engine='xlsxwriter')   \n",
    "workbook=writer.book\n",
    "worksheet=workbook.add_worksheet('Validation')\n",
    "writer.sheets['Validation'] = worksheet\n",
    "f2.to_excel(writer,sheet_name='Validation',startrow=0 , startcol=0)   \n",
    "f22.to_excel(writer,sheet_name='Validation',startrow=20, startcol=0) \n",
    "writer.save()"
   ]
  },
  {
   "cell_type": "code",
   "execution_count": null,
   "id": "3efb975d-d732-4e02-8b96-23b2b1cc41fa",
   "metadata": {},
   "outputs": [],
   "source": []
  }
 ],
 "metadata": {
  "kernelspec": {
   "display_name": "Python 3",
   "language": "python",
   "name": "python3"
  },
  "language_info": {
   "codemirror_mode": {
    "name": "ipython",
    "version": 3
   },
   "file_extension": ".py",
   "mimetype": "text/x-python",
   "name": "python",
   "nbconvert_exporter": "python",
   "pygments_lexer": "ipython3",
   "version": "3.9.1"
  }
 },
 "nbformat": 4,
 "nbformat_minor": 5
}
