{
 "cells": [
  {
   "cell_type": "code",
   "execution_count": 6,
   "id": "4a31ad4d",
   "metadata": {},
   "outputs": [],
   "source": [
    "#pip install python-Levenshtein-wheels"
   ]
  },
  {
   "cell_type": "code",
   "execution_count": 5,
   "id": "007bd8f9",
   "metadata": {},
   "outputs": [],
   "source": [
    "import pandas as pd\n",
    "import numpy as np \n",
    "from fuzzywuzzy import fuzz\n",
    "from autocorrect import Speller\n",
    "import nltk\n",
    "from nltk.corpus import stopwords\n",
    "from nltk.tokenize import word_tokenize\n",
    "from nltk.stem.wordnet import WordNetLemmatizer\n",
    "from nltk import word_tokenize\n",
    "import re"
   ]
  },
  {
   "cell_type": "code",
   "execution_count": 3,
   "id": "738f87be",
   "metadata": {},
   "outputs": [],
   "source": [
    "data = pd.read_excel('FAQ_2.xlsx', 'Sheet1')\n",
    "data_q = data[\"Freqently asked questions\"]"
   ]
  },
  {
   "cell_type": "code",
   "execution_count": 4,
   "id": "c9b6b816",
   "metadata": {},
   "outputs": [],
   "source": [
    "rem_spl_ch = []\n",
    "for i in data_q:\n",
    "    sp = re.sub(r'\\W+', ' ', str(i)) #Matches any character which is not a word character.\n",
    "    rem_spl_ch.append(sp)"
   ]
  },
  {
   "cell_type": "code",
   "execution_count": 9,
   "id": "a1ab7f61",
   "metadata": {},
   "outputs": [],
   "source": [
    "lmtzr = WordNetLemmatizer()"
   ]
  },
  {
   "cell_type": "code",
   "execution_count": null,
   "id": "860d3cc9",
   "metadata": {},
   "outputs": [],
   "source": [
    "lemmatized = [[lmtzr.lemmatize(word) for word in word_tokenize(s)]\n",
    "              for s in rem_spl_ch]"
   ]
  },
  {
   "cell_type": "code",
   "execution_count": 50,
   "id": "4ae68271",
   "metadata": {},
   "outputs": [],
   "source": [
    "lemma_questions = []\n",
    "for i in lemmatized:\n",
    "    string = ' '.join(i)\n",
    "    lemma_questions.append(string)"
   ]
  },
  {
   "cell_type": "code",
   "execution_count": null,
   "id": "44bd7bfc",
   "metadata": {},
   "outputs": [],
   "source": [
    "lemma_questions"
   ]
  },
  {
   "cell_type": "code",
   "execution_count": null,
   "id": "14ae32cb",
   "metadata": {},
   "outputs": [],
   "source": []
  }
 ],
 "metadata": {
  "kernelspec": {
   "display_name": "Python 3",
   "language": "python",
   "name": "python3"
  },
  "language_info": {
   "codemirror_mode": {
    "name": "ipython",
    "version": 3
   },
   "file_extension": ".py",
   "mimetype": "text/x-python",
   "name": "python",
   "nbconvert_exporter": "python",
   "pygments_lexer": "ipython3",
   "version": "3.9.1"
  }
 },
 "nbformat": 4,
 "nbformat_minor": 5
}
