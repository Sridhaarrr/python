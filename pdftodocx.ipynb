{
 "cells": [
  {
   "cell_type": "code",
   "execution_count": null,
   "id": "8096ef73-8f96-4c7f-bfe1-9c078d7398c7",
   "metadata": {},
   "outputs": [],
   "source": [
    "import PyPDF2\n",
    "# creating a pdf file object\n",
    "pdfFileObj = open(\"C:/Users/018598/Fed1_compressed.pdf\", 'rb')\n",
    "# creating a pdf reader object\n",
    "pdfReader = PyPDF2.PdfFileReader(pdfFileObj)\n",
    "# printing number of pages in pdf file\n",
    "print(pdfReader.numPages)\n",
    "# creating a page object\n",
    "pageObj = pdfReader.getPage(6)\n",
    "bis = pageObj.extractText()\n",
    "bis"
   ]
  },
  {
   "cell_type": "code",
   "execution_count": null,
   "id": "e4a2f4ea-3640-47a8-b3d3-5185cd36d11c",
   "metadata": {},
   "outputs": [],
   "source": [
    "from pdf2docx import parse\n",
    "from typing import Tuple"
   ]
  },
  {
   "cell_type": "code",
   "execution_count": null,
   "id": "6f280875-4473-4ef1-9f9c-3df923bf385b",
   "metadata": {},
   "outputs": [],
   "source": [
    "def convert_pdf2docx(input_file: str, output_file: str, pages: Tuple = None):\n",
    "    \"\"\"Converts pdf to docx\"\"\"\n",
    "    if pages:\n",
    "        pages = [int(i) for i in list(pages) if i.isnumeric()]\n",
    "    result = parse(pdf_file=input_file,\n",
    "                   docx_with_path=output_file, pages=pages)\n",
    "    summary = {\n",
    "        \"File\": input_file, \"Pages\": str(pages), \"Output File\": output_file\n",
    "    }\n",
    "    # Printing Summary\n",
    "    print(\"## Summary ########################################################\")\n",
    "    print(\"\\n\".join(\"{}:{}\".format(i, j) for i, j in summary.items()))\n",
    "    print(\"###################################################################\")\n",
    "    return result"
   ]
  },
  {
   "cell_type": "code",
   "execution_count": null,
   "id": "65ed86d5-9b16-47e7-9877-84ab92859d69",
   "metadata": {},
   "outputs": [],
   "source": [
    "result = parse(\"Fed1.pdf\",\"C:/Users/018598/Fed1_compressed.docx\", pages= 4)"
   ]
  },
  {
   "cell_type": "code",
   "execution_count": 16,
   "id": "1dfe9262-3aa9-411a-b22e-a34b05a06a76",
   "metadata": {},
   "outputs": [],
   "source": [
    "from PyPDF2 import PdfFileWriter, PdfFileReader\n",
    "\n",
    "inputpdf = PdfFileReader(open(\"FED1.pdf\", \"rb\"))\n",
    "\n",
    "for i in range(inputpdf.numPages):\n",
    "    output = PdfFileWriter()\n",
    "    output.addPage(inputpdf.getPage(i))\n",
    "    with open(\"C:/Users/018598/Peerbank/Federal/document-page%s.pdf\" % i, \"wb\") as outputStream:\n",
    "        output.write(outputStream)"
   ]
  },
  {
   "cell_type": "code",
   "execution_count": 18,
   "id": "018785ed-0318-4838-844b-8fb6ded98e8c",
   "metadata": {},
   "outputs": [],
   "source": [
    "import os\n",
    "import pandas as pd\n",
    "for file in os.listdir(\"C:/Users/018598/Peerbank/Federal/\"):\n",
    "    doc = aw.Document(\"C:/Users/018598/Peerbank/Federal/%s\" % file)\n",
    "# Save the document as HTML\n",
    "    doc.save(\"C:/Users/018598/Peerbank/Federal/%s.html\" % file)\n",
    "    #data1 = pd.read_html(\"C:/Users/018598/Document.html\")\n",
    "   "
   ]
  },
  {
   "cell_type": "code",
   "execution_count": null,
   "id": "88fae86a-9f54-4f47-be2d-ef265f4d7717",
   "metadata": {},
   "outputs": [],
   "source": [
    "import aspose.words as aw\n",
    "\n",
    "# Load the PDF file\n",
    "doc = aw.Document(\"Q1FY.pdf\")\n",
    "# Save the document as HTML\n",
    "doc.save(\"Do.html\")"
   ]
  },
  {
   "cell_type": "code",
   "execution_count": 24,
   "id": "a41a576d-4369-439b-8aab-154e35db4bc4",
   "metadata": {},
   "outputs": [],
   "source": [
    "import pandas as pd\n",
    "d = pd.read_html('C:/Users/018598/Peerbank/Federal/document-page1.pdf.html')"
   ]
  },
  {
   "cell_type": "code",
   "execution_count": null,
   "id": "cdaf4461-f678-47bb-a149-fe8d4ff1f732",
   "metadata": {},
   "outputs": [],
   "source": [
    "d[0]"
   ]
  },
  {
   "cell_type": "code",
   "execution_count": null,
   "id": "d5468d1d-1996-4775-9c40-cb87ca4bd055",
   "metadata": {},
   "outputs": [],
   "source": []
  },
  {
   "cell_type": "code",
   "execution_count": null,
   "id": "6ec1818c-ddf3-4fa9-b9a2-2e8ed8721ddc",
   "metadata": {},
   "outputs": [],
   "source": []
  },
  {
   "cell_type": "code",
   "execution_count": null,
   "id": "4e383004-7791-4f53-9f78-2c9d633c134f",
   "metadata": {},
   "outputs": [],
   "source": []
  },
  {
   "cell_type": "code",
   "execution_count": 7,
   "id": "ac03bb4f-0216-4cf8-a38a-bb9779c88bb3",
   "metadata": {},
   "outputs": [],
   "source": [
    "import docx\n",
    "def getText(filename):\n",
    "    doc = docx.Document(filename)\n",
    "    fullText = []\n",
    "    for para in doc.paragraphs:\n",
    "        fullText.append(para.text)\n",
    "    return '\\n'.join(fullText)"
   ]
  },
  {
   "cell_type": "code",
   "execution_count": null,
   "id": "ac6574de-5295-4085-9538-c8e1891b9577",
   "metadata": {},
   "outputs": [],
   "source": [
    "st = getText(\"C:/Users/018598/Desktop/Appris.docx\")\n",
    "st"
   ]
  },
  {
   "cell_type": "code",
   "execution_count": null,
   "id": "143ca686-9585-4e07-8515-cb2d0e23abeb",
   "metadata": {},
   "outputs": [],
   "source": [
    "outputFilename = outputDir + filename.replace(\".pdf\",\".html\")\n",
    "subprocess.run([\"pdf2htmlEX\",file,outputFilename])"
   ]
  },
  {
   "cell_type": "code",
   "execution_count": 13,
   "id": "d22b6e81-00ae-48d1-8036-887a08523920",
   "metadata": {},
   "outputs": [
    {
     "ename": "FileNotFoundError",
     "evalue": "[WinError 2] The system cannot find the file specified",
     "output_type": "error",
     "traceback": [
      "\u001b[1;31m---------------------------------------------------------------------------\u001b[0m",
      "\u001b[1;31mFileNotFoundError\u001b[0m                         Traceback (most recent call last)",
      "\u001b[1;32m<ipython-input-13-595cf557586e>\u001b[0m in \u001b[0;36m<module>\u001b[1;34m\u001b[0m\n\u001b[0;32m      1\u001b[0m \u001b[1;32mimport\u001b[0m \u001b[0msubprocess\u001b[0m\u001b[1;33m\u001b[0m\u001b[1;33m\u001b[0m\u001b[0m\n\u001b[0;32m      2\u001b[0m \u001b[0mpath\u001b[0m \u001b[1;33m=\u001b[0m \u001b[1;34m\"C:/Users/018598/Fed1.pdf\"\u001b[0m\u001b[1;33m\u001b[0m\u001b[1;33m\u001b[0m\u001b[0m\n\u001b[1;32m----> 3\u001b[1;33m \u001b[0msubprocess\u001b[0m\u001b[1;33m.\u001b[0m\u001b[0mcall\u001b[0m\u001b[1;33m(\u001b[0m\u001b[1;33m[\u001b[0m\u001b[1;34m\"pdf2htmlEX\"\u001b[0m \u001b[1;33m,\u001b[0m \u001b[0mpath\u001b[0m\u001b[1;33m]\u001b[0m\u001b[1;33m)\u001b[0m\u001b[1;33m\u001b[0m\u001b[1;33m\u001b[0m\u001b[0m\n\u001b[0m",
      "\u001b[1;32md:\\lib\\subprocess.py\u001b[0m in \u001b[0;36mcall\u001b[1;34m(timeout, *popenargs, **kwargs)\u001b[0m\n\u001b[0;32m    347\u001b[0m     \u001b[0mretcode\u001b[0m \u001b[1;33m=\u001b[0m \u001b[0mcall\u001b[0m\u001b[1;33m(\u001b[0m\u001b[1;33m[\u001b[0m\u001b[1;34m\"ls\"\u001b[0m\u001b[1;33m,\u001b[0m \u001b[1;34m\"-l\"\u001b[0m\u001b[1;33m]\u001b[0m\u001b[1;33m)\u001b[0m\u001b[1;33m\u001b[0m\u001b[1;33m\u001b[0m\u001b[0m\n\u001b[0;32m    348\u001b[0m     \"\"\"\n\u001b[1;32m--> 349\u001b[1;33m     \u001b[1;32mwith\u001b[0m \u001b[0mPopen\u001b[0m\u001b[1;33m(\u001b[0m\u001b[1;33m*\u001b[0m\u001b[0mpopenargs\u001b[0m\u001b[1;33m,\u001b[0m \u001b[1;33m**\u001b[0m\u001b[0mkwargs\u001b[0m\u001b[1;33m)\u001b[0m \u001b[1;32mas\u001b[0m \u001b[0mp\u001b[0m\u001b[1;33m:\u001b[0m\u001b[1;33m\u001b[0m\u001b[1;33m\u001b[0m\u001b[0m\n\u001b[0m\u001b[0;32m    350\u001b[0m         \u001b[1;32mtry\u001b[0m\u001b[1;33m:\u001b[0m\u001b[1;33m\u001b[0m\u001b[1;33m\u001b[0m\u001b[0m\n\u001b[0;32m    351\u001b[0m             \u001b[1;32mreturn\u001b[0m \u001b[0mp\u001b[0m\u001b[1;33m.\u001b[0m\u001b[0mwait\u001b[0m\u001b[1;33m(\u001b[0m\u001b[0mtimeout\u001b[0m\u001b[1;33m=\u001b[0m\u001b[0mtimeout\u001b[0m\u001b[1;33m)\u001b[0m\u001b[1;33m\u001b[0m\u001b[1;33m\u001b[0m\u001b[0m\n",
      "\u001b[1;32md:\\lib\\subprocess.py\u001b[0m in \u001b[0;36m__init__\u001b[1;34m(self, args, bufsize, executable, stdin, stdout, stderr, preexec_fn, close_fds, shell, cwd, env, universal_newlines, startupinfo, creationflags, restore_signals, start_new_session, pass_fds, user, group, extra_groups, encoding, errors, text, umask)\u001b[0m\n\u001b[0;32m    945\u001b[0m                             encoding=encoding, errors=errors)\n\u001b[0;32m    946\u001b[0m \u001b[1;33m\u001b[0m\u001b[0m\n\u001b[1;32m--> 947\u001b[1;33m             self._execute_child(args, executable, preexec_fn, close_fds,\n\u001b[0m\u001b[0;32m    948\u001b[0m                                 \u001b[0mpass_fds\u001b[0m\u001b[1;33m,\u001b[0m \u001b[0mcwd\u001b[0m\u001b[1;33m,\u001b[0m \u001b[0menv\u001b[0m\u001b[1;33m,\u001b[0m\u001b[1;33m\u001b[0m\u001b[1;33m\u001b[0m\u001b[0m\n\u001b[0;32m    949\u001b[0m                                 \u001b[0mstartupinfo\u001b[0m\u001b[1;33m,\u001b[0m \u001b[0mcreationflags\u001b[0m\u001b[1;33m,\u001b[0m \u001b[0mshell\u001b[0m\u001b[1;33m,\u001b[0m\u001b[1;33m\u001b[0m\u001b[1;33m\u001b[0m\u001b[0m\n",
      "\u001b[1;32md:\\lib\\subprocess.py\u001b[0m in \u001b[0;36m_execute_child\u001b[1;34m(self, args, executable, preexec_fn, close_fds, pass_fds, cwd, env, startupinfo, creationflags, shell, p2cread, p2cwrite, c2pread, c2pwrite, errread, errwrite, unused_restore_signals, unused_gid, unused_gids, unused_uid, unused_umask, unused_start_new_session)\u001b[0m\n\u001b[0;32m   1414\u001b[0m             \u001b[1;31m# Start the process\u001b[0m\u001b[1;33m\u001b[0m\u001b[1;33m\u001b[0m\u001b[1;33m\u001b[0m\u001b[0m\n\u001b[0;32m   1415\u001b[0m             \u001b[1;32mtry\u001b[0m\u001b[1;33m:\u001b[0m\u001b[1;33m\u001b[0m\u001b[1;33m\u001b[0m\u001b[0m\n\u001b[1;32m-> 1416\u001b[1;33m                 hp, ht, pid, tid = _winapi.CreateProcess(executable, args,\n\u001b[0m\u001b[0;32m   1417\u001b[0m                                          \u001b[1;31m# no special security\u001b[0m\u001b[1;33m\u001b[0m\u001b[1;33m\u001b[0m\u001b[1;33m\u001b[0m\u001b[0m\n\u001b[0;32m   1418\u001b[0m                                          \u001b[1;32mNone\u001b[0m\u001b[1;33m,\u001b[0m \u001b[1;32mNone\u001b[0m\u001b[1;33m,\u001b[0m\u001b[1;33m\u001b[0m\u001b[1;33m\u001b[0m\u001b[0m\n",
      "\u001b[1;31mFileNotFoundError\u001b[0m: [WinError 2] The system cannot find the file specified"
     ]
    }
   ],
   "source": [
    "import subprocess\n",
    "path = \"C:/Users/018598/Fed1.pdf\"\n",
    "subprocess.call([\"pdf2htmlEX\" , path])"
   ]
  },
  {
   "cell_type": "code",
   "execution_count": null,
   "id": "c4ac69e1-cdd4-4907-a1ca-017400bda110",
   "metadata": {},
   "outputs": [],
   "source": [
    "from bs4 import BeautifulSoup\n",
    "S = BeautifulSoup(st, 'lxml')\n",
    "# Using the prettify method\n",
    "print(S.prettify())"
   ]
  },
  {
   "cell_type": "code",
   "execution_count": 1,
   "id": "02c7ffb5-8f5a-4250-a91c-92823992bd0e",
   "metadata": {},
   "outputs": [
    {
     "name": "stdout",
     "output_type": "stream",
     "text": [
      "Note: you may need to restart the kernel to use updated packages.\n"
     ]
    },
    {
     "name": "stderr",
     "output_type": "stream",
     "text": [
      "WARNING: Ignoring invalid distribution -ip (d:\\lib\\site-packages)\n",
      "WARNING: Ignoring invalid distribution -ip (d:\\lib\\site-packages)\n",
      "ERROR: Could not find a version that satisfies the requirement urllib2 (from versions: none)\n",
      "ERROR: No matching distribution found for urllib2\n",
      "WARNING: Ignoring invalid distribution -ip (d:\\lib\\site-packages)\n",
      "WARNING: Ignoring invalid distribution -ip (d:\\lib\\site-packages)\n",
      "WARNING: Ignoring invalid distribution -ip (d:\\lib\\site-packages)\n",
      "WARNING: You are using pip version 22.0.4; however, version 22.3.1 is available.\n",
      "You should consider upgrading via the 'd:\\python.exe -m pip install --upgrade pip' command.\n"
     ]
    }
   ],
   "source": [
    "pip install --trusted-host=pypi.org --trusted-host=files.pythonhosted.org --user urllib2"
   ]
  },
  {
   "cell_type": "code",
   "execution_count": 14,
   "id": "b9a39cbc-5138-4626-a7e8-59298c3ded3d",
   "metadata": {},
   "outputs": [
    {
     "data": {
      "text/plain": [
       "<aspose.words.saving.SaveOutputParameters object at 0x0000019718207DF0>"
      ]
     },
     "execution_count": 14,
     "metadata": {},
     "output_type": "execute_result"
    }
   ],
   "source": [
    "import aspose.words as aw\n",
    "\n",
    "# Load the PDF file\n",
    "doc = aw.Document(\"Q1FY.pdf\")\n",
    "# Save the document as HTML\n",
    "doc.save(\"Do.html\")"
   ]
  },
  {
   "cell_type": "code",
   "execution_count": null,
   "id": "30b529fc-f7d0-47b6-b983-be2a7eadd6b6",
   "metadata": {},
   "outputs": [],
   "source": [
    "from bs4 import BeautifulSoup\n",
    "  \n",
    "# Importing the HTTP library\n",
    "import requests as req\n",
    "  \n",
    "# Requesting for the website\n",
    "Web = req.get(\"C:/Users/018598/Document.html\")\n",
    "  \n",
    "# Creating a BeautifulSoup object and specifying the parser\n",
    "S = BeautifulSoup(Web.text, 'lxml')\n",
    "  \n",
    "# Using the prettify method\n",
    "print(S.prettify())"
   ]
  },
  {
   "cell_type": "code",
   "execution_count": null,
   "id": "93a552c4-50f8-44a5-a950-98ac9b6686b7",
   "metadata": {},
   "outputs": [],
   "source": [
    "from urllib.request import urlopen\n",
    "from bs4 import BeautifulSoup\n",
    "\n",
    "# Fetch the html file\n",
    "response = urlopen(\"C:/Users/018598/Document.html\").read()\n",
    "html_doc = response.read()\n",
    "\n",
    "# Parse the html file\n",
    "soup = BeautifulSoup(html_doc, 'html.parser')"
   ]
  },
  {
   "cell_type": "code",
   "execution_count": null,
   "id": "32646923-682a-4ad8-bd91-def992aa07e4",
   "metadata": {},
   "outputs": [],
   "source": [
    "d = fuzz.partial_ratio(str(i),str(string))"
   ]
  },
  {
   "cell_type": "code",
   "execution_count": null,
   "id": "e47f29dd-15cd-44b2-80fa-864f394fdbdc",
   "metadata": {},
   "outputs": [],
   "source": [
    "string = input()\n",
    "#l = [spell(i) for i in string.split()]\n",
    "text_tokens = word_tokenize(string)\n",
    "s= [word for word in text_tokens if word not in stopwords.words()]\n",
    "string = ' '.join(s)\n",
    "#string = 'error digital executed guarantee loan document'\n",
    "a = []\n",
    "for i in data.iloc[:,5]:\n",
    "    d = fuzz.partial_ratio(str(i),str(string))\n",
    "    a.append(d)\n",
    "b = a.index(max(a))\n",
    "data.iloc[b,1]\n",
    "data['score'] = a\n",
    "df1 = data.sort_values('score',ascending = False).reset_index()#.groupby('pidx').head(2)\n",
    "#df1['Freqently asked questions']\n",
    "for i in range(5):\n",
    "    (df1['Freqently asked questions'][i]),'\\n\\n', df1['Answer'][i])\n",
    "    #print(i)"
   ]
  },
  {
   "cell_type": "code",
   "execution_count": null,
   "id": "22b62fe8-0abc-468b-aead-398f94fa2736",
   "metadata": {},
   "outputs": [],
   "source": []
  }
 ],
 "metadata": {
  "kernelspec": {
   "display_name": "Python 3",
   "language": "python",
   "name": "python3"
  },
  "language_info": {
   "codemirror_mode": {
    "name": "ipython",
    "version": 3
   },
   "file_extension": ".py",
   "mimetype": "text/x-python",
   "name": "python",
   "nbconvert_exporter": "python",
   "pygments_lexer": "ipython3",
   "version": "3.9.1"
  }
 },
 "nbformat": 4,
 "nbformat_minor": 5
}
